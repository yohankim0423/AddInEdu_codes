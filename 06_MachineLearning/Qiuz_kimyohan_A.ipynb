{
 "cells": [
  {
   "cell_type": "markdown",
   "metadata": {},
   "source": [
    "1. Sklearn - pandas dataframe"
   ]
  },
  {
   "cell_type": "code",
   "execution_count": 1,
   "metadata": {},
   "outputs": [],
   "source": [
    "import numpy as np\n",
    "import pandas as pd\n",
    "\n",
    "from sklearn.datasets import load_iris"
   ]
  },
  {
   "cell_type": "code",
   "execution_count": 2,
   "metadata": {},
   "outputs": [
    {
     "data": {
      "text/plain": [
       "{'data': array([[5.1, 3.5, 1.4, 0.2],\n",
       "        [4.9, 3. , 1.4, 0.2],\n",
       "        [4.7, 3.2, 1.3, 0.2],\n",
       "        [4.6, 3.1, 1.5, 0.2],\n",
       "        [5. , 3.6, 1.4, 0.2],\n",
       "        [5.4, 3.9, 1.7, 0.4],\n",
       "        [4.6, 3.4, 1.4, 0.3],\n",
       "        [5. , 3.4, 1.5, 0.2],\n",
       "        [4.4, 2.9, 1.4, 0.2],\n",
       "        [4.9, 3.1, 1.5, 0.1],\n",
       "        [5.4, 3.7, 1.5, 0.2],\n",
       "        [4.8, 3.4, 1.6, 0.2],\n",
       "        [4.8, 3. , 1.4, 0.1],\n",
       "        [4.3, 3. , 1.1, 0.1],\n",
       "        [5.8, 4. , 1.2, 0.2],\n",
       "        [5.7, 4.4, 1.5, 0.4],\n",
       "        [5.4, 3.9, 1.3, 0.4],\n",
       "        [5.1, 3.5, 1.4, 0.3],\n",
       "        [5.7, 3.8, 1.7, 0.3],\n",
       "        [5.1, 3.8, 1.5, 0.3],\n",
       "        [5.4, 3.4, 1.7, 0.2],\n",
       "        [5.1, 3.7, 1.5, 0.4],\n",
       "        [4.6, 3.6, 1. , 0.2],\n",
       "        [5.1, 3.3, 1.7, 0.5],\n",
       "        [4.8, 3.4, 1.9, 0.2],\n",
       "        [5. , 3. , 1.6, 0.2],\n",
       "        [5. , 3.4, 1.6, 0.4],\n",
       "        [5.2, 3.5, 1.5, 0.2],\n",
       "        [5.2, 3.4, 1.4, 0.2],\n",
       "        [4.7, 3.2, 1.6, 0.2],\n",
       "        [4.8, 3.1, 1.6, 0.2],\n",
       "        [5.4, 3.4, 1.5, 0.4],\n",
       "        [5.2, 4.1, 1.5, 0.1],\n",
       "        [5.5, 4.2, 1.4, 0.2],\n",
       "        [4.9, 3.1, 1.5, 0.2],\n",
       "        [5. , 3.2, 1.2, 0.2],\n",
       "        [5.5, 3.5, 1.3, 0.2],\n",
       "        [4.9, 3.6, 1.4, 0.1],\n",
       "        [4.4, 3. , 1.3, 0.2],\n",
       "        [5.1, 3.4, 1.5, 0.2],\n",
       "        [5. , 3.5, 1.3, 0.3],\n",
       "        [4.5, 2.3, 1.3, 0.3],\n",
       "        [4.4, 3.2, 1.3, 0.2],\n",
       "        [5. , 3.5, 1.6, 0.6],\n",
       "        [5.1, 3.8, 1.9, 0.4],\n",
       "        [4.8, 3. , 1.4, 0.3],\n",
       "        [5.1, 3.8, 1.6, 0.2],\n",
       "        [4.6, 3.2, 1.4, 0.2],\n",
       "        [5.3, 3.7, 1.5, 0.2],\n",
       "        [5. , 3.3, 1.4, 0.2],\n",
       "        [7. , 3.2, 4.7, 1.4],\n",
       "        [6.4, 3.2, 4.5, 1.5],\n",
       "        [6.9, 3.1, 4.9, 1.5],\n",
       "        [5.5, 2.3, 4. , 1.3],\n",
       "        [6.5, 2.8, 4.6, 1.5],\n",
       "        [5.7, 2.8, 4.5, 1.3],\n",
       "        [6.3, 3.3, 4.7, 1.6],\n",
       "        [4.9, 2.4, 3.3, 1. ],\n",
       "        [6.6, 2.9, 4.6, 1.3],\n",
       "        [5.2, 2.7, 3.9, 1.4],\n",
       "        [5. , 2. , 3.5, 1. ],\n",
       "        [5.9, 3. , 4.2, 1.5],\n",
       "        [6. , 2.2, 4. , 1. ],\n",
       "        [6.1, 2.9, 4.7, 1.4],\n",
       "        [5.6, 2.9, 3.6, 1.3],\n",
       "        [6.7, 3.1, 4.4, 1.4],\n",
       "        [5.6, 3. , 4.5, 1.5],\n",
       "        [5.8, 2.7, 4.1, 1. ],\n",
       "        [6.2, 2.2, 4.5, 1.5],\n",
       "        [5.6, 2.5, 3.9, 1.1],\n",
       "        [5.9, 3.2, 4.8, 1.8],\n",
       "        [6.1, 2.8, 4. , 1.3],\n",
       "        [6.3, 2.5, 4.9, 1.5],\n",
       "        [6.1, 2.8, 4.7, 1.2],\n",
       "        [6.4, 2.9, 4.3, 1.3],\n",
       "        [6.6, 3. , 4.4, 1.4],\n",
       "        [6.8, 2.8, 4.8, 1.4],\n",
       "        [6.7, 3. , 5. , 1.7],\n",
       "        [6. , 2.9, 4.5, 1.5],\n",
       "        [5.7, 2.6, 3.5, 1. ],\n",
       "        [5.5, 2.4, 3.8, 1.1],\n",
       "        [5.5, 2.4, 3.7, 1. ],\n",
       "        [5.8, 2.7, 3.9, 1.2],\n",
       "        [6. , 2.7, 5.1, 1.6],\n",
       "        [5.4, 3. , 4.5, 1.5],\n",
       "        [6. , 3.4, 4.5, 1.6],\n",
       "        [6.7, 3.1, 4.7, 1.5],\n",
       "        [6.3, 2.3, 4.4, 1.3],\n",
       "        [5.6, 3. , 4.1, 1.3],\n",
       "        [5.5, 2.5, 4. , 1.3],\n",
       "        [5.5, 2.6, 4.4, 1.2],\n",
       "        [6.1, 3. , 4.6, 1.4],\n",
       "        [5.8, 2.6, 4. , 1.2],\n",
       "        [5. , 2.3, 3.3, 1. ],\n",
       "        [5.6, 2.7, 4.2, 1.3],\n",
       "        [5.7, 3. , 4.2, 1.2],\n",
       "        [5.7, 2.9, 4.2, 1.3],\n",
       "        [6.2, 2.9, 4.3, 1.3],\n",
       "        [5.1, 2.5, 3. , 1.1],\n",
       "        [5.7, 2.8, 4.1, 1.3],\n",
       "        [6.3, 3.3, 6. , 2.5],\n",
       "        [5.8, 2.7, 5.1, 1.9],\n",
       "        [7.1, 3. , 5.9, 2.1],\n",
       "        [6.3, 2.9, 5.6, 1.8],\n",
       "        [6.5, 3. , 5.8, 2.2],\n",
       "        [7.6, 3. , 6.6, 2.1],\n",
       "        [4.9, 2.5, 4.5, 1.7],\n",
       "        [7.3, 2.9, 6.3, 1.8],\n",
       "        [6.7, 2.5, 5.8, 1.8],\n",
       "        [7.2, 3.6, 6.1, 2.5],\n",
       "        [6.5, 3.2, 5.1, 2. ],\n",
       "        [6.4, 2.7, 5.3, 1.9],\n",
       "        [6.8, 3. , 5.5, 2.1],\n",
       "        [5.7, 2.5, 5. , 2. ],\n",
       "        [5.8, 2.8, 5.1, 2.4],\n",
       "        [6.4, 3.2, 5.3, 2.3],\n",
       "        [6.5, 3. , 5.5, 1.8],\n",
       "        [7.7, 3.8, 6.7, 2.2],\n",
       "        [7.7, 2.6, 6.9, 2.3],\n",
       "        [6. , 2.2, 5. , 1.5],\n",
       "        [6.9, 3.2, 5.7, 2.3],\n",
       "        [5.6, 2.8, 4.9, 2. ],\n",
       "        [7.7, 2.8, 6.7, 2. ],\n",
       "        [6.3, 2.7, 4.9, 1.8],\n",
       "        [6.7, 3.3, 5.7, 2.1],\n",
       "        [7.2, 3.2, 6. , 1.8],\n",
       "        [6.2, 2.8, 4.8, 1.8],\n",
       "        [6.1, 3. , 4.9, 1.8],\n",
       "        [6.4, 2.8, 5.6, 2.1],\n",
       "        [7.2, 3. , 5.8, 1.6],\n",
       "        [7.4, 2.8, 6.1, 1.9],\n",
       "        [7.9, 3.8, 6.4, 2. ],\n",
       "        [6.4, 2.8, 5.6, 2.2],\n",
       "        [6.3, 2.8, 5.1, 1.5],\n",
       "        [6.1, 2.6, 5.6, 1.4],\n",
       "        [7.7, 3. , 6.1, 2.3],\n",
       "        [6.3, 3.4, 5.6, 2.4],\n",
       "        [6.4, 3.1, 5.5, 1.8],\n",
       "        [6. , 3. , 4.8, 1.8],\n",
       "        [6.9, 3.1, 5.4, 2.1],\n",
       "        [6.7, 3.1, 5.6, 2.4],\n",
       "        [6.9, 3.1, 5.1, 2.3],\n",
       "        [5.8, 2.7, 5.1, 1.9],\n",
       "        [6.8, 3.2, 5.9, 2.3],\n",
       "        [6.7, 3.3, 5.7, 2.5],\n",
       "        [6.7, 3. , 5.2, 2.3],\n",
       "        [6.3, 2.5, 5. , 1.9],\n",
       "        [6.5, 3. , 5.2, 2. ],\n",
       "        [6.2, 3.4, 5.4, 2.3],\n",
       "        [5.9, 3. , 5.1, 1.8]]),\n",
       " 'target': array([0, 0, 0, 0, 0, 0, 0, 0, 0, 0, 0, 0, 0, 0, 0, 0, 0, 0, 0, 0, 0, 0,\n",
       "        0, 0, 0, 0, 0, 0, 0, 0, 0, 0, 0, 0, 0, 0, 0, 0, 0, 0, 0, 0, 0, 0,\n",
       "        0, 0, 0, 0, 0, 0, 1, 1, 1, 1, 1, 1, 1, 1, 1, 1, 1, 1, 1, 1, 1, 1,\n",
       "        1, 1, 1, 1, 1, 1, 1, 1, 1, 1, 1, 1, 1, 1, 1, 1, 1, 1, 1, 1, 1, 1,\n",
       "        1, 1, 1, 1, 1, 1, 1, 1, 1, 1, 1, 1, 2, 2, 2, 2, 2, 2, 2, 2, 2, 2,\n",
       "        2, 2, 2, 2, 2, 2, 2, 2, 2, 2, 2, 2, 2, 2, 2, 2, 2, 2, 2, 2, 2, 2,\n",
       "        2, 2, 2, 2, 2, 2, 2, 2, 2, 2, 2, 2, 2, 2, 2, 2, 2, 2]),\n",
       " 'frame': None,\n",
       " 'target_names': array(['setosa', 'versicolor', 'virginica'], dtype='<U10'),\n",
       " 'DESCR': '.. _iris_dataset:\\n\\nIris plants dataset\\n--------------------\\n\\n**Data Set Characteristics:**\\n\\n:Number of Instances: 150 (50 in each of three classes)\\n:Number of Attributes: 4 numeric, predictive attributes and the class\\n:Attribute Information:\\n    - sepal length in cm\\n    - sepal width in cm\\n    - petal length in cm\\n    - petal width in cm\\n    - class:\\n            - Iris-Setosa\\n            - Iris-Versicolour\\n            - Iris-Virginica\\n\\n:Summary Statistics:\\n\\n============== ==== ==== ======= ===== ====================\\n                Min  Max   Mean    SD   Class Correlation\\n============== ==== ==== ======= ===== ====================\\nsepal length:   4.3  7.9   5.84   0.83    0.7826\\nsepal width:    2.0  4.4   3.05   0.43   -0.4194\\npetal length:   1.0  6.9   3.76   1.76    0.9490  (high!)\\npetal width:    0.1  2.5   1.20   0.76    0.9565  (high!)\\n============== ==== ==== ======= ===== ====================\\n\\n:Missing Attribute Values: None\\n:Class Distribution: 33.3% for each of 3 classes.\\n:Creator: R.A. Fisher\\n:Donor: Michael Marshall (MARSHALL%PLU@io.arc.nasa.gov)\\n:Date: July, 1988\\n\\nThe famous Iris database, first used by Sir R.A. Fisher. The dataset is taken\\nfrom Fisher\\'s paper. Note that it\\'s the same as in R, but not as in the UCI\\nMachine Learning Repository, which has two wrong data points.\\n\\nThis is perhaps the best known database to be found in the\\npattern recognition literature.  Fisher\\'s paper is a classic in the field and\\nis referenced frequently to this day.  (See Duda & Hart, for example.)  The\\ndata set contains 3 classes of 50 instances each, where each class refers to a\\ntype of iris plant.  One class is linearly separable from the other 2; the\\nlatter are NOT linearly separable from each other.\\n\\n|details-start|\\n**References**\\n|details-split|\\n\\n- Fisher, R.A. \"The use of multiple measurements in taxonomic problems\"\\n  Annual Eugenics, 7, Part II, 179-188 (1936); also in \"Contributions to\\n  Mathematical Statistics\" (John Wiley, NY, 1950).\\n- Duda, R.O., & Hart, P.E. (1973) Pattern Classification and Scene Analysis.\\n  (Q327.D83) John Wiley & Sons.  ISBN 0-471-22361-1.  See page 218.\\n- Dasarathy, B.V. (1980) \"Nosing Around the Neighborhood: A New System\\n  Structure and Classification Rule for Recognition in Partially Exposed\\n  Environments\".  IEEE Transactions on Pattern Analysis and Machine\\n  Intelligence, Vol. PAMI-2, No. 1, 67-71.\\n- Gates, G.W. (1972) \"The Reduced Nearest Neighbor Rule\".  IEEE Transactions\\n  on Information Theory, May 1972, 431-433.\\n- See also: 1988 MLC Proceedings, 54-64.  Cheeseman et al\"s AUTOCLASS II\\n  conceptual clustering system finds 3 classes in the data.\\n- Many, many more ...\\n\\n|details-end|\\n',\n",
       " 'feature_names': ['sepal length (cm)',\n",
       "  'sepal width (cm)',\n",
       "  'petal length (cm)',\n",
       "  'petal width (cm)'],\n",
       " 'filename': 'iris.csv',\n",
       " 'data_module': 'sklearn.datasets.data'}"
      ]
     },
     "execution_count": 2,
     "metadata": {},
     "output_type": "execute_result"
    }
   ],
   "source": [
    "iris = load_iris()\n",
    "iris"
   ]
  },
  {
   "cell_type": "code",
   "execution_count": 3,
   "metadata": {},
   "outputs": [],
   "source": [
    "features = iris['data']"
   ]
  },
  {
   "cell_type": "code",
   "execution_count": 4,
   "metadata": {},
   "outputs": [
    {
     "data": {
      "text/plain": [
       "array([[5.1, 3.5, 1.4, 0.2],\n",
       "       [4.9, 3. , 1.4, 0.2],\n",
       "       [4.7, 3.2, 1.3, 0.2],\n",
       "       [4.6, 3.1, 1.5, 0.2],\n",
       "       [5. , 3.6, 1.4, 0.2],\n",
       "       [5.4, 3.9, 1.7, 0.4],\n",
       "       [4.6, 3.4, 1.4, 0.3],\n",
       "       [5. , 3.4, 1.5, 0.2],\n",
       "       [4.4, 2.9, 1.4, 0.2],\n",
       "       [4.9, 3.1, 1.5, 0.1],\n",
       "       [5.4, 3.7, 1.5, 0.2],\n",
       "       [4.8, 3.4, 1.6, 0.2],\n",
       "       [4.8, 3. , 1.4, 0.1],\n",
       "       [4.3, 3. , 1.1, 0.1],\n",
       "       [5.8, 4. , 1.2, 0.2],\n",
       "       [5.7, 4.4, 1.5, 0.4],\n",
       "       [5.4, 3.9, 1.3, 0.4],\n",
       "       [5.1, 3.5, 1.4, 0.3],\n",
       "       [5.7, 3.8, 1.7, 0.3],\n",
       "       [5.1, 3.8, 1.5, 0.3],\n",
       "       [5.4, 3.4, 1.7, 0.2],\n",
       "       [5.1, 3.7, 1.5, 0.4],\n",
       "       [4.6, 3.6, 1. , 0.2],\n",
       "       [5.1, 3.3, 1.7, 0.5],\n",
       "       [4.8, 3.4, 1.9, 0.2],\n",
       "       [5. , 3. , 1.6, 0.2],\n",
       "       [5. , 3.4, 1.6, 0.4],\n",
       "       [5.2, 3.5, 1.5, 0.2],\n",
       "       [5.2, 3.4, 1.4, 0.2],\n",
       "       [4.7, 3.2, 1.6, 0.2],\n",
       "       [4.8, 3.1, 1.6, 0.2],\n",
       "       [5.4, 3.4, 1.5, 0.4],\n",
       "       [5.2, 4.1, 1.5, 0.1],\n",
       "       [5.5, 4.2, 1.4, 0.2],\n",
       "       [4.9, 3.1, 1.5, 0.2],\n",
       "       [5. , 3.2, 1.2, 0.2],\n",
       "       [5.5, 3.5, 1.3, 0.2],\n",
       "       [4.9, 3.6, 1.4, 0.1],\n",
       "       [4.4, 3. , 1.3, 0.2],\n",
       "       [5.1, 3.4, 1.5, 0.2],\n",
       "       [5. , 3.5, 1.3, 0.3],\n",
       "       [4.5, 2.3, 1.3, 0.3],\n",
       "       [4.4, 3.2, 1.3, 0.2],\n",
       "       [5. , 3.5, 1.6, 0.6],\n",
       "       [5.1, 3.8, 1.9, 0.4],\n",
       "       [4.8, 3. , 1.4, 0.3],\n",
       "       [5.1, 3.8, 1.6, 0.2],\n",
       "       [4.6, 3.2, 1.4, 0.2],\n",
       "       [5.3, 3.7, 1.5, 0.2],\n",
       "       [5. , 3.3, 1.4, 0.2],\n",
       "       [7. , 3.2, 4.7, 1.4],\n",
       "       [6.4, 3.2, 4.5, 1.5],\n",
       "       [6.9, 3.1, 4.9, 1.5],\n",
       "       [5.5, 2.3, 4. , 1.3],\n",
       "       [6.5, 2.8, 4.6, 1.5],\n",
       "       [5.7, 2.8, 4.5, 1.3],\n",
       "       [6.3, 3.3, 4.7, 1.6],\n",
       "       [4.9, 2.4, 3.3, 1. ],\n",
       "       [6.6, 2.9, 4.6, 1.3],\n",
       "       [5.2, 2.7, 3.9, 1.4],\n",
       "       [5. , 2. , 3.5, 1. ],\n",
       "       [5.9, 3. , 4.2, 1.5],\n",
       "       [6. , 2.2, 4. , 1. ],\n",
       "       [6.1, 2.9, 4.7, 1.4],\n",
       "       [5.6, 2.9, 3.6, 1.3],\n",
       "       [6.7, 3.1, 4.4, 1.4],\n",
       "       [5.6, 3. , 4.5, 1.5],\n",
       "       [5.8, 2.7, 4.1, 1. ],\n",
       "       [6.2, 2.2, 4.5, 1.5],\n",
       "       [5.6, 2.5, 3.9, 1.1],\n",
       "       [5.9, 3.2, 4.8, 1.8],\n",
       "       [6.1, 2.8, 4. , 1.3],\n",
       "       [6.3, 2.5, 4.9, 1.5],\n",
       "       [6.1, 2.8, 4.7, 1.2],\n",
       "       [6.4, 2.9, 4.3, 1.3],\n",
       "       [6.6, 3. , 4.4, 1.4],\n",
       "       [6.8, 2.8, 4.8, 1.4],\n",
       "       [6.7, 3. , 5. , 1.7],\n",
       "       [6. , 2.9, 4.5, 1.5],\n",
       "       [5.7, 2.6, 3.5, 1. ],\n",
       "       [5.5, 2.4, 3.8, 1.1],\n",
       "       [5.5, 2.4, 3.7, 1. ],\n",
       "       [5.8, 2.7, 3.9, 1.2],\n",
       "       [6. , 2.7, 5.1, 1.6],\n",
       "       [5.4, 3. , 4.5, 1.5],\n",
       "       [6. , 3.4, 4.5, 1.6],\n",
       "       [6.7, 3.1, 4.7, 1.5],\n",
       "       [6.3, 2.3, 4.4, 1.3],\n",
       "       [5.6, 3. , 4.1, 1.3],\n",
       "       [5.5, 2.5, 4. , 1.3],\n",
       "       [5.5, 2.6, 4.4, 1.2],\n",
       "       [6.1, 3. , 4.6, 1.4],\n",
       "       [5.8, 2.6, 4. , 1.2],\n",
       "       [5. , 2.3, 3.3, 1. ],\n",
       "       [5.6, 2.7, 4.2, 1.3],\n",
       "       [5.7, 3. , 4.2, 1.2],\n",
       "       [5.7, 2.9, 4.2, 1.3],\n",
       "       [6.2, 2.9, 4.3, 1.3],\n",
       "       [5.1, 2.5, 3. , 1.1],\n",
       "       [5.7, 2.8, 4.1, 1.3],\n",
       "       [6.3, 3.3, 6. , 2.5],\n",
       "       [5.8, 2.7, 5.1, 1.9],\n",
       "       [7.1, 3. , 5.9, 2.1],\n",
       "       [6.3, 2.9, 5.6, 1.8],\n",
       "       [6.5, 3. , 5.8, 2.2],\n",
       "       [7.6, 3. , 6.6, 2.1],\n",
       "       [4.9, 2.5, 4.5, 1.7],\n",
       "       [7.3, 2.9, 6.3, 1.8],\n",
       "       [6.7, 2.5, 5.8, 1.8],\n",
       "       [7.2, 3.6, 6.1, 2.5],\n",
       "       [6.5, 3.2, 5.1, 2. ],\n",
       "       [6.4, 2.7, 5.3, 1.9],\n",
       "       [6.8, 3. , 5.5, 2.1],\n",
       "       [5.7, 2.5, 5. , 2. ],\n",
       "       [5.8, 2.8, 5.1, 2.4],\n",
       "       [6.4, 3.2, 5.3, 2.3],\n",
       "       [6.5, 3. , 5.5, 1.8],\n",
       "       [7.7, 3.8, 6.7, 2.2],\n",
       "       [7.7, 2.6, 6.9, 2.3],\n",
       "       [6. , 2.2, 5. , 1.5],\n",
       "       [6.9, 3.2, 5.7, 2.3],\n",
       "       [5.6, 2.8, 4.9, 2. ],\n",
       "       [7.7, 2.8, 6.7, 2. ],\n",
       "       [6.3, 2.7, 4.9, 1.8],\n",
       "       [6.7, 3.3, 5.7, 2.1],\n",
       "       [7.2, 3.2, 6. , 1.8],\n",
       "       [6.2, 2.8, 4.8, 1.8],\n",
       "       [6.1, 3. , 4.9, 1.8],\n",
       "       [6.4, 2.8, 5.6, 2.1],\n",
       "       [7.2, 3. , 5.8, 1.6],\n",
       "       [7.4, 2.8, 6.1, 1.9],\n",
       "       [7.9, 3.8, 6.4, 2. ],\n",
       "       [6.4, 2.8, 5.6, 2.2],\n",
       "       [6.3, 2.8, 5.1, 1.5],\n",
       "       [6.1, 2.6, 5.6, 1.4],\n",
       "       [7.7, 3. , 6.1, 2.3],\n",
       "       [6.3, 3.4, 5.6, 2.4],\n",
       "       [6.4, 3.1, 5.5, 1.8],\n",
       "       [6. , 3. , 4.8, 1.8],\n",
       "       [6.9, 3.1, 5.4, 2.1],\n",
       "       [6.7, 3.1, 5.6, 2.4],\n",
       "       [6.9, 3.1, 5.1, 2.3],\n",
       "       [5.8, 2.7, 5.1, 1.9],\n",
       "       [6.8, 3.2, 5.9, 2.3],\n",
       "       [6.7, 3.3, 5.7, 2.5],\n",
       "       [6.7, 3. , 5.2, 2.3],\n",
       "       [6.3, 2.5, 5. , 1.9],\n",
       "       [6.5, 3. , 5.2, 2. ],\n",
       "       [6.2, 3.4, 5.4, 2.3],\n",
       "       [5.9, 3. , 5.1, 1.8]])"
      ]
     },
     "execution_count": 4,
     "metadata": {},
     "output_type": "execute_result"
    }
   ],
   "source": [
    "features[:]"
   ]
  },
  {
   "cell_type": "code",
   "execution_count": 5,
   "metadata": {},
   "outputs": [
    {
     "data": {
      "text/plain": [
       "['sepal length (cm)',\n",
       " 'sepal width (cm)',\n",
       " 'petal length (cm)',\n",
       " 'petal width (cm)']"
      ]
     },
     "execution_count": 5,
     "metadata": {},
     "output_type": "execute_result"
    }
   ],
   "source": [
    "feature_names = iris['feature_names']\n",
    "feature_names"
   ]
  },
  {
   "cell_type": "code",
   "execution_count": 6,
   "metadata": {},
   "outputs": [
    {
     "data": {
      "text/plain": [
       "array([0, 0, 0, 0, 0, 0, 0, 0, 0, 0, 0, 0, 0, 0, 0, 0, 0, 0, 0, 0, 0, 0,\n",
       "       0, 0, 0, 0, 0, 0, 0, 0, 0, 0, 0, 0, 0, 0, 0, 0, 0, 0, 0, 0, 0, 0,\n",
       "       0, 0, 0, 0, 0, 0, 1, 1, 1, 1, 1, 1, 1, 1, 1, 1, 1, 1, 1, 1, 1, 1,\n",
       "       1, 1, 1, 1, 1, 1, 1, 1, 1, 1, 1, 1, 1, 1, 1, 1, 1, 1, 1, 1, 1, 1,\n",
       "       1, 1, 1, 1, 1, 1, 1, 1, 1, 1, 1, 1, 2, 2, 2, 2, 2, 2, 2, 2, 2, 2,\n",
       "       2, 2, 2, 2, 2, 2, 2, 2, 2, 2, 2, 2, 2, 2, 2, 2, 2, 2, 2, 2, 2, 2,\n",
       "       2, 2, 2, 2, 2, 2, 2, 2, 2, 2, 2, 2, 2, 2, 2, 2, 2, 2])"
      ]
     },
     "execution_count": 6,
     "metadata": {},
     "output_type": "execute_result"
    }
   ],
   "source": [
    "labels = iris['target']\n",
    "labels"
   ]
  },
  {
   "cell_type": "code",
   "execution_count": 7,
   "metadata": {},
   "outputs": [
    {
     "data": {
      "text/html": [
       "<div>\n",
       "<style scoped>\n",
       "    .dataframe tbody tr th:only-of-type {\n",
       "        vertical-align: middle;\n",
       "    }\n",
       "\n",
       "    .dataframe tbody tr th {\n",
       "        vertical-align: top;\n",
       "    }\n",
       "\n",
       "    .dataframe thead th {\n",
       "        text-align: right;\n",
       "    }\n",
       "</style>\n",
       "<table border=\"1\" class=\"dataframe\">\n",
       "  <thead>\n",
       "    <tr style=\"text-align: right;\">\n",
       "      <th></th>\n",
       "      <th>sepal length (cm)</th>\n",
       "      <th>sepal width (cm)</th>\n",
       "      <th>petal length (cm)</th>\n",
       "      <th>petal width (cm)</th>\n",
       "    </tr>\n",
       "  </thead>\n",
       "  <tbody>\n",
       "    <tr>\n",
       "      <th>0</th>\n",
       "      <td>5.1</td>\n",
       "      <td>3.5</td>\n",
       "      <td>1.4</td>\n",
       "      <td>0.2</td>\n",
       "    </tr>\n",
       "    <tr>\n",
       "      <th>1</th>\n",
       "      <td>4.9</td>\n",
       "      <td>3.0</td>\n",
       "      <td>1.4</td>\n",
       "      <td>0.2</td>\n",
       "    </tr>\n",
       "    <tr>\n",
       "      <th>2</th>\n",
       "      <td>4.7</td>\n",
       "      <td>3.2</td>\n",
       "      <td>1.3</td>\n",
       "      <td>0.2</td>\n",
       "    </tr>\n",
       "    <tr>\n",
       "      <th>3</th>\n",
       "      <td>4.6</td>\n",
       "      <td>3.1</td>\n",
       "      <td>1.5</td>\n",
       "      <td>0.2</td>\n",
       "    </tr>\n",
       "    <tr>\n",
       "      <th>4</th>\n",
       "      <td>5.0</td>\n",
       "      <td>3.6</td>\n",
       "      <td>1.4</td>\n",
       "      <td>0.2</td>\n",
       "    </tr>\n",
       "    <tr>\n",
       "      <th>...</th>\n",
       "      <td>...</td>\n",
       "      <td>...</td>\n",
       "      <td>...</td>\n",
       "      <td>...</td>\n",
       "    </tr>\n",
       "    <tr>\n",
       "      <th>145</th>\n",
       "      <td>6.7</td>\n",
       "      <td>3.0</td>\n",
       "      <td>5.2</td>\n",
       "      <td>2.3</td>\n",
       "    </tr>\n",
       "    <tr>\n",
       "      <th>146</th>\n",
       "      <td>6.3</td>\n",
       "      <td>2.5</td>\n",
       "      <td>5.0</td>\n",
       "      <td>1.9</td>\n",
       "    </tr>\n",
       "    <tr>\n",
       "      <th>147</th>\n",
       "      <td>6.5</td>\n",
       "      <td>3.0</td>\n",
       "      <td>5.2</td>\n",
       "      <td>2.0</td>\n",
       "    </tr>\n",
       "    <tr>\n",
       "      <th>148</th>\n",
       "      <td>6.2</td>\n",
       "      <td>3.4</td>\n",
       "      <td>5.4</td>\n",
       "      <td>2.3</td>\n",
       "    </tr>\n",
       "    <tr>\n",
       "      <th>149</th>\n",
       "      <td>5.9</td>\n",
       "      <td>3.0</td>\n",
       "      <td>5.1</td>\n",
       "      <td>1.8</td>\n",
       "    </tr>\n",
       "  </tbody>\n",
       "</table>\n",
       "<p>150 rows × 4 columns</p>\n",
       "</div>"
      ],
      "text/plain": [
       "     sepal length (cm)  sepal width (cm)  petal length (cm)  petal width (cm)\n",
       "0                  5.1               3.5                1.4               0.2\n",
       "1                  4.9               3.0                1.4               0.2\n",
       "2                  4.7               3.2                1.3               0.2\n",
       "3                  4.6               3.1                1.5               0.2\n",
       "4                  5.0               3.6                1.4               0.2\n",
       "..                 ...               ...                ...               ...\n",
       "145                6.7               3.0                5.2               2.3\n",
       "146                6.3               2.5                5.0               1.9\n",
       "147                6.5               3.0                5.2               2.0\n",
       "148                6.2               3.4                5.4               2.3\n",
       "149                5.9               3.0                5.1               1.8\n",
       "\n",
       "[150 rows x 4 columns]"
      ]
     },
     "execution_count": 7,
     "metadata": {},
     "output_type": "execute_result"
    }
   ],
   "source": [
    "iris_df = pd.DataFrame(features, columns=feature_names)\n",
    "iris_df"
   ]
  },
  {
   "cell_type": "markdown",
   "metadata": {},
   "source": [
    "2. Plotly express - boxplot"
   ]
  },
  {
   "cell_type": "code",
   "execution_count": 8,
   "metadata": {},
   "outputs": [],
   "source": [
    "import plotly.express as px"
   ]
  },
  {
   "cell_type": "code",
   "execution_count": 9,
   "metadata": {},
   "outputs": [
    {
     "data": {
      "application/vnd.plotly.v1+json": {
       "config": {
        "plotlyServerURL": "https://plot.ly"
       },
       "data": [
        {
         "alignmentgroup": "True",
         "hovertemplate": "variable=%{x}<br>value=%{y}<extra></extra>",
         "legendgroup": "",
         "marker": {
          "color": "#636efa"
         },
         "name": "",
         "notched": false,
         "offsetgroup": "",
         "orientation": "v",
         "showlegend": false,
         "type": "box",
         "x": [
          "sepal length (cm)",
          "sepal length (cm)",
          "sepal length (cm)",
          "sepal length (cm)",
          "sepal length (cm)",
          "sepal length (cm)",
          "sepal length (cm)",
          "sepal length (cm)",
          "sepal length (cm)",
          "sepal length (cm)",
          "sepal length (cm)",
          "sepal length (cm)",
          "sepal length (cm)",
          "sepal length (cm)",
          "sepal length (cm)",
          "sepal length (cm)",
          "sepal length (cm)",
          "sepal length (cm)",
          "sepal length (cm)",
          "sepal length (cm)",
          "sepal length (cm)",
          "sepal length (cm)",
          "sepal length (cm)",
          "sepal length (cm)",
          "sepal length (cm)",
          "sepal length (cm)",
          "sepal length (cm)",
          "sepal length (cm)",
          "sepal length (cm)",
          "sepal length (cm)",
          "sepal length (cm)",
          "sepal length (cm)",
          "sepal length (cm)",
          "sepal length (cm)",
          "sepal length (cm)",
          "sepal length (cm)",
          "sepal length (cm)",
          "sepal length (cm)",
          "sepal length (cm)",
          "sepal length (cm)",
          "sepal length (cm)",
          "sepal length (cm)",
          "sepal length (cm)",
          "sepal length (cm)",
          "sepal length (cm)",
          "sepal length (cm)",
          "sepal length (cm)",
          "sepal length (cm)",
          "sepal length (cm)",
          "sepal length (cm)",
          "sepal length (cm)",
          "sepal length (cm)",
          "sepal length (cm)",
          "sepal length (cm)",
          "sepal length (cm)",
          "sepal length (cm)",
          "sepal length (cm)",
          "sepal length (cm)",
          "sepal length (cm)",
          "sepal length (cm)",
          "sepal length (cm)",
          "sepal length (cm)",
          "sepal length (cm)",
          "sepal length (cm)",
          "sepal length (cm)",
          "sepal length (cm)",
          "sepal length (cm)",
          "sepal length (cm)",
          "sepal length (cm)",
          "sepal length (cm)",
          "sepal length (cm)",
          "sepal length (cm)",
          "sepal length (cm)",
          "sepal length (cm)",
          "sepal length (cm)",
          "sepal length (cm)",
          "sepal length (cm)",
          "sepal length (cm)",
          "sepal length (cm)",
          "sepal length (cm)",
          "sepal length (cm)",
          "sepal length (cm)",
          "sepal length (cm)",
          "sepal length (cm)",
          "sepal length (cm)",
          "sepal length (cm)",
          "sepal length (cm)",
          "sepal length (cm)",
          "sepal length (cm)",
          "sepal length (cm)",
          "sepal length (cm)",
          "sepal length (cm)",
          "sepal length (cm)",
          "sepal length (cm)",
          "sepal length (cm)",
          "sepal length (cm)",
          "sepal length (cm)",
          "sepal length (cm)",
          "sepal length (cm)",
          "sepal length (cm)",
          "sepal length (cm)",
          "sepal length (cm)",
          "sepal length (cm)",
          "sepal length (cm)",
          "sepal length (cm)",
          "sepal length (cm)",
          "sepal length (cm)",
          "sepal length (cm)",
          "sepal length (cm)",
          "sepal length (cm)",
          "sepal length (cm)",
          "sepal length (cm)",
          "sepal length (cm)",
          "sepal length (cm)",
          "sepal length (cm)",
          "sepal length (cm)",
          "sepal length (cm)",
          "sepal length (cm)",
          "sepal length (cm)",
          "sepal length (cm)",
          "sepal length (cm)",
          "sepal length (cm)",
          "sepal length (cm)",
          "sepal length (cm)",
          "sepal length (cm)",
          "sepal length (cm)",
          "sepal length (cm)",
          "sepal length (cm)",
          "sepal length (cm)",
          "sepal length (cm)",
          "sepal length (cm)",
          "sepal length (cm)",
          "sepal length (cm)",
          "sepal length (cm)",
          "sepal length (cm)",
          "sepal length (cm)",
          "sepal length (cm)",
          "sepal length (cm)",
          "sepal length (cm)",
          "sepal length (cm)",
          "sepal length (cm)",
          "sepal length (cm)",
          "sepal length (cm)",
          "sepal length (cm)",
          "sepal length (cm)",
          "sepal length (cm)",
          "sepal length (cm)",
          "sepal length (cm)",
          "sepal length (cm)",
          "sepal length (cm)",
          "sepal width (cm)",
          "sepal width (cm)",
          "sepal width (cm)",
          "sepal width (cm)",
          "sepal width (cm)",
          "sepal width (cm)",
          "sepal width (cm)",
          "sepal width (cm)",
          "sepal width (cm)",
          "sepal width (cm)",
          "sepal width (cm)",
          "sepal width (cm)",
          "sepal width (cm)",
          "sepal width (cm)",
          "sepal width (cm)",
          "sepal width (cm)",
          "sepal width (cm)",
          "sepal width (cm)",
          "sepal width (cm)",
          "sepal width (cm)",
          "sepal width (cm)",
          "sepal width (cm)",
          "sepal width (cm)",
          "sepal width (cm)",
          "sepal width (cm)",
          "sepal width (cm)",
          "sepal width (cm)",
          "sepal width (cm)",
          "sepal width (cm)",
          "sepal width (cm)",
          "sepal width (cm)",
          "sepal width (cm)",
          "sepal width (cm)",
          "sepal width (cm)",
          "sepal width (cm)",
          "sepal width (cm)",
          "sepal width (cm)",
          "sepal width (cm)",
          "sepal width (cm)",
          "sepal width (cm)",
          "sepal width (cm)",
          "sepal width (cm)",
          "sepal width (cm)",
          "sepal width (cm)",
          "sepal width (cm)",
          "sepal width (cm)",
          "sepal width (cm)",
          "sepal width (cm)",
          "sepal width (cm)",
          "sepal width (cm)",
          "sepal width (cm)",
          "sepal width (cm)",
          "sepal width (cm)",
          "sepal width (cm)",
          "sepal width (cm)",
          "sepal width (cm)",
          "sepal width (cm)",
          "sepal width (cm)",
          "sepal width (cm)",
          "sepal width (cm)",
          "sepal width (cm)",
          "sepal width (cm)",
          "sepal width (cm)",
          "sepal width (cm)",
          "sepal width (cm)",
          "sepal width (cm)",
          "sepal width (cm)",
          "sepal width (cm)",
          "sepal width (cm)",
          "sepal width (cm)",
          "sepal width (cm)",
          "sepal width (cm)",
          "sepal width (cm)",
          "sepal width (cm)",
          "sepal width (cm)",
          "sepal width (cm)",
          "sepal width (cm)",
          "sepal width (cm)",
          "sepal width (cm)",
          "sepal width (cm)",
          "sepal width (cm)",
          "sepal width (cm)",
          "sepal width (cm)",
          "sepal width (cm)",
          "sepal width (cm)",
          "sepal width (cm)",
          "sepal width (cm)",
          "sepal width (cm)",
          "sepal width (cm)",
          "sepal width (cm)",
          "sepal width (cm)",
          "sepal width (cm)",
          "sepal width (cm)",
          "sepal width (cm)",
          "sepal width (cm)",
          "sepal width (cm)",
          "sepal width (cm)",
          "sepal width (cm)",
          "sepal width (cm)",
          "sepal width (cm)",
          "sepal width (cm)",
          "sepal width (cm)",
          "sepal width (cm)",
          "sepal width (cm)",
          "sepal width (cm)",
          "sepal width (cm)",
          "sepal width (cm)",
          "sepal width (cm)",
          "sepal width (cm)",
          "sepal width (cm)",
          "sepal width (cm)",
          "sepal width (cm)",
          "sepal width (cm)",
          "sepal width (cm)",
          "sepal width (cm)",
          "sepal width (cm)",
          "sepal width (cm)",
          "sepal width (cm)",
          "sepal width (cm)",
          "sepal width (cm)",
          "sepal width (cm)",
          "sepal width (cm)",
          "sepal width (cm)",
          "sepal width (cm)",
          "sepal width (cm)",
          "sepal width (cm)",
          "sepal width (cm)",
          "sepal width (cm)",
          "sepal width (cm)",
          "sepal width (cm)",
          "sepal width (cm)",
          "sepal width (cm)",
          "sepal width (cm)",
          "sepal width (cm)",
          "sepal width (cm)",
          "sepal width (cm)",
          "sepal width (cm)",
          "sepal width (cm)",
          "sepal width (cm)",
          "sepal width (cm)",
          "sepal width (cm)",
          "sepal width (cm)",
          "sepal width (cm)",
          "sepal width (cm)",
          "sepal width (cm)",
          "sepal width (cm)",
          "sepal width (cm)",
          "sepal width (cm)",
          "sepal width (cm)",
          "sepal width (cm)",
          "petal length (cm)",
          "petal length (cm)",
          "petal length (cm)",
          "petal length (cm)",
          "petal length (cm)",
          "petal length (cm)",
          "petal length (cm)",
          "petal length (cm)",
          "petal length (cm)",
          "petal length (cm)",
          "petal length (cm)",
          "petal length (cm)",
          "petal length (cm)",
          "petal length (cm)",
          "petal length (cm)",
          "petal length (cm)",
          "petal length (cm)",
          "petal length (cm)",
          "petal length (cm)",
          "petal length (cm)",
          "petal length (cm)",
          "petal length (cm)",
          "petal length (cm)",
          "petal length (cm)",
          "petal length (cm)",
          "petal length (cm)",
          "petal length (cm)",
          "petal length (cm)",
          "petal length (cm)",
          "petal length (cm)",
          "petal length (cm)",
          "petal length (cm)",
          "petal length (cm)",
          "petal length (cm)",
          "petal length (cm)",
          "petal length (cm)",
          "petal length (cm)",
          "petal length (cm)",
          "petal length (cm)",
          "petal length (cm)",
          "petal length (cm)",
          "petal length (cm)",
          "petal length (cm)",
          "petal length (cm)",
          "petal length (cm)",
          "petal length (cm)",
          "petal length (cm)",
          "petal length (cm)",
          "petal length (cm)",
          "petal length (cm)",
          "petal length (cm)",
          "petal length (cm)",
          "petal length (cm)",
          "petal length (cm)",
          "petal length (cm)",
          "petal length (cm)",
          "petal length (cm)",
          "petal length (cm)",
          "petal length (cm)",
          "petal length (cm)",
          "petal length (cm)",
          "petal length (cm)",
          "petal length (cm)",
          "petal length (cm)",
          "petal length (cm)",
          "petal length (cm)",
          "petal length (cm)",
          "petal length (cm)",
          "petal length (cm)",
          "petal length (cm)",
          "petal length (cm)",
          "petal length (cm)",
          "petal length (cm)",
          "petal length (cm)",
          "petal length (cm)",
          "petal length (cm)",
          "petal length (cm)",
          "petal length (cm)",
          "petal length (cm)",
          "petal length (cm)",
          "petal length (cm)",
          "petal length (cm)",
          "petal length (cm)",
          "petal length (cm)",
          "petal length (cm)",
          "petal length (cm)",
          "petal length (cm)",
          "petal length (cm)",
          "petal length (cm)",
          "petal length (cm)",
          "petal length (cm)",
          "petal length (cm)",
          "petal length (cm)",
          "petal length (cm)",
          "petal length (cm)",
          "petal length (cm)",
          "petal length (cm)",
          "petal length (cm)",
          "petal length (cm)",
          "petal length (cm)",
          "petal length (cm)",
          "petal length (cm)",
          "petal length (cm)",
          "petal length (cm)",
          "petal length (cm)",
          "petal length (cm)",
          "petal length (cm)",
          "petal length (cm)",
          "petal length (cm)",
          "petal length (cm)",
          "petal length (cm)",
          "petal length (cm)",
          "petal length (cm)",
          "petal length (cm)",
          "petal length (cm)",
          "petal length (cm)",
          "petal length (cm)",
          "petal length (cm)",
          "petal length (cm)",
          "petal length (cm)",
          "petal length (cm)",
          "petal length (cm)",
          "petal length (cm)",
          "petal length (cm)",
          "petal length (cm)",
          "petal length (cm)",
          "petal length (cm)",
          "petal length (cm)",
          "petal length (cm)",
          "petal length (cm)",
          "petal length (cm)",
          "petal length (cm)",
          "petal length (cm)",
          "petal length (cm)",
          "petal length (cm)",
          "petal length (cm)",
          "petal length (cm)",
          "petal length (cm)",
          "petal length (cm)",
          "petal length (cm)",
          "petal length (cm)",
          "petal length (cm)",
          "petal length (cm)",
          "petal length (cm)",
          "petal length (cm)",
          "petal length (cm)",
          "petal length (cm)",
          "petal length (cm)",
          "petal length (cm)",
          "petal length (cm)",
          "petal width (cm)",
          "petal width (cm)",
          "petal width (cm)",
          "petal width (cm)",
          "petal width (cm)",
          "petal width (cm)",
          "petal width (cm)",
          "petal width (cm)",
          "petal width (cm)",
          "petal width (cm)",
          "petal width (cm)",
          "petal width (cm)",
          "petal width (cm)",
          "petal width (cm)",
          "petal width (cm)",
          "petal width (cm)",
          "petal width (cm)",
          "petal width (cm)",
          "petal width (cm)",
          "petal width (cm)",
          "petal width (cm)",
          "petal width (cm)",
          "petal width (cm)",
          "petal width (cm)",
          "petal width (cm)",
          "petal width (cm)",
          "petal width (cm)",
          "petal width (cm)",
          "petal width (cm)",
          "petal width (cm)",
          "petal width (cm)",
          "petal width (cm)",
          "petal width (cm)",
          "petal width (cm)",
          "petal width (cm)",
          "petal width (cm)",
          "petal width (cm)",
          "petal width (cm)",
          "petal width (cm)",
          "petal width (cm)",
          "petal width (cm)",
          "petal width (cm)",
          "petal width (cm)",
          "petal width (cm)",
          "petal width (cm)",
          "petal width (cm)",
          "petal width (cm)",
          "petal width (cm)",
          "petal width (cm)",
          "petal width (cm)",
          "petal width (cm)",
          "petal width (cm)",
          "petal width (cm)",
          "petal width (cm)",
          "petal width (cm)",
          "petal width (cm)",
          "petal width (cm)",
          "petal width (cm)",
          "petal width (cm)",
          "petal width (cm)",
          "petal width (cm)",
          "petal width (cm)",
          "petal width (cm)",
          "petal width (cm)",
          "petal width (cm)",
          "petal width (cm)",
          "petal width (cm)",
          "petal width (cm)",
          "petal width (cm)",
          "petal width (cm)",
          "petal width (cm)",
          "petal width (cm)",
          "petal width (cm)",
          "petal width (cm)",
          "petal width (cm)",
          "petal width (cm)",
          "petal width (cm)",
          "petal width (cm)",
          "petal width (cm)",
          "petal width (cm)",
          "petal width (cm)",
          "petal width (cm)",
          "petal width (cm)",
          "petal width (cm)",
          "petal width (cm)",
          "petal width (cm)",
          "petal width (cm)",
          "petal width (cm)",
          "petal width (cm)",
          "petal width (cm)",
          "petal width (cm)",
          "petal width (cm)",
          "petal width (cm)",
          "petal width (cm)",
          "petal width (cm)",
          "petal width (cm)",
          "petal width (cm)",
          "petal width (cm)",
          "petal width (cm)",
          "petal width (cm)",
          "petal width (cm)",
          "petal width (cm)",
          "petal width (cm)",
          "petal width (cm)",
          "petal width (cm)",
          "petal width (cm)",
          "petal width (cm)",
          "petal width (cm)",
          "petal width (cm)",
          "petal width (cm)",
          "petal width (cm)",
          "petal width (cm)",
          "petal width (cm)",
          "petal width (cm)",
          "petal width (cm)",
          "petal width (cm)",
          "petal width (cm)",
          "petal width (cm)",
          "petal width (cm)",
          "petal width (cm)",
          "petal width (cm)",
          "petal width (cm)",
          "petal width (cm)",
          "petal width (cm)",
          "petal width (cm)",
          "petal width (cm)",
          "petal width (cm)",
          "petal width (cm)",
          "petal width (cm)",
          "petal width (cm)",
          "petal width (cm)",
          "petal width (cm)",
          "petal width (cm)",
          "petal width (cm)",
          "petal width (cm)",
          "petal width (cm)",
          "petal width (cm)",
          "petal width (cm)",
          "petal width (cm)",
          "petal width (cm)",
          "petal width (cm)",
          "petal width (cm)",
          "petal width (cm)",
          "petal width (cm)",
          "petal width (cm)",
          "petal width (cm)",
          "petal width (cm)",
          "petal width (cm)",
          "petal width (cm)",
          "petal width (cm)"
         ],
         "x0": " ",
         "xaxis": "x",
         "y": [
          5.1,
          4.9,
          4.7,
          4.6,
          5,
          5.4,
          4.6,
          5,
          4.4,
          4.9,
          5.4,
          4.8,
          4.8,
          4.3,
          5.8,
          5.7,
          5.4,
          5.1,
          5.7,
          5.1,
          5.4,
          5.1,
          4.6,
          5.1,
          4.8,
          5,
          5,
          5.2,
          5.2,
          4.7,
          4.8,
          5.4,
          5.2,
          5.5,
          4.9,
          5,
          5.5,
          4.9,
          4.4,
          5.1,
          5,
          4.5,
          4.4,
          5,
          5.1,
          4.8,
          5.1,
          4.6,
          5.3,
          5,
          7,
          6.4,
          6.9,
          5.5,
          6.5,
          5.7,
          6.3,
          4.9,
          6.6,
          5.2,
          5,
          5.9,
          6,
          6.1,
          5.6,
          6.7,
          5.6,
          5.8,
          6.2,
          5.6,
          5.9,
          6.1,
          6.3,
          6.1,
          6.4,
          6.6,
          6.8,
          6.7,
          6,
          5.7,
          5.5,
          5.5,
          5.8,
          6,
          5.4,
          6,
          6.7,
          6.3,
          5.6,
          5.5,
          5.5,
          6.1,
          5.8,
          5,
          5.6,
          5.7,
          5.7,
          6.2,
          5.1,
          5.7,
          6.3,
          5.8,
          7.1,
          6.3,
          6.5,
          7.6,
          4.9,
          7.3,
          6.7,
          7.2,
          6.5,
          6.4,
          6.8,
          5.7,
          5.8,
          6.4,
          6.5,
          7.7,
          7.7,
          6,
          6.9,
          5.6,
          7.7,
          6.3,
          6.7,
          7.2,
          6.2,
          6.1,
          6.4,
          7.2,
          7.4,
          7.9,
          6.4,
          6.3,
          6.1,
          7.7,
          6.3,
          6.4,
          6,
          6.9,
          6.7,
          6.9,
          5.8,
          6.8,
          6.7,
          6.7,
          6.3,
          6.5,
          6.2,
          5.9,
          3.5,
          3,
          3.2,
          3.1,
          3.6,
          3.9,
          3.4,
          3.4,
          2.9,
          3.1,
          3.7,
          3.4,
          3,
          3,
          4,
          4.4,
          3.9,
          3.5,
          3.8,
          3.8,
          3.4,
          3.7,
          3.6,
          3.3,
          3.4,
          3,
          3.4,
          3.5,
          3.4,
          3.2,
          3.1,
          3.4,
          4.1,
          4.2,
          3.1,
          3.2,
          3.5,
          3.6,
          3,
          3.4,
          3.5,
          2.3,
          3.2,
          3.5,
          3.8,
          3,
          3.8,
          3.2,
          3.7,
          3.3,
          3.2,
          3.2,
          3.1,
          2.3,
          2.8,
          2.8,
          3.3,
          2.4,
          2.9,
          2.7,
          2,
          3,
          2.2,
          2.9,
          2.9,
          3.1,
          3,
          2.7,
          2.2,
          2.5,
          3.2,
          2.8,
          2.5,
          2.8,
          2.9,
          3,
          2.8,
          3,
          2.9,
          2.6,
          2.4,
          2.4,
          2.7,
          2.7,
          3,
          3.4,
          3.1,
          2.3,
          3,
          2.5,
          2.6,
          3,
          2.6,
          2.3,
          2.7,
          3,
          2.9,
          2.9,
          2.5,
          2.8,
          3.3,
          2.7,
          3,
          2.9,
          3,
          3,
          2.5,
          2.9,
          2.5,
          3.6,
          3.2,
          2.7,
          3,
          2.5,
          2.8,
          3.2,
          3,
          3.8,
          2.6,
          2.2,
          3.2,
          2.8,
          2.8,
          2.7,
          3.3,
          3.2,
          2.8,
          3,
          2.8,
          3,
          2.8,
          3.8,
          2.8,
          2.8,
          2.6,
          3,
          3.4,
          3.1,
          3,
          3.1,
          3.1,
          3.1,
          2.7,
          3.2,
          3.3,
          3,
          2.5,
          3,
          3.4,
          3,
          1.4,
          1.4,
          1.3,
          1.5,
          1.4,
          1.7,
          1.4,
          1.5,
          1.4,
          1.5,
          1.5,
          1.6,
          1.4,
          1.1,
          1.2,
          1.5,
          1.3,
          1.4,
          1.7,
          1.5,
          1.7,
          1.5,
          1,
          1.7,
          1.9,
          1.6,
          1.6,
          1.5,
          1.4,
          1.6,
          1.6,
          1.5,
          1.5,
          1.4,
          1.5,
          1.2,
          1.3,
          1.4,
          1.3,
          1.5,
          1.3,
          1.3,
          1.3,
          1.6,
          1.9,
          1.4,
          1.6,
          1.4,
          1.5,
          1.4,
          4.7,
          4.5,
          4.9,
          4,
          4.6,
          4.5,
          4.7,
          3.3,
          4.6,
          3.9,
          3.5,
          4.2,
          4,
          4.7,
          3.6,
          4.4,
          4.5,
          4.1,
          4.5,
          3.9,
          4.8,
          4,
          4.9,
          4.7,
          4.3,
          4.4,
          4.8,
          5,
          4.5,
          3.5,
          3.8,
          3.7,
          3.9,
          5.1,
          4.5,
          4.5,
          4.7,
          4.4,
          4.1,
          4,
          4.4,
          4.6,
          4,
          3.3,
          4.2,
          4.2,
          4.2,
          4.3,
          3,
          4.1,
          6,
          5.1,
          5.9,
          5.6,
          5.8,
          6.6,
          4.5,
          6.3,
          5.8,
          6.1,
          5.1,
          5.3,
          5.5,
          5,
          5.1,
          5.3,
          5.5,
          6.7,
          6.9,
          5,
          5.7,
          4.9,
          6.7,
          4.9,
          5.7,
          6,
          4.8,
          4.9,
          5.6,
          5.8,
          6.1,
          6.4,
          5.6,
          5.1,
          5.6,
          6.1,
          5.6,
          5.5,
          4.8,
          5.4,
          5.6,
          5.1,
          5.1,
          5.9,
          5.7,
          5.2,
          5,
          5.2,
          5.4,
          5.1,
          0.2,
          0.2,
          0.2,
          0.2,
          0.2,
          0.4,
          0.3,
          0.2,
          0.2,
          0.1,
          0.2,
          0.2,
          0.1,
          0.1,
          0.2,
          0.4,
          0.4,
          0.3,
          0.3,
          0.3,
          0.2,
          0.4,
          0.2,
          0.5,
          0.2,
          0.2,
          0.4,
          0.2,
          0.2,
          0.2,
          0.2,
          0.4,
          0.1,
          0.2,
          0.2,
          0.2,
          0.2,
          0.1,
          0.2,
          0.2,
          0.3,
          0.3,
          0.2,
          0.6,
          0.4,
          0.3,
          0.2,
          0.2,
          0.2,
          0.2,
          1.4,
          1.5,
          1.5,
          1.3,
          1.5,
          1.3,
          1.6,
          1,
          1.3,
          1.4,
          1,
          1.5,
          1,
          1.4,
          1.3,
          1.4,
          1.5,
          1,
          1.5,
          1.1,
          1.8,
          1.3,
          1.5,
          1.2,
          1.3,
          1.4,
          1.4,
          1.7,
          1.5,
          1,
          1.1,
          1,
          1.2,
          1.6,
          1.5,
          1.6,
          1.5,
          1.3,
          1.3,
          1.3,
          1.2,
          1.4,
          1.2,
          1,
          1.3,
          1.2,
          1.3,
          1.3,
          1.1,
          1.3,
          2.5,
          1.9,
          2.1,
          1.8,
          2.2,
          2.1,
          1.7,
          1.8,
          1.8,
          2.5,
          2,
          1.9,
          2.1,
          2,
          2.4,
          2.3,
          1.8,
          2.2,
          2.3,
          1.5,
          2.3,
          2,
          2,
          1.8,
          2.1,
          1.8,
          1.8,
          1.8,
          2.1,
          1.6,
          1.9,
          2,
          2.2,
          1.5,
          1.4,
          2.3,
          2.4,
          1.8,
          1.8,
          2.1,
          2.4,
          2.3,
          1.9,
          2.3,
          2.5,
          2.3,
          1.9,
          2,
          2.3,
          1.8
         ],
         "y0": " ",
         "yaxis": "y"
        }
       ],
       "layout": {
        "boxmode": "group",
        "legend": {
         "tracegroupgap": 0
        },
        "template": {
         "data": {
          "bar": [
           {
            "error_x": {
             "color": "#2a3f5f"
            },
            "error_y": {
             "color": "#2a3f5f"
            },
            "marker": {
             "line": {
              "color": "#E5ECF6",
              "width": 0.5
             },
             "pattern": {
              "fillmode": "overlay",
              "size": 10,
              "solidity": 0.2
             }
            },
            "type": "bar"
           }
          ],
          "barpolar": [
           {
            "marker": {
             "line": {
              "color": "#E5ECF6",
              "width": 0.5
             },
             "pattern": {
              "fillmode": "overlay",
              "size": 10,
              "solidity": 0.2
             }
            },
            "type": "barpolar"
           }
          ],
          "carpet": [
           {
            "aaxis": {
             "endlinecolor": "#2a3f5f",
             "gridcolor": "white",
             "linecolor": "white",
             "minorgridcolor": "white",
             "startlinecolor": "#2a3f5f"
            },
            "baxis": {
             "endlinecolor": "#2a3f5f",
             "gridcolor": "white",
             "linecolor": "white",
             "minorgridcolor": "white",
             "startlinecolor": "#2a3f5f"
            },
            "type": "carpet"
           }
          ],
          "choropleth": [
           {
            "colorbar": {
             "outlinewidth": 0,
             "ticks": ""
            },
            "type": "choropleth"
           }
          ],
          "contour": [
           {
            "colorbar": {
             "outlinewidth": 0,
             "ticks": ""
            },
            "colorscale": [
             [
              0,
              "#0d0887"
             ],
             [
              0.1111111111111111,
              "#46039f"
             ],
             [
              0.2222222222222222,
              "#7201a8"
             ],
             [
              0.3333333333333333,
              "#9c179e"
             ],
             [
              0.4444444444444444,
              "#bd3786"
             ],
             [
              0.5555555555555556,
              "#d8576b"
             ],
             [
              0.6666666666666666,
              "#ed7953"
             ],
             [
              0.7777777777777778,
              "#fb9f3a"
             ],
             [
              0.8888888888888888,
              "#fdca26"
             ],
             [
              1,
              "#f0f921"
             ]
            ],
            "type": "contour"
           }
          ],
          "contourcarpet": [
           {
            "colorbar": {
             "outlinewidth": 0,
             "ticks": ""
            },
            "type": "contourcarpet"
           }
          ],
          "heatmap": [
           {
            "colorbar": {
             "outlinewidth": 0,
             "ticks": ""
            },
            "colorscale": [
             [
              0,
              "#0d0887"
             ],
             [
              0.1111111111111111,
              "#46039f"
             ],
             [
              0.2222222222222222,
              "#7201a8"
             ],
             [
              0.3333333333333333,
              "#9c179e"
             ],
             [
              0.4444444444444444,
              "#bd3786"
             ],
             [
              0.5555555555555556,
              "#d8576b"
             ],
             [
              0.6666666666666666,
              "#ed7953"
             ],
             [
              0.7777777777777778,
              "#fb9f3a"
             ],
             [
              0.8888888888888888,
              "#fdca26"
             ],
             [
              1,
              "#f0f921"
             ]
            ],
            "type": "heatmap"
           }
          ],
          "heatmapgl": [
           {
            "colorbar": {
             "outlinewidth": 0,
             "ticks": ""
            },
            "colorscale": [
             [
              0,
              "#0d0887"
             ],
             [
              0.1111111111111111,
              "#46039f"
             ],
             [
              0.2222222222222222,
              "#7201a8"
             ],
             [
              0.3333333333333333,
              "#9c179e"
             ],
             [
              0.4444444444444444,
              "#bd3786"
             ],
             [
              0.5555555555555556,
              "#d8576b"
             ],
             [
              0.6666666666666666,
              "#ed7953"
             ],
             [
              0.7777777777777778,
              "#fb9f3a"
             ],
             [
              0.8888888888888888,
              "#fdca26"
             ],
             [
              1,
              "#f0f921"
             ]
            ],
            "type": "heatmapgl"
           }
          ],
          "histogram": [
           {
            "marker": {
             "pattern": {
              "fillmode": "overlay",
              "size": 10,
              "solidity": 0.2
             }
            },
            "type": "histogram"
           }
          ],
          "histogram2d": [
           {
            "colorbar": {
             "outlinewidth": 0,
             "ticks": ""
            },
            "colorscale": [
             [
              0,
              "#0d0887"
             ],
             [
              0.1111111111111111,
              "#46039f"
             ],
             [
              0.2222222222222222,
              "#7201a8"
             ],
             [
              0.3333333333333333,
              "#9c179e"
             ],
             [
              0.4444444444444444,
              "#bd3786"
             ],
             [
              0.5555555555555556,
              "#d8576b"
             ],
             [
              0.6666666666666666,
              "#ed7953"
             ],
             [
              0.7777777777777778,
              "#fb9f3a"
             ],
             [
              0.8888888888888888,
              "#fdca26"
             ],
             [
              1,
              "#f0f921"
             ]
            ],
            "type": "histogram2d"
           }
          ],
          "histogram2dcontour": [
           {
            "colorbar": {
             "outlinewidth": 0,
             "ticks": ""
            },
            "colorscale": [
             [
              0,
              "#0d0887"
             ],
             [
              0.1111111111111111,
              "#46039f"
             ],
             [
              0.2222222222222222,
              "#7201a8"
             ],
             [
              0.3333333333333333,
              "#9c179e"
             ],
             [
              0.4444444444444444,
              "#bd3786"
             ],
             [
              0.5555555555555556,
              "#d8576b"
             ],
             [
              0.6666666666666666,
              "#ed7953"
             ],
             [
              0.7777777777777778,
              "#fb9f3a"
             ],
             [
              0.8888888888888888,
              "#fdca26"
             ],
             [
              1,
              "#f0f921"
             ]
            ],
            "type": "histogram2dcontour"
           }
          ],
          "mesh3d": [
           {
            "colorbar": {
             "outlinewidth": 0,
             "ticks": ""
            },
            "type": "mesh3d"
           }
          ],
          "parcoords": [
           {
            "line": {
             "colorbar": {
              "outlinewidth": 0,
              "ticks": ""
             }
            },
            "type": "parcoords"
           }
          ],
          "pie": [
           {
            "automargin": true,
            "type": "pie"
           }
          ],
          "scatter": [
           {
            "fillpattern": {
             "fillmode": "overlay",
             "size": 10,
             "solidity": 0.2
            },
            "type": "scatter"
           }
          ],
          "scatter3d": [
           {
            "line": {
             "colorbar": {
              "outlinewidth": 0,
              "ticks": ""
             }
            },
            "marker": {
             "colorbar": {
              "outlinewidth": 0,
              "ticks": ""
             }
            },
            "type": "scatter3d"
           }
          ],
          "scattercarpet": [
           {
            "marker": {
             "colorbar": {
              "outlinewidth": 0,
              "ticks": ""
             }
            },
            "type": "scattercarpet"
           }
          ],
          "scattergeo": [
           {
            "marker": {
             "colorbar": {
              "outlinewidth": 0,
              "ticks": ""
             }
            },
            "type": "scattergeo"
           }
          ],
          "scattergl": [
           {
            "marker": {
             "colorbar": {
              "outlinewidth": 0,
              "ticks": ""
             }
            },
            "type": "scattergl"
           }
          ],
          "scattermapbox": [
           {
            "marker": {
             "colorbar": {
              "outlinewidth": 0,
              "ticks": ""
             }
            },
            "type": "scattermapbox"
           }
          ],
          "scatterpolar": [
           {
            "marker": {
             "colorbar": {
              "outlinewidth": 0,
              "ticks": ""
             }
            },
            "type": "scatterpolar"
           }
          ],
          "scatterpolargl": [
           {
            "marker": {
             "colorbar": {
              "outlinewidth": 0,
              "ticks": ""
             }
            },
            "type": "scatterpolargl"
           }
          ],
          "scatterternary": [
           {
            "marker": {
             "colorbar": {
              "outlinewidth": 0,
              "ticks": ""
             }
            },
            "type": "scatterternary"
           }
          ],
          "surface": [
           {
            "colorbar": {
             "outlinewidth": 0,
             "ticks": ""
            },
            "colorscale": [
             [
              0,
              "#0d0887"
             ],
             [
              0.1111111111111111,
              "#46039f"
             ],
             [
              0.2222222222222222,
              "#7201a8"
             ],
             [
              0.3333333333333333,
              "#9c179e"
             ],
             [
              0.4444444444444444,
              "#bd3786"
             ],
             [
              0.5555555555555556,
              "#d8576b"
             ],
             [
              0.6666666666666666,
              "#ed7953"
             ],
             [
              0.7777777777777778,
              "#fb9f3a"
             ],
             [
              0.8888888888888888,
              "#fdca26"
             ],
             [
              1,
              "#f0f921"
             ]
            ],
            "type": "surface"
           }
          ],
          "table": [
           {
            "cells": {
             "fill": {
              "color": "#EBF0F8"
             },
             "line": {
              "color": "white"
             }
            },
            "header": {
             "fill": {
              "color": "#C8D4E3"
             },
             "line": {
              "color": "white"
             }
            },
            "type": "table"
           }
          ]
         },
         "layout": {
          "annotationdefaults": {
           "arrowcolor": "#2a3f5f",
           "arrowhead": 0,
           "arrowwidth": 1
          },
          "autotypenumbers": "strict",
          "coloraxis": {
           "colorbar": {
            "outlinewidth": 0,
            "ticks": ""
           }
          },
          "colorscale": {
           "diverging": [
            [
             0,
             "#8e0152"
            ],
            [
             0.1,
             "#c51b7d"
            ],
            [
             0.2,
             "#de77ae"
            ],
            [
             0.3,
             "#f1b6da"
            ],
            [
             0.4,
             "#fde0ef"
            ],
            [
             0.5,
             "#f7f7f7"
            ],
            [
             0.6,
             "#e6f5d0"
            ],
            [
             0.7,
             "#b8e186"
            ],
            [
             0.8,
             "#7fbc41"
            ],
            [
             0.9,
             "#4d9221"
            ],
            [
             1,
             "#276419"
            ]
           ],
           "sequential": [
            [
             0,
             "#0d0887"
            ],
            [
             0.1111111111111111,
             "#46039f"
            ],
            [
             0.2222222222222222,
             "#7201a8"
            ],
            [
             0.3333333333333333,
             "#9c179e"
            ],
            [
             0.4444444444444444,
             "#bd3786"
            ],
            [
             0.5555555555555556,
             "#d8576b"
            ],
            [
             0.6666666666666666,
             "#ed7953"
            ],
            [
             0.7777777777777778,
             "#fb9f3a"
            ],
            [
             0.8888888888888888,
             "#fdca26"
            ],
            [
             1,
             "#f0f921"
            ]
           ],
           "sequentialminus": [
            [
             0,
             "#0d0887"
            ],
            [
             0.1111111111111111,
             "#46039f"
            ],
            [
             0.2222222222222222,
             "#7201a8"
            ],
            [
             0.3333333333333333,
             "#9c179e"
            ],
            [
             0.4444444444444444,
             "#bd3786"
            ],
            [
             0.5555555555555556,
             "#d8576b"
            ],
            [
             0.6666666666666666,
             "#ed7953"
            ],
            [
             0.7777777777777778,
             "#fb9f3a"
            ],
            [
             0.8888888888888888,
             "#fdca26"
            ],
            [
             1,
             "#f0f921"
            ]
           ]
          },
          "colorway": [
           "#636efa",
           "#EF553B",
           "#00cc96",
           "#ab63fa",
           "#FFA15A",
           "#19d3f3",
           "#FF6692",
           "#B6E880",
           "#FF97FF",
           "#FECB52"
          ],
          "font": {
           "color": "#2a3f5f"
          },
          "geo": {
           "bgcolor": "white",
           "lakecolor": "white",
           "landcolor": "#E5ECF6",
           "showlakes": true,
           "showland": true,
           "subunitcolor": "white"
          },
          "hoverlabel": {
           "align": "left"
          },
          "hovermode": "closest",
          "mapbox": {
           "style": "light"
          },
          "paper_bgcolor": "white",
          "plot_bgcolor": "#E5ECF6",
          "polar": {
           "angularaxis": {
            "gridcolor": "white",
            "linecolor": "white",
            "ticks": ""
           },
           "bgcolor": "#E5ECF6",
           "radialaxis": {
            "gridcolor": "white",
            "linecolor": "white",
            "ticks": ""
           }
          },
          "scene": {
           "xaxis": {
            "backgroundcolor": "#E5ECF6",
            "gridcolor": "white",
            "gridwidth": 2,
            "linecolor": "white",
            "showbackground": true,
            "ticks": "",
            "zerolinecolor": "white"
           },
           "yaxis": {
            "backgroundcolor": "#E5ECF6",
            "gridcolor": "white",
            "gridwidth": 2,
            "linecolor": "white",
            "showbackground": true,
            "ticks": "",
            "zerolinecolor": "white"
           },
           "zaxis": {
            "backgroundcolor": "#E5ECF6",
            "gridcolor": "white",
            "gridwidth": 2,
            "linecolor": "white",
            "showbackground": true,
            "ticks": "",
            "zerolinecolor": "white"
           }
          },
          "shapedefaults": {
           "line": {
            "color": "#2a3f5f"
           }
          },
          "ternary": {
           "aaxis": {
            "gridcolor": "white",
            "linecolor": "white",
            "ticks": ""
           },
           "baxis": {
            "gridcolor": "white",
            "linecolor": "white",
            "ticks": ""
           },
           "bgcolor": "#E5ECF6",
           "caxis": {
            "gridcolor": "white",
            "linecolor": "white",
            "ticks": ""
           }
          },
          "title": {
           "x": 0.05
          },
          "xaxis": {
           "automargin": true,
           "gridcolor": "white",
           "linecolor": "white",
           "ticks": "",
           "title": {
            "standoff": 15
           },
           "zerolinecolor": "white",
           "zerolinewidth": 2
          },
          "yaxis": {
           "automargin": true,
           "gridcolor": "white",
           "linecolor": "white",
           "ticks": "",
           "title": {
            "standoff": 15
           },
           "zerolinecolor": "white",
           "zerolinewidth": 2
          }
         }
        },
        "title": {
         "text": "Box Plots of Iris Features"
        },
        "xaxis": {
         "anchor": "y",
         "domain": [
          0,
          1
         ],
         "title": {
          "text": "variable"
         }
        },
        "yaxis": {
         "anchor": "x",
         "domain": [
          0,
          1
         ],
         "title": {
          "text": "value"
         }
        }
       }
      }
     },
     "metadata": {},
     "output_type": "display_data"
    }
   ],
   "source": [
    "# 수치형 데이터만 포함하는 컬럼을 선택합니다.\n",
    "numerical_columns = iris_df.select_dtypes(include=['float64', 'int64']).columns\n",
    "\n",
    "# 선택된 컬럼으로 박스플롯을 생성합니다.\n",
    "fig = px.box(iris_df, y=numerical_columns, title=\"Box Plots of Iris Features\")\n",
    "fig.show()"
   ]
  },
  {
   "cell_type": "markdown",
   "metadata": {},
   "source": [
    "3. Standard Scaler"
   ]
  },
  {
   "cell_type": "code",
   "execution_count": 10,
   "metadata": {},
   "outputs": [
    {
     "name": "stdout",
     "output_type": "stream",
     "text": [
      "     sepal length (cm)  sepal width (cm)  petal length (cm)  petal width (cm)\n",
      "0            -0.900681          1.019004          -1.340227         -1.315444\n",
      "1            -1.143017         -0.131979          -1.340227         -1.315444\n",
      "2            -1.385353          0.328414          -1.397064         -1.315444\n",
      "3            -1.506521          0.098217          -1.283389         -1.315444\n",
      "4            -1.021849          1.249201          -1.340227         -1.315444\n",
      "..                 ...               ...                ...               ...\n",
      "145           1.038005         -0.131979           0.819596          1.448832\n",
      "146           0.553333         -1.282963           0.705921          0.922303\n",
      "147           0.795669         -0.131979           0.819596          1.053935\n",
      "148           0.432165          0.788808           0.933271          1.448832\n",
      "149           0.068662         -0.131979           0.762758          0.790671\n",
      "\n",
      "[150 rows x 4 columns]\n"
     ]
    }
   ],
   "source": [
    "from sklearn.preprocessing import StandardScaler\n",
    "\n",
    "# StandardScaler 인스턴스 생성\n",
    "scaler = StandardScaler()\n",
    "\n",
    "# 데이터에 Scaler 적용 (피팅 및 변환)\n",
    "scaled_data = scaler.fit_transform(iris_df)\n",
    "\n",
    "# 스케일링된 데이터를 DataFrame으로 변환\n",
    "scaled_df = pd.DataFrame(scaled_data, columns=iris_df.columns)\n",
    "\n",
    "# 변환된 DataFrame의 처음 몇 줄을 출력\n",
    "print(scaled_df)"
   ]
  },
  {
   "cell_type": "markdown",
   "metadata": {},
   "source": [
    "4. Standard Scalerd의 boxplot"
   ]
  },
  {
   "cell_type": "code",
   "execution_count": 11,
   "metadata": {},
   "outputs": [
    {
     "data": {
      "application/vnd.plotly.v1+json": {
       "config": {
        "plotlyServerURL": "https://plot.ly"
       },
       "data": [
        {
         "alignmentgroup": "True",
         "hovertemplate": "variable=%{x}<br>value=%{y}<extra></extra>",
         "legendgroup": "",
         "marker": {
          "color": "#636efa"
         },
         "name": "",
         "notched": false,
         "offsetgroup": "",
         "orientation": "v",
         "showlegend": false,
         "type": "box",
         "x": [
          "sepal length (cm)",
          "sepal length (cm)",
          "sepal length (cm)",
          "sepal length (cm)",
          "sepal length (cm)",
          "sepal length (cm)",
          "sepal length (cm)",
          "sepal length (cm)",
          "sepal length (cm)",
          "sepal length (cm)",
          "sepal length (cm)",
          "sepal length (cm)",
          "sepal length (cm)",
          "sepal length (cm)",
          "sepal length (cm)",
          "sepal length (cm)",
          "sepal length (cm)",
          "sepal length (cm)",
          "sepal length (cm)",
          "sepal length (cm)",
          "sepal length (cm)",
          "sepal length (cm)",
          "sepal length (cm)",
          "sepal length (cm)",
          "sepal length (cm)",
          "sepal length (cm)",
          "sepal length (cm)",
          "sepal length (cm)",
          "sepal length (cm)",
          "sepal length (cm)",
          "sepal length (cm)",
          "sepal length (cm)",
          "sepal length (cm)",
          "sepal length (cm)",
          "sepal length (cm)",
          "sepal length (cm)",
          "sepal length (cm)",
          "sepal length (cm)",
          "sepal length (cm)",
          "sepal length (cm)",
          "sepal length (cm)",
          "sepal length (cm)",
          "sepal length (cm)",
          "sepal length (cm)",
          "sepal length (cm)",
          "sepal length (cm)",
          "sepal length (cm)",
          "sepal length (cm)",
          "sepal length (cm)",
          "sepal length (cm)",
          "sepal length (cm)",
          "sepal length (cm)",
          "sepal length (cm)",
          "sepal length (cm)",
          "sepal length (cm)",
          "sepal length (cm)",
          "sepal length (cm)",
          "sepal length (cm)",
          "sepal length (cm)",
          "sepal length (cm)",
          "sepal length (cm)",
          "sepal length (cm)",
          "sepal length (cm)",
          "sepal length (cm)",
          "sepal length (cm)",
          "sepal length (cm)",
          "sepal length (cm)",
          "sepal length (cm)",
          "sepal length (cm)",
          "sepal length (cm)",
          "sepal length (cm)",
          "sepal length (cm)",
          "sepal length (cm)",
          "sepal length (cm)",
          "sepal length (cm)",
          "sepal length (cm)",
          "sepal length (cm)",
          "sepal length (cm)",
          "sepal length (cm)",
          "sepal length (cm)",
          "sepal length (cm)",
          "sepal length (cm)",
          "sepal length (cm)",
          "sepal length (cm)",
          "sepal length (cm)",
          "sepal length (cm)",
          "sepal length (cm)",
          "sepal length (cm)",
          "sepal length (cm)",
          "sepal length (cm)",
          "sepal length (cm)",
          "sepal length (cm)",
          "sepal length (cm)",
          "sepal length (cm)",
          "sepal length (cm)",
          "sepal length (cm)",
          "sepal length (cm)",
          "sepal length (cm)",
          "sepal length (cm)",
          "sepal length (cm)",
          "sepal length (cm)",
          "sepal length (cm)",
          "sepal length (cm)",
          "sepal length (cm)",
          "sepal length (cm)",
          "sepal length (cm)",
          "sepal length (cm)",
          "sepal length (cm)",
          "sepal length (cm)",
          "sepal length (cm)",
          "sepal length (cm)",
          "sepal length (cm)",
          "sepal length (cm)",
          "sepal length (cm)",
          "sepal length (cm)",
          "sepal length (cm)",
          "sepal length (cm)",
          "sepal length (cm)",
          "sepal length (cm)",
          "sepal length (cm)",
          "sepal length (cm)",
          "sepal length (cm)",
          "sepal length (cm)",
          "sepal length (cm)",
          "sepal length (cm)",
          "sepal length (cm)",
          "sepal length (cm)",
          "sepal length (cm)",
          "sepal length (cm)",
          "sepal length (cm)",
          "sepal length (cm)",
          "sepal length (cm)",
          "sepal length (cm)",
          "sepal length (cm)",
          "sepal length (cm)",
          "sepal length (cm)",
          "sepal length (cm)",
          "sepal length (cm)",
          "sepal length (cm)",
          "sepal length (cm)",
          "sepal length (cm)",
          "sepal length (cm)",
          "sepal length (cm)",
          "sepal length (cm)",
          "sepal length (cm)",
          "sepal length (cm)",
          "sepal length (cm)",
          "sepal length (cm)",
          "sepal length (cm)",
          "sepal length (cm)",
          "sepal width (cm)",
          "sepal width (cm)",
          "sepal width (cm)",
          "sepal width (cm)",
          "sepal width (cm)",
          "sepal width (cm)",
          "sepal width (cm)",
          "sepal width (cm)",
          "sepal width (cm)",
          "sepal width (cm)",
          "sepal width (cm)",
          "sepal width (cm)",
          "sepal width (cm)",
          "sepal width (cm)",
          "sepal width (cm)",
          "sepal width (cm)",
          "sepal width (cm)",
          "sepal width (cm)",
          "sepal width (cm)",
          "sepal width (cm)",
          "sepal width (cm)",
          "sepal width (cm)",
          "sepal width (cm)",
          "sepal width (cm)",
          "sepal width (cm)",
          "sepal width (cm)",
          "sepal width (cm)",
          "sepal width (cm)",
          "sepal width (cm)",
          "sepal width (cm)",
          "sepal width (cm)",
          "sepal width (cm)",
          "sepal width (cm)",
          "sepal width (cm)",
          "sepal width (cm)",
          "sepal width (cm)",
          "sepal width (cm)",
          "sepal width (cm)",
          "sepal width (cm)",
          "sepal width (cm)",
          "sepal width (cm)",
          "sepal width (cm)",
          "sepal width (cm)",
          "sepal width (cm)",
          "sepal width (cm)",
          "sepal width (cm)",
          "sepal width (cm)",
          "sepal width (cm)",
          "sepal width (cm)",
          "sepal width (cm)",
          "sepal width (cm)",
          "sepal width (cm)",
          "sepal width (cm)",
          "sepal width (cm)",
          "sepal width (cm)",
          "sepal width (cm)",
          "sepal width (cm)",
          "sepal width (cm)",
          "sepal width (cm)",
          "sepal width (cm)",
          "sepal width (cm)",
          "sepal width (cm)",
          "sepal width (cm)",
          "sepal width (cm)",
          "sepal width (cm)",
          "sepal width (cm)",
          "sepal width (cm)",
          "sepal width (cm)",
          "sepal width (cm)",
          "sepal width (cm)",
          "sepal width (cm)",
          "sepal width (cm)",
          "sepal width (cm)",
          "sepal width (cm)",
          "sepal width (cm)",
          "sepal width (cm)",
          "sepal width (cm)",
          "sepal width (cm)",
          "sepal width (cm)",
          "sepal width (cm)",
          "sepal width (cm)",
          "sepal width (cm)",
          "sepal width (cm)",
          "sepal width (cm)",
          "sepal width (cm)",
          "sepal width (cm)",
          "sepal width (cm)",
          "sepal width (cm)",
          "sepal width (cm)",
          "sepal width (cm)",
          "sepal width (cm)",
          "sepal width (cm)",
          "sepal width (cm)",
          "sepal width (cm)",
          "sepal width (cm)",
          "sepal width (cm)",
          "sepal width (cm)",
          "sepal width (cm)",
          "sepal width (cm)",
          "sepal width (cm)",
          "sepal width (cm)",
          "sepal width (cm)",
          "sepal width (cm)",
          "sepal width (cm)",
          "sepal width (cm)",
          "sepal width (cm)",
          "sepal width (cm)",
          "sepal width (cm)",
          "sepal width (cm)",
          "sepal width (cm)",
          "sepal width (cm)",
          "sepal width (cm)",
          "sepal width (cm)",
          "sepal width (cm)",
          "sepal width (cm)",
          "sepal width (cm)",
          "sepal width (cm)",
          "sepal width (cm)",
          "sepal width (cm)",
          "sepal width (cm)",
          "sepal width (cm)",
          "sepal width (cm)",
          "sepal width (cm)",
          "sepal width (cm)",
          "sepal width (cm)",
          "sepal width (cm)",
          "sepal width (cm)",
          "sepal width (cm)",
          "sepal width (cm)",
          "sepal width (cm)",
          "sepal width (cm)",
          "sepal width (cm)",
          "sepal width (cm)",
          "sepal width (cm)",
          "sepal width (cm)",
          "sepal width (cm)",
          "sepal width (cm)",
          "sepal width (cm)",
          "sepal width (cm)",
          "sepal width (cm)",
          "sepal width (cm)",
          "sepal width (cm)",
          "sepal width (cm)",
          "sepal width (cm)",
          "sepal width (cm)",
          "sepal width (cm)",
          "sepal width (cm)",
          "sepal width (cm)",
          "sepal width (cm)",
          "sepal width (cm)",
          "petal length (cm)",
          "petal length (cm)",
          "petal length (cm)",
          "petal length (cm)",
          "petal length (cm)",
          "petal length (cm)",
          "petal length (cm)",
          "petal length (cm)",
          "petal length (cm)",
          "petal length (cm)",
          "petal length (cm)",
          "petal length (cm)",
          "petal length (cm)",
          "petal length (cm)",
          "petal length (cm)",
          "petal length (cm)",
          "petal length (cm)",
          "petal length (cm)",
          "petal length (cm)",
          "petal length (cm)",
          "petal length (cm)",
          "petal length (cm)",
          "petal length (cm)",
          "petal length (cm)",
          "petal length (cm)",
          "petal length (cm)",
          "petal length (cm)",
          "petal length (cm)",
          "petal length (cm)",
          "petal length (cm)",
          "petal length (cm)",
          "petal length (cm)",
          "petal length (cm)",
          "petal length (cm)",
          "petal length (cm)",
          "petal length (cm)",
          "petal length (cm)",
          "petal length (cm)",
          "petal length (cm)",
          "petal length (cm)",
          "petal length (cm)",
          "petal length (cm)",
          "petal length (cm)",
          "petal length (cm)",
          "petal length (cm)",
          "petal length (cm)",
          "petal length (cm)",
          "petal length (cm)",
          "petal length (cm)",
          "petal length (cm)",
          "petal length (cm)",
          "petal length (cm)",
          "petal length (cm)",
          "petal length (cm)",
          "petal length (cm)",
          "petal length (cm)",
          "petal length (cm)",
          "petal length (cm)",
          "petal length (cm)",
          "petal length (cm)",
          "petal length (cm)",
          "petal length (cm)",
          "petal length (cm)",
          "petal length (cm)",
          "petal length (cm)",
          "petal length (cm)",
          "petal length (cm)",
          "petal length (cm)",
          "petal length (cm)",
          "petal length (cm)",
          "petal length (cm)",
          "petal length (cm)",
          "petal length (cm)",
          "petal length (cm)",
          "petal length (cm)",
          "petal length (cm)",
          "petal length (cm)",
          "petal length (cm)",
          "petal length (cm)",
          "petal length (cm)",
          "petal length (cm)",
          "petal length (cm)",
          "petal length (cm)",
          "petal length (cm)",
          "petal length (cm)",
          "petal length (cm)",
          "petal length (cm)",
          "petal length (cm)",
          "petal length (cm)",
          "petal length (cm)",
          "petal length (cm)",
          "petal length (cm)",
          "petal length (cm)",
          "petal length (cm)",
          "petal length (cm)",
          "petal length (cm)",
          "petal length (cm)",
          "petal length (cm)",
          "petal length (cm)",
          "petal length (cm)",
          "petal length (cm)",
          "petal length (cm)",
          "petal length (cm)",
          "petal length (cm)",
          "petal length (cm)",
          "petal length (cm)",
          "petal length (cm)",
          "petal length (cm)",
          "petal length (cm)",
          "petal length (cm)",
          "petal length (cm)",
          "petal length (cm)",
          "petal length (cm)",
          "petal length (cm)",
          "petal length (cm)",
          "petal length (cm)",
          "petal length (cm)",
          "petal length (cm)",
          "petal length (cm)",
          "petal length (cm)",
          "petal length (cm)",
          "petal length (cm)",
          "petal length (cm)",
          "petal length (cm)",
          "petal length (cm)",
          "petal length (cm)",
          "petal length (cm)",
          "petal length (cm)",
          "petal length (cm)",
          "petal length (cm)",
          "petal length (cm)",
          "petal length (cm)",
          "petal length (cm)",
          "petal length (cm)",
          "petal length (cm)",
          "petal length (cm)",
          "petal length (cm)",
          "petal length (cm)",
          "petal length (cm)",
          "petal length (cm)",
          "petal length (cm)",
          "petal length (cm)",
          "petal length (cm)",
          "petal length (cm)",
          "petal length (cm)",
          "petal length (cm)",
          "petal length (cm)",
          "petal length (cm)",
          "petal length (cm)",
          "petal length (cm)",
          "petal width (cm)",
          "petal width (cm)",
          "petal width (cm)",
          "petal width (cm)",
          "petal width (cm)",
          "petal width (cm)",
          "petal width (cm)",
          "petal width (cm)",
          "petal width (cm)",
          "petal width (cm)",
          "petal width (cm)",
          "petal width (cm)",
          "petal width (cm)",
          "petal width (cm)",
          "petal width (cm)",
          "petal width (cm)",
          "petal width (cm)",
          "petal width (cm)",
          "petal width (cm)",
          "petal width (cm)",
          "petal width (cm)",
          "petal width (cm)",
          "petal width (cm)",
          "petal width (cm)",
          "petal width (cm)",
          "petal width (cm)",
          "petal width (cm)",
          "petal width (cm)",
          "petal width (cm)",
          "petal width (cm)",
          "petal width (cm)",
          "petal width (cm)",
          "petal width (cm)",
          "petal width (cm)",
          "petal width (cm)",
          "petal width (cm)",
          "petal width (cm)",
          "petal width (cm)",
          "petal width (cm)",
          "petal width (cm)",
          "petal width (cm)",
          "petal width (cm)",
          "petal width (cm)",
          "petal width (cm)",
          "petal width (cm)",
          "petal width (cm)",
          "petal width (cm)",
          "petal width (cm)",
          "petal width (cm)",
          "petal width (cm)",
          "petal width (cm)",
          "petal width (cm)",
          "petal width (cm)",
          "petal width (cm)",
          "petal width (cm)",
          "petal width (cm)",
          "petal width (cm)",
          "petal width (cm)",
          "petal width (cm)",
          "petal width (cm)",
          "petal width (cm)",
          "petal width (cm)",
          "petal width (cm)",
          "petal width (cm)",
          "petal width (cm)",
          "petal width (cm)",
          "petal width (cm)",
          "petal width (cm)",
          "petal width (cm)",
          "petal width (cm)",
          "petal width (cm)",
          "petal width (cm)",
          "petal width (cm)",
          "petal width (cm)",
          "petal width (cm)",
          "petal width (cm)",
          "petal width (cm)",
          "petal width (cm)",
          "petal width (cm)",
          "petal width (cm)",
          "petal width (cm)",
          "petal width (cm)",
          "petal width (cm)",
          "petal width (cm)",
          "petal width (cm)",
          "petal width (cm)",
          "petal width (cm)",
          "petal width (cm)",
          "petal width (cm)",
          "petal width (cm)",
          "petal width (cm)",
          "petal width (cm)",
          "petal width (cm)",
          "petal width (cm)",
          "petal width (cm)",
          "petal width (cm)",
          "petal width (cm)",
          "petal width (cm)",
          "petal width (cm)",
          "petal width (cm)",
          "petal width (cm)",
          "petal width (cm)",
          "petal width (cm)",
          "petal width (cm)",
          "petal width (cm)",
          "petal width (cm)",
          "petal width (cm)",
          "petal width (cm)",
          "petal width (cm)",
          "petal width (cm)",
          "petal width (cm)",
          "petal width (cm)",
          "petal width (cm)",
          "petal width (cm)",
          "petal width (cm)",
          "petal width (cm)",
          "petal width (cm)",
          "petal width (cm)",
          "petal width (cm)",
          "petal width (cm)",
          "petal width (cm)",
          "petal width (cm)",
          "petal width (cm)",
          "petal width (cm)",
          "petal width (cm)",
          "petal width (cm)",
          "petal width (cm)",
          "petal width (cm)",
          "petal width (cm)",
          "petal width (cm)",
          "petal width (cm)",
          "petal width (cm)",
          "petal width (cm)",
          "petal width (cm)",
          "petal width (cm)",
          "petal width (cm)",
          "petal width (cm)",
          "petal width (cm)",
          "petal width (cm)",
          "petal width (cm)",
          "petal width (cm)",
          "petal width (cm)",
          "petal width (cm)",
          "petal width (cm)",
          "petal width (cm)",
          "petal width (cm)",
          "petal width (cm)",
          "petal width (cm)",
          "petal width (cm)",
          "petal width (cm)"
         ],
         "x0": " ",
         "xaxis": "x",
         "y": [
          -0.9006811702978099,
          -1.1430169111851116,
          -1.3853526520724144,
          -1.5065205225160663,
          -1.0218490407414607,
          -0.5371775589668552,
          -1.5065205225160663,
          -1.0218490407414607,
          -1.748856263403368,
          -1.1430169111851116,
          -0.5371775589668552,
          -1.2641847816287635,
          -1.2641847816287635,
          -1.87002413384702,
          -0.052506077192250644,
          -0.1736739476359015,
          -0.5371775589668552,
          -0.9006811702978099,
          -0.1736739476359015,
          -0.9006811702978099,
          -0.5371775589668552,
          -0.9006811702978099,
          -1.5065205225160663,
          -0.9006811702978099,
          -1.2641847816287635,
          -1.0218490407414607,
          -1.0218490407414607,
          -0.779513299854158,
          -0.779513299854158,
          -1.3853526520724144,
          -1.2641847816287635,
          -0.5371775589668552,
          -0.779513299854158,
          -0.4160096885232043,
          -1.1430169111851116,
          -1.0218490407414607,
          -0.4160096885232043,
          -1.1430169111851116,
          -1.748856263403368,
          -0.9006811702978099,
          -1.0218490407414607,
          -1.6276883929597172,
          -1.748856263403368,
          -1.0218490407414607,
          -0.9006811702978099,
          -1.2641847816287635,
          -0.9006811702978099,
          -1.5065205225160663,
          -0.6583454294105071,
          -1.0218490407414607,
          1.401508368131565,
          0.6745011454696578,
          1.2803404976879142,
          -0.4160096885232043,
          0.7956690159133086,
          -0.1736739476359015,
          0.5533332750260058,
          -1.1430169111851116,
          0.9168368863569595,
          -0.779513299854158,
          -1.0218490407414607,
          0.06866179325140129,
          0.18982966369505214,
          0.310997534138703,
          -0.29484181807955345,
          1.0380047568006114,
          -0.29484181807955345,
          -0.052506077192250644,
          0.4321654045823549,
          -0.29484181807955345,
          0.06866179325140129,
          0.310997534138703,
          0.5533332750260058,
          0.310997534138703,
          0.6745011454696578,
          0.9168368863569595,
          1.1591726272442622,
          1.0380047568006114,
          0.18982966369505214,
          -0.1736739476359015,
          -0.4160096885232043,
          -0.4160096885232043,
          -0.052506077192250644,
          0.18982966369505214,
          -0.5371775589668552,
          0.18982966369505214,
          1.0380047568006114,
          0.5533332750260058,
          -0.29484181807955345,
          -0.4160096885232043,
          -0.4160096885232043,
          0.310997534138703,
          -0.052506077192250644,
          -1.0218490407414607,
          -0.29484181807955345,
          -0.1736739476359015,
          -0.1736739476359015,
          0.4321654045823549,
          -0.9006811702978099,
          -0.1736739476359015,
          0.5533332750260058,
          -0.052506077192250644,
          1.522676238575216,
          0.5533332750260058,
          0.7956690159133086,
          2.1285155907934725,
          -1.1430169111851116,
          1.7650119794625188,
          1.0380047568006114,
          1.6438441090188678,
          0.7956690159133086,
          0.6745011454696578,
          1.1591726272442622,
          -0.1736739476359015,
          -0.052506077192250644,
          0.6745011454696578,
          0.7956690159133086,
          2.249683461237124,
          2.249683461237124,
          0.18982966369505214,
          1.2803404976879142,
          -0.29484181807955345,
          2.249683461237124,
          0.5533332750260058,
          1.0380047568006114,
          1.6438441090188678,
          0.4321654045823549,
          0.310997534138703,
          0.6745011454696578,
          1.6438441090188678,
          1.8861798499061706,
          2.492019202124427,
          0.6745011454696578,
          0.5533332750260058,
          0.310997534138703,
          2.249683461237124,
          0.5533332750260058,
          0.6745011454696578,
          0.18982966369505214,
          1.2803404976879142,
          1.0380047568006114,
          1.2803404976879142,
          -0.052506077192250644,
          1.1591726272442622,
          1.0380047568006114,
          1.0380047568006114,
          0.5533332750260058,
          0.7956690159133086,
          0.4321654045823549,
          0.06866179325140129,
          1.0190043519716065,
          -0.1319794793216258,
          0.3284140531956675,
          0.09821728693702086,
          1.2492011182302531,
          1.939791417006192,
          0.7888075857129598,
          0.7888075857129598,
          -0.36217624558027245,
          0.09821728693702086,
          1.4793978844888998,
          0.7888075857129598,
          -0.1319794793216258,
          -0.1319794793216258,
          2.169988183264839,
          3.0907752482994253,
          1.939791417006192,
          1.0190043519716065,
          1.7095946507475455,
          1.7095946507475455,
          0.7888075857129598,
          1.4793978844888998,
          1.2492011182302531,
          0.5586108194543131,
          0.7888075857129598,
          -0.1319794793216258,
          0.7888075857129598,
          1.0190043519716065,
          0.7888075857129598,
          0.3284140531956675,
          0.09821728693702086,
          0.7888075857129598,
          2.400184949523484,
          2.630381715782132,
          0.09821728693702086,
          0.3284140531956675,
          1.0190043519716065,
          1.2492011182302531,
          -0.1319794793216258,
          0.7888075857129598,
          1.0190043519716065,
          -1.7433568431321513,
          0.3284140531956675,
          1.0190043519716065,
          1.7095946507475455,
          -0.1319794793216258,
          1.7095946507475455,
          0.3284140531956675,
          1.4793978844888998,
          0.5586108194543131,
          0.3284140531956675,
          0.3284140531956675,
          0.09821728693702086,
          -1.7433568431321513,
          -0.5923730118389191,
          -0.5923730118389191,
          0.5586108194543131,
          -1.5131600768735047,
          -0.36217624558027245,
          -0.8225697780975647,
          -2.43394714190809,
          -0.1319794793216258,
          -1.973553609390797,
          -0.36217624558027245,
          -0.36217624558027245,
          0.09821728693702086,
          -0.1319794793216258,
          -0.8225697780975647,
          -1.973553609390797,
          -1.282963310614858,
          0.3284140531956675,
          -0.5923730118389191,
          -1.282963310614858,
          -0.5923730118389191,
          -0.36217624558027245,
          -0.1319794793216258,
          -0.5923730118389191,
          -0.1319794793216258,
          -0.36217624558027245,
          -1.0527665443562113,
          -1.5131600768735047,
          -1.5131600768735047,
          -0.8225697780975647,
          -0.8225697780975647,
          -0.1319794793216258,
          0.7888075857129598,
          0.09821728693702086,
          -1.7433568431321513,
          -0.1319794793216258,
          -1.282963310614858,
          -1.0527665443562113,
          -0.1319794793216258,
          -1.0527665443562113,
          -1.7433568431321513,
          -0.8225697780975647,
          -0.1319794793216258,
          -0.36217624558027245,
          -0.36217624558027245,
          -1.282963310614858,
          -0.5923730118389191,
          0.5586108194543131,
          -0.8225697780975647,
          -0.1319794793216258,
          -0.36217624558027245,
          -0.1319794793216258,
          -0.1319794793216258,
          -1.282963310614858,
          -0.36217624558027245,
          -1.282963310614858,
          1.2492011182302531,
          0.3284140531956675,
          -0.8225697780975647,
          -0.1319794793216258,
          -1.282963310614858,
          -0.5923730118389191,
          0.3284140531956675,
          -0.1319794793216258,
          1.7095946507475455,
          -1.0527665443562113,
          -1.973553609390797,
          0.3284140531956675,
          -0.5923730118389191,
          -0.5923730118389191,
          -0.8225697780975647,
          0.5586108194543131,
          0.3284140531956675,
          -0.5923730118389191,
          -0.1319794793216258,
          -0.5923730118389191,
          -0.1319794793216258,
          -0.5923730118389191,
          1.7095946507475455,
          -0.5923730118389191,
          -0.5923730118389191,
          -1.0527665443562113,
          -0.1319794793216258,
          0.7888075857129598,
          0.09821728693702086,
          -0.1319794793216258,
          0.09821728693702086,
          0.09821728693702086,
          0.09821728693702086,
          -0.8225697780975647,
          0.3284140531956675,
          0.5586108194543131,
          -0.1319794793216258,
          -1.282963310614858,
          -0.1319794793216258,
          0.7888075857129598,
          -0.1319794793216258,
          -1.3402265266227635,
          -1.3402265266227635,
          -1.3970639535363667,
          -1.2833890997091604,
          -1.3402265266227635,
          -1.169714245881954,
          -1.3402265266227635,
          -1.2833890997091604,
          -1.3402265266227635,
          -1.2833890997091604,
          -1.2833890997091604,
          -1.2265516727955572,
          -1.3402265266227635,
          -1.5107388073635728,
          -1.4539013804499696,
          -1.2833890997091604,
          -1.3970639535363667,
          -1.3402265266227635,
          -1.169714245881954,
          -1.2833890997091604,
          -1.169714245881954,
          -1.2833890997091604,
          -1.567576234277176,
          -1.169714245881954,
          -1.056039392054748,
          -1.2265516727955572,
          -1.2265516727955572,
          -1.2833890997091604,
          -1.3402265266227635,
          -1.2265516727955572,
          -1.2265516727955572,
          -1.2833890997091604,
          -1.2833890997091604,
          -1.3402265266227635,
          -1.2833890997091604,
          -1.4539013804499696,
          -1.3970639535363667,
          -1.3402265266227635,
          -1.3970639535363667,
          -1.2833890997091604,
          -1.3970639535363667,
          -1.3970639535363667,
          -1.3970639535363667,
          -1.2265516727955572,
          -1.056039392054748,
          -1.3402265266227635,
          -1.2265516727955572,
          -1.3402265266227635,
          -1.2833890997091604,
          -1.3402265266227635,
          0.5354085615261401,
          0.42173370769893376,
          0.6490834153533465,
          0.13754657313091806,
          0.4785711346125367,
          0.42173370769893376,
          0.5354085615261401,
          -0.26031541526430396,
          0.4785711346125367,
          0.08070914621731488,
          -0.1466405614370976,
          0.25122142695812444,
          0.13754657313091806,
          0.5354085615261401,
          -0.08980313452349442,
          0.3648962807853308,
          0.42173370769893376,
          0.194384000044521,
          0.42173370769893376,
          0.08070914621731488,
          0.5922459884397431,
          0.13754657313091806,
          0.6490834153533465,
          0.5354085615261401,
          0.3080588538717274,
          0.3648962807853308,
          0.5922459884397431,
          0.7059208422669494,
          0.42173370769893376,
          -0.1466405614370976,
          0.023871719303711698,
          -0.03296570760989124,
          0.08070914621731488,
          0.7627582691805523,
          0.42173370769893376,
          0.42173370769893376,
          0.5354085615261401,
          0.3648962807853308,
          0.194384000044521,
          0.13754657313091806,
          0.3648962807853308,
          0.4785711346125367,
          0.13754657313091806,
          -0.26031541526430396,
          0.25122142695812444,
          0.25122142695812444,
          0.25122142695812444,
          0.3080588538717274,
          -0.4308276960051133,
          0.194384000044521,
          1.2742951114029808,
          0.7627582691805523,
          1.2174576844893779,
          1.0469454037485681,
          1.1606202575757745,
          1.6153196728845993,
          0.42173370769893376,
          1.44480739214379,
          1.1606202575757745,
          1.3311325383165837,
          0.7627582691805523,
          0.8764331230077588,
          0.9901079768349651,
          0.7059208422669494,
          0.7627582691805523,
          0.8764331230077588,
          0.9901079768349651,
          1.672157099798203,
          1.7858319536254093,
          0.7059208422669494,
          1.1037828306621715,
          0.6490834153533465,
          1.672157099798203,
          0.6490834153533465,
          1.1037828306621715,
          1.2742951114029808,
          0.5922459884397431,
          0.6490834153533465,
          1.0469454037485681,
          1.1606202575757745,
          1.3311325383165837,
          1.5016448190573937,
          1.0469454037485681,
          0.7627582691805523,
          1.0469454037485681,
          1.3311325383165837,
          1.0469454037485681,
          0.9901079768349651,
          0.5922459884397431,
          0.9332705499213622,
          1.0469454037485681,
          0.7627582691805523,
          0.7627582691805523,
          1.2174576844893779,
          1.1037828306621715,
          0.8195956960941558,
          0.7059208422669494,
          0.8195956960941558,
          0.9332705499213622,
          0.7627582691805523,
          -1.3154442950077407,
          -1.3154442950077407,
          -1.3154442950077407,
          -1.3154442950077407,
          -1.3154442950077407,
          -1.052179926427139,
          -1.18381211071744,
          -1.3154442950077407,
          -1.3154442950077407,
          -1.4470764792980415,
          -1.3154442950077407,
          -1.3154442950077407,
          -1.4470764792980415,
          -1.4470764792980415,
          -1.3154442950077407,
          -1.052179926427139,
          -1.052179926427139,
          -1.18381211071744,
          -1.18381211071744,
          -1.18381211071744,
          -1.3154442950077407,
          -1.052179926427139,
          -1.3154442950077407,
          -0.9205477421368382,
          -1.3154442950077407,
          -1.3154442950077407,
          -1.052179926427139,
          -1.3154442950077407,
          -1.3154442950077407,
          -1.3154442950077407,
          -1.3154442950077407,
          -1.052179926427139,
          -1.4470764792980415,
          -1.3154442950077407,
          -1.3154442950077407,
          -1.3154442950077407,
          -1.3154442950077407,
          -1.4470764792980415,
          -1.3154442950077407,
          -1.3154442950077407,
          -1.18381211071744,
          -1.18381211071744,
          -1.3154442950077407,
          -0.7889155578465374,
          -1.052179926427139,
          -1.18381211071744,
          -1.3154442950077407,
          -1.3154442950077407,
          -1.3154442950077407,
          -1.3154442950077407,
          0.2641419164758693,
          0.3957741007661703,
          0.3957741007661703,
          0.13250973218556866,
          0.3957741007661703,
          0.13250973218556866,
          0.5274062850564712,
          -0.262386820685334,
          0.13250973218556866,
          0.2641419164758693,
          -0.262386820685334,
          0.3957741007661703,
          -0.262386820685334,
          0.2641419164758693,
          0.13250973218556866,
          0.2641419164758693,
          0.3957741007661703,
          -0.262386820685334,
          0.3957741007661703,
          -0.13075463639503299,
          0.7906706536370729,
          0.13250973218556866,
          0.3957741007661703,
          0.0008775478952676988,
          0.13250973218556866,
          0.2641419164758693,
          0.2641419164758693,
          0.659038469346772,
          0.3957741007661703,
          -0.262386820685334,
          -0.13075463639503299,
          -0.262386820685334,
          0.0008775478952676988,
          0.5274062850564712,
          0.3957741007661703,
          0.5274062850564712,
          0.3957741007661703,
          0.13250973218556866,
          0.13250973218556866,
          0.13250973218556866,
          0.0008775478952676988,
          0.2641419164758693,
          0.0008775478952676988,
          -0.262386820685334,
          0.13250973218556866,
          0.0008775478952676988,
          0.13250973218556866,
          0.13250973218556866,
          -0.13075463639503299,
          0.13250973218556866,
          1.712095943669179,
          0.9223028379273737,
          1.1855672065079756,
          0.7906706536370729,
          1.3171993907982766,
          1.1855672065079756,
          0.659038469346772,
          0.7906706536370729,
          0.7906706536370729,
          1.712095943669179,
          1.0539350222176747,
          0.9223028379273737,
          1.1855672065079756,
          1.0539350222176747,
          1.580463759378878,
          1.448831575088577,
          0.7906706536370729,
          1.3171993907982766,
          1.448831575088577,
          0.3957741007661703,
          1.448831575088577,
          1.0539350222176747,
          1.0539350222176747,
          0.7906706536370729,
          1.1855672065079756,
          0.7906706536370729,
          0.7906706536370729,
          0.7906706536370729,
          1.1855672065079756,
          0.5274062850564712,
          0.9223028379273737,
          1.0539350222176747,
          1.3171993907982766,
          0.3957741007661703,
          0.2641419164758693,
          1.448831575088577,
          1.580463759378878,
          0.7906706536370729,
          0.7906706536370729,
          1.1855672065079756,
          1.580463759378878,
          1.448831575088577,
          0.9223028379273737,
          1.448831575088577,
          1.712095943669179,
          1.448831575088577,
          0.9223028379273737,
          1.0539350222176747,
          1.448831575088577,
          0.7906706536370729
         ],
         "y0": " ",
         "yaxis": "y"
        }
       ],
       "layout": {
        "boxmode": "group",
        "legend": {
         "tracegroupgap": 0
        },
        "template": {
         "data": {
          "bar": [
           {
            "error_x": {
             "color": "#2a3f5f"
            },
            "error_y": {
             "color": "#2a3f5f"
            },
            "marker": {
             "line": {
              "color": "#E5ECF6",
              "width": 0.5
             },
             "pattern": {
              "fillmode": "overlay",
              "size": 10,
              "solidity": 0.2
             }
            },
            "type": "bar"
           }
          ],
          "barpolar": [
           {
            "marker": {
             "line": {
              "color": "#E5ECF6",
              "width": 0.5
             },
             "pattern": {
              "fillmode": "overlay",
              "size": 10,
              "solidity": 0.2
             }
            },
            "type": "barpolar"
           }
          ],
          "carpet": [
           {
            "aaxis": {
             "endlinecolor": "#2a3f5f",
             "gridcolor": "white",
             "linecolor": "white",
             "minorgridcolor": "white",
             "startlinecolor": "#2a3f5f"
            },
            "baxis": {
             "endlinecolor": "#2a3f5f",
             "gridcolor": "white",
             "linecolor": "white",
             "minorgridcolor": "white",
             "startlinecolor": "#2a3f5f"
            },
            "type": "carpet"
           }
          ],
          "choropleth": [
           {
            "colorbar": {
             "outlinewidth": 0,
             "ticks": ""
            },
            "type": "choropleth"
           }
          ],
          "contour": [
           {
            "colorbar": {
             "outlinewidth": 0,
             "ticks": ""
            },
            "colorscale": [
             [
              0,
              "#0d0887"
             ],
             [
              0.1111111111111111,
              "#46039f"
             ],
             [
              0.2222222222222222,
              "#7201a8"
             ],
             [
              0.3333333333333333,
              "#9c179e"
             ],
             [
              0.4444444444444444,
              "#bd3786"
             ],
             [
              0.5555555555555556,
              "#d8576b"
             ],
             [
              0.6666666666666666,
              "#ed7953"
             ],
             [
              0.7777777777777778,
              "#fb9f3a"
             ],
             [
              0.8888888888888888,
              "#fdca26"
             ],
             [
              1,
              "#f0f921"
             ]
            ],
            "type": "contour"
           }
          ],
          "contourcarpet": [
           {
            "colorbar": {
             "outlinewidth": 0,
             "ticks": ""
            },
            "type": "contourcarpet"
           }
          ],
          "heatmap": [
           {
            "colorbar": {
             "outlinewidth": 0,
             "ticks": ""
            },
            "colorscale": [
             [
              0,
              "#0d0887"
             ],
             [
              0.1111111111111111,
              "#46039f"
             ],
             [
              0.2222222222222222,
              "#7201a8"
             ],
             [
              0.3333333333333333,
              "#9c179e"
             ],
             [
              0.4444444444444444,
              "#bd3786"
             ],
             [
              0.5555555555555556,
              "#d8576b"
             ],
             [
              0.6666666666666666,
              "#ed7953"
             ],
             [
              0.7777777777777778,
              "#fb9f3a"
             ],
             [
              0.8888888888888888,
              "#fdca26"
             ],
             [
              1,
              "#f0f921"
             ]
            ],
            "type": "heatmap"
           }
          ],
          "heatmapgl": [
           {
            "colorbar": {
             "outlinewidth": 0,
             "ticks": ""
            },
            "colorscale": [
             [
              0,
              "#0d0887"
             ],
             [
              0.1111111111111111,
              "#46039f"
             ],
             [
              0.2222222222222222,
              "#7201a8"
             ],
             [
              0.3333333333333333,
              "#9c179e"
             ],
             [
              0.4444444444444444,
              "#bd3786"
             ],
             [
              0.5555555555555556,
              "#d8576b"
             ],
             [
              0.6666666666666666,
              "#ed7953"
             ],
             [
              0.7777777777777778,
              "#fb9f3a"
             ],
             [
              0.8888888888888888,
              "#fdca26"
             ],
             [
              1,
              "#f0f921"
             ]
            ],
            "type": "heatmapgl"
           }
          ],
          "histogram": [
           {
            "marker": {
             "pattern": {
              "fillmode": "overlay",
              "size": 10,
              "solidity": 0.2
             }
            },
            "type": "histogram"
           }
          ],
          "histogram2d": [
           {
            "colorbar": {
             "outlinewidth": 0,
             "ticks": ""
            },
            "colorscale": [
             [
              0,
              "#0d0887"
             ],
             [
              0.1111111111111111,
              "#46039f"
             ],
             [
              0.2222222222222222,
              "#7201a8"
             ],
             [
              0.3333333333333333,
              "#9c179e"
             ],
             [
              0.4444444444444444,
              "#bd3786"
             ],
             [
              0.5555555555555556,
              "#d8576b"
             ],
             [
              0.6666666666666666,
              "#ed7953"
             ],
             [
              0.7777777777777778,
              "#fb9f3a"
             ],
             [
              0.8888888888888888,
              "#fdca26"
             ],
             [
              1,
              "#f0f921"
             ]
            ],
            "type": "histogram2d"
           }
          ],
          "histogram2dcontour": [
           {
            "colorbar": {
             "outlinewidth": 0,
             "ticks": ""
            },
            "colorscale": [
             [
              0,
              "#0d0887"
             ],
             [
              0.1111111111111111,
              "#46039f"
             ],
             [
              0.2222222222222222,
              "#7201a8"
             ],
             [
              0.3333333333333333,
              "#9c179e"
             ],
             [
              0.4444444444444444,
              "#bd3786"
             ],
             [
              0.5555555555555556,
              "#d8576b"
             ],
             [
              0.6666666666666666,
              "#ed7953"
             ],
             [
              0.7777777777777778,
              "#fb9f3a"
             ],
             [
              0.8888888888888888,
              "#fdca26"
             ],
             [
              1,
              "#f0f921"
             ]
            ],
            "type": "histogram2dcontour"
           }
          ],
          "mesh3d": [
           {
            "colorbar": {
             "outlinewidth": 0,
             "ticks": ""
            },
            "type": "mesh3d"
           }
          ],
          "parcoords": [
           {
            "line": {
             "colorbar": {
              "outlinewidth": 0,
              "ticks": ""
             }
            },
            "type": "parcoords"
           }
          ],
          "pie": [
           {
            "automargin": true,
            "type": "pie"
           }
          ],
          "scatter": [
           {
            "fillpattern": {
             "fillmode": "overlay",
             "size": 10,
             "solidity": 0.2
            },
            "type": "scatter"
           }
          ],
          "scatter3d": [
           {
            "line": {
             "colorbar": {
              "outlinewidth": 0,
              "ticks": ""
             }
            },
            "marker": {
             "colorbar": {
              "outlinewidth": 0,
              "ticks": ""
             }
            },
            "type": "scatter3d"
           }
          ],
          "scattercarpet": [
           {
            "marker": {
             "colorbar": {
              "outlinewidth": 0,
              "ticks": ""
             }
            },
            "type": "scattercarpet"
           }
          ],
          "scattergeo": [
           {
            "marker": {
             "colorbar": {
              "outlinewidth": 0,
              "ticks": ""
             }
            },
            "type": "scattergeo"
           }
          ],
          "scattergl": [
           {
            "marker": {
             "colorbar": {
              "outlinewidth": 0,
              "ticks": ""
             }
            },
            "type": "scattergl"
           }
          ],
          "scattermapbox": [
           {
            "marker": {
             "colorbar": {
              "outlinewidth": 0,
              "ticks": ""
             }
            },
            "type": "scattermapbox"
           }
          ],
          "scatterpolar": [
           {
            "marker": {
             "colorbar": {
              "outlinewidth": 0,
              "ticks": ""
             }
            },
            "type": "scatterpolar"
           }
          ],
          "scatterpolargl": [
           {
            "marker": {
             "colorbar": {
              "outlinewidth": 0,
              "ticks": ""
             }
            },
            "type": "scatterpolargl"
           }
          ],
          "scatterternary": [
           {
            "marker": {
             "colorbar": {
              "outlinewidth": 0,
              "ticks": ""
             }
            },
            "type": "scatterternary"
           }
          ],
          "surface": [
           {
            "colorbar": {
             "outlinewidth": 0,
             "ticks": ""
            },
            "colorscale": [
             [
              0,
              "#0d0887"
             ],
             [
              0.1111111111111111,
              "#46039f"
             ],
             [
              0.2222222222222222,
              "#7201a8"
             ],
             [
              0.3333333333333333,
              "#9c179e"
             ],
             [
              0.4444444444444444,
              "#bd3786"
             ],
             [
              0.5555555555555556,
              "#d8576b"
             ],
             [
              0.6666666666666666,
              "#ed7953"
             ],
             [
              0.7777777777777778,
              "#fb9f3a"
             ],
             [
              0.8888888888888888,
              "#fdca26"
             ],
             [
              1,
              "#f0f921"
             ]
            ],
            "type": "surface"
           }
          ],
          "table": [
           {
            "cells": {
             "fill": {
              "color": "#EBF0F8"
             },
             "line": {
              "color": "white"
             }
            },
            "header": {
             "fill": {
              "color": "#C8D4E3"
             },
             "line": {
              "color": "white"
             }
            },
            "type": "table"
           }
          ]
         },
         "layout": {
          "annotationdefaults": {
           "arrowcolor": "#2a3f5f",
           "arrowhead": 0,
           "arrowwidth": 1
          },
          "autotypenumbers": "strict",
          "coloraxis": {
           "colorbar": {
            "outlinewidth": 0,
            "ticks": ""
           }
          },
          "colorscale": {
           "diverging": [
            [
             0,
             "#8e0152"
            ],
            [
             0.1,
             "#c51b7d"
            ],
            [
             0.2,
             "#de77ae"
            ],
            [
             0.3,
             "#f1b6da"
            ],
            [
             0.4,
             "#fde0ef"
            ],
            [
             0.5,
             "#f7f7f7"
            ],
            [
             0.6,
             "#e6f5d0"
            ],
            [
             0.7,
             "#b8e186"
            ],
            [
             0.8,
             "#7fbc41"
            ],
            [
             0.9,
             "#4d9221"
            ],
            [
             1,
             "#276419"
            ]
           ],
           "sequential": [
            [
             0,
             "#0d0887"
            ],
            [
             0.1111111111111111,
             "#46039f"
            ],
            [
             0.2222222222222222,
             "#7201a8"
            ],
            [
             0.3333333333333333,
             "#9c179e"
            ],
            [
             0.4444444444444444,
             "#bd3786"
            ],
            [
             0.5555555555555556,
             "#d8576b"
            ],
            [
             0.6666666666666666,
             "#ed7953"
            ],
            [
             0.7777777777777778,
             "#fb9f3a"
            ],
            [
             0.8888888888888888,
             "#fdca26"
            ],
            [
             1,
             "#f0f921"
            ]
           ],
           "sequentialminus": [
            [
             0,
             "#0d0887"
            ],
            [
             0.1111111111111111,
             "#46039f"
            ],
            [
             0.2222222222222222,
             "#7201a8"
            ],
            [
             0.3333333333333333,
             "#9c179e"
            ],
            [
             0.4444444444444444,
             "#bd3786"
            ],
            [
             0.5555555555555556,
             "#d8576b"
            ],
            [
             0.6666666666666666,
             "#ed7953"
            ],
            [
             0.7777777777777778,
             "#fb9f3a"
            ],
            [
             0.8888888888888888,
             "#fdca26"
            ],
            [
             1,
             "#f0f921"
            ]
           ]
          },
          "colorway": [
           "#636efa",
           "#EF553B",
           "#00cc96",
           "#ab63fa",
           "#FFA15A",
           "#19d3f3",
           "#FF6692",
           "#B6E880",
           "#FF97FF",
           "#FECB52"
          ],
          "font": {
           "color": "#2a3f5f"
          },
          "geo": {
           "bgcolor": "white",
           "lakecolor": "white",
           "landcolor": "#E5ECF6",
           "showlakes": true,
           "showland": true,
           "subunitcolor": "white"
          },
          "hoverlabel": {
           "align": "left"
          },
          "hovermode": "closest",
          "mapbox": {
           "style": "light"
          },
          "paper_bgcolor": "white",
          "plot_bgcolor": "#E5ECF6",
          "polar": {
           "angularaxis": {
            "gridcolor": "white",
            "linecolor": "white",
            "ticks": ""
           },
           "bgcolor": "#E5ECF6",
           "radialaxis": {
            "gridcolor": "white",
            "linecolor": "white",
            "ticks": ""
           }
          },
          "scene": {
           "xaxis": {
            "backgroundcolor": "#E5ECF6",
            "gridcolor": "white",
            "gridwidth": 2,
            "linecolor": "white",
            "showbackground": true,
            "ticks": "",
            "zerolinecolor": "white"
           },
           "yaxis": {
            "backgroundcolor": "#E5ECF6",
            "gridcolor": "white",
            "gridwidth": 2,
            "linecolor": "white",
            "showbackground": true,
            "ticks": "",
            "zerolinecolor": "white"
           },
           "zaxis": {
            "backgroundcolor": "#E5ECF6",
            "gridcolor": "white",
            "gridwidth": 2,
            "linecolor": "white",
            "showbackground": true,
            "ticks": "",
            "zerolinecolor": "white"
           }
          },
          "shapedefaults": {
           "line": {
            "color": "#2a3f5f"
           }
          },
          "ternary": {
           "aaxis": {
            "gridcolor": "white",
            "linecolor": "white",
            "ticks": ""
           },
           "baxis": {
            "gridcolor": "white",
            "linecolor": "white",
            "ticks": ""
           },
           "bgcolor": "#E5ECF6",
           "caxis": {
            "gridcolor": "white",
            "linecolor": "white",
            "ticks": ""
           }
          },
          "title": {
           "x": 0.05
          },
          "xaxis": {
           "automargin": true,
           "gridcolor": "white",
           "linecolor": "white",
           "ticks": "",
           "title": {
            "standoff": 15
           },
           "zerolinecolor": "white",
           "zerolinewidth": 2
          },
          "yaxis": {
           "automargin": true,
           "gridcolor": "white",
           "linecolor": "white",
           "ticks": "",
           "title": {
            "standoff": 15
           },
           "zerolinecolor": "white",
           "zerolinewidth": 2
          }
         }
        },
        "title": {
         "text": "Box Plots of Scaled Iris Features"
        },
        "xaxis": {
         "anchor": "y",
         "domain": [
          0,
          1
         ],
         "title": {
          "text": "variable"
         }
        },
        "yaxis": {
         "anchor": "x",
         "domain": [
          0,
          1
         ],
         "title": {
          "text": "value"
         }
        }
       }
      }
     },
     "metadata": {},
     "output_type": "display_data"
    }
   ],
   "source": [
    "import plotly.express as px\n",
    "\n",
    "fig = px.box(scaled_df, y=scaled_df.columns, title=\"Box Plots of Scaled Iris Features\")\n",
    "fig.show()"
   ]
  },
  {
   "cell_type": "code",
   "execution_count": 12,
   "metadata": {},
   "outputs": [
    {
     "data": {
      "application/vnd.plotly.v1+json": {
       "config": {
        "plotlyServerURL": "https://plot.ly"
       },
       "data": [
        {
         "alignmentgroup": "True",
         "boxpoints": "all",
         "hovertemplate": "특성=%{x}<br>값=%{y}<extra></extra>",
         "legendgroup": "",
         "marker": {
          "color": "#636efa"
         },
         "name": "",
         "notched": false,
         "offsetgroup": "",
         "orientation": "v",
         "showlegend": false,
         "type": "box",
         "x": [
          "sepal length (cm)",
          "sepal length (cm)",
          "sepal length (cm)",
          "sepal length (cm)",
          "sepal length (cm)",
          "sepal length (cm)",
          "sepal length (cm)",
          "sepal length (cm)",
          "sepal length (cm)",
          "sepal length (cm)",
          "sepal length (cm)",
          "sepal length (cm)",
          "sepal length (cm)",
          "sepal length (cm)",
          "sepal length (cm)",
          "sepal length (cm)",
          "sepal length (cm)",
          "sepal length (cm)",
          "sepal length (cm)",
          "sepal length (cm)",
          "sepal length (cm)",
          "sepal length (cm)",
          "sepal length (cm)",
          "sepal length (cm)",
          "sepal length (cm)",
          "sepal length (cm)",
          "sepal length (cm)",
          "sepal length (cm)",
          "sepal length (cm)",
          "sepal length (cm)",
          "sepal length (cm)",
          "sepal length (cm)",
          "sepal length (cm)",
          "sepal length (cm)",
          "sepal length (cm)",
          "sepal length (cm)",
          "sepal length (cm)",
          "sepal length (cm)",
          "sepal length (cm)",
          "sepal length (cm)",
          "sepal length (cm)",
          "sepal length (cm)",
          "sepal length (cm)",
          "sepal length (cm)",
          "sepal length (cm)",
          "sepal length (cm)",
          "sepal length (cm)",
          "sepal length (cm)",
          "sepal length (cm)",
          "sepal length (cm)",
          "sepal length (cm)",
          "sepal length (cm)",
          "sepal length (cm)",
          "sepal length (cm)",
          "sepal length (cm)",
          "sepal length (cm)",
          "sepal length (cm)",
          "sepal length (cm)",
          "sepal length (cm)",
          "sepal length (cm)",
          "sepal length (cm)",
          "sepal length (cm)",
          "sepal length (cm)",
          "sepal length (cm)",
          "sepal length (cm)",
          "sepal length (cm)",
          "sepal length (cm)",
          "sepal length (cm)",
          "sepal length (cm)",
          "sepal length (cm)",
          "sepal length (cm)",
          "sepal length (cm)",
          "sepal length (cm)",
          "sepal length (cm)",
          "sepal length (cm)",
          "sepal length (cm)",
          "sepal length (cm)",
          "sepal length (cm)",
          "sepal length (cm)",
          "sepal length (cm)",
          "sepal length (cm)",
          "sepal length (cm)",
          "sepal length (cm)",
          "sepal length (cm)",
          "sepal length (cm)",
          "sepal length (cm)",
          "sepal length (cm)",
          "sepal length (cm)",
          "sepal length (cm)",
          "sepal length (cm)",
          "sepal length (cm)",
          "sepal length (cm)",
          "sepal length (cm)",
          "sepal length (cm)",
          "sepal length (cm)",
          "sepal length (cm)",
          "sepal length (cm)",
          "sepal length (cm)",
          "sepal length (cm)",
          "sepal length (cm)",
          "sepal length (cm)",
          "sepal length (cm)",
          "sepal length (cm)",
          "sepal length (cm)",
          "sepal length (cm)",
          "sepal length (cm)",
          "sepal length (cm)",
          "sepal length (cm)",
          "sepal length (cm)",
          "sepal length (cm)",
          "sepal length (cm)",
          "sepal length (cm)",
          "sepal length (cm)",
          "sepal length (cm)",
          "sepal length (cm)",
          "sepal length (cm)",
          "sepal length (cm)",
          "sepal length (cm)",
          "sepal length (cm)",
          "sepal length (cm)",
          "sepal length (cm)",
          "sepal length (cm)",
          "sepal length (cm)",
          "sepal length (cm)",
          "sepal length (cm)",
          "sepal length (cm)",
          "sepal length (cm)",
          "sepal length (cm)",
          "sepal length (cm)",
          "sepal length (cm)",
          "sepal length (cm)",
          "sepal length (cm)",
          "sepal length (cm)",
          "sepal length (cm)",
          "sepal length (cm)",
          "sepal length (cm)",
          "sepal length (cm)",
          "sepal length (cm)",
          "sepal length (cm)",
          "sepal length (cm)",
          "sepal length (cm)",
          "sepal length (cm)",
          "sepal length (cm)",
          "sepal length (cm)",
          "sepal length (cm)",
          "sepal length (cm)",
          "sepal length (cm)",
          "sepal length (cm)",
          "sepal length (cm)",
          "sepal length (cm)",
          "sepal width (cm)",
          "sepal width (cm)",
          "sepal width (cm)",
          "sepal width (cm)",
          "sepal width (cm)",
          "sepal width (cm)",
          "sepal width (cm)",
          "sepal width (cm)",
          "sepal width (cm)",
          "sepal width (cm)",
          "sepal width (cm)",
          "sepal width (cm)",
          "sepal width (cm)",
          "sepal width (cm)",
          "sepal width (cm)",
          "sepal width (cm)",
          "sepal width (cm)",
          "sepal width (cm)",
          "sepal width (cm)",
          "sepal width (cm)",
          "sepal width (cm)",
          "sepal width (cm)",
          "sepal width (cm)",
          "sepal width (cm)",
          "sepal width (cm)",
          "sepal width (cm)",
          "sepal width (cm)",
          "sepal width (cm)",
          "sepal width (cm)",
          "sepal width (cm)",
          "sepal width (cm)",
          "sepal width (cm)",
          "sepal width (cm)",
          "sepal width (cm)",
          "sepal width (cm)",
          "sepal width (cm)",
          "sepal width (cm)",
          "sepal width (cm)",
          "sepal width (cm)",
          "sepal width (cm)",
          "sepal width (cm)",
          "sepal width (cm)",
          "sepal width (cm)",
          "sepal width (cm)",
          "sepal width (cm)",
          "sepal width (cm)",
          "sepal width (cm)",
          "sepal width (cm)",
          "sepal width (cm)",
          "sepal width (cm)",
          "sepal width (cm)",
          "sepal width (cm)",
          "sepal width (cm)",
          "sepal width (cm)",
          "sepal width (cm)",
          "sepal width (cm)",
          "sepal width (cm)",
          "sepal width (cm)",
          "sepal width (cm)",
          "sepal width (cm)",
          "sepal width (cm)",
          "sepal width (cm)",
          "sepal width (cm)",
          "sepal width (cm)",
          "sepal width (cm)",
          "sepal width (cm)",
          "sepal width (cm)",
          "sepal width (cm)",
          "sepal width (cm)",
          "sepal width (cm)",
          "sepal width (cm)",
          "sepal width (cm)",
          "sepal width (cm)",
          "sepal width (cm)",
          "sepal width (cm)",
          "sepal width (cm)",
          "sepal width (cm)",
          "sepal width (cm)",
          "sepal width (cm)",
          "sepal width (cm)",
          "sepal width (cm)",
          "sepal width (cm)",
          "sepal width (cm)",
          "sepal width (cm)",
          "sepal width (cm)",
          "sepal width (cm)",
          "sepal width (cm)",
          "sepal width (cm)",
          "sepal width (cm)",
          "sepal width (cm)",
          "sepal width (cm)",
          "sepal width (cm)",
          "sepal width (cm)",
          "sepal width (cm)",
          "sepal width (cm)",
          "sepal width (cm)",
          "sepal width (cm)",
          "sepal width (cm)",
          "sepal width (cm)",
          "sepal width (cm)",
          "sepal width (cm)",
          "sepal width (cm)",
          "sepal width (cm)",
          "sepal width (cm)",
          "sepal width (cm)",
          "sepal width (cm)",
          "sepal width (cm)",
          "sepal width (cm)",
          "sepal width (cm)",
          "sepal width (cm)",
          "sepal width (cm)",
          "sepal width (cm)",
          "sepal width (cm)",
          "sepal width (cm)",
          "sepal width (cm)",
          "sepal width (cm)",
          "sepal width (cm)",
          "sepal width (cm)",
          "sepal width (cm)",
          "sepal width (cm)",
          "sepal width (cm)",
          "sepal width (cm)",
          "sepal width (cm)",
          "sepal width (cm)",
          "sepal width (cm)",
          "sepal width (cm)",
          "sepal width (cm)",
          "sepal width (cm)",
          "sepal width (cm)",
          "sepal width (cm)",
          "sepal width (cm)",
          "sepal width (cm)",
          "sepal width (cm)",
          "sepal width (cm)",
          "sepal width (cm)",
          "sepal width (cm)",
          "sepal width (cm)",
          "sepal width (cm)",
          "sepal width (cm)",
          "sepal width (cm)",
          "sepal width (cm)",
          "sepal width (cm)",
          "sepal width (cm)",
          "sepal width (cm)",
          "sepal width (cm)",
          "sepal width (cm)",
          "sepal width (cm)",
          "sepal width (cm)",
          "sepal width (cm)",
          "sepal width (cm)",
          "petal length (cm)",
          "petal length (cm)",
          "petal length (cm)",
          "petal length (cm)",
          "petal length (cm)",
          "petal length (cm)",
          "petal length (cm)",
          "petal length (cm)",
          "petal length (cm)",
          "petal length (cm)",
          "petal length (cm)",
          "petal length (cm)",
          "petal length (cm)",
          "petal length (cm)",
          "petal length (cm)",
          "petal length (cm)",
          "petal length (cm)",
          "petal length (cm)",
          "petal length (cm)",
          "petal length (cm)",
          "petal length (cm)",
          "petal length (cm)",
          "petal length (cm)",
          "petal length (cm)",
          "petal length (cm)",
          "petal length (cm)",
          "petal length (cm)",
          "petal length (cm)",
          "petal length (cm)",
          "petal length (cm)",
          "petal length (cm)",
          "petal length (cm)",
          "petal length (cm)",
          "petal length (cm)",
          "petal length (cm)",
          "petal length (cm)",
          "petal length (cm)",
          "petal length (cm)",
          "petal length (cm)",
          "petal length (cm)",
          "petal length (cm)",
          "petal length (cm)",
          "petal length (cm)",
          "petal length (cm)",
          "petal length (cm)",
          "petal length (cm)",
          "petal length (cm)",
          "petal length (cm)",
          "petal length (cm)",
          "petal length (cm)",
          "petal length (cm)",
          "petal length (cm)",
          "petal length (cm)",
          "petal length (cm)",
          "petal length (cm)",
          "petal length (cm)",
          "petal length (cm)",
          "petal length (cm)",
          "petal length (cm)",
          "petal length (cm)",
          "petal length (cm)",
          "petal length (cm)",
          "petal length (cm)",
          "petal length (cm)",
          "petal length (cm)",
          "petal length (cm)",
          "petal length (cm)",
          "petal length (cm)",
          "petal length (cm)",
          "petal length (cm)",
          "petal length (cm)",
          "petal length (cm)",
          "petal length (cm)",
          "petal length (cm)",
          "petal length (cm)",
          "petal length (cm)",
          "petal length (cm)",
          "petal length (cm)",
          "petal length (cm)",
          "petal length (cm)",
          "petal length (cm)",
          "petal length (cm)",
          "petal length (cm)",
          "petal length (cm)",
          "petal length (cm)",
          "petal length (cm)",
          "petal length (cm)",
          "petal length (cm)",
          "petal length (cm)",
          "petal length (cm)",
          "petal length (cm)",
          "petal length (cm)",
          "petal length (cm)",
          "petal length (cm)",
          "petal length (cm)",
          "petal length (cm)",
          "petal length (cm)",
          "petal length (cm)",
          "petal length (cm)",
          "petal length (cm)",
          "petal length (cm)",
          "petal length (cm)",
          "petal length (cm)",
          "petal length (cm)",
          "petal length (cm)",
          "petal length (cm)",
          "petal length (cm)",
          "petal length (cm)",
          "petal length (cm)",
          "petal length (cm)",
          "petal length (cm)",
          "petal length (cm)",
          "petal length (cm)",
          "petal length (cm)",
          "petal length (cm)",
          "petal length (cm)",
          "petal length (cm)",
          "petal length (cm)",
          "petal length (cm)",
          "petal length (cm)",
          "petal length (cm)",
          "petal length (cm)",
          "petal length (cm)",
          "petal length (cm)",
          "petal length (cm)",
          "petal length (cm)",
          "petal length (cm)",
          "petal length (cm)",
          "petal length (cm)",
          "petal length (cm)",
          "petal length (cm)",
          "petal length (cm)",
          "petal length (cm)",
          "petal length (cm)",
          "petal length (cm)",
          "petal length (cm)",
          "petal length (cm)",
          "petal length (cm)",
          "petal length (cm)",
          "petal length (cm)",
          "petal length (cm)",
          "petal length (cm)",
          "petal length (cm)",
          "petal length (cm)",
          "petal length (cm)",
          "petal length (cm)",
          "petal length (cm)",
          "petal length (cm)",
          "petal length (cm)",
          "petal length (cm)",
          "petal width (cm)",
          "petal width (cm)",
          "petal width (cm)",
          "petal width (cm)",
          "petal width (cm)",
          "petal width (cm)",
          "petal width (cm)",
          "petal width (cm)",
          "petal width (cm)",
          "petal width (cm)",
          "petal width (cm)",
          "petal width (cm)",
          "petal width (cm)",
          "petal width (cm)",
          "petal width (cm)",
          "petal width (cm)",
          "petal width (cm)",
          "petal width (cm)",
          "petal width (cm)",
          "petal width (cm)",
          "petal width (cm)",
          "petal width (cm)",
          "petal width (cm)",
          "petal width (cm)",
          "petal width (cm)",
          "petal width (cm)",
          "petal width (cm)",
          "petal width (cm)",
          "petal width (cm)",
          "petal width (cm)",
          "petal width (cm)",
          "petal width (cm)",
          "petal width (cm)",
          "petal width (cm)",
          "petal width (cm)",
          "petal width (cm)",
          "petal width (cm)",
          "petal width (cm)",
          "petal width (cm)",
          "petal width (cm)",
          "petal width (cm)",
          "petal width (cm)",
          "petal width (cm)",
          "petal width (cm)",
          "petal width (cm)",
          "petal width (cm)",
          "petal width (cm)",
          "petal width (cm)",
          "petal width (cm)",
          "petal width (cm)",
          "petal width (cm)",
          "petal width (cm)",
          "petal width (cm)",
          "petal width (cm)",
          "petal width (cm)",
          "petal width (cm)",
          "petal width (cm)",
          "petal width (cm)",
          "petal width (cm)",
          "petal width (cm)",
          "petal width (cm)",
          "petal width (cm)",
          "petal width (cm)",
          "petal width (cm)",
          "petal width (cm)",
          "petal width (cm)",
          "petal width (cm)",
          "petal width (cm)",
          "petal width (cm)",
          "petal width (cm)",
          "petal width (cm)",
          "petal width (cm)",
          "petal width (cm)",
          "petal width (cm)",
          "petal width (cm)",
          "petal width (cm)",
          "petal width (cm)",
          "petal width (cm)",
          "petal width (cm)",
          "petal width (cm)",
          "petal width (cm)",
          "petal width (cm)",
          "petal width (cm)",
          "petal width (cm)",
          "petal width (cm)",
          "petal width (cm)",
          "petal width (cm)",
          "petal width (cm)",
          "petal width (cm)",
          "petal width (cm)",
          "petal width (cm)",
          "petal width (cm)",
          "petal width (cm)",
          "petal width (cm)",
          "petal width (cm)",
          "petal width (cm)",
          "petal width (cm)",
          "petal width (cm)",
          "petal width (cm)",
          "petal width (cm)",
          "petal width (cm)",
          "petal width (cm)",
          "petal width (cm)",
          "petal width (cm)",
          "petal width (cm)",
          "petal width (cm)",
          "petal width (cm)",
          "petal width (cm)",
          "petal width (cm)",
          "petal width (cm)",
          "petal width (cm)",
          "petal width (cm)",
          "petal width (cm)",
          "petal width (cm)",
          "petal width (cm)",
          "petal width (cm)",
          "petal width (cm)",
          "petal width (cm)",
          "petal width (cm)",
          "petal width (cm)",
          "petal width (cm)",
          "petal width (cm)",
          "petal width (cm)",
          "petal width (cm)",
          "petal width (cm)",
          "petal width (cm)",
          "petal width (cm)",
          "petal width (cm)",
          "petal width (cm)",
          "petal width (cm)",
          "petal width (cm)",
          "petal width (cm)",
          "petal width (cm)",
          "petal width (cm)",
          "petal width (cm)",
          "petal width (cm)",
          "petal width (cm)",
          "petal width (cm)",
          "petal width (cm)",
          "petal width (cm)",
          "petal width (cm)",
          "petal width (cm)",
          "petal width (cm)",
          "petal width (cm)",
          "petal width (cm)",
          "petal width (cm)",
          "petal width (cm)",
          "petal width (cm)",
          "petal width (cm)",
          "petal width (cm)"
         ],
         "x0": " ",
         "xaxis": "x",
         "y": [
          5.1,
          4.9,
          4.7,
          4.6,
          5,
          5.4,
          4.6,
          5,
          4.4,
          4.9,
          5.4,
          4.8,
          4.8,
          4.3,
          5.8,
          5.7,
          5.4,
          5.1,
          5.7,
          5.1,
          5.4,
          5.1,
          4.6,
          5.1,
          4.8,
          5,
          5,
          5.2,
          5.2,
          4.7,
          4.8,
          5.4,
          5.2,
          5.5,
          4.9,
          5,
          5.5,
          4.9,
          4.4,
          5.1,
          5,
          4.5,
          4.4,
          5,
          5.1,
          4.8,
          5.1,
          4.6,
          5.3,
          5,
          7,
          6.4,
          6.9,
          5.5,
          6.5,
          5.7,
          6.3,
          4.9,
          6.6,
          5.2,
          5,
          5.9,
          6,
          6.1,
          5.6,
          6.7,
          5.6,
          5.8,
          6.2,
          5.6,
          5.9,
          6.1,
          6.3,
          6.1,
          6.4,
          6.6,
          6.8,
          6.7,
          6,
          5.7,
          5.5,
          5.5,
          5.8,
          6,
          5.4,
          6,
          6.7,
          6.3,
          5.6,
          5.5,
          5.5,
          6.1,
          5.8,
          5,
          5.6,
          5.7,
          5.7,
          6.2,
          5.1,
          5.7,
          6.3,
          5.8,
          7.1,
          6.3,
          6.5,
          7.6,
          4.9,
          7.3,
          6.7,
          7.2,
          6.5,
          6.4,
          6.8,
          5.7,
          5.8,
          6.4,
          6.5,
          7.7,
          7.7,
          6,
          6.9,
          5.6,
          7.7,
          6.3,
          6.7,
          7.2,
          6.2,
          6.1,
          6.4,
          7.2,
          7.4,
          7.9,
          6.4,
          6.3,
          6.1,
          7.7,
          6.3,
          6.4,
          6,
          6.9,
          6.7,
          6.9,
          5.8,
          6.8,
          6.7,
          6.7,
          6.3,
          6.5,
          6.2,
          5.9,
          3.5,
          3,
          3.2,
          3.1,
          3.6,
          3.9,
          3.4,
          3.4,
          2.9,
          3.1,
          3.7,
          3.4,
          3,
          3,
          4,
          4.4,
          3.9,
          3.5,
          3.8,
          3.8,
          3.4,
          3.7,
          3.6,
          3.3,
          3.4,
          3,
          3.4,
          3.5,
          3.4,
          3.2,
          3.1,
          3.4,
          4.1,
          4.2,
          3.1,
          3.2,
          3.5,
          3.6,
          3,
          3.4,
          3.5,
          2.3,
          3.2,
          3.5,
          3.8,
          3,
          3.8,
          3.2,
          3.7,
          3.3,
          3.2,
          3.2,
          3.1,
          2.3,
          2.8,
          2.8,
          3.3,
          2.4,
          2.9,
          2.7,
          2,
          3,
          2.2,
          2.9,
          2.9,
          3.1,
          3,
          2.7,
          2.2,
          2.5,
          3.2,
          2.8,
          2.5,
          2.8,
          2.9,
          3,
          2.8,
          3,
          2.9,
          2.6,
          2.4,
          2.4,
          2.7,
          2.7,
          3,
          3.4,
          3.1,
          2.3,
          3,
          2.5,
          2.6,
          3,
          2.6,
          2.3,
          2.7,
          3,
          2.9,
          2.9,
          2.5,
          2.8,
          3.3,
          2.7,
          3,
          2.9,
          3,
          3,
          2.5,
          2.9,
          2.5,
          3.6,
          3.2,
          2.7,
          3,
          2.5,
          2.8,
          3.2,
          3,
          3.8,
          2.6,
          2.2,
          3.2,
          2.8,
          2.8,
          2.7,
          3.3,
          3.2,
          2.8,
          3,
          2.8,
          3,
          2.8,
          3.8,
          2.8,
          2.8,
          2.6,
          3,
          3.4,
          3.1,
          3,
          3.1,
          3.1,
          3.1,
          2.7,
          3.2,
          3.3,
          3,
          2.5,
          3,
          3.4,
          3,
          1.4,
          1.4,
          1.3,
          1.5,
          1.4,
          1.7,
          1.4,
          1.5,
          1.4,
          1.5,
          1.5,
          1.6,
          1.4,
          1.1,
          1.2,
          1.5,
          1.3,
          1.4,
          1.7,
          1.5,
          1.7,
          1.5,
          1,
          1.7,
          1.9,
          1.6,
          1.6,
          1.5,
          1.4,
          1.6,
          1.6,
          1.5,
          1.5,
          1.4,
          1.5,
          1.2,
          1.3,
          1.4,
          1.3,
          1.5,
          1.3,
          1.3,
          1.3,
          1.6,
          1.9,
          1.4,
          1.6,
          1.4,
          1.5,
          1.4,
          4.7,
          4.5,
          4.9,
          4,
          4.6,
          4.5,
          4.7,
          3.3,
          4.6,
          3.9,
          3.5,
          4.2,
          4,
          4.7,
          3.6,
          4.4,
          4.5,
          4.1,
          4.5,
          3.9,
          4.8,
          4,
          4.9,
          4.7,
          4.3,
          4.4,
          4.8,
          5,
          4.5,
          3.5,
          3.8,
          3.7,
          3.9,
          5.1,
          4.5,
          4.5,
          4.7,
          4.4,
          4.1,
          4,
          4.4,
          4.6,
          4,
          3.3,
          4.2,
          4.2,
          4.2,
          4.3,
          3,
          4.1,
          6,
          5.1,
          5.9,
          5.6,
          5.8,
          6.6,
          4.5,
          6.3,
          5.8,
          6.1,
          5.1,
          5.3,
          5.5,
          5,
          5.1,
          5.3,
          5.5,
          6.7,
          6.9,
          5,
          5.7,
          4.9,
          6.7,
          4.9,
          5.7,
          6,
          4.8,
          4.9,
          5.6,
          5.8,
          6.1,
          6.4,
          5.6,
          5.1,
          5.6,
          6.1,
          5.6,
          5.5,
          4.8,
          5.4,
          5.6,
          5.1,
          5.1,
          5.9,
          5.7,
          5.2,
          5,
          5.2,
          5.4,
          5.1,
          0.2,
          0.2,
          0.2,
          0.2,
          0.2,
          0.4,
          0.3,
          0.2,
          0.2,
          0.1,
          0.2,
          0.2,
          0.1,
          0.1,
          0.2,
          0.4,
          0.4,
          0.3,
          0.3,
          0.3,
          0.2,
          0.4,
          0.2,
          0.5,
          0.2,
          0.2,
          0.4,
          0.2,
          0.2,
          0.2,
          0.2,
          0.4,
          0.1,
          0.2,
          0.2,
          0.2,
          0.2,
          0.1,
          0.2,
          0.2,
          0.3,
          0.3,
          0.2,
          0.6,
          0.4,
          0.3,
          0.2,
          0.2,
          0.2,
          0.2,
          1.4,
          1.5,
          1.5,
          1.3,
          1.5,
          1.3,
          1.6,
          1,
          1.3,
          1.4,
          1,
          1.5,
          1,
          1.4,
          1.3,
          1.4,
          1.5,
          1,
          1.5,
          1.1,
          1.8,
          1.3,
          1.5,
          1.2,
          1.3,
          1.4,
          1.4,
          1.7,
          1.5,
          1,
          1.1,
          1,
          1.2,
          1.6,
          1.5,
          1.6,
          1.5,
          1.3,
          1.3,
          1.3,
          1.2,
          1.4,
          1.2,
          1,
          1.3,
          1.2,
          1.3,
          1.3,
          1.1,
          1.3,
          2.5,
          1.9,
          2.1,
          1.8,
          2.2,
          2.1,
          1.7,
          1.8,
          1.8,
          2.5,
          2,
          1.9,
          2.1,
          2,
          2.4,
          2.3,
          1.8,
          2.2,
          2.3,
          1.5,
          2.3,
          2,
          2,
          1.8,
          2.1,
          1.8,
          1.8,
          1.8,
          2.1,
          1.6,
          1.9,
          2,
          2.2,
          1.5,
          1.4,
          2.3,
          2.4,
          1.8,
          1.8,
          2.1,
          2.4,
          2.3,
          1.9,
          2.3,
          2.5,
          2.3,
          1.9,
          2,
          2.3,
          1.8
         ],
         "y0": " ",
         "yaxis": "y"
        }
       ],
       "layout": {
        "boxmode": "group",
        "height": 700,
        "legend": {
         "tracegroupgap": 0
        },
        "template": {
         "data": {
          "bar": [
           {
            "error_x": {
             "color": "#2a3f5f"
            },
            "error_y": {
             "color": "#2a3f5f"
            },
            "marker": {
             "line": {
              "color": "#E5ECF6",
              "width": 0.5
             },
             "pattern": {
              "fillmode": "overlay",
              "size": 10,
              "solidity": 0.2
             }
            },
            "type": "bar"
           }
          ],
          "barpolar": [
           {
            "marker": {
             "line": {
              "color": "#E5ECF6",
              "width": 0.5
             },
             "pattern": {
              "fillmode": "overlay",
              "size": 10,
              "solidity": 0.2
             }
            },
            "type": "barpolar"
           }
          ],
          "carpet": [
           {
            "aaxis": {
             "endlinecolor": "#2a3f5f",
             "gridcolor": "white",
             "linecolor": "white",
             "minorgridcolor": "white",
             "startlinecolor": "#2a3f5f"
            },
            "baxis": {
             "endlinecolor": "#2a3f5f",
             "gridcolor": "white",
             "linecolor": "white",
             "minorgridcolor": "white",
             "startlinecolor": "#2a3f5f"
            },
            "type": "carpet"
           }
          ],
          "choropleth": [
           {
            "colorbar": {
             "outlinewidth": 0,
             "ticks": ""
            },
            "type": "choropleth"
           }
          ],
          "contour": [
           {
            "colorbar": {
             "outlinewidth": 0,
             "ticks": ""
            },
            "colorscale": [
             [
              0,
              "#0d0887"
             ],
             [
              0.1111111111111111,
              "#46039f"
             ],
             [
              0.2222222222222222,
              "#7201a8"
             ],
             [
              0.3333333333333333,
              "#9c179e"
             ],
             [
              0.4444444444444444,
              "#bd3786"
             ],
             [
              0.5555555555555556,
              "#d8576b"
             ],
             [
              0.6666666666666666,
              "#ed7953"
             ],
             [
              0.7777777777777778,
              "#fb9f3a"
             ],
             [
              0.8888888888888888,
              "#fdca26"
             ],
             [
              1,
              "#f0f921"
             ]
            ],
            "type": "contour"
           }
          ],
          "contourcarpet": [
           {
            "colorbar": {
             "outlinewidth": 0,
             "ticks": ""
            },
            "type": "contourcarpet"
           }
          ],
          "heatmap": [
           {
            "colorbar": {
             "outlinewidth": 0,
             "ticks": ""
            },
            "colorscale": [
             [
              0,
              "#0d0887"
             ],
             [
              0.1111111111111111,
              "#46039f"
             ],
             [
              0.2222222222222222,
              "#7201a8"
             ],
             [
              0.3333333333333333,
              "#9c179e"
             ],
             [
              0.4444444444444444,
              "#bd3786"
             ],
             [
              0.5555555555555556,
              "#d8576b"
             ],
             [
              0.6666666666666666,
              "#ed7953"
             ],
             [
              0.7777777777777778,
              "#fb9f3a"
             ],
             [
              0.8888888888888888,
              "#fdca26"
             ],
             [
              1,
              "#f0f921"
             ]
            ],
            "type": "heatmap"
           }
          ],
          "heatmapgl": [
           {
            "colorbar": {
             "outlinewidth": 0,
             "ticks": ""
            },
            "colorscale": [
             [
              0,
              "#0d0887"
             ],
             [
              0.1111111111111111,
              "#46039f"
             ],
             [
              0.2222222222222222,
              "#7201a8"
             ],
             [
              0.3333333333333333,
              "#9c179e"
             ],
             [
              0.4444444444444444,
              "#bd3786"
             ],
             [
              0.5555555555555556,
              "#d8576b"
             ],
             [
              0.6666666666666666,
              "#ed7953"
             ],
             [
              0.7777777777777778,
              "#fb9f3a"
             ],
             [
              0.8888888888888888,
              "#fdca26"
             ],
             [
              1,
              "#f0f921"
             ]
            ],
            "type": "heatmapgl"
           }
          ],
          "histogram": [
           {
            "marker": {
             "pattern": {
              "fillmode": "overlay",
              "size": 10,
              "solidity": 0.2
             }
            },
            "type": "histogram"
           }
          ],
          "histogram2d": [
           {
            "colorbar": {
             "outlinewidth": 0,
             "ticks": ""
            },
            "colorscale": [
             [
              0,
              "#0d0887"
             ],
             [
              0.1111111111111111,
              "#46039f"
             ],
             [
              0.2222222222222222,
              "#7201a8"
             ],
             [
              0.3333333333333333,
              "#9c179e"
             ],
             [
              0.4444444444444444,
              "#bd3786"
             ],
             [
              0.5555555555555556,
              "#d8576b"
             ],
             [
              0.6666666666666666,
              "#ed7953"
             ],
             [
              0.7777777777777778,
              "#fb9f3a"
             ],
             [
              0.8888888888888888,
              "#fdca26"
             ],
             [
              1,
              "#f0f921"
             ]
            ],
            "type": "histogram2d"
           }
          ],
          "histogram2dcontour": [
           {
            "colorbar": {
             "outlinewidth": 0,
             "ticks": ""
            },
            "colorscale": [
             [
              0,
              "#0d0887"
             ],
             [
              0.1111111111111111,
              "#46039f"
             ],
             [
              0.2222222222222222,
              "#7201a8"
             ],
             [
              0.3333333333333333,
              "#9c179e"
             ],
             [
              0.4444444444444444,
              "#bd3786"
             ],
             [
              0.5555555555555556,
              "#d8576b"
             ],
             [
              0.6666666666666666,
              "#ed7953"
             ],
             [
              0.7777777777777778,
              "#fb9f3a"
             ],
             [
              0.8888888888888888,
              "#fdca26"
             ],
             [
              1,
              "#f0f921"
             ]
            ],
            "type": "histogram2dcontour"
           }
          ],
          "mesh3d": [
           {
            "colorbar": {
             "outlinewidth": 0,
             "ticks": ""
            },
            "type": "mesh3d"
           }
          ],
          "parcoords": [
           {
            "line": {
             "colorbar": {
              "outlinewidth": 0,
              "ticks": ""
             }
            },
            "type": "parcoords"
           }
          ],
          "pie": [
           {
            "automargin": true,
            "type": "pie"
           }
          ],
          "scatter": [
           {
            "fillpattern": {
             "fillmode": "overlay",
             "size": 10,
             "solidity": 0.2
            },
            "type": "scatter"
           }
          ],
          "scatter3d": [
           {
            "line": {
             "colorbar": {
              "outlinewidth": 0,
              "ticks": ""
             }
            },
            "marker": {
             "colorbar": {
              "outlinewidth": 0,
              "ticks": ""
             }
            },
            "type": "scatter3d"
           }
          ],
          "scattercarpet": [
           {
            "marker": {
             "colorbar": {
              "outlinewidth": 0,
              "ticks": ""
             }
            },
            "type": "scattercarpet"
           }
          ],
          "scattergeo": [
           {
            "marker": {
             "colorbar": {
              "outlinewidth": 0,
              "ticks": ""
             }
            },
            "type": "scattergeo"
           }
          ],
          "scattergl": [
           {
            "marker": {
             "colorbar": {
              "outlinewidth": 0,
              "ticks": ""
             }
            },
            "type": "scattergl"
           }
          ],
          "scattermapbox": [
           {
            "marker": {
             "colorbar": {
              "outlinewidth": 0,
              "ticks": ""
             }
            },
            "type": "scattermapbox"
           }
          ],
          "scatterpolar": [
           {
            "marker": {
             "colorbar": {
              "outlinewidth": 0,
              "ticks": ""
             }
            },
            "type": "scatterpolar"
           }
          ],
          "scatterpolargl": [
           {
            "marker": {
             "colorbar": {
              "outlinewidth": 0,
              "ticks": ""
             }
            },
            "type": "scatterpolargl"
           }
          ],
          "scatterternary": [
           {
            "marker": {
             "colorbar": {
              "outlinewidth": 0,
              "ticks": ""
             }
            },
            "type": "scatterternary"
           }
          ],
          "surface": [
           {
            "colorbar": {
             "outlinewidth": 0,
             "ticks": ""
            },
            "colorscale": [
             [
              0,
              "#0d0887"
             ],
             [
              0.1111111111111111,
              "#46039f"
             ],
             [
              0.2222222222222222,
              "#7201a8"
             ],
             [
              0.3333333333333333,
              "#9c179e"
             ],
             [
              0.4444444444444444,
              "#bd3786"
             ],
             [
              0.5555555555555556,
              "#d8576b"
             ],
             [
              0.6666666666666666,
              "#ed7953"
             ],
             [
              0.7777777777777778,
              "#fb9f3a"
             ],
             [
              0.8888888888888888,
              "#fdca26"
             ],
             [
              1,
              "#f0f921"
             ]
            ],
            "type": "surface"
           }
          ],
          "table": [
           {
            "cells": {
             "fill": {
              "color": "#EBF0F8"
             },
             "line": {
              "color": "white"
             }
            },
            "header": {
             "fill": {
              "color": "#C8D4E3"
             },
             "line": {
              "color": "white"
             }
            },
            "type": "table"
           }
          ]
         },
         "layout": {
          "annotationdefaults": {
           "arrowcolor": "#2a3f5f",
           "arrowhead": 0,
           "arrowwidth": 1
          },
          "autotypenumbers": "strict",
          "coloraxis": {
           "colorbar": {
            "outlinewidth": 0,
            "ticks": ""
           }
          },
          "colorscale": {
           "diverging": [
            [
             0,
             "#8e0152"
            ],
            [
             0.1,
             "#c51b7d"
            ],
            [
             0.2,
             "#de77ae"
            ],
            [
             0.3,
             "#f1b6da"
            ],
            [
             0.4,
             "#fde0ef"
            ],
            [
             0.5,
             "#f7f7f7"
            ],
            [
             0.6,
             "#e6f5d0"
            ],
            [
             0.7,
             "#b8e186"
            ],
            [
             0.8,
             "#7fbc41"
            ],
            [
             0.9,
             "#4d9221"
            ],
            [
             1,
             "#276419"
            ]
           ],
           "sequential": [
            [
             0,
             "#0d0887"
            ],
            [
             0.1111111111111111,
             "#46039f"
            ],
            [
             0.2222222222222222,
             "#7201a8"
            ],
            [
             0.3333333333333333,
             "#9c179e"
            ],
            [
             0.4444444444444444,
             "#bd3786"
            ],
            [
             0.5555555555555556,
             "#d8576b"
            ],
            [
             0.6666666666666666,
             "#ed7953"
            ],
            [
             0.7777777777777778,
             "#fb9f3a"
            ],
            [
             0.8888888888888888,
             "#fdca26"
            ],
            [
             1,
             "#f0f921"
            ]
           ],
           "sequentialminus": [
            [
             0,
             "#0d0887"
            ],
            [
             0.1111111111111111,
             "#46039f"
            ],
            [
             0.2222222222222222,
             "#7201a8"
            ],
            [
             0.3333333333333333,
             "#9c179e"
            ],
            [
             0.4444444444444444,
             "#bd3786"
            ],
            [
             0.5555555555555556,
             "#d8576b"
            ],
            [
             0.6666666666666666,
             "#ed7953"
            ],
            [
             0.7777777777777778,
             "#fb9f3a"
            ],
            [
             0.8888888888888888,
             "#fdca26"
            ],
            [
             1,
             "#f0f921"
            ]
           ]
          },
          "colorway": [
           "#636efa",
           "#EF553B",
           "#00cc96",
           "#ab63fa",
           "#FFA15A",
           "#19d3f3",
           "#FF6692",
           "#B6E880",
           "#FF97FF",
           "#FECB52"
          ],
          "font": {
           "color": "#2a3f5f"
          },
          "geo": {
           "bgcolor": "white",
           "lakecolor": "white",
           "landcolor": "#E5ECF6",
           "showlakes": true,
           "showland": true,
           "subunitcolor": "white"
          },
          "hoverlabel": {
           "align": "left"
          },
          "hovermode": "closest",
          "mapbox": {
           "style": "light"
          },
          "paper_bgcolor": "white",
          "plot_bgcolor": "#E5ECF6",
          "polar": {
           "angularaxis": {
            "gridcolor": "white",
            "linecolor": "white",
            "ticks": ""
           },
           "bgcolor": "#E5ECF6",
           "radialaxis": {
            "gridcolor": "white",
            "linecolor": "white",
            "ticks": ""
           }
          },
          "scene": {
           "xaxis": {
            "backgroundcolor": "#E5ECF6",
            "gridcolor": "white",
            "gridwidth": 2,
            "linecolor": "white",
            "showbackground": true,
            "ticks": "",
            "zerolinecolor": "white"
           },
           "yaxis": {
            "backgroundcolor": "#E5ECF6",
            "gridcolor": "white",
            "gridwidth": 2,
            "linecolor": "white",
            "showbackground": true,
            "ticks": "",
            "zerolinecolor": "white"
           },
           "zaxis": {
            "backgroundcolor": "#E5ECF6",
            "gridcolor": "white",
            "gridwidth": 2,
            "linecolor": "white",
            "showbackground": true,
            "ticks": "",
            "zerolinecolor": "white"
           }
          },
          "shapedefaults": {
           "line": {
            "color": "#2a3f5f"
           }
          },
          "ternary": {
           "aaxis": {
            "gridcolor": "white",
            "linecolor": "white",
            "ticks": ""
           },
           "baxis": {
            "gridcolor": "white",
            "linecolor": "white",
            "ticks": ""
           },
           "bgcolor": "#E5ECF6",
           "caxis": {
            "gridcolor": "white",
            "linecolor": "white",
            "ticks": ""
           }
          },
          "title": {
           "x": 0.05
          },
          "xaxis": {
           "automargin": true,
           "gridcolor": "white",
           "linecolor": "white",
           "ticks": "",
           "title": {
            "standoff": 15
           },
           "zerolinecolor": "white",
           "zerolinewidth": 2
          },
          "yaxis": {
           "automargin": true,
           "gridcolor": "white",
           "linecolor": "white",
           "ticks": "",
           "title": {
            "standoff": 15
           },
           "zerolinecolor": "white",
           "zerolinewidth": 2
          }
         }
        },
        "title": {
         "text": "Standard Scaler한 Iris 데이터의 Boxplot"
        },
        "width": 1000,
        "xaxis": {
         "anchor": "y",
         "domain": [
          0,
          1
         ],
         "title": {
          "text": "특성"
         }
        },
        "yaxis": {
         "anchor": "x",
         "domain": [
          0,
          1
         ],
         "title": {
          "text": "값"
         }
        }
       }
      }
     },
     "metadata": {},
     "output_type": "display_data"
    }
   ],
   "source": [
    "fig = px.box(iris_df, title=\"Standard Scaler한 Iris 데이터의 Boxplot\",\n",
    "                 labels=dict(variable=\"특성\", value=\"값\"), points='all', height=700, width=1000)\n",
    "fig.update_layout(yaxis_title=\"값\", xaxis_title=\"특성\", title=\"Standard Scaler한 Iris 데이터의 Boxplot\")\n",
    "fig.show()"
   ]
  },
  {
   "cell_type": "markdown",
   "metadata": {},
   "source": [
    "5. Standard Scaler를 적용한 데이터를 8:2로 train, test 데이터로 나눈 결과를 캡쳐해서 올려주세요"
   ]
  },
  {
   "cell_type": "code",
   "execution_count": 13,
   "metadata": {},
   "outputs": [
    {
     "name": "stdout",
     "output_type": "stream",
     "text": [
      "Index(['sepal length (cm)', 'sepal width (cm)', 'petal length (cm)',\n",
      "       'petal width (cm)'],\n",
      "      dtype='object')\n"
     ]
    }
   ],
   "source": [
    "print(iris_df.columns)"
   ]
  },
  {
   "cell_type": "code",
   "execution_count": 14,
   "metadata": {},
   "outputs": [],
   "source": [
    "iris = load_iris()\n",
    "iris_df = pd.DataFrame(iris.data, columns=iris.feature_names)\n",
    "iris_df['target'] = iris.target  # 'target' 컬럼 추가"
   ]
  },
  {
   "cell_type": "code",
   "execution_count": 15,
   "metadata": {},
   "outputs": [],
   "source": [
    "# 스케일링된 DataFrame에 'target' 컬럼 추가\n",
    "scaled_df['target'] = iris_df['target']"
   ]
  },
  {
   "cell_type": "code",
   "execution_count": 16,
   "metadata": {},
   "outputs": [
    {
     "name": "stdout",
     "output_type": "stream",
     "text": [
      "Training data shape: (120, 5)\n",
      "Test data shape: (30, 5)\n"
     ]
    }
   ],
   "source": [
    "from sklearn.model_selection import train_test_split\n",
    "\n",
    "# 스케일링된 데이터(scaled_df)와 타겟 데이터를 분할\n",
    "# 실제 사용시에는 타겟 데이터를 적절히 설정해야 합니다.\n",
    "X_train, X_test, y_train, y_test = train_test_split(scaled_df, iris_df['target'], test_size=0.2, random_state=42)\n",
    "\n",
    "# 분할된 데이터 확인\n",
    "print(\"Training data shape:\", X_train.shape)\n",
    "print(\"Test data shape:\", X_test.shape)"
   ]
  },
  {
   "cell_type": "markdown",
   "metadata": {},
   "source": [
    "6. 5번의 train 데이터에 RandomForestClassifier, DecisionTreeClassifier, LogisticRegression, kNN 모델들을 이용해서 분류학습을 시켜주세요. 이때 각각의 모델의 test 데이터에 대한 accuracy를 제시해 주세요. 하이퍼파라미터는 알아서 잡아주세요. 그리고 결과를 캡쳐해서 올려주세요"
   ]
  },
  {
   "cell_type": "code",
   "execution_count": 17,
   "metadata": {},
   "outputs": [],
   "source": [
    "from sklearn.ensemble import RandomForestClassifier\n",
    "from sklearn.tree import DecisionTreeClassifier\n",
    "from sklearn.linear_model import LogisticRegression\n",
    "from sklearn.neighbors import KNeighborsClassifier\n",
    "from sklearn.metrics import accuracy_score"
   ]
  },
  {
   "cell_type": "code",
   "execution_count": 18,
   "metadata": {},
   "outputs": [],
   "source": [
    "rf = RandomForestClassifier(n_estimators=100, random_state=42)\n",
    "dt = DecisionTreeClassifier(random_state=42)\n",
    "lr = LogisticRegression(solver='liblinear', random_state=42)  # liblinear is good for small datasets\n",
    "knn = KNeighborsClassifier(n_neighbors=5)"
   ]
  },
  {
   "cell_type": "code",
   "execution_count": 19,
   "metadata": {},
   "outputs": [
    {
     "data": {
      "text/html": [
       "<style>#sk-container-id-1 {\n",
       "  /* Definition of color scheme common for light and dark mode */\n",
       "  --sklearn-color-text: black;\n",
       "  --sklearn-color-line: gray;\n",
       "  /* Definition of color scheme for unfitted estimators */\n",
       "  --sklearn-color-unfitted-level-0: #fff5e6;\n",
       "  --sklearn-color-unfitted-level-1: #f6e4d2;\n",
       "  --sklearn-color-unfitted-level-2: #ffe0b3;\n",
       "  --sklearn-color-unfitted-level-3: chocolate;\n",
       "  /* Definition of color scheme for fitted estimators */\n",
       "  --sklearn-color-fitted-level-0: #f0f8ff;\n",
       "  --sklearn-color-fitted-level-1: #d4ebff;\n",
       "  --sklearn-color-fitted-level-2: #b3dbfd;\n",
       "  --sklearn-color-fitted-level-3: cornflowerblue;\n",
       "\n",
       "  /* Specific color for light theme */\n",
       "  --sklearn-color-text-on-default-background: var(--sg-text-color, var(--theme-code-foreground, var(--jp-content-font-color1, black)));\n",
       "  --sklearn-color-background: var(--sg-background-color, var(--theme-background, var(--jp-layout-color0, white)));\n",
       "  --sklearn-color-border-box: var(--sg-text-color, var(--theme-code-foreground, var(--jp-content-font-color1, black)));\n",
       "  --sklearn-color-icon: #696969;\n",
       "\n",
       "  @media (prefers-color-scheme: dark) {\n",
       "    /* Redefinition of color scheme for dark theme */\n",
       "    --sklearn-color-text-on-default-background: var(--sg-text-color, var(--theme-code-foreground, var(--jp-content-font-color1, white)));\n",
       "    --sklearn-color-background: var(--sg-background-color, var(--theme-background, var(--jp-layout-color0, #111)));\n",
       "    --sklearn-color-border-box: var(--sg-text-color, var(--theme-code-foreground, var(--jp-content-font-color1, white)));\n",
       "    --sklearn-color-icon: #878787;\n",
       "  }\n",
       "}\n",
       "\n",
       "#sk-container-id-1 {\n",
       "  color: var(--sklearn-color-text);\n",
       "}\n",
       "\n",
       "#sk-container-id-1 pre {\n",
       "  padding: 0;\n",
       "}\n",
       "\n",
       "#sk-container-id-1 input.sk-hidden--visually {\n",
       "  border: 0;\n",
       "  clip: rect(1px 1px 1px 1px);\n",
       "  clip: rect(1px, 1px, 1px, 1px);\n",
       "  height: 1px;\n",
       "  margin: -1px;\n",
       "  overflow: hidden;\n",
       "  padding: 0;\n",
       "  position: absolute;\n",
       "  width: 1px;\n",
       "}\n",
       "\n",
       "#sk-container-id-1 div.sk-dashed-wrapped {\n",
       "  border: 1px dashed var(--sklearn-color-line);\n",
       "  margin: 0 0.4em 0.5em 0.4em;\n",
       "  box-sizing: border-box;\n",
       "  padding-bottom: 0.4em;\n",
       "  background-color: var(--sklearn-color-background);\n",
       "}\n",
       "\n",
       "#sk-container-id-1 div.sk-container {\n",
       "  /* jupyter's `normalize.less` sets `[hidden] { display: none; }`\n",
       "     but bootstrap.min.css set `[hidden] { display: none !important; }`\n",
       "     so we also need the `!important` here to be able to override the\n",
       "     default hidden behavior on the sphinx rendered scikit-learn.org.\n",
       "     See: https://github.com/scikit-learn/scikit-learn/issues/21755 */\n",
       "  display: inline-block !important;\n",
       "  position: relative;\n",
       "}\n",
       "\n",
       "#sk-container-id-1 div.sk-text-repr-fallback {\n",
       "  display: none;\n",
       "}\n",
       "\n",
       "div.sk-parallel-item,\n",
       "div.sk-serial,\n",
       "div.sk-item {\n",
       "  /* draw centered vertical line to link estimators */\n",
       "  background-image: linear-gradient(var(--sklearn-color-text-on-default-background), var(--sklearn-color-text-on-default-background));\n",
       "  background-size: 2px 100%;\n",
       "  background-repeat: no-repeat;\n",
       "  background-position: center center;\n",
       "}\n",
       "\n",
       "/* Parallel-specific style estimator block */\n",
       "\n",
       "#sk-container-id-1 div.sk-parallel-item::after {\n",
       "  content: \"\";\n",
       "  width: 100%;\n",
       "  border-bottom: 2px solid var(--sklearn-color-text-on-default-background);\n",
       "  flex-grow: 1;\n",
       "}\n",
       "\n",
       "#sk-container-id-1 div.sk-parallel {\n",
       "  display: flex;\n",
       "  align-items: stretch;\n",
       "  justify-content: center;\n",
       "  background-color: var(--sklearn-color-background);\n",
       "  position: relative;\n",
       "}\n",
       "\n",
       "#sk-container-id-1 div.sk-parallel-item {\n",
       "  display: flex;\n",
       "  flex-direction: column;\n",
       "}\n",
       "\n",
       "#sk-container-id-1 div.sk-parallel-item:first-child::after {\n",
       "  align-self: flex-end;\n",
       "  width: 50%;\n",
       "}\n",
       "\n",
       "#sk-container-id-1 div.sk-parallel-item:last-child::after {\n",
       "  align-self: flex-start;\n",
       "  width: 50%;\n",
       "}\n",
       "\n",
       "#sk-container-id-1 div.sk-parallel-item:only-child::after {\n",
       "  width: 0;\n",
       "}\n",
       "\n",
       "/* Serial-specific style estimator block */\n",
       "\n",
       "#sk-container-id-1 div.sk-serial {\n",
       "  display: flex;\n",
       "  flex-direction: column;\n",
       "  align-items: center;\n",
       "  background-color: var(--sklearn-color-background);\n",
       "  padding-right: 1em;\n",
       "  padding-left: 1em;\n",
       "}\n",
       "\n",
       "\n",
       "/* Toggleable style: style used for estimator/Pipeline/ColumnTransformer box that is\n",
       "clickable and can be expanded/collapsed.\n",
       "- Pipeline and ColumnTransformer use this feature and define the default style\n",
       "- Estimators will overwrite some part of the style using the `sk-estimator` class\n",
       "*/\n",
       "\n",
       "/* Pipeline and ColumnTransformer style (default) */\n",
       "\n",
       "#sk-container-id-1 div.sk-toggleable {\n",
       "  /* Default theme specific background. It is overwritten whether we have a\n",
       "  specific estimator or a Pipeline/ColumnTransformer */\n",
       "  background-color: var(--sklearn-color-background);\n",
       "}\n",
       "\n",
       "/* Toggleable label */\n",
       "#sk-container-id-1 label.sk-toggleable__label {\n",
       "  cursor: pointer;\n",
       "  display: block;\n",
       "  width: 100%;\n",
       "  margin-bottom: 0;\n",
       "  padding: 0.5em;\n",
       "  box-sizing: border-box;\n",
       "  text-align: center;\n",
       "}\n",
       "\n",
       "#sk-container-id-1 label.sk-toggleable__label-arrow:before {\n",
       "  /* Arrow on the left of the label */\n",
       "  content: \"▸\";\n",
       "  float: left;\n",
       "  margin-right: 0.25em;\n",
       "  color: var(--sklearn-color-icon);\n",
       "}\n",
       "\n",
       "#sk-container-id-1 label.sk-toggleable__label-arrow:hover:before {\n",
       "  color: var(--sklearn-color-text);\n",
       "}\n",
       "\n",
       "/* Toggleable content - dropdown */\n",
       "\n",
       "#sk-container-id-1 div.sk-toggleable__content {\n",
       "  max-height: 0;\n",
       "  max-width: 0;\n",
       "  overflow: hidden;\n",
       "  text-align: left;\n",
       "  /* unfitted */\n",
       "  background-color: var(--sklearn-color-unfitted-level-0);\n",
       "}\n",
       "\n",
       "#sk-container-id-1 div.sk-toggleable__content.fitted {\n",
       "  /* fitted */\n",
       "  background-color: var(--sklearn-color-fitted-level-0);\n",
       "}\n",
       "\n",
       "#sk-container-id-1 div.sk-toggleable__content pre {\n",
       "  margin: 0.2em;\n",
       "  border-radius: 0.25em;\n",
       "  color: var(--sklearn-color-text);\n",
       "  /* unfitted */\n",
       "  background-color: var(--sklearn-color-unfitted-level-0);\n",
       "}\n",
       "\n",
       "#sk-container-id-1 div.sk-toggleable__content.fitted pre {\n",
       "  /* unfitted */\n",
       "  background-color: var(--sklearn-color-fitted-level-0);\n",
       "}\n",
       "\n",
       "#sk-container-id-1 input.sk-toggleable__control:checked~div.sk-toggleable__content {\n",
       "  /* Expand drop-down */\n",
       "  max-height: 200px;\n",
       "  max-width: 100%;\n",
       "  overflow: auto;\n",
       "}\n",
       "\n",
       "#sk-container-id-1 input.sk-toggleable__control:checked~label.sk-toggleable__label-arrow:before {\n",
       "  content: \"▾\";\n",
       "}\n",
       "\n",
       "/* Pipeline/ColumnTransformer-specific style */\n",
       "\n",
       "#sk-container-id-1 div.sk-label input.sk-toggleable__control:checked~label.sk-toggleable__label {\n",
       "  color: var(--sklearn-color-text);\n",
       "  background-color: var(--sklearn-color-unfitted-level-2);\n",
       "}\n",
       "\n",
       "#sk-container-id-1 div.sk-label.fitted input.sk-toggleable__control:checked~label.sk-toggleable__label {\n",
       "  background-color: var(--sklearn-color-fitted-level-2);\n",
       "}\n",
       "\n",
       "/* Estimator-specific style */\n",
       "\n",
       "/* Colorize estimator box */\n",
       "#sk-container-id-1 div.sk-estimator input.sk-toggleable__control:checked~label.sk-toggleable__label {\n",
       "  /* unfitted */\n",
       "  background-color: var(--sklearn-color-unfitted-level-2);\n",
       "}\n",
       "\n",
       "#sk-container-id-1 div.sk-estimator.fitted input.sk-toggleable__control:checked~label.sk-toggleable__label {\n",
       "  /* fitted */\n",
       "  background-color: var(--sklearn-color-fitted-level-2);\n",
       "}\n",
       "\n",
       "#sk-container-id-1 div.sk-label label.sk-toggleable__label,\n",
       "#sk-container-id-1 div.sk-label label {\n",
       "  /* The background is the default theme color */\n",
       "  color: var(--sklearn-color-text-on-default-background);\n",
       "}\n",
       "\n",
       "/* On hover, darken the color of the background */\n",
       "#sk-container-id-1 div.sk-label:hover label.sk-toggleable__label {\n",
       "  color: var(--sklearn-color-text);\n",
       "  background-color: var(--sklearn-color-unfitted-level-2);\n",
       "}\n",
       "\n",
       "/* Label box, darken color on hover, fitted */\n",
       "#sk-container-id-1 div.sk-label.fitted:hover label.sk-toggleable__label.fitted {\n",
       "  color: var(--sklearn-color-text);\n",
       "  background-color: var(--sklearn-color-fitted-level-2);\n",
       "}\n",
       "\n",
       "/* Estimator label */\n",
       "\n",
       "#sk-container-id-1 div.sk-label label {\n",
       "  font-family: monospace;\n",
       "  font-weight: bold;\n",
       "  display: inline-block;\n",
       "  line-height: 1.2em;\n",
       "}\n",
       "\n",
       "#sk-container-id-1 div.sk-label-container {\n",
       "  text-align: center;\n",
       "}\n",
       "\n",
       "/* Estimator-specific */\n",
       "#sk-container-id-1 div.sk-estimator {\n",
       "  font-family: monospace;\n",
       "  border: 1px dotted var(--sklearn-color-border-box);\n",
       "  border-radius: 0.25em;\n",
       "  box-sizing: border-box;\n",
       "  margin-bottom: 0.5em;\n",
       "  /* unfitted */\n",
       "  background-color: var(--sklearn-color-unfitted-level-0);\n",
       "}\n",
       "\n",
       "#sk-container-id-1 div.sk-estimator.fitted {\n",
       "  /* fitted */\n",
       "  background-color: var(--sklearn-color-fitted-level-0);\n",
       "}\n",
       "\n",
       "/* on hover */\n",
       "#sk-container-id-1 div.sk-estimator:hover {\n",
       "  /* unfitted */\n",
       "  background-color: var(--sklearn-color-unfitted-level-2);\n",
       "}\n",
       "\n",
       "#sk-container-id-1 div.sk-estimator.fitted:hover {\n",
       "  /* fitted */\n",
       "  background-color: var(--sklearn-color-fitted-level-2);\n",
       "}\n",
       "\n",
       "/* Specification for estimator info (e.g. \"i\" and \"?\") */\n",
       "\n",
       "/* Common style for \"i\" and \"?\" */\n",
       "\n",
       ".sk-estimator-doc-link,\n",
       "a:link.sk-estimator-doc-link,\n",
       "a:visited.sk-estimator-doc-link {\n",
       "  float: right;\n",
       "  font-size: smaller;\n",
       "  line-height: 1em;\n",
       "  font-family: monospace;\n",
       "  background-color: var(--sklearn-color-background);\n",
       "  border-radius: 1em;\n",
       "  height: 1em;\n",
       "  width: 1em;\n",
       "  text-decoration: none !important;\n",
       "  margin-left: 1ex;\n",
       "  /* unfitted */\n",
       "  border: var(--sklearn-color-unfitted-level-1) 1pt solid;\n",
       "  color: var(--sklearn-color-unfitted-level-1);\n",
       "}\n",
       "\n",
       ".sk-estimator-doc-link.fitted,\n",
       "a:link.sk-estimator-doc-link.fitted,\n",
       "a:visited.sk-estimator-doc-link.fitted {\n",
       "  /* fitted */\n",
       "  border: var(--sklearn-color-fitted-level-1) 1pt solid;\n",
       "  color: var(--sklearn-color-fitted-level-1);\n",
       "}\n",
       "\n",
       "/* On hover */\n",
       "div.sk-estimator:hover .sk-estimator-doc-link:hover,\n",
       ".sk-estimator-doc-link:hover,\n",
       "div.sk-label-container:hover .sk-estimator-doc-link:hover,\n",
       ".sk-estimator-doc-link:hover {\n",
       "  /* unfitted */\n",
       "  background-color: var(--sklearn-color-unfitted-level-3);\n",
       "  color: var(--sklearn-color-background);\n",
       "  text-decoration: none;\n",
       "}\n",
       "\n",
       "div.sk-estimator.fitted:hover .sk-estimator-doc-link.fitted:hover,\n",
       ".sk-estimator-doc-link.fitted:hover,\n",
       "div.sk-label-container:hover .sk-estimator-doc-link.fitted:hover,\n",
       ".sk-estimator-doc-link.fitted:hover {\n",
       "  /* fitted */\n",
       "  background-color: var(--sklearn-color-fitted-level-3);\n",
       "  color: var(--sklearn-color-background);\n",
       "  text-decoration: none;\n",
       "}\n",
       "\n",
       "/* Span, style for the box shown on hovering the info icon */\n",
       ".sk-estimator-doc-link span {\n",
       "  display: none;\n",
       "  z-index: 9999;\n",
       "  position: relative;\n",
       "  font-weight: normal;\n",
       "  right: .2ex;\n",
       "  padding: .5ex;\n",
       "  margin: .5ex;\n",
       "  width: min-content;\n",
       "  min-width: 20ex;\n",
       "  max-width: 50ex;\n",
       "  color: var(--sklearn-color-text);\n",
       "  box-shadow: 2pt 2pt 4pt #999;\n",
       "  /* unfitted */\n",
       "  background: var(--sklearn-color-unfitted-level-0);\n",
       "  border: .5pt solid var(--sklearn-color-unfitted-level-3);\n",
       "}\n",
       "\n",
       ".sk-estimator-doc-link.fitted span {\n",
       "  /* fitted */\n",
       "  background: var(--sklearn-color-fitted-level-0);\n",
       "  border: var(--sklearn-color-fitted-level-3);\n",
       "}\n",
       "\n",
       ".sk-estimator-doc-link:hover span {\n",
       "  display: block;\n",
       "}\n",
       "\n",
       "/* \"?\"-specific style due to the `<a>` HTML tag */\n",
       "\n",
       "#sk-container-id-1 a.estimator_doc_link {\n",
       "  float: right;\n",
       "  font-size: 1rem;\n",
       "  line-height: 1em;\n",
       "  font-family: monospace;\n",
       "  background-color: var(--sklearn-color-background);\n",
       "  border-radius: 1rem;\n",
       "  height: 1rem;\n",
       "  width: 1rem;\n",
       "  text-decoration: none;\n",
       "  /* unfitted */\n",
       "  color: var(--sklearn-color-unfitted-level-1);\n",
       "  border: var(--sklearn-color-unfitted-level-1) 1pt solid;\n",
       "}\n",
       "\n",
       "#sk-container-id-1 a.estimator_doc_link.fitted {\n",
       "  /* fitted */\n",
       "  border: var(--sklearn-color-fitted-level-1) 1pt solid;\n",
       "  color: var(--sklearn-color-fitted-level-1);\n",
       "}\n",
       "\n",
       "/* On hover */\n",
       "#sk-container-id-1 a.estimator_doc_link:hover {\n",
       "  /* unfitted */\n",
       "  background-color: var(--sklearn-color-unfitted-level-3);\n",
       "  color: var(--sklearn-color-background);\n",
       "  text-decoration: none;\n",
       "}\n",
       "\n",
       "#sk-container-id-1 a.estimator_doc_link.fitted:hover {\n",
       "  /* fitted */\n",
       "  background-color: var(--sklearn-color-fitted-level-3);\n",
       "}\n",
       "</style><div id=\"sk-container-id-1\" class=\"sk-top-container\"><div class=\"sk-text-repr-fallback\"><pre>KNeighborsClassifier()</pre><b>In a Jupyter environment, please rerun this cell to show the HTML representation or trust the notebook. <br />On GitHub, the HTML representation is unable to render, please try loading this page with nbviewer.org.</b></div><div class=\"sk-container\" hidden><div class=\"sk-item\"><div class=\"sk-estimator fitted sk-toggleable\"><input class=\"sk-toggleable__control sk-hidden--visually\" id=\"sk-estimator-id-1\" type=\"checkbox\" checked><label for=\"sk-estimator-id-1\" class=\"sk-toggleable__label fitted sk-toggleable__label-arrow fitted\">&nbsp;&nbsp;KNeighborsClassifier<a class=\"sk-estimator-doc-link fitted\" rel=\"noreferrer\" target=\"_blank\" href=\"https://scikit-learn.org/1.4/modules/generated/sklearn.neighbors.KNeighborsClassifier.html\">?<span>Documentation for KNeighborsClassifier</span></a><span class=\"sk-estimator-doc-link fitted\">i<span>Fitted</span></span></label><div class=\"sk-toggleable__content fitted\"><pre>KNeighborsClassifier()</pre></div> </div></div></div></div>"
      ],
      "text/plain": [
       "KNeighborsClassifier()"
      ]
     },
     "execution_count": 19,
     "metadata": {},
     "output_type": "execute_result"
    }
   ],
   "source": [
    "rf.fit(X_train, y_train)\n",
    "dt.fit(X_train, y_train)\n",
    "lr.fit(X_train, y_train)\n",
    "knn.fit(X_train, y_train)\n"
   ]
  },
  {
   "cell_type": "code",
   "execution_count": 20,
   "metadata": {},
   "outputs": [
    {
     "name": "stdout",
     "output_type": "stream",
     "text": [
      "Random Forest Accuracy: 1.0\n",
      "Decision Tree Accuracy: 1.0\n",
      "Logistic Regression Accuracy: 0.9666666666666667\n",
      "k-Nearest Neighbors Accuracy: 1.0\n"
     ]
    }
   ],
   "source": [
    "rf_pred = rf.predict(X_test)\n",
    "dt_pred = dt.predict(X_test)\n",
    "lr_pred = lr.predict(X_test)\n",
    "knn_pred = knn.predict(X_test)\n",
    "\n",
    "print(\"Random Forest Accuracy:\", accuracy_score(y_test, rf_pred))\n",
    "print(\"Decision Tree Accuracy:\", accuracy_score(y_test, dt_pred))\n",
    "print(\"Logistic Regression Accuracy:\", accuracy_score(y_test, lr_pred))\n",
    "print(\"k-Nearest Neighbors Accuracy:\", accuracy_score(y_test, knn_pred))\n"
   ]
  },
  {
   "cell_type": "code",
   "execution_count": 21,
   "metadata": {},
   "outputs": [
    {
     "data": {
      "text/html": [
       "<div>\n",
       "<style scoped>\n",
       "    .dataframe tbody tr th:only-of-type {\n",
       "        vertical-align: middle;\n",
       "    }\n",
       "\n",
       "    .dataframe tbody tr th {\n",
       "        vertical-align: top;\n",
       "    }\n",
       "\n",
       "    .dataframe thead th {\n",
       "        text-align: right;\n",
       "    }\n",
       "</style>\n",
       "<table border=\"1\" class=\"dataframe\">\n",
       "  <thead>\n",
       "    <tr style=\"text-align: right;\">\n",
       "      <th></th>\n",
       "      <th>Model</th>\n",
       "      <th>Train Accuracy</th>\n",
       "      <th>Test Accuracy</th>\n",
       "    </tr>\n",
       "  </thead>\n",
       "  <tbody>\n",
       "    <tr>\n",
       "      <th>0</th>\n",
       "      <td>Random Forest</td>\n",
       "      <td>1.000000</td>\n",
       "      <td>1.000000</td>\n",
       "    </tr>\n",
       "    <tr>\n",
       "      <th>1</th>\n",
       "      <td>Decision Tree</td>\n",
       "      <td>1.000000</td>\n",
       "      <td>1.000000</td>\n",
       "    </tr>\n",
       "    <tr>\n",
       "      <th>2</th>\n",
       "      <td>Logistic Regression</td>\n",
       "      <td>0.891667</td>\n",
       "      <td>0.966667</td>\n",
       "    </tr>\n",
       "    <tr>\n",
       "      <th>3</th>\n",
       "      <td>k-Nearest Neighbors</td>\n",
       "      <td>0.958333</td>\n",
       "      <td>1.000000</td>\n",
       "    </tr>\n",
       "  </tbody>\n",
       "</table>\n",
       "</div>"
      ],
      "text/plain": [
       "                 Model  Train Accuracy  Test Accuracy\n",
       "0        Random Forest        1.000000       1.000000\n",
       "1        Decision Tree        1.000000       1.000000\n",
       "2  Logistic Regression        0.891667       0.966667\n",
       "3  k-Nearest Neighbors        0.958333       1.000000"
      ]
     },
     "execution_count": 21,
     "metadata": {},
     "output_type": "execute_result"
    }
   ],
   "source": [
    "# 재실행을 위해 다시 필요한 모듈과 데이터를 로드하고, 모델을 훈련시키고 평가해야 합니다.\n",
    "from sklearn.datasets import load_iris\n",
    "from sklearn.model_selection import train_test_split\n",
    "from sklearn.preprocessing import StandardScaler\n",
    "from sklearn.ensemble import RandomForestClassifier\n",
    "from sklearn.tree import DecisionTreeClassifier\n",
    "from sklearn.linear_model import LogisticRegression\n",
    "from sklearn.neighbors import KNeighborsClassifier\n",
    "from sklearn.metrics import accuracy_score\n",
    "import pandas as pd\n",
    "\n",
    "# 데이터 로드 및 준비\n",
    "iris = load_iris()\n",
    "X = iris.data\n",
    "y = iris.target\n",
    "scaler = StandardScaler()\n",
    "X_scaled = scaler.fit_transform(X)\n",
    "X_train, X_test, y_train, y_test = train_test_split(X_scaled, y, test_size=0.2, random_state=42)\n",
    "\n",
    "# 모델 생성 및 학습\n",
    "rf = RandomForestClassifier(n_estimators=100, random_state=42)\n",
    "dt = DecisionTreeClassifier(random_state=42)\n",
    "lr = LogisticRegression(solver='liblinear', random_state=42)\n",
    "knn = KNeighborsClassifier(n_neighbors=5)\n",
    "rf.fit(X_train, y_train)\n",
    "dt.fit(X_train, y_train)\n",
    "lr.fit(X_train, y_train)\n",
    "knn.fit(X_train, y_train)\n",
    "\n",
    "# 훈련 데이터와 테스트 데이터에 대한 예측\n",
    "rf_train_pred = rf.predict(X_train)\n",
    "dt_train_pred = dt.predict(X_train)\n",
    "lr_train_pred = lr.predict(X_train)\n",
    "knn_train_pred = knn.predict(X_train)\n",
    "rf_pred = rf.predict(X_test)\n",
    "dt_pred = dt.predict(X_test)\n",
    "lr_pred = lr.predict(X_test)\n",
    "knn_pred = knn.predict(X_test)\n",
    "\n",
    "# 정확도 계산\n",
    "rf_train_accuracy = accuracy_score(y_train, rf_train_pred)\n",
    "dt_train_accuracy = accuracy_score(y_train, dt_train_pred)\n",
    "lr_train_accuracy = accuracy_score(y_train, lr_train_pred)\n",
    "knn_train_accuracy = accuracy_score(y_train, knn_train_pred)\n",
    "rf_test_accuracy = accuracy_score(y_test, rf_pred)\n",
    "dt_test_accuracy = accuracy_score(y_test, dt_pred)\n",
    "lr_test_accuracy = accuracy_score(y_test, lr_pred)\n",
    "knn_test_accuracy = accuracy_score(y_test, knn_pred)\n",
    "\n",
    "# 데이터 정리 및 DataFrame 생성\n",
    "accuracy_data = {\n",
    "    \"Model\": [\"Random Forest\", \"Decision Tree\", \"Logistic Regression\", \"k-Nearest Neighbors\"],\n",
    "    \"Train Accuracy\": [rf_train_accuracy, dt_train_accuracy, lr_train_accuracy, knn_train_accuracy],\n",
    "    \"Test Accuracy\": [rf_test_accuracy, dt_test_accuracy, lr_test_accuracy, knn_test_accuracy]\n",
    "}\n",
    "\n",
    "accuracy_df = pd.DataFrame(accuracy_data)\n",
    "accuracy_df"
   ]
  },
  {
   "cell_type": "markdown",
   "metadata": {},
   "source": [
    "8. 6번의 상황에서 5겹 kFold해서 cross validation score를 계산해서, 각 모델별로 각 score의 평균과 표준편차를 제시해 주시고, 결과를 캡쳐해서 올려주세요."
   ]
  },
  {
   "cell_type": "code",
   "execution_count": 22,
   "metadata": {},
   "outputs": [
    {
     "data": {
      "text/html": [
       "<div>\n",
       "<style scoped>\n",
       "    .dataframe tbody tr th:only-of-type {\n",
       "        vertical-align: middle;\n",
       "    }\n",
       "\n",
       "    .dataframe tbody tr th {\n",
       "        vertical-align: top;\n",
       "    }\n",
       "\n",
       "    .dataframe thead th {\n",
       "        text-align: right;\n",
       "    }\n",
       "</style>\n",
       "<table border=\"1\" class=\"dataframe\">\n",
       "  <thead>\n",
       "    <tr style=\"text-align: right;\">\n",
       "      <th></th>\n",
       "      <th>Model</th>\n",
       "      <th>KFold Mean Accuracy</th>\n",
       "    </tr>\n",
       "  </thead>\n",
       "  <tbody>\n",
       "    <tr>\n",
       "      <th>0</th>\n",
       "      <td>Random Forest</td>\n",
       "      <td>0.960000</td>\n",
       "    </tr>\n",
       "    <tr>\n",
       "      <th>1</th>\n",
       "      <td>Decision Tree</td>\n",
       "      <td>0.953333</td>\n",
       "    </tr>\n",
       "    <tr>\n",
       "      <th>2</th>\n",
       "      <td>Logistic Regression</td>\n",
       "      <td>0.906667</td>\n",
       "    </tr>\n",
       "    <tr>\n",
       "      <th>3</th>\n",
       "      <td>k-Nearest Neighbors</td>\n",
       "      <td>0.960000</td>\n",
       "    </tr>\n",
       "  </tbody>\n",
       "</table>\n",
       "</div>"
      ],
      "text/plain": [
       "                 Model  KFold Mean Accuracy\n",
       "0        Random Forest             0.960000\n",
       "1        Decision Tree             0.953333\n",
       "2  Logistic Regression             0.906667\n",
       "3  k-Nearest Neighbors             0.960000"
      ]
     },
     "execution_count": 22,
     "metadata": {},
     "output_type": "execute_result"
    }
   ],
   "source": [
    "from sklearn.model_selection import KFold, cross_val_score\n",
    "\n",
    "# 올바른 파라미터 이름으로 KFold 인스턴스 생성\n",
    "kfold = KFold(n_splits=5, shuffle=True, random_state=42)\n",
    "\n",
    "# 각 모델에 대한 5겹 교차 검증 실행\n",
    "rf_cv_scores = cross_val_score(rf, X_scaled, y, cv=kfold)\n",
    "dt_cv_scores = cross_val_score(dt, X_scaled, y, cv=kfold)\n",
    "lr_cv_scores = cross_val_score(lr, X_scaled, y, cv=kfold)\n",
    "knn_cv_scores = cross_val_score(knn, X_scaled, y, cv=kfold)\n",
    "\n",
    "# 평균 정확도 계산\n",
    "rf_cv_accuracy = rf_cv_scores.mean()\n",
    "dt_cv_accuracy = dt_cv_scores.mean()\n",
    "lr_cv_accuracy = lr_cv_scores.mean()\n",
    "knn_cv_accuracy = knn_cv_scores.mean()\n",
    "\n",
    "# 교차 검증 결과 정리 및 DataFrame 생성\n",
    "cv_accuracy_data = {\n",
    "    \"Model\": [\"Random Forest\", \"Decision Tree\", \"Logistic Regression\", \"k-Nearest Neighbors\"],\n",
    "    \"KFold Mean Accuracy\": [rf_cv_accuracy, dt_cv_accuracy, lr_cv_accuracy, knn_cv_accuracy]\n",
    "}\n",
    "\n",
    "cv_accuracy_df = pd.DataFrame(cv_accuracy_data)\n",
    "cv_accuracy_df\n"
   ]
  },
  {
   "cell_type": "code",
   "execution_count": 23,
   "metadata": {},
   "outputs": [
    {
     "data": {
      "text/html": [
       "<div>\n",
       "<style scoped>\n",
       "    .dataframe tbody tr th:only-of-type {\n",
       "        vertical-align: middle;\n",
       "    }\n",
       "\n",
       "    .dataframe tbody tr th {\n",
       "        vertical-align: top;\n",
       "    }\n",
       "\n",
       "    .dataframe thead th {\n",
       "        text-align: right;\n",
       "    }\n",
       "</style>\n",
       "<table border=\"1\" class=\"dataframe\">\n",
       "  <thead>\n",
       "    <tr style=\"text-align: right;\">\n",
       "      <th></th>\n",
       "      <th>Model</th>\n",
       "      <th>Mean Accuracy</th>\n",
       "      <th>Std Deviation</th>\n",
       "    </tr>\n",
       "  </thead>\n",
       "  <tbody>\n",
       "    <tr>\n",
       "      <th>0</th>\n",
       "      <td>Random Forest</td>\n",
       "      <td>0.960000</td>\n",
       "      <td>0.024944</td>\n",
       "    </tr>\n",
       "    <tr>\n",
       "      <th>1</th>\n",
       "      <td>Decision Tree</td>\n",
       "      <td>0.953333</td>\n",
       "      <td>0.026667</td>\n",
       "    </tr>\n",
       "    <tr>\n",
       "      <th>2</th>\n",
       "      <td>Logistic Regression</td>\n",
       "      <td>0.906667</td>\n",
       "      <td>0.044222</td>\n",
       "    </tr>\n",
       "    <tr>\n",
       "      <th>3</th>\n",
       "      <td>k-Nearest Neighbors</td>\n",
       "      <td>0.960000</td>\n",
       "      <td>0.032660</td>\n",
       "    </tr>\n",
       "  </tbody>\n",
       "</table>\n",
       "</div>"
      ],
      "text/plain": [
       "                 Model  Mean Accuracy  Std Deviation\n",
       "0        Random Forest       0.960000       0.024944\n",
       "1        Decision Tree       0.953333       0.026667\n",
       "2  Logistic Regression       0.906667       0.044222\n",
       "3  k-Nearest Neighbors       0.960000       0.032660"
      ]
     },
     "execution_count": 23,
     "metadata": {},
     "output_type": "execute_result"
    }
   ],
   "source": [
    "# 각 모델별로 각 score의 평균과 표준편차를 계산하고 정리\n",
    "cv_results_data = {\n",
    "    \"Model\": [\"Random Forest\", \"Decision Tree\", \"Logistic Regression\", \"k-Nearest Neighbors\"],\n",
    "    \"Mean Accuracy\": [rf_cv_scores.mean(), dt_cv_scores.mean(), lr_cv_scores.mean(), knn_cv_scores.mean()],\n",
    "    \"Std Deviation\": [rf_cv_scores.std(), dt_cv_scores.std(), lr_cv_scores.std(), knn_cv_scores.std()]\n",
    "}\n",
    "\n",
    "# 결과를 DataFrame으로 생성\n",
    "cv_results_df = pd.DataFrame(cv_results_data)\n",
    "cv_results_df"
   ]
  },
  {
   "cell_type": "code",
   "execution_count": 24,
   "metadata": {},
   "outputs": [
    {
     "data": {
      "text/plain": [
       "(array([1.        , 0.96666667, 0.93333333, 0.93333333, 0.96666667]),\n",
       " array([1.        , 0.96666667, 0.93333333, 0.93333333, 0.93333333]),\n",
       " array([0.96666667, 0.83333333, 0.9       , 0.9       , 0.93333333]),\n",
       " array([1.        , 0.96666667, 0.96666667, 0.9       , 0.96666667]))"
      ]
     },
     "execution_count": 24,
     "metadata": {},
     "output_type": "execute_result"
    }
   ],
   "source": [
    "rf_cv_scores, dt_cv_scores, lr_cv_scores, knn_cv_scores"
   ]
  },
  {
   "cell_type": "code",
   "execution_count": 25,
   "metadata": {},
   "outputs": [
    {
     "data": {
      "image/png": "[encoded data removed]",
      "text/plain": [
       "<Figure size 640x480 with 1 Axes>"
      ]
     },
     "metadata": {},
     "output_type": "display_data"
    }
   ],
   "source": [
    "import matplotlib.pyplot as plt\n",
    "import seaborn as sns\n",
    "\n",
    "sns.boxplot(data=[rf_cv_scores, dt_cv_scores, lr_cv_scores, knn_cv_scores])\n",
    "plt.xlabel('models')\n",
    "plt.ylabel('cv score')\n",
    "plt.title('cv socres')\n",
    "plt.xticks([0,1,2,3], ['tree', 'forest', 'Logistic', 'knn'])\n",
    "plt.show()"
   ]
  },
  {
   "cell_type": "markdown",
   "metadata": {},
   "source": [
    "10. 9번의 상황에서 각 fold별 score를 모델별로 pandas dataframe에 정리한 결과를 캡쳐해서 올려주세요"
   ]
  },
  {
   "cell_type": "code",
   "execution_count": 26,
   "metadata": {},
   "outputs": [
    {
     "data": {
      "text/html": [
       "<div>\n",
       "<style scoped>\n",
       "    .dataframe tbody tr th:only-of-type {\n",
       "        vertical-align: middle;\n",
       "    }\n",
       "\n",
       "    .dataframe tbody tr th {\n",
       "        vertical-align: top;\n",
       "    }\n",
       "\n",
       "    .dataframe thead th {\n",
       "        text-align: right;\n",
       "    }\n",
       "</style>\n",
       "<table border=\"1\" class=\"dataframe\">\n",
       "  <thead>\n",
       "    <tr style=\"text-align: right;\">\n",
       "      <th></th>\n",
       "      <th>Random Forest</th>\n",
       "      <th>Decision Tree</th>\n",
       "      <th>Logistic Regression</th>\n",
       "      <th>k-Nearest Neighbors</th>\n",
       "    </tr>\n",
       "  </thead>\n",
       "  <tbody>\n",
       "    <tr>\n",
       "      <th>Fold 1</th>\n",
       "      <td>1.000000</td>\n",
       "      <td>1.000000</td>\n",
       "      <td>0.966667</td>\n",
       "      <td>1.000000</td>\n",
       "    </tr>\n",
       "    <tr>\n",
       "      <th>Fold 2</th>\n",
       "      <td>0.966667</td>\n",
       "      <td>0.966667</td>\n",
       "      <td>0.833333</td>\n",
       "      <td>0.966667</td>\n",
       "    </tr>\n",
       "    <tr>\n",
       "      <th>Fold 3</th>\n",
       "      <td>0.933333</td>\n",
       "      <td>0.933333</td>\n",
       "      <td>0.900000</td>\n",
       "      <td>0.966667</td>\n",
       "    </tr>\n",
       "    <tr>\n",
       "      <th>Fold 4</th>\n",
       "      <td>0.933333</td>\n",
       "      <td>0.933333</td>\n",
       "      <td>0.900000</td>\n",
       "      <td>0.900000</td>\n",
       "    </tr>\n",
       "    <tr>\n",
       "      <th>Fold 5</th>\n",
       "      <td>0.966667</td>\n",
       "      <td>0.933333</td>\n",
       "      <td>0.933333</td>\n",
       "      <td>0.966667</td>\n",
       "    </tr>\n",
       "  </tbody>\n",
       "</table>\n",
       "</div>"
      ],
      "text/plain": [
       "        Random Forest  Decision Tree  Logistic Regression  k-Nearest Neighbors\n",
       "Fold 1       1.000000       1.000000             0.966667             1.000000\n",
       "Fold 2       0.966667       0.966667             0.833333             0.966667\n",
       "Fold 3       0.933333       0.933333             0.900000             0.966667\n",
       "Fold 4       0.933333       0.933333             0.900000             0.900000\n",
       "Fold 5       0.966667       0.933333             0.933333             0.966667"
      ]
     },
     "execution_count": 26,
     "metadata": {},
     "output_type": "execute_result"
    }
   ],
   "source": [
    "# 모델별 Fold 점수를 DataFrame으로 생성\n",
    "fold_scores_data = {\n",
    "    \"Random Forest\": rf_cv_scores,\n",
    "    \"Decision Tree\": dt_cv_scores,\n",
    "    \"Logistic Regression\": lr_cv_scores,\n",
    "    \"k-Nearest Neighbors\": knn_cv_scores\n",
    "}\n",
    "fold_scores_df = pd.DataFrame(fold_scores_data, index=[f\"Fold {i+1}\" for i in range(5)])\n",
    "fold_scores_df\n"
   ]
  },
  {
   "cell_type": "markdown",
   "metadata": {},
   "source": [
    "11. 다시 원본 데이터에서 데이터를 test와 train으로 나눈 후, Standard scaler와 Decision Tree를 연달아 사용하는 pipeline을 꾸며 주세요. 그리고, 해당 pipeline을 cross validation을 수행해서 score를 캡쳐로 제시해 주세요."
   ]
  },
  {
   "cell_type": "code",
   "execution_count": 27,
   "metadata": {},
   "outputs": [
    {
     "data": {
      "text/html": [
       "<div>\n",
       "<style scoped>\n",
       "    .dataframe tbody tr th:only-of-type {\n",
       "        vertical-align: middle;\n",
       "    }\n",
       "\n",
       "    .dataframe tbody tr th {\n",
       "        vertical-align: top;\n",
       "    }\n",
       "\n",
       "    .dataframe thead th {\n",
       "        text-align: right;\n",
       "    }\n",
       "</style>\n",
       "<table border=\"1\" class=\"dataframe\">\n",
       "  <thead>\n",
       "    <tr style=\"text-align: right;\">\n",
       "      <th></th>\n",
       "      <th>sepal length (cm)</th>\n",
       "      <th>sepal width (cm)</th>\n",
       "      <th>petal length (cm)</th>\n",
       "      <th>petal width (cm)</th>\n",
       "      <th>target</th>\n",
       "    </tr>\n",
       "  </thead>\n",
       "  <tbody>\n",
       "    <tr>\n",
       "      <th>0</th>\n",
       "      <td>5.1</td>\n",
       "      <td>3.5</td>\n",
       "      <td>1.4</td>\n",
       "      <td>0.2</td>\n",
       "      <td>0</td>\n",
       "    </tr>\n",
       "    <tr>\n",
       "      <th>1</th>\n",
       "      <td>4.9</td>\n",
       "      <td>3.0</td>\n",
       "      <td>1.4</td>\n",
       "      <td>0.2</td>\n",
       "      <td>0</td>\n",
       "    </tr>\n",
       "    <tr>\n",
       "      <th>2</th>\n",
       "      <td>4.7</td>\n",
       "      <td>3.2</td>\n",
       "      <td>1.3</td>\n",
       "      <td>0.2</td>\n",
       "      <td>0</td>\n",
       "    </tr>\n",
       "    <tr>\n",
       "      <th>3</th>\n",
       "      <td>4.6</td>\n",
       "      <td>3.1</td>\n",
       "      <td>1.5</td>\n",
       "      <td>0.2</td>\n",
       "      <td>0</td>\n",
       "    </tr>\n",
       "    <tr>\n",
       "      <th>4</th>\n",
       "      <td>5.0</td>\n",
       "      <td>3.6</td>\n",
       "      <td>1.4</td>\n",
       "      <td>0.2</td>\n",
       "      <td>0</td>\n",
       "    </tr>\n",
       "    <tr>\n",
       "      <th>...</th>\n",
       "      <td>...</td>\n",
       "      <td>...</td>\n",
       "      <td>...</td>\n",
       "      <td>...</td>\n",
       "      <td>...</td>\n",
       "    </tr>\n",
       "    <tr>\n",
       "      <th>145</th>\n",
       "      <td>6.7</td>\n",
       "      <td>3.0</td>\n",
       "      <td>5.2</td>\n",
       "      <td>2.3</td>\n",
       "      <td>2</td>\n",
       "    </tr>\n",
       "    <tr>\n",
       "      <th>146</th>\n",
       "      <td>6.3</td>\n",
       "      <td>2.5</td>\n",
       "      <td>5.0</td>\n",
       "      <td>1.9</td>\n",
       "      <td>2</td>\n",
       "    </tr>\n",
       "    <tr>\n",
       "      <th>147</th>\n",
       "      <td>6.5</td>\n",
       "      <td>3.0</td>\n",
       "      <td>5.2</td>\n",
       "      <td>2.0</td>\n",
       "      <td>2</td>\n",
       "    </tr>\n",
       "    <tr>\n",
       "      <th>148</th>\n",
       "      <td>6.2</td>\n",
       "      <td>3.4</td>\n",
       "      <td>5.4</td>\n",
       "      <td>2.3</td>\n",
       "      <td>2</td>\n",
       "    </tr>\n",
       "    <tr>\n",
       "      <th>149</th>\n",
       "      <td>5.9</td>\n",
       "      <td>3.0</td>\n",
       "      <td>5.1</td>\n",
       "      <td>1.8</td>\n",
       "      <td>2</td>\n",
       "    </tr>\n",
       "  </tbody>\n",
       "</table>\n",
       "<p>150 rows × 5 columns</p>\n",
       "</div>"
      ],
      "text/plain": [
       "     sepal length (cm)  sepal width (cm)  petal length (cm)  petal width (cm)  \\\n",
       "0                  5.1               3.5                1.4               0.2   \n",
       "1                  4.9               3.0                1.4               0.2   \n",
       "2                  4.7               3.2                1.3               0.2   \n",
       "3                  4.6               3.1                1.5               0.2   \n",
       "4                  5.0               3.6                1.4               0.2   \n",
       "..                 ...               ...                ...               ...   \n",
       "145                6.7               3.0                5.2               2.3   \n",
       "146                6.3               2.5                5.0               1.9   \n",
       "147                6.5               3.0                5.2               2.0   \n",
       "148                6.2               3.4                5.4               2.3   \n",
       "149                5.9               3.0                5.1               1.8   \n",
       "\n",
       "     target  \n",
       "0         0  \n",
       "1         0  \n",
       "2         0  \n",
       "3         0  \n",
       "4         0  \n",
       "..      ...  \n",
       "145       2  \n",
       "146       2  \n",
       "147       2  \n",
       "148       2  \n",
       "149       2  \n",
       "\n",
       "[150 rows x 5 columns]"
      ]
     },
     "execution_count": 27,
     "metadata": {},
     "output_type": "execute_result"
    }
   ],
   "source": [
    "from sklearn.datasets import load_iris\n",
    "import pandas as pd\n",
    "\n",
    "# Iris 데이터셋 로드\n",
    "iris = load_iris()\n",
    "X = iris.data\n",
    "y = iris.target\n",
    "feature_names = iris.feature_names\n",
    "\n",
    "# 데이터를 DataFrame으로 변환\n",
    "iris_df = pd.DataFrame(X, columns=feature_names)\n",
    "iris_df['target'] = y  # 타겟 변수 추가\n",
    "\n",
    "iris_df # 데이터프레임의 첫 5행을 출력\n"
   ]
  },
  {
   "cell_type": "code",
   "execution_count": 28,
   "metadata": {},
   "outputs": [
    {
     "data": {
      "text/plain": [
       "(120, 30)"
      ]
     },
     "execution_count": 28,
     "metadata": {},
     "output_type": "execute_result"
    }
   ],
   "source": [
    "from sklearn.model_selection import train_test_split\n",
    "\n",
    "# 데이터를 훈련 세트와 테스트 세트로 분할\n",
    "X_train, X_test, y_train, y_test = train_test_split(X, y, test_size=0.2, random_state=42)\n",
    "\n",
    "# 분할된 데이터의 크기 확인\n",
    "(train_data_size, test_data_size) = (X_train.shape[0], X_test.shape[0])\n",
    "(train_data_size, test_data_size)"
   ]
  },
  {
   "cell_type": "code",
   "execution_count": 29,
   "metadata": {},
   "outputs": [
    {
     "data": {
      "text/html": [
       "<style>#sk-container-id-2 {\n",
       "  /* Definition of color scheme common for light and dark mode */\n",
       "  --sklearn-color-text: black;\n",
       "  --sklearn-color-line: gray;\n",
       "  /* Definition of color scheme for unfitted estimators */\n",
       "  --sklearn-color-unfitted-level-0: #fff5e6;\n",
       "  --sklearn-color-unfitted-level-1: #f6e4d2;\n",
       "  --sklearn-color-unfitted-level-2: #ffe0b3;\n",
       "  --sklearn-color-unfitted-level-3: chocolate;\n",
       "  /* Definition of color scheme for fitted estimators */\n",
       "  --sklearn-color-fitted-level-0: #f0f8ff;\n",
       "  --sklearn-color-fitted-level-1: #d4ebff;\n",
       "  --sklearn-color-fitted-level-2: #b3dbfd;\n",
       "  --sklearn-color-fitted-level-3: cornflowerblue;\n",
       "\n",
       "  /* Specific color for light theme */\n",
       "  --sklearn-color-text-on-default-background: var(--sg-text-color, var(--theme-code-foreground, var(--jp-content-font-color1, black)));\n",
       "  --sklearn-color-background: var(--sg-background-color, var(--theme-background, var(--jp-layout-color0, white)));\n",
       "  --sklearn-color-border-box: var(--sg-text-color, var(--theme-code-foreground, var(--jp-content-font-color1, black)));\n",
       "  --sklearn-color-icon: #696969;\n",
       "\n",
       "  @media (prefers-color-scheme: dark) {\n",
       "    /* Redefinition of color scheme for dark theme */\n",
       "    --sklearn-color-text-on-default-background: var(--sg-text-color, var(--theme-code-foreground, var(--jp-content-font-color1, white)));\n",
       "    --sklearn-color-background: var(--sg-background-color, var(--theme-background, var(--jp-layout-color0, #111)));\n",
       "    --sklearn-color-border-box: var(--sg-text-color, var(--theme-code-foreground, var(--jp-content-font-color1, white)));\n",
       "    --sklearn-color-icon: #878787;\n",
       "  }\n",
       "}\n",
       "\n",
       "#sk-container-id-2 {\n",
       "  color: var(--sklearn-color-text);\n",
       "}\n",
       "\n",
       "#sk-container-id-2 pre {\n",
       "  padding: 0;\n",
       "}\n",
       "\n",
       "#sk-container-id-2 input.sk-hidden--visually {\n",
       "  border: 0;\n",
       "  clip: rect(1px 1px 1px 1px);\n",
       "  clip: rect(1px, 1px, 1px, 1px);\n",
       "  height: 1px;\n",
       "  margin: -1px;\n",
       "  overflow: hidden;\n",
       "  padding: 0;\n",
       "  position: absolute;\n",
       "  width: 1px;\n",
       "}\n",
       "\n",
       "#sk-container-id-2 div.sk-dashed-wrapped {\n",
       "  border: 1px dashed var(--sklearn-color-line);\n",
       "  margin: 0 0.4em 0.5em 0.4em;\n",
       "  box-sizing: border-box;\n",
       "  padding-bottom: 0.4em;\n",
       "  background-color: var(--sklearn-color-background);\n",
       "}\n",
       "\n",
       "#sk-container-id-2 div.sk-container {\n",
       "  /* jupyter's `normalize.less` sets `[hidden] { display: none; }`\n",
       "     but bootstrap.min.css set `[hidden] { display: none !important; }`\n",
       "     so we also need the `!important` here to be able to override the\n",
       "     default hidden behavior on the sphinx rendered scikit-learn.org.\n",
       "     See: https://github.com/scikit-learn/scikit-learn/issues/21755 */\n",
       "  display: inline-block !important;\n",
       "  position: relative;\n",
       "}\n",
       "\n",
       "#sk-container-id-2 div.sk-text-repr-fallback {\n",
       "  display: none;\n",
       "}\n",
       "\n",
       "div.sk-parallel-item,\n",
       "div.sk-serial,\n",
       "div.sk-item {\n",
       "  /* draw centered vertical line to link estimators */\n",
       "  background-image: linear-gradient(var(--sklearn-color-text-on-default-background), var(--sklearn-color-text-on-default-background));\n",
       "  background-size: 2px 100%;\n",
       "  background-repeat: no-repeat;\n",
       "  background-position: center center;\n",
       "}\n",
       "\n",
       "/* Parallel-specific style estimator block */\n",
       "\n",
       "#sk-container-id-2 div.sk-parallel-item::after {\n",
       "  content: \"\";\n",
       "  width: 100%;\n",
       "  border-bottom: 2px solid var(--sklearn-color-text-on-default-background);\n",
       "  flex-grow: 1;\n",
       "}\n",
       "\n",
       "#sk-container-id-2 div.sk-parallel {\n",
       "  display: flex;\n",
       "  align-items: stretch;\n",
       "  justify-content: center;\n",
       "  background-color: var(--sklearn-color-background);\n",
       "  position: relative;\n",
       "}\n",
       "\n",
       "#sk-container-id-2 div.sk-parallel-item {\n",
       "  display: flex;\n",
       "  flex-direction: column;\n",
       "}\n",
       "\n",
       "#sk-container-id-2 div.sk-parallel-item:first-child::after {\n",
       "  align-self: flex-end;\n",
       "  width: 50%;\n",
       "}\n",
       "\n",
       "#sk-container-id-2 div.sk-parallel-item:last-child::after {\n",
       "  align-self: flex-start;\n",
       "  width: 50%;\n",
       "}\n",
       "\n",
       "#sk-container-id-2 div.sk-parallel-item:only-child::after {\n",
       "  width: 0;\n",
       "}\n",
       "\n",
       "/* Serial-specific style estimator block */\n",
       "\n",
       "#sk-container-id-2 div.sk-serial {\n",
       "  display: flex;\n",
       "  flex-direction: column;\n",
       "  align-items: center;\n",
       "  background-color: var(--sklearn-color-background);\n",
       "  padding-right: 1em;\n",
       "  padding-left: 1em;\n",
       "}\n",
       "\n",
       "\n",
       "/* Toggleable style: style used for estimator/Pipeline/ColumnTransformer box that is\n",
       "clickable and can be expanded/collapsed.\n",
       "- Pipeline and ColumnTransformer use this feature and define the default style\n",
       "- Estimators will overwrite some part of the style using the `sk-estimator` class\n",
       "*/\n",
       "\n",
       "/* Pipeline and ColumnTransformer style (default) */\n",
       "\n",
       "#sk-container-id-2 div.sk-toggleable {\n",
       "  /* Default theme specific background. It is overwritten whether we have a\n",
       "  specific estimator or a Pipeline/ColumnTransformer */\n",
       "  background-color: var(--sklearn-color-background);\n",
       "}\n",
       "\n",
       "/* Toggleable label */\n",
       "#sk-container-id-2 label.sk-toggleable__label {\n",
       "  cursor: pointer;\n",
       "  display: block;\n",
       "  width: 100%;\n",
       "  margin-bottom: 0;\n",
       "  padding: 0.5em;\n",
       "  box-sizing: border-box;\n",
       "  text-align: center;\n",
       "}\n",
       "\n",
       "#sk-container-id-2 label.sk-toggleable__label-arrow:before {\n",
       "  /* Arrow on the left of the label */\n",
       "  content: \"▸\";\n",
       "  float: left;\n",
       "  margin-right: 0.25em;\n",
       "  color: var(--sklearn-color-icon);\n",
       "}\n",
       "\n",
       "#sk-container-id-2 label.sk-toggleable__label-arrow:hover:before {\n",
       "  color: var(--sklearn-color-text);\n",
       "}\n",
       "\n",
       "/* Toggleable content - dropdown */\n",
       "\n",
       "#sk-container-id-2 div.sk-toggleable__content {\n",
       "  max-height: 0;\n",
       "  max-width: 0;\n",
       "  overflow: hidden;\n",
       "  text-align: left;\n",
       "  /* unfitted */\n",
       "  background-color: var(--sklearn-color-unfitted-level-0);\n",
       "}\n",
       "\n",
       "#sk-container-id-2 div.sk-toggleable__content.fitted {\n",
       "  /* fitted */\n",
       "  background-color: var(--sklearn-color-fitted-level-0);\n",
       "}\n",
       "\n",
       "#sk-container-id-2 div.sk-toggleable__content pre {\n",
       "  margin: 0.2em;\n",
       "  border-radius: 0.25em;\n",
       "  color: var(--sklearn-color-text);\n",
       "  /* unfitted */\n",
       "  background-color: var(--sklearn-color-unfitted-level-0);\n",
       "}\n",
       "\n",
       "#sk-container-id-2 div.sk-toggleable__content.fitted pre {\n",
       "  /* unfitted */\n",
       "  background-color: var(--sklearn-color-fitted-level-0);\n",
       "}\n",
       "\n",
       "#sk-container-id-2 input.sk-toggleable__control:checked~div.sk-toggleable__content {\n",
       "  /* Expand drop-down */\n",
       "  max-height: 200px;\n",
       "  max-width: 100%;\n",
       "  overflow: auto;\n",
       "}\n",
       "\n",
       "#sk-container-id-2 input.sk-toggleable__control:checked~label.sk-toggleable__label-arrow:before {\n",
       "  content: \"▾\";\n",
       "}\n",
       "\n",
       "/* Pipeline/ColumnTransformer-specific style */\n",
       "\n",
       "#sk-container-id-2 div.sk-label input.sk-toggleable__control:checked~label.sk-toggleable__label {\n",
       "  color: var(--sklearn-color-text);\n",
       "  background-color: var(--sklearn-color-unfitted-level-2);\n",
       "}\n",
       "\n",
       "#sk-container-id-2 div.sk-label.fitted input.sk-toggleable__control:checked~label.sk-toggleable__label {\n",
       "  background-color: var(--sklearn-color-fitted-level-2);\n",
       "}\n",
       "\n",
       "/* Estimator-specific style */\n",
       "\n",
       "/* Colorize estimator box */\n",
       "#sk-container-id-2 div.sk-estimator input.sk-toggleable__control:checked~label.sk-toggleable__label {\n",
       "  /* unfitted */\n",
       "  background-color: var(--sklearn-color-unfitted-level-2);\n",
       "}\n",
       "\n",
       "#sk-container-id-2 div.sk-estimator.fitted input.sk-toggleable__control:checked~label.sk-toggleable__label {\n",
       "  /* fitted */\n",
       "  background-color: var(--sklearn-color-fitted-level-2);\n",
       "}\n",
       "\n",
       "#sk-container-id-2 div.sk-label label.sk-toggleable__label,\n",
       "#sk-container-id-2 div.sk-label label {\n",
       "  /* The background is the default theme color */\n",
       "  color: var(--sklearn-color-text-on-default-background);\n",
       "}\n",
       "\n",
       "/* On hover, darken the color of the background */\n",
       "#sk-container-id-2 div.sk-label:hover label.sk-toggleable__label {\n",
       "  color: var(--sklearn-color-text);\n",
       "  background-color: var(--sklearn-color-unfitted-level-2);\n",
       "}\n",
       "\n",
       "/* Label box, darken color on hover, fitted */\n",
       "#sk-container-id-2 div.sk-label.fitted:hover label.sk-toggleable__label.fitted {\n",
       "  color: var(--sklearn-color-text);\n",
       "  background-color: var(--sklearn-color-fitted-level-2);\n",
       "}\n",
       "\n",
       "/* Estimator label */\n",
       "\n",
       "#sk-container-id-2 div.sk-label label {\n",
       "  font-family: monospace;\n",
       "  font-weight: bold;\n",
       "  display: inline-block;\n",
       "  line-height: 1.2em;\n",
       "}\n",
       "\n",
       "#sk-container-id-2 div.sk-label-container {\n",
       "  text-align: center;\n",
       "}\n",
       "\n",
       "/* Estimator-specific */\n",
       "#sk-container-id-2 div.sk-estimator {\n",
       "  font-family: monospace;\n",
       "  border: 1px dotted var(--sklearn-color-border-box);\n",
       "  border-radius: 0.25em;\n",
       "  box-sizing: border-box;\n",
       "  margin-bottom: 0.5em;\n",
       "  /* unfitted */\n",
       "  background-color: var(--sklearn-color-unfitted-level-0);\n",
       "}\n",
       "\n",
       "#sk-container-id-2 div.sk-estimator.fitted {\n",
       "  /* fitted */\n",
       "  background-color: var(--sklearn-color-fitted-level-0);\n",
       "}\n",
       "\n",
       "/* on hover */\n",
       "#sk-container-id-2 div.sk-estimator:hover {\n",
       "  /* unfitted */\n",
       "  background-color: var(--sklearn-color-unfitted-level-2);\n",
       "}\n",
       "\n",
       "#sk-container-id-2 div.sk-estimator.fitted:hover {\n",
       "  /* fitted */\n",
       "  background-color: var(--sklearn-color-fitted-level-2);\n",
       "}\n",
       "\n",
       "/* Specification for estimator info (e.g. \"i\" and \"?\") */\n",
       "\n",
       "/* Common style for \"i\" and \"?\" */\n",
       "\n",
       ".sk-estimator-doc-link,\n",
       "a:link.sk-estimator-doc-link,\n",
       "a:visited.sk-estimator-doc-link {\n",
       "  float: right;\n",
       "  font-size: smaller;\n",
       "  line-height: 1em;\n",
       "  font-family: monospace;\n",
       "  background-color: var(--sklearn-color-background);\n",
       "  border-radius: 1em;\n",
       "  height: 1em;\n",
       "  width: 1em;\n",
       "  text-decoration: none !important;\n",
       "  margin-left: 1ex;\n",
       "  /* unfitted */\n",
       "  border: var(--sklearn-color-unfitted-level-1) 1pt solid;\n",
       "  color: var(--sklearn-color-unfitted-level-1);\n",
       "}\n",
       "\n",
       ".sk-estimator-doc-link.fitted,\n",
       "a:link.sk-estimator-doc-link.fitted,\n",
       "a:visited.sk-estimator-doc-link.fitted {\n",
       "  /* fitted */\n",
       "  border: var(--sklearn-color-fitted-level-1) 1pt solid;\n",
       "  color: var(--sklearn-color-fitted-level-1);\n",
       "}\n",
       "\n",
       "/* On hover */\n",
       "div.sk-estimator:hover .sk-estimator-doc-link:hover,\n",
       ".sk-estimator-doc-link:hover,\n",
       "div.sk-label-container:hover .sk-estimator-doc-link:hover,\n",
       ".sk-estimator-doc-link:hover {\n",
       "  /* unfitted */\n",
       "  background-color: var(--sklearn-color-unfitted-level-3);\n",
       "  color: var(--sklearn-color-background);\n",
       "  text-decoration: none;\n",
       "}\n",
       "\n",
       "div.sk-estimator.fitted:hover .sk-estimator-doc-link.fitted:hover,\n",
       ".sk-estimator-doc-link.fitted:hover,\n",
       "div.sk-label-container:hover .sk-estimator-doc-link.fitted:hover,\n",
       ".sk-estimator-doc-link.fitted:hover {\n",
       "  /* fitted */\n",
       "  background-color: var(--sklearn-color-fitted-level-3);\n",
       "  color: var(--sklearn-color-background);\n",
       "  text-decoration: none;\n",
       "}\n",
       "\n",
       "/* Span, style for the box shown on hovering the info icon */\n",
       ".sk-estimator-doc-link span {\n",
       "  display: none;\n",
       "  z-index: 9999;\n",
       "  position: relative;\n",
       "  font-weight: normal;\n",
       "  right: .2ex;\n",
       "  padding: .5ex;\n",
       "  margin: .5ex;\n",
       "  width: min-content;\n",
       "  min-width: 20ex;\n",
       "  max-width: 50ex;\n",
       "  color: var(--sklearn-color-text);\n",
       "  box-shadow: 2pt 2pt 4pt #999;\n",
       "  /* unfitted */\n",
       "  background: var(--sklearn-color-unfitted-level-0);\n",
       "  border: .5pt solid var(--sklearn-color-unfitted-level-3);\n",
       "}\n",
       "\n",
       ".sk-estimator-doc-link.fitted span {\n",
       "  /* fitted */\n",
       "  background: var(--sklearn-color-fitted-level-0);\n",
       "  border: var(--sklearn-color-fitted-level-3);\n",
       "}\n",
       "\n",
       ".sk-estimator-doc-link:hover span {\n",
       "  display: block;\n",
       "}\n",
       "\n",
       "/* \"?\"-specific style due to the `<a>` HTML tag */\n",
       "\n",
       "#sk-container-id-2 a.estimator_doc_link {\n",
       "  float: right;\n",
       "  font-size: 1rem;\n",
       "  line-height: 1em;\n",
       "  font-family: monospace;\n",
       "  background-color: var(--sklearn-color-background);\n",
       "  border-radius: 1rem;\n",
       "  height: 1rem;\n",
       "  width: 1rem;\n",
       "  text-decoration: none;\n",
       "  /* unfitted */\n",
       "  color: var(--sklearn-color-unfitted-level-1);\n",
       "  border: var(--sklearn-color-unfitted-level-1) 1pt solid;\n",
       "}\n",
       "\n",
       "#sk-container-id-2 a.estimator_doc_link.fitted {\n",
       "  /* fitted */\n",
       "  border: var(--sklearn-color-fitted-level-1) 1pt solid;\n",
       "  color: var(--sklearn-color-fitted-level-1);\n",
       "}\n",
       "\n",
       "/* On hover */\n",
       "#sk-container-id-2 a.estimator_doc_link:hover {\n",
       "  /* unfitted */\n",
       "  background-color: var(--sklearn-color-unfitted-level-3);\n",
       "  color: var(--sklearn-color-background);\n",
       "  text-decoration: none;\n",
       "}\n",
       "\n",
       "#sk-container-id-2 a.estimator_doc_link.fitted:hover {\n",
       "  /* fitted */\n",
       "  background-color: var(--sklearn-color-fitted-level-3);\n",
       "}\n",
       "</style><div id=\"sk-container-id-2\" class=\"sk-top-container\"><div class=\"sk-text-repr-fallback\"><pre>Pipeline(steps=[(&#x27;scaler&#x27;, StandardScaler()),\n",
       "                (&#x27;classifier&#x27;, DecisionTreeClassifier(random_state=42))])</pre><b>In a Jupyter environment, please rerun this cell to show the HTML representation or trust the notebook. <br />On GitHub, the HTML representation is unable to render, please try loading this page with nbviewer.org.</b></div><div class=\"sk-container\" hidden><div class=\"sk-item sk-dashed-wrapped\"><div class=\"sk-label-container\"><div class=\"sk-label  sk-toggleable\"><input class=\"sk-toggleable__control sk-hidden--visually\" id=\"sk-estimator-id-2\" type=\"checkbox\" ><label for=\"sk-estimator-id-2\" class=\"sk-toggleable__label  sk-toggleable__label-arrow \">&nbsp;&nbsp;Pipeline<a class=\"sk-estimator-doc-link \" rel=\"noreferrer\" target=\"_blank\" href=\"https://scikit-learn.org/1.4/modules/generated/sklearn.pipeline.Pipeline.html\">?<span>Documentation for Pipeline</span></a><span class=\"sk-estimator-doc-link \">i<span>Not fitted</span></span></label><div class=\"sk-toggleable__content \"><pre>Pipeline(steps=[(&#x27;scaler&#x27;, StandardScaler()),\n",
       "                (&#x27;classifier&#x27;, DecisionTreeClassifier(random_state=42))])</pre></div> </div></div><div class=\"sk-serial\"><div class=\"sk-item\"><div class=\"sk-estimator  sk-toggleable\"><input class=\"sk-toggleable__control sk-hidden--visually\" id=\"sk-estimator-id-3\" type=\"checkbox\" ><label for=\"sk-estimator-id-3\" class=\"sk-toggleable__label  sk-toggleable__label-arrow \">&nbsp;StandardScaler<a class=\"sk-estimator-doc-link \" rel=\"noreferrer\" target=\"_blank\" href=\"https://scikit-learn.org/1.4/modules/generated/sklearn.preprocessing.StandardScaler.html\">?<span>Documentation for StandardScaler</span></a></label><div class=\"sk-toggleable__content \"><pre>StandardScaler()</pre></div> </div></div><div class=\"sk-item\"><div class=\"sk-estimator  sk-toggleable\"><input class=\"sk-toggleable__control sk-hidden--visually\" id=\"sk-estimator-id-4\" type=\"checkbox\" ><label for=\"sk-estimator-id-4\" class=\"sk-toggleable__label  sk-toggleable__label-arrow \">&nbsp;DecisionTreeClassifier<a class=\"sk-estimator-doc-link \" rel=\"noreferrer\" target=\"_blank\" href=\"https://scikit-learn.org/1.4/modules/generated/sklearn.tree.DecisionTreeClassifier.html\">?<span>Documentation for DecisionTreeClassifier</span></a></label><div class=\"sk-toggleable__content \"><pre>DecisionTreeClassifier(random_state=42)</pre></div> </div></div></div></div></div></div>"
      ],
      "text/plain": [
       "Pipeline(steps=[('scaler', StandardScaler()),\n",
       "                ('classifier', DecisionTreeClassifier(random_state=42))])"
      ]
     },
     "execution_count": 29,
     "metadata": {},
     "output_type": "execute_result"
    }
   ],
   "source": [
    "from sklearn.pipeline import Pipeline\n",
    "from sklearn.tree import DecisionTreeClassifier\n",
    "from sklearn.preprocessing import StandardScaler\n",
    "\n",
    "# 파이프라인 생성: StandardScaler와 DecisionTreeClassifier 연결\n",
    "pipeline = Pipeline([\n",
    "    ('scaler', StandardScaler()),\n",
    "    ('classifier', DecisionTreeClassifier(random_state=42))\n",
    "])\n",
    "\n",
    "# 파이프라인 반환\n",
    "pipeline"
   ]
  },
  {
   "cell_type": "code",
   "execution_count": 30,
   "metadata": {},
   "outputs": [
    {
     "data": {
      "text/plain": [
       "(array([1.        , 0.96666667, 0.93333333, 0.93333333, 0.93333333]),\n",
       " 0.9533333333333335)"
      ]
     },
     "execution_count": 30,
     "metadata": {},
     "output_type": "execute_result"
    }
   ],
   "source": [
    "from sklearn.model_selection import cross_val_score, KFold\n",
    "\n",
    "# 5겹 KFold 교차 검증 설정\n",
    "kfold = KFold(n_splits=5, shuffle=True, random_state=42)\n",
    "\n",
    "# 파이프라인에 대한 교차 검증 수행\n",
    "pipeline_scores = cross_val_score(pipeline, X, y, cv=kfold)\n",
    "\n",
    "# 교차 검증 점수 출력\n",
    "pipeline_scores, pipeline_scores.mean()"
   ]
  },
  {
   "cell_type": "markdown",
   "metadata": {},
   "source": [
    "12. 11번의 상황에서 6번의 모델들을 모두 pipeline에 각각 적용해 주세요. 그리고 해당 pipeline을 cross validation을 수행해서 score를 캡쳐로 제시해 주세요."
   ]
  },
  {
   "cell_type": "code",
   "execution_count": 31,
   "metadata": {},
   "outputs": [
    {
     "data": {
      "text/plain": [
       "dict_keys(['Random Forest', 'Decision Tree', 'Logistic Regression', 'k-Nearest Neighbors'])"
      ]
     },
     "execution_count": 31,
     "metadata": {},
     "output_type": "execute_result"
    }
   ],
   "source": [
    "# 각 모델을 StandardScaler와 연결하는 파이프라인 생성\n",
    "pipelines = {\n",
    "    \"Random Forest\": Pipeline([\n",
    "        (\"scaler\", StandardScaler()),\n",
    "        (\"classifier\", RandomForestClassifier(n_estimators=100, random_state=42))\n",
    "    ]),\n",
    "    \"Decision Tree\": Pipeline([\n",
    "        (\"scaler\", StandardScaler()),\n",
    "        (\"classifier\", DecisionTreeClassifier(random_state=42))\n",
    "    ]),\n",
    "    \"Logistic Regression\": Pipeline([\n",
    "        (\"scaler\", StandardScaler()),\n",
    "        (\"classifier\", LogisticRegression(solver='liblinear', random_state=42))\n",
    "    ]),\n",
    "    \"k-Nearest Neighbors\": Pipeline([\n",
    "        (\"scaler\", StandardScaler()),\n",
    "        (\"classifier\", KNeighborsClassifier(n_neighbors=5))\n",
    "    ])\n",
    "}\n",
    "\n",
    "# 각 파이프라인의 이름을 통해 참조 가능\n",
    "pipelines.keys()"
   ]
  },
  {
   "cell_type": "code",
   "execution_count": 32,
   "metadata": {},
   "outputs": [
    {
     "data": {
      "text/html": [
       "<div>\n",
       "<style scoped>\n",
       "    .dataframe tbody tr th:only-of-type {\n",
       "        vertical-align: middle;\n",
       "    }\n",
       "\n",
       "    .dataframe tbody tr th {\n",
       "        vertical-align: top;\n",
       "    }\n",
       "\n",
       "    .dataframe thead th {\n",
       "        text-align: right;\n",
       "    }\n",
       "</style>\n",
       "<table border=\"1\" class=\"dataframe\">\n",
       "  <thead>\n",
       "    <tr style=\"text-align: right;\">\n",
       "      <th></th>\n",
       "      <th>Mean CV Score</th>\n",
       "      <th>Standard Deviation</th>\n",
       "    </tr>\n",
       "  </thead>\n",
       "  <tbody>\n",
       "    <tr>\n",
       "      <th>Random Forest</th>\n",
       "      <td>0.966667</td>\n",
       "      <td>0.021082</td>\n",
       "    </tr>\n",
       "    <tr>\n",
       "      <th>Decision Tree</th>\n",
       "      <td>0.953333</td>\n",
       "      <td>0.026667</td>\n",
       "    </tr>\n",
       "    <tr>\n",
       "      <th>Logistic Regression</th>\n",
       "      <td>0.906667</td>\n",
       "      <td>0.044222</td>\n",
       "    </tr>\n",
       "    <tr>\n",
       "      <th>k-Nearest Neighbors</th>\n",
       "      <td>0.960000</td>\n",
       "      <td>0.032660</td>\n",
       "    </tr>\n",
       "  </tbody>\n",
       "</table>\n",
       "</div>"
      ],
      "text/plain": [
       "                     Mean CV Score  Standard Deviation\n",
       "Random Forest             0.966667            0.021082\n",
       "Decision Tree             0.953333            0.026667\n",
       "Logistic Regression       0.906667            0.044222\n",
       "k-Nearest Neighbors       0.960000            0.032660"
      ]
     },
     "execution_count": 32,
     "metadata": {},
     "output_type": "execute_result"
    }
   ],
   "source": [
    "# 5겹 KFold 교차 검증 설정\n",
    "cv = KFold(n_splits=5, shuffle=True, random_state=42)\n",
    "\n",
    "# 각 파이프라인에 대한 교차 검증 점수를 계산하고 평균을 저장\n",
    "cv_scores = {}\n",
    "for name, pipeline in pipelines.items():\n",
    "    scores = cross_val_score(pipeline, X, y, cv=cv)\n",
    "    cv_scores[name] = {\n",
    "        \"Mean CV Score\": scores.mean(),\n",
    "        \"Standard Deviation\": scores.std()\n",
    "    }\n",
    "\n",
    "# 교차 검증 결과를 DataFrame으로 변환\n",
    "cv_results_df = pd.DataFrame(cv_scores).T  # Transpose to adjust the format\n",
    "cv_results_df\n"
   ]
  },
  {
   "cell_type": "markdown",
   "metadata": {},
   "source": [
    "13. Pipeline에 분류기를 DecisionTree와 RandomForest, kNN을 적용한 후 GridSearchCV를 통해 최적의 모델과 파라미터를 찾아주세요. 그리고 결과를 캡쳐해서 올려주세요"
   ]
  },
  {
   "cell_type": "code",
   "execution_count": 33,
   "metadata": {},
   "outputs": [
    {
     "name": "stdout",
     "output_type": "stream",
     "text": [
      "Decision Tree Pipeline steps: [('scaler', StandardScaler()), ('classifier', DecisionTreeClassifier(random_state=42))]\n",
      "Random Forest Pipeline steps: [('scaler', StandardScaler()), ('classifier', RandomForestClassifier(random_state=42))]\n",
      "k-Nearest Neighbors Pipeline steps: [('scaler', StandardScaler()), ('classifier', KNeighborsClassifier())]\n"
     ]
    }
   ],
   "source": [
    "# 각 분류기를 StandardScaler와 연결하는 파이프라인 생성\n",
    "pipelines = {\n",
    "    \"Decision Tree\": Pipeline([\n",
    "        (\"scaler\", StandardScaler()),\n",
    "        (\"classifier\", DecisionTreeClassifier(random_state=42))\n",
    "    ]),\n",
    "    \"Random Forest\": Pipeline([\n",
    "        (\"scaler\", StandardScaler()),\n",
    "        (\"classifier\", RandomForestClassifier(n_estimators=100, random_state=42))\n",
    "    ]),\n",
    "    \"k-Nearest Neighbors\": Pipeline([\n",
    "        (\"scaler\", StandardScaler()),\n",
    "        (\"classifier\", KNeighborsClassifier(n_neighbors=5))\n",
    "    ])\n",
    "}\n",
    "\n",
    "# 각 파이프라인의 구성 요소를 확인 (예시로 출력)\n",
    "for name, pipeline in pipelines.items():\n",
    "    print(f\"{name} Pipeline steps: {pipeline.steps}\")"
   ]
  },
  {
   "cell_type": "code",
   "execution_count": 34,
   "metadata": {},
   "outputs": [
    {
     "name": "stdout",
     "output_type": "stream",
     "text": [
      "Fitting 5 folds for each of 36 candidates, totalling 180 fits\n",
      "Fitting 5 folds for each of 216 candidates, totalling 1080 fits\n"
     ]
    },
    {
     "name": "stderr",
     "output_type": "stream",
     "text": [
      "/home/verlo/venv/OpenCV_venv/lib/python3.10/site-packages/sklearn/model_selection/_validation.py:547: FitFailedWarning:\n",
      "\n",
      "\n",
      "540 fits failed out of a total of 1080.\n",
      "The score on these train-test partitions for these parameters will be set to nan.\n",
      "If these failures are not expected, you can try to debug them by setting error_score='raise'.\n",
      "\n",
      "Below are more details about the failures:\n",
      "--------------------------------------------------------------------------------\n",
      "540 fits failed with the following error:\n",
      "Traceback (most recent call last):\n",
      "  File \"/home/verlo/venv/OpenCV_venv/lib/python3.10/site-packages/sklearn/model_selection/_validation.py\", line 895, in _fit_and_score\n",
      "    estimator.fit(X_train, y_train, **fit_params)\n",
      "  File \"/home/verlo/venv/OpenCV_venv/lib/python3.10/site-packages/sklearn/base.py\", line 1474, in wrapper\n",
      "    return fit_method(estimator, *args, **kwargs)\n",
      "  File \"/home/verlo/venv/OpenCV_venv/lib/python3.10/site-packages/sklearn/pipeline.py\", line 475, in fit\n",
      "    self._final_estimator.fit(Xt, y, **last_step_params[\"fit\"])\n",
      "  File \"/home/verlo/venv/OpenCV_venv/lib/python3.10/site-packages/sklearn/base.py\", line 1467, in wrapper\n",
      "    estimator._validate_params()\n",
      "  File \"/home/verlo/venv/OpenCV_venv/lib/python3.10/site-packages/sklearn/base.py\", line 666, in _validate_params\n",
      "    validate_parameter_constraints(\n",
      "  File \"/home/verlo/venv/OpenCV_venv/lib/python3.10/site-packages/sklearn/utils/_param_validation.py\", line 95, in validate_parameter_constraints\n",
      "    raise InvalidParameterError(\n",
      "sklearn.utils._param_validation.InvalidParameterError: The 'max_features' parameter of RandomForestClassifier must be an int in the range [1, inf), a float in the range (0.0, 1.0], a str among {'sqrt', 'log2'} or None. Got 'auto' instead.\n",
      "\n",
      "\n",
      "/home/verlo/venv/OpenCV_venv/lib/python3.10/site-packages/sklearn/model_selection/_search.py:1051: UserWarning:\n",
      "\n",
      "One or more of the test scores are non-finite: [       nan        nan        nan        nan        nan        nan\n",
      "        nan        nan        nan        nan        nan        nan\n",
      "        nan        nan        nan        nan        nan        nan\n",
      "        nan        nan        nan        nan        nan        nan\n",
      "        nan        nan        nan 0.96       0.96666667 0.96666667\n",
      " 0.96666667 0.96666667 0.96666667 0.96666667 0.96666667 0.96666667\n",
      " 0.96666667 0.96666667 0.95333333 0.96666667 0.96666667 0.95333333\n",
      " 0.96666667 0.96666667 0.95333333 0.96666667 0.96666667 0.96\n",
      " 0.96666667 0.96666667 0.96       0.96666667 0.96666667 0.96\n",
      "        nan        nan        nan        nan        nan        nan\n",
      "        nan        nan        nan        nan        nan        nan\n",
      "        nan        nan        nan        nan        nan        nan\n",
      "        nan        nan        nan        nan        nan        nan\n",
      "        nan        nan        nan 0.96       0.96666667 0.96666667\n",
      " 0.96666667 0.96666667 0.96666667 0.96666667 0.96666667 0.96666667\n",
      " 0.96666667 0.96666667 0.95333333 0.96666667 0.96666667 0.95333333\n",
      " 0.96666667 0.96666667 0.95333333 0.96666667 0.96666667 0.96\n",
      " 0.96666667 0.96666667 0.96       0.96666667 0.96666667 0.96\n",
      "        nan        nan        nan        nan        nan        nan\n",
      "        nan        nan        nan        nan        nan        nan\n",
      "        nan        nan        nan        nan        nan        nan\n",
      "        nan        nan        nan        nan        nan        nan\n",
      "        nan        nan        nan 0.96       0.96666667 0.96666667\n",
      " 0.96666667 0.96666667 0.96666667 0.96666667 0.96666667 0.96666667\n",
      " 0.96666667 0.96666667 0.95333333 0.96666667 0.96666667 0.95333333\n",
      " 0.96666667 0.96666667 0.95333333 0.96666667 0.96666667 0.96\n",
      " 0.96666667 0.96666667 0.96       0.96666667 0.96666667 0.96\n",
      "        nan        nan        nan        nan        nan        nan\n",
      "        nan        nan        nan        nan        nan        nan\n",
      "        nan        nan        nan        nan        nan        nan\n",
      "        nan        nan        nan        nan        nan        nan\n",
      "        nan        nan        nan 0.96       0.96666667 0.96666667\n",
      " 0.96666667 0.96666667 0.96666667 0.96666667 0.96666667 0.96666667\n",
      " 0.96666667 0.96666667 0.95333333 0.96666667 0.96666667 0.95333333\n",
      " 0.96666667 0.96666667 0.95333333 0.96666667 0.96666667 0.96\n",
      " 0.96666667 0.96666667 0.96       0.96666667 0.96666667 0.96      ]\n",
      "\n"
     ]
    },
    {
     "name": "stdout",
     "output_type": "stream",
     "text": [
      "Fitting 5 folds for each of 24 candidates, totalling 120 fits\n"
     ]
    },
    {
     "data": {
      "text/plain": [
       "{'Decision Tree': {'Best Parameters': {'classifier__max_depth': None,\n",
       "   'classifier__min_samples_leaf': 1,\n",
       "   'classifier__min_samples_split': 5},\n",
       "  'Best CV Score': 0.9666666666666668},\n",
       " 'Random Forest': {'Best Parameters': {'classifier__max_depth': None,\n",
       "   'classifier__max_features': 'sqrt',\n",
       "   'classifier__min_samples_leaf': 1,\n",
       "   'classifier__min_samples_split': 2,\n",
       "   'classifier__n_estimators': 100},\n",
       "  'Best CV Score': 0.9666666666666668},\n",
       " 'k-Nearest Neighbors': {'Best Parameters': {'classifier__algorithm': 'auto',\n",
       "   'classifier__n_neighbors': 7,\n",
       "   'classifier__weights': 'distance'},\n",
       "  'Best CV Score': 0.9666666666666666}}"
      ]
     },
     "execution_count": 34,
     "metadata": {},
     "output_type": "execute_result"
    }
   ],
   "source": [
    "from sklearn.model_selection import GridSearchCV\n",
    "\n",
    "# 각 모델별 하이퍼파라미터 그리드 설정\n",
    "param_grids = {\n",
    "    \"Decision Tree\": {\n",
    "        \"classifier__max_depth\": [None, 10, 20, 30],\n",
    "        \"classifier__min_samples_split\": [2, 5, 10],\n",
    "        \"classifier__min_samples_leaf\": [1, 2, 4]\n",
    "    },\n",
    "    \"Random Forest\": {\n",
    "        \"classifier__n_estimators\": [50, 100, 200],\n",
    "        \"classifier__max_features\": ['auto', 'sqrt'],\n",
    "        \"classifier__max_depth\": [None, 10, 20, 30],\n",
    "        \"classifier__min_samples_split\": [2, 5, 10],\n",
    "        \"classifier__min_samples_leaf\": [1, 2, 4]\n",
    "    },\n",
    "    \"k-Nearest Neighbors\": {\n",
    "        \"classifier__n_neighbors\": [3, 5, 7],\n",
    "        \"classifier__weights\": ['uniform', 'distance'],\n",
    "        \"classifier__algorithm\": ['auto', 'ball_tree', 'kd_tree', 'brute']\n",
    "    }\n",
    "}\n",
    "\n",
    "# 결과 저장용\n",
    "best_models = {}\n",
    "\n",
    "# 각 파이프라인에 대한 GridSearchCV 실행\n",
    "for name, pipeline in pipelines.items():\n",
    "    grid_search = GridSearchCV(pipeline, param_grids[name], cv=5, scoring='accuracy', verbose=1)\n",
    "    grid_search.fit(X, y)\n",
    "    best_models[name] = {\n",
    "        \"Best Parameters\": grid_search.best_params_,\n",
    "        \"Best CV Score\": grid_search.best_score_\n",
    "    }\n",
    "\n",
    "# 결과 출력\n",
    "best_models\n"
   ]
  },
  {
   "cell_type": "code",
   "execution_count": null,
   "metadata": {},
   "outputs": [],
   "source": []
  }
 ],
 "metadata": {
  "kernelspec": {
   "display_name": "OpenCV_venv",
   "language": "python",
   "name": "python3"
  },
  "language_info": {
   "codemirror_mode": {
    "name": "ipython",
    "version": 3
   },
   "file_extension": ".py",
   "mimetype": "text/x-python",
   "name": "python",
   "nbconvert_exporter": "python",
   "pygments_lexer": "ipython3",
   "version": "3.10.12"
  }
 },
 "nbformat": 4,
 "nbformat_minor": 2
}
