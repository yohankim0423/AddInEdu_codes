{
 "cells": [
  {
   "cell_type": "code",
   "execution_count": 6,
   "metadata": {},
   "outputs": [],
   "source": [
    "import sys\n",
    "import numpy as np\n",
    "import cv2\n",
    "\n",
    "src = cv2.imread('/home/verlo/dev_ws/OpenCV/data//airplane.bmp')\n",
    "\n",
    "if src is None:\n",
    "    print('Image load failed!')\n",
    "    sys.exit()\n",
    "\n",
    "aff = np.array([[1, 0, 200], [0, 1, 100]], dtype=np.float32)\n",
    "\n",
    "dst = cv2.warpAffine(src, aff, (0, 0))\n",
    "\n",
    "cv2.imshow('src', src)\n",
    "cv2.imshow('dst', dst)\n",
    "cv2.waitKey()\n",
    "cv2.destroyAllWindows()"
   ]
  },
  {
   "cell_type": "code",
   "execution_count": 7,
   "metadata": {},
   "outputs": [],
   "source": [
    "src = cv2.imread('/home/verlo/dev_ws/OpenCV/data//airplane.bmp')\n",
    "\n",
    "if src is None:\n",
    "    print('Image load failed!')\n",
    "    sys.exit()\n",
    "\n",
    "aff = np.array([[1, 0.5, 0], [0, 1, 0]], dtype=np.float32)\n",
    "\n",
    "h, w = src.shape[:2]\n",
    "dst = cv2.warpAffine(src, aff, ((w + int(h * 0.5)), h))\n",
    "\n",
    "cv2.imshow('src', src)\n",
    "cv2.imshow('dst', dst)\n",
    "cv2.waitKey()\n",
    "cv2.destroyAllWindows()"
   ]
  },
  {
   "cell_type": "code",
   "execution_count": 8,
   "metadata": {},
   "outputs": [],
   "source": [
    "src = cv2.imread('/home/verlo/dev_ws/OpenCV/data/airplane.bmp') # src.shape=(320, 480)\n",
    "\n",
    "if src is None:\n",
    "    print('Image load failed!')\n",
    "    sys.exit()\n",
    "\n",
    "dst1 = cv2.resize(src, (0, 0), fx=4, fy=4, interpolation=cv2.INTER_NEAREST)\n",
    "dst2 = cv2.resize(src, (1920, 1280)) # cv2.INTER_LINEAR\n",
    "dst3 = cv2.resize(src, (1920, 1280), interpolation=cv2.INTER_CUBIC)\n",
    "dst4 = cv2.resize(src, (1920, 1280), interpolation=cv2.INTER_LANCZOS4)\n",
    "\n",
    "cv2.imshow('src', src)\n",
    "cv2.imshow('dst1', dst1[500:900, 400:800])\n",
    "cv2.imshow('dst2', dst2[500:900, 400:800])\n",
    "cv2.imshow('dst3', dst3[500:900, 400:800])\n",
    "cv2.imshow('dst4', dst4[500:900, 400:800])\n",
    "cv2.waitKey()\n",
    "cv2.destroyAllWindows()"
   ]
  },
  {
   "cell_type": "code",
   "execution_count": 9,
   "metadata": {},
   "outputs": [],
   "source": [
    "import math\n",
    "\n",
    "src = cv2.imread('/home/verlo/dev_ws/OpenCV/data/sky.bmp')\n",
    "\n",
    "if src is None:\n",
    "    print('Image load failed!')\n",
    "    sys.exit()\n",
    "\n",
    "rad = 20 * math.pi / 180\n",
    "aff = np.array([[math.cos(rad), math.sin(rad), 0], [-math.sin(rad), math.cos(rad), 0]], dtype=np.float32)\n",
    "\n",
    "dst = cv2.warpAffine(src, aff, (0, 0))\n",
    "\n",
    "cv2.imshow('src', src)\n",
    "cv2.imshow('dst', dst)\n",
    "cv2.waitKey()\n",
    "\n",
    "cv2.destroyAllWindows()"
   ]
  },
  {
   "cell_type": "code",
   "execution_count": 17,
   "metadata": {},
   "outputs": [],
   "source": [
    "src = cv2.imread('/home/verlo/dev_ws/OpenCV/data/sky.bmp')\n",
    "\n",
    "if src is None:\n",
    "    print('Image load failed!')\n",
    "    sys.exit()\n",
    "\n",
    "cp = (src.shape[1] / 2, src.shape[0] / 2)\n",
    "rot = cv2.getRotationMatrix2D(cp, 30, 0.5)\n",
    "\n",
    "dst = cv2.warpAffine(src, rot, (0, 0))\n",
    "\n",
    "cv2.imshow('src', src)\n",
    "cv2.imshow('dst', dst)\n",
    "cv2.waitKey()\n",
    "\n",
    "cv2.destroyAllWindows()"
   ]
  },
  {
   "cell_type": "code",
   "execution_count": 20,
   "metadata": {},
   "outputs": [],
   "source": [
    "src = cv2.imread('/home/verlo/dev_ws/OpenCV/data/sky.bmp')\n",
    "\n",
    "if src is None:\n",
    "    print('Image load failed!')\n",
    "    sys.exit()\n",
    "\n",
    "w, h = 720, 400\n",
    "srcQuad = np.array([[360, 345], [879, 404], [895, 664], [254, 573]], np.float32)\n",
    "dstQuad = np.array([[0, 0], [w-1, 0], [w-1, h-1], [0, h-1]], np.float32)\n",
    "\n",
    "pers = cv2.getPerspectiveTransform(srcQuad, dstQuad)\n",
    "dst = cv2.warpPerspective(src, pers, (w, h))\n",
    "\n",
    "cv2.imshow('src', src)\n",
    "cv2.imshow('dst', dst)\n",
    "while True:\n",
    "    if cv2.waitKey()==27:\n",
    "        break\n",
    "cv2.destroyAllWindows()"
   ]
  },
  {
   "cell_type": "code",
   "execution_count": null,
   "metadata": {},
   "outputs": [],
   "source": []
  }
 ],
 "metadata": {
  "kernelspec": {
   "display_name": "opencv",
   "language": "python",
   "name": "python3"
  },
  "language_info": {
   "codemirror_mode": {
    "name": "ipython",
    "version": 3
   },
   "file_extension": ".py",
   "mimetype": "text/x-python",
   "name": "python",
   "nbconvert_exporter": "python",
   "pygments_lexer": "ipython3",
   "version": "3.10.12"
  }
 },
 "nbformat": 4,
 "nbformat_minor": 2
}
