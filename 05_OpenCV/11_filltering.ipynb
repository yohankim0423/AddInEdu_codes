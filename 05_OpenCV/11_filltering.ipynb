{
 "cells": [
  {
   "cell_type": "code",
   "execution_count": 9,
   "metadata": {},
   "outputs": [],
   "source": [
    "import sys\n",
    "import numpy as np\n",
    "import cv2\n",
    "\n",
    "src = cv2.imread('/home/verlo/dev_ws/OpenCV/data/rose.jpg', cv2.IMREAD_GRAYSCALE)\n",
    "\n",
    "if src is None:\n",
    "    print('Image load failed!')\n",
    "    sys.exit()\n",
    "\n",
    "#dst = cv2.filter2D(src, -1, kernel)\n",
    "dst = cv2.blur(src, (3, 3))\n",
    "\n",
    "cv2.imshow('src', src)\n",
    "cv2.imshow('dst', dst)\n",
    "cv2.waitKey()\n",
    "\n",
    "cv2.destroyAllWindows()"
   ]
  },
  {
   "cell_type": "code",
   "execution_count": 10,
   "metadata": {},
   "outputs": [],
   "source": [
    "src = cv2.imread('/home/verlo/dev_ws/OpenCV/data/rose.jpg', cv2.IMREAD_GRAYSCALE)\n",
    "\n",
    "if src is None:\n",
    "    print('Image load failed!')\n",
    "    sys.exit()\n",
    "\n",
    "cv2.imshow('src', src)\n",
    "\n",
    "for ksize in (3, 5, 7):\n",
    "    dst = cv2.blur(src, (ksize, ksize))\n",
    "\n",
    "    desc = 'Mean: {}x{}'.format(ksize, ksize)\n",
    "    cv2.putText(dst, desc, (10, 30), cv2.FONT_HERSHEY_SIMPLEX, 1.0, 255 , 1, cv2.LINE_AA)\n",
    "    \n",
    "    cv2.imshow('dst', dst)\n",
    "    cv2.waitKey()\n",
    "cv2.destroyAllWindows()"
   ]
  },
  {
   "cell_type": "code",
   "execution_count": 11,
   "metadata": {},
   "outputs": [],
   "source": [
    "src = cv2.imread('/home/verlo/dev_ws/OpenCV/data/rose.jpg', cv2.IMREAD_GRAYSCALE)\n",
    "\n",
    "if src is None:\n",
    "    print('Image load failed!')\n",
    "    sys.exit()\n",
    "\n",
    "cv2.imshow('src', src)\n",
    "\n",
    "for sigma in range(1, 6):\n",
    "    # sigma 값을 이용하여 가우시안 필터링\n",
    "    dst = cv2.GaussianBlur(src, (0, 0), sigma)\n",
    "\n",
    "    desc = 'sigma = {}'.format(sigma)\n",
    "    cv2.putText(dst, desc, (10, 30), cv2.FONT_HERSHEY_SIMPLEX, 1.0, 255, 1, cv2.LINE_AA)\n",
    "\n",
    "    cv2.imshow('dst', dst)\n",
    "    cv2.waitKey()\n",
    "cv2.destroyAllWindows()"
   ]
  },
  {
   "cell_type": "code",
   "execution_count": 14,
   "metadata": {},
   "outputs": [],
   "source": [
    "src = cv2.imread('/home/verlo/dev_ws/OpenCV/data/rose.jpg', cv2.IMREAD_GRAYSCALE)\n",
    "\n",
    "if src is None:\n",
    "    print('Image load failed!')\n",
    "    sys.exit()\n",
    "\n",
    "blr = cv2.GaussianBlur(src, (0, 0), 2)\n",
    "dst = np.clip(2.0 * src - blr, 0, 255).astype(np.uint8)\n",
    "\n",
    "cv2.imshow('src', src)\n",
    "cv2.imshow('blr', blr)\n",
    "cv2.imshow('dst', dst)\n",
    "cv2.waitKey()\n",
    "\n",
    "cv2.destroyAllWindows()"
   ]
  },
  {
   "cell_type": "code",
   "execution_count": 17,
   "metadata": {},
   "outputs": [],
   "source": [
    "import sys\n",
    "import numpy as np\n",
    "import cv2\n",
    "\n",
    "src = cv2.imread('/home/verlo/dev_ws/OpenCV/data/rose.jpg')\n",
    "\n",
    "if src is None:\n",
    "    print('Image load failed!')\n",
    "    sys.exit()\n",
    "\n",
    "src_ycrcb = cv2.cvtColor(src, cv2.COLOR_BGR2YCrCb)\n",
    "\n",
    "src_f = src_ycrcb[:, :, 0].astype(np.float32)\n",
    "blr = cv2.GaussianBlur(src_f, (0, 0), 2.0)\n",
    "src_ycrcb[:, :, 0] = np.clip(2. * src_f - blr, 0, 255).astype(np.uint8)\n",
    "\n",
    "dst = cv2.cvtColor(src_ycrcb, cv2.COLOR_YCrCb2BGR)\n",
    "\n",
    "cv2.imshow('src', src)\n",
    "cv2.imshow('dst', dst)\n",
    "cv2.waitKey()\n",
    "\n",
    "cv2.destroyAllWindows()"
   ]
  },
  {
   "cell_type": "code",
   "execution_count": 18,
   "metadata": {},
   "outputs": [],
   "source": [
    "src = cv2.imread('/home/verlo/dev_ws/OpenCV/data/rose.jpg', cv2.IMREAD_GRAYSCALE)\n",
    "\n",
    "if src is None:\n",
    "    print('Image load failed!')\n",
    "    sys.exit()\n",
    "\n",
    "dst = cv2.medianBlur(src, 3)\n",
    "\n",
    "cv2.imshow('src', src)\n",
    "cv2.imshow('dst', dst)\n",
    "cv2.waitKey()\n",
    "\n",
    "cv2.destroyAllWindows()"
   ]
  },
  {
   "cell_type": "code",
   "execution_count": 19,
   "metadata": {},
   "outputs": [],
   "source": [
    "src = cv2.imread('/home/verlo/dev_ws/OpenCV/data/rose.jpg')\n",
    "\n",
    "if src is None:\n",
    "    print('Image load failed!')\n",
    "    sys.exit()\n",
    "\n",
    "dst = cv2.bilateralFilter(src, -1, 10, 5)\n",
    "\n",
    "cv2.imshow('src', src)\n",
    "cv2.imshow('dst', dst)\n",
    "cv2.waitKey()\n",
    "\n",
    "cv2.destroyAllWindows()"
   ]
  },
  {
   "cell_type": "code",
   "execution_count": 22,
   "metadata": {},
   "outputs": [
    {
     "name": "stdout",
     "output_type": "stream",
     "text": [
      "video open failed!\n"
     ]
    },
    {
     "name": "stderr",
     "output_type": "stream",
     "text": [
      "[ WARN:0@3772.543] global cap_v4l.cpp:997 open VIDEOIO(V4L2:/dev/video0): can't open camera by index\n",
      "[ERROR:0@3772.544] global obsensor_uvc_stream_channel.cpp:159 getStreamChannelGroup Camera index out of range\n"
     ]
    },
    {
     "ename": "SystemExit",
     "evalue": "",
     "output_type": "error",
     "traceback": [
      "An exception has occurred, use %tb to see the full traceback.\n",
      "\u001b[0;31mSystemExit\u001b[0m\n"
     ]
    },
    {
     "name": "stderr",
     "output_type": "stream",
     "text": [
      "/home/verlo/venv/opencv/lib/python3.10/site-packages/IPython/core/interactiveshell.py:3585: UserWarning: To exit: use 'exit', 'quit', or Ctrl-D.\n",
      "  warn(\"To exit: use 'exit', 'quit', or Ctrl-D.\", stacklevel=1)\n"
     ]
    }
   ],
   "source": [
    "def cartoon_fillter(img):\n",
    "    h, w = img.shape[:2]\n",
    "    img2 = cv2.resize(img, (w//2, h//2))\n",
    "\n",
    "    blr = cv2.bilateralFilter(img2, -1, 20, 7)\n",
    "    edge = 255 - cv2.Canny(img2, 80, 120)\n",
    "    edge = cv2.cvtColor(edge, cv2.COLOR_GRAY2BGR)\n",
    "\n",
    "    dst = cv2.bitwise_and(blr, edge)\n",
    "    dst = cv2.resize(dst, (w, h), interpolation=cv2.INTER_NEAREST)\n",
    "\n",
    "    return dst\n",
    "\n",
    "def pencil_sketch(img):\n",
    "    gray = cv2.cvtColor(img, cv2.COLOR_BGR2GRAY)\n",
    "    blr = cv2.GaussianBlur(gray, (0, 0), 3)\n",
    "    dst = cv2.divide(gray, blr, scale=255)\n",
    "    return dst\n",
    "\n",
    "cap = cv2.VideoCapture(0)\n",
    "\n",
    "if not cap.isOpened():\n",
    "    print('video open failed!')\n",
    "    sys.exit()\n",
    "\n",
    "\n",
    "cam_mode = 0\n",
    "\n",
    "while True:\n",
    "    ret, frame = cap.read()\n",
    "\n",
    "    if not ret:\n",
    "        break\n",
    "    \n",
    "    if cam_mode == 1:\n",
    "        frame = cartoon_fillter(frame)\n",
    "    elif cam_mode == 2:\n",
    "        frame = pencil_sketch(frame)\n",
    "        frmee = cv2.cvtColor(frame, cv2.COLOR_GRAY2BGR)\n",
    "\n",
    "cv2.imshow('frame', frame)\n",
    "key = cv2.waitKey(1)\n",
    "\n",
    "if key == 27:\n",
    "    break\n",
    "elif key == ord(' '):\n",
    "    cam_mode += 1\n",
    "    if cam_mode == 3:\n",
    "        cam_mode = 0\n",
    "\n",
    "cap.release()\n",
    "cv2.destroyAllWindows()"
   ]
  },
  {
   "cell_type": "code",
   "execution_count": null,
   "metadata": {},
   "outputs": [],
   "source": []
  }
 ],
 "metadata": {
  "kernelspec": {
   "display_name": "opencv",
   "language": "python",
   "name": "python3"
  },
  "language_info": {
   "codemirror_mode": {
    "name": "ipython",
    "version": 3
   },
   "file_extension": ".py",
   "mimetype": "text/x-python",
   "name": "python",
   "nbconvert_exporter": "python",
   "pygments_lexer": "ipython3",
   "version": "3.10.12"
  }
 },
 "nbformat": 4,
 "nbformat_minor": 2
}
