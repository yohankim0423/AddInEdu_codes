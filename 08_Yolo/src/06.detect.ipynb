{
 "cells": [
  {
   "cell_type": "code",
   "execution_count": 4,
   "metadata": {},
   "outputs": [
    {
     "name": "stdout",
     "output_type": "stream",
     "text": [
      "\n",
      "image 1/1 /home/verlo/dev_ws/Yolo/data/classification_sample.jpg: 384x640 6 cars, 1 bus, 151.2ms\n",
      "Speed: 5.4ms preprocess, 151.2ms inference, 1700.4ms postprocess per image at shape (1, 3, 384, 640)\n",
      "Results saved to \u001b[1m/home/verlo/dev_ws/YOLO/runs/detect/predict3\u001b[0m\n",
      "[ultralytics.engine.results.Results object with attributes:\n",
      "\n",
      "boxes: ultralytics.engine.results.Boxes object\n",
      "keypoints: None\n",
      "masks: None\n",
      "names: {0: 'person', 1: 'bicycle', 2: 'car', 3: 'motorcycle', 4: 'airplane', 5: 'bus', 6: 'train', 7: 'truck', 8: 'boat', 9: 'traffic light', 10: 'fire hydrant', 11: 'stop sign', 12: 'parking meter', 13: 'bench', 14: 'bird', 15: 'cat', 16: 'dog', 17: 'horse', 18: 'sheep', 19: 'cow', 20: 'elephant', 21: 'bear', 22: 'zebra', 23: 'giraffe', 24: 'backpack', 25: 'umbrella', 26: 'handbag', 27: 'tie', 28: 'suitcase', 29: 'frisbee', 30: 'skis', 31: 'snowboard', 32: 'sports ball', 33: 'kite', 34: 'baseball bat', 35: 'baseball glove', 36: 'skateboard', 37: 'surfboard', 38: 'tennis racket', 39: 'bottle', 40: 'wine glass', 41: 'cup', 42: 'fork', 43: 'knife', 44: 'spoon', 45: 'bowl', 46: 'banana', 47: 'apple', 48: 'sandwich', 49: 'orange', 50: 'broccoli', 51: 'carrot', 52: 'hot dog', 53: 'pizza', 54: 'donut', 55: 'cake', 56: 'chair', 57: 'couch', 58: 'potted plant', 59: 'bed', 60: 'dining table', 61: 'toilet', 62: 'tv', 63: 'laptop', 64: 'mouse', 65: 'remote', 66: 'keyboard', 67: 'cell phone', 68: 'microwave', 69: 'oven', 70: 'toaster', 71: 'sink', 72: 'refrigerator', 73: 'book', 74: 'clock', 75: 'vase', 76: 'scissors', 77: 'teddy bear', 78: 'hair drier', 79: 'toothbrush'}\n",
      "obb: None\n",
      "orig_img: array([[[ 92,  70,  35],\n",
      "        [ 78,  69,  31],\n",
      "        [ 64,  78,  30],\n",
      "        ...,\n",
      "        [124,  62,  46],\n",
      "        [129,  63,  38],\n",
      "        [132,  65,  34]],\n",
      "\n",
      "       [[ 35,  14,   0],\n",
      "        [215, 205, 175],\n",
      "        [196, 207, 167],\n",
      "        ...,\n",
      "        [120,  60,  48],\n",
      "        [124,  60,  42],\n",
      "        [126,  61,  40]],\n",
      "\n",
      "       [[ 22,   5,   0],\n",
      "        [208, 199, 185],\n",
      "        [202, 204, 182],\n",
      "        ...,\n",
      "        [114,  57,  55],\n",
      "        [115,  55,  55],\n",
      "        [117,  57,  57]],\n",
      "\n",
      "       ...,\n",
      "\n",
      "       [[ 67,  68,  29],\n",
      "        [ 64,  65,  33],\n",
      "        [ 60,  62,  40],\n",
      "        ...,\n",
      "        [ 30,  33,  37],\n",
      "        [ 33,  34,  38],\n",
      "        [ 33,  34,  38]],\n",
      "\n",
      "       [[ 72,  70,  35],\n",
      "        [ 65,  65,  35],\n",
      "        [ 62,  64,  45],\n",
      "        ...,\n",
      "        [ 32,  37,  38],\n",
      "        [ 32,  36,  37],\n",
      "        [ 32,  36,  37]],\n",
      "\n",
      "       [[ 65,  63,  28],\n",
      "        [ 59,  59,  29],\n",
      "        [ 60,  63,  47],\n",
      "        ...,\n",
      "        [ 33,  38,  39],\n",
      "        [ 35,  39,  40],\n",
      "        [ 34,  38,  39]]], dtype=uint8)\n",
      "orig_shape: (1080, 1920)\n",
      "path: '/home/verlo/dev_ws/Yolo/data/classification_sample.jpg'\n",
      "probs: None\n",
      "save_dir: '/home/verlo/dev_ws/YOLO/runs/detect/predict3'\n",
      "speed: {'preprocess': 5.364894866943359, 'inference': 151.16524696350098, 'postprocess': 1700.418472290039}]\n"
     ]
    }
   ],
   "source": [
    "from ultralytics import YOLO\n",
    "\n",
    "model = YOLO('yolov8n.pt')\n",
    "\n",
    "results = model.predict(source=\"/home/verlo/dev_ws/Yolo/data/classification_sample.jpg\", conf=0.2, save=True)\n",
    "\n",
    "print(results)"
   ]
  },
  {
   "cell_type": "code",
   "execution_count": 5,
   "metadata": {},
   "outputs": [
    {
     "name": "stdout",
     "output_type": "stream",
     "text": [
      "Ultralytics YOLOv8.2.16 🚀 Python-3.10.12 torch-2.1.0+cu121 CUDA:0 (NVIDIA GeForce RTX 2060, 5927MiB)\n",
      "\u001b[34m\u001b[1mengine/trainer: \u001b[0mtask=detect, mode=train, model=yolov8n.pt, data=/home/verlo/dev_ws/Yolo/data/Aquarium Combined/data.yaml, epochs=25, time=None, patience=100, batch=16, imgsz=640, save=True, save_period=-1, cache=False, device=None, workers=8, project=None, name=train2, exist_ok=False, pretrained=True, optimizer=auto, verbose=True, seed=0, deterministic=True, single_cls=False, rect=False, cos_lr=False, close_mosaic=10, resume=False, amp=True, fraction=1.0, profile=False, freeze=None, multi_scale=False, overlap_mask=True, mask_ratio=4, dropout=0.0, val=True, split=val, save_json=False, save_hybrid=False, conf=None, iou=0.7, max_det=300, half=False, dnn=False, plots=True, source=None, vid_stride=1, stream_buffer=False, visualize=False, augment=False, agnostic_nms=False, classes=None, retina_masks=False, embed=None, show=False, save_frames=False, save_txt=False, save_conf=False, save_crop=False, show_labels=True, show_conf=True, show_boxes=True, line_width=None, format=torchscript, keras=False, optimize=False, int8=False, dynamic=False, simplify=False, opset=None, workspace=4, nms=False, lr0=0.01, lrf=0.01, momentum=0.937, weight_decay=0.0005, warmup_epochs=3.0, warmup_momentum=0.8, warmup_bias_lr=0.1, box=7.5, cls=0.5, dfl=1.5, pose=12.0, kobj=1.0, label_smoothing=0.0, nbs=64, hsv_h=0.015, hsv_s=0.7, hsv_v=0.4, degrees=0.0, translate=0.1, scale=0.5, shear=0.0, perspective=0.0, flipud=0.0, fliplr=0.5, bgr=0.0, mosaic=1.0, mixup=0.0, copy_paste=0.0, auto_augment=randaugment, erasing=0.4, crop_fraction=1.0, cfg=None, tracker=botsort.yaml, save_dir=/home/verlo/dev_ws/YOLO/runs/detect/train2\n",
      "Overriding model.yaml nc=80 with nc=7\n",
      "\n",
      "                   from  n    params  module                                       arguments                     \n",
      "  0                  -1  1       464  ultralytics.nn.modules.conv.Conv             [3, 16, 3, 2]                 \n",
      "  1                  -1  1      4672  ultralytics.nn.modules.conv.Conv             [16, 32, 3, 2]                \n",
      "  2                  -1  1      7360  ultralytics.nn.modules.block.C2f             [32, 32, 1, True]             \n",
      "  3                  -1  1     18560  ultralytics.nn.modules.conv.Conv             [32, 64, 3, 2]                \n",
      "  4                  -1  2     49664  ultralytics.nn.modules.block.C2f             [64, 64, 2, True]             \n",
      "  5                  -1  1     73984  ultralytics.nn.modules.conv.Conv             [64, 128, 3, 2]               \n",
      "  6                  -1  2    197632  ultralytics.nn.modules.block.C2f             [128, 128, 2, True]           \n",
      "  7                  -1  1    295424  ultralytics.nn.modules.conv.Conv             [128, 256, 3, 2]              \n",
      "  8                  -1  1    460288  ultralytics.nn.modules.block.C2f             [256, 256, 1, True]           \n",
      "  9                  -1  1    164608  ultralytics.nn.modules.block.SPPF            [256, 256, 5]                 \n",
      " 10                  -1  1         0  torch.nn.modules.upsampling.Upsample         [None, 2, 'nearest']          \n",
      " 11             [-1, 6]  1         0  ultralytics.nn.modules.conv.Concat           [1]                           \n",
      " 12                  -1  1    148224  ultralytics.nn.modules.block.C2f             [384, 128, 1]                 \n",
      " 13                  -1  1         0  torch.nn.modules.upsampling.Upsample         [None, 2, 'nearest']          \n",
      " 14             [-1, 4]  1         0  ultralytics.nn.modules.conv.Concat           [1]                           \n",
      " 15                  -1  1     37248  ultralytics.nn.modules.block.C2f             [192, 64, 1]                  \n",
      " 16                  -1  1     36992  ultralytics.nn.modules.conv.Conv             [64, 64, 3, 2]                \n",
      " 17            [-1, 12]  1         0  ultralytics.nn.modules.conv.Concat           [1]                           \n",
      " 18                  -1  1    123648  ultralytics.nn.modules.block.C2f             [192, 128, 1]                 \n",
      " 19                  -1  1    147712  ultralytics.nn.modules.conv.Conv             [128, 128, 3, 2]              \n",
      " 20             [-1, 9]  1         0  ultralytics.nn.modules.conv.Concat           [1]                           \n",
      " 21                  -1  1    493056  ultralytics.nn.modules.block.C2f             [384, 256, 1]                 \n",
      " 22        [15, 18, 21]  1    752677  ultralytics.nn.modules.head.Detect           [7, [64, 128, 256]]           \n",
      "Model summary: 225 layers, 3012213 parameters, 3012197 gradients, 8.2 GFLOPs\n",
      "\n",
      "Transferred 319/355 items from pretrained weights\n",
      "Freezing layer 'model.22.dfl.conv.weight'\n",
      "\u001b[34m\u001b[1mAMP: \u001b[0mrunning Automatic Mixed Precision (AMP) checks with YOLOv8n...\n",
      "\u001b[34m\u001b[1mAMP: \u001b[0mchecks passed ✅\n"
     ]
    },
    {
     "name": "stderr",
     "output_type": "stream",
     "text": [
      "\u001b[34m\u001b[1mtrain: \u001b[0mScanning /home/verlo/dev_ws/Yolo/data/Aquarium Combined/train/labels.cache... 448 images, 1 backgrounds, 0 corrupt: 100%|██████████| 448/448 [00:00<?, ?it/s]\n",
      "\u001b[34m\u001b[1mval: \u001b[0mScanning /home/verlo/dev_ws/Yolo/data/Aquarium Combined/valid/labels.cache... 127 images, 0 backgrounds, 0 corrupt: 100%|██████████| 127/127 [00:00<?, ?it/s]\n"
     ]
    },
    {
     "name": "stdout",
     "output_type": "stream",
     "text": [
      "Plotting labels to /home/verlo/dev_ws/YOLO/runs/detect/train2/labels.jpg... \n",
      "\u001b[34m\u001b[1moptimizer:\u001b[0m 'optimizer=auto' found, ignoring 'lr0=0.01' and 'momentum=0.937' and determining best 'optimizer', 'lr0' and 'momentum' automatically... \n",
      "\u001b[34m\u001b[1moptimizer:\u001b[0m AdamW(lr=0.000909, momentum=0.9) with parameter groups 57 weight(decay=0.0), 64 weight(decay=0.0005), 63 bias(decay=0.0)\n",
      "Image sizes 640 train, 640 val\n",
      "Using 8 dataloader workers\n",
      "Logging results to \u001b[1m/home/verlo/dev_ws/YOLO/runs/detect/train2\u001b[0m\n",
      "Starting training for 25 epochs...\n",
      "\n",
      "      Epoch    GPU_mem   box_loss   cls_loss   dfl_loss  Instances       Size\n"
     ]
    },
    {
     "name": "stderr",
     "output_type": "stream",
     "text": [
      "       1/25      2.48G      1.539      3.833      1.282        123        640: 100%|██████████| 28/28 [00:10<00:00,  2.76it/s]\n",
      "                 Class     Images  Instances      Box(P          R      mAP50  mAP50-95): 100%|██████████| 4/4 [00:01<00:00,  3.18it/s]"
     ]
    },
    {
     "name": "stdout",
     "output_type": "stream",
     "text": [
      "                   all        127        909     0.0124      0.463     0.0651     0.0347\n"
     ]
    },
    {
     "name": "stderr",
     "output_type": "stream",
     "text": [
      "\n"
     ]
    },
    {
     "name": "stdout",
     "output_type": "stream",
     "text": [
      "\n",
      "      Epoch    GPU_mem   box_loss   cls_loss   dfl_loss  Instances       Size\n"
     ]
    },
    {
     "name": "stderr",
     "output_type": "stream",
     "text": [
      "       2/25       2.8G      1.605      2.659      1.257        339        640: 100%|██████████| 28/28 [00:06<00:00,  4.66it/s]\n",
      "                 Class     Images  Instances      Box(P          R      mAP50  mAP50-95): 100%|██████████| 4/4 [00:00<00:00,  5.35it/s]\n"
     ]
    },
    {
     "name": "stdout",
     "output_type": "stream",
     "text": [
      "                   all        127        909      0.312      0.124      0.186      0.107\n",
      "\n",
      "      Epoch    GPU_mem   box_loss   cls_loss   dfl_loss  Instances       Size\n"
     ]
    },
    {
     "name": "stderr",
     "output_type": "stream",
     "text": [
      "       3/25      2.52G      1.569      2.263      1.262        266        640: 100%|██████████| 28/28 [00:07<00:00,  3.52it/s]\n",
      "                 Class     Images  Instances      Box(P          R      mAP50  mAP50-95): 100%|██████████| 4/4 [00:01<00:00,  3.00it/s]"
     ]
    },
    {
     "name": "stdout",
     "output_type": "stream",
     "text": [
      "                   all        127        909      0.461      0.227      0.287      0.154\n"
     ]
    },
    {
     "name": "stderr",
     "output_type": "stream",
     "text": [
      "\n"
     ]
    },
    {
     "name": "stdout",
     "output_type": "stream",
     "text": [
      "\n",
      "      Epoch    GPU_mem   box_loss   cls_loss   dfl_loss  Instances       Size\n"
     ]
    },
    {
     "name": "stderr",
     "output_type": "stream",
     "text": [
      "       4/25      2.42G       1.54      2.037      1.253        124        640: 100%|██████████| 28/28 [00:06<00:00,  4.30it/s]\n",
      "                 Class     Images  Instances      Box(P          R      mAP50  mAP50-95): 100%|██████████| 4/4 [00:01<00:00,  2.93it/s]"
     ]
    },
    {
     "name": "stdout",
     "output_type": "stream",
     "text": [
      "                   all        127        909      0.428      0.339      0.333      0.175\n"
     ]
    },
    {
     "name": "stderr",
     "output_type": "stream",
     "text": [
      "\n"
     ]
    },
    {
     "name": "stdout",
     "output_type": "stream",
     "text": [
      "\n",
      "      Epoch    GPU_mem   box_loss   cls_loss   dfl_loss  Instances       Size\n"
     ]
    },
    {
     "name": "stderr",
     "output_type": "stream",
     "text": [
      "       5/25      2.39G      1.532      1.869      1.233        215        640: 100%|██████████| 28/28 [00:05<00:00,  5.28it/s]\n",
      "                 Class     Images  Instances      Box(P          R      mAP50  mAP50-95): 100%|██████████| 4/4 [00:00<00:00,  5.74it/s]"
     ]
    },
    {
     "name": "stdout",
     "output_type": "stream",
     "text": [
      "                   all        127        909       0.39      0.362      0.358      0.192\n"
     ]
    },
    {
     "name": "stderr",
     "output_type": "stream",
     "text": [
      "\n"
     ]
    },
    {
     "name": "stdout",
     "output_type": "stream",
     "text": [
      "\n",
      "      Epoch    GPU_mem   box_loss   cls_loss   dfl_loss  Instances       Size\n"
     ]
    },
    {
     "name": "stderr",
     "output_type": "stream",
     "text": [
      "       6/25       2.8G      1.502      1.784      1.231        186        640: 100%|██████████| 28/28 [00:04<00:00,  6.81it/s]\n",
      "                 Class     Images  Instances      Box(P          R      mAP50  mAP50-95): 100%|██████████| 4/4 [00:00<00:00,  5.22it/s]\n"
     ]
    },
    {
     "name": "stdout",
     "output_type": "stream",
     "text": [
      "                   all        127        909      0.512      0.528      0.477      0.267\n",
      "\n",
      "      Epoch    GPU_mem   box_loss   cls_loss   dfl_loss  Instances       Size\n"
     ]
    },
    {
     "name": "stderr",
     "output_type": "stream",
     "text": [
      "       7/25      2.39G      1.461      1.722       1.21        227        640: 100%|██████████| 28/28 [00:04<00:00,  6.82it/s]\n",
      "                 Class     Images  Instances      Box(P          R      mAP50  mAP50-95): 100%|██████████| 4/4 [00:01<00:00,  3.20it/s]"
     ]
    },
    {
     "name": "stdout",
     "output_type": "stream",
     "text": [
      "                   all        127        909       0.63      0.488      0.545       0.31\n"
     ]
    },
    {
     "name": "stderr",
     "output_type": "stream",
     "text": [
      "\n"
     ]
    },
    {
     "name": "stdout",
     "output_type": "stream",
     "text": [
      "\n",
      "      Epoch    GPU_mem   box_loss   cls_loss   dfl_loss  Instances       Size\n"
     ]
    },
    {
     "name": "stderr",
     "output_type": "stream",
     "text": [
      "       8/25       2.5G      1.467      1.613      1.218        162        640: 100%|██████████| 28/28 [00:04<00:00,  5.70it/s]\n",
      "                 Class     Images  Instances      Box(P          R      mAP50  mAP50-95): 100%|██████████| 4/4 [00:00<00:00,  4.60it/s]"
     ]
    },
    {
     "name": "stdout",
     "output_type": "stream",
     "text": [
      "                   all        127        909      0.623      0.528       0.56       0.31\n"
     ]
    },
    {
     "name": "stderr",
     "output_type": "stream",
     "text": [
      "\n"
     ]
    },
    {
     "name": "stdout",
     "output_type": "stream",
     "text": [
      "\n",
      "      Epoch    GPU_mem   box_loss   cls_loss   dfl_loss  Instances       Size\n"
     ]
    },
    {
     "name": "stderr",
     "output_type": "stream",
     "text": [
      "       9/25      2.77G       1.44      1.526      1.184        273        640: 100%|██████████| 28/28 [00:04<00:00,  6.00it/s]\n",
      "                 Class     Images  Instances      Box(P          R      mAP50  mAP50-95): 100%|██████████| 4/4 [00:00<00:00,  4.14it/s]"
     ]
    },
    {
     "name": "stdout",
     "output_type": "stream",
     "text": [
      "                   all        127        909      0.613      0.546      0.569       0.31\n"
     ]
    },
    {
     "name": "stderr",
     "output_type": "stream",
     "text": [
      "\n"
     ]
    },
    {
     "name": "stdout",
     "output_type": "stream",
     "text": [
      "\n",
      "      Epoch    GPU_mem   box_loss   cls_loss   dfl_loss  Instances       Size\n"
     ]
    },
    {
     "name": "stderr",
     "output_type": "stream",
     "text": [
      "      10/25      2.47G      1.422      1.475      1.193        252        640: 100%|██████████| 28/28 [00:04<00:00,  5.79it/s]\n",
      "                 Class     Images  Instances      Box(P          R      mAP50  mAP50-95): 100%|██████████| 4/4 [00:00<00:00,  5.03it/s]\n"
     ]
    },
    {
     "name": "stdout",
     "output_type": "stream",
     "text": [
      "                   all        127        909      0.618      0.596      0.599      0.326\n",
      "\n",
      "      Epoch    GPU_mem   box_loss   cls_loss   dfl_loss  Instances       Size\n"
     ]
    },
    {
     "name": "stderr",
     "output_type": "stream",
     "text": [
      "      11/25      2.59G      1.391       1.41      1.168        207        640: 100%|██████████| 28/28 [00:05<00:00,  5.29it/s]\n",
      "                 Class     Images  Instances      Box(P          R      mAP50  mAP50-95): 100%|██████████| 4/4 [00:01<00:00,  2.84it/s]"
     ]
    },
    {
     "name": "stdout",
     "output_type": "stream",
     "text": [
      "                   all        127        909      0.699      0.587      0.631      0.355\n"
     ]
    },
    {
     "name": "stderr",
     "output_type": "stream",
     "text": [
      "\n"
     ]
    },
    {
     "name": "stdout",
     "output_type": "stream",
     "text": [
      "\n",
      "      Epoch    GPU_mem   box_loss   cls_loss   dfl_loss  Instances       Size\n"
     ]
    },
    {
     "name": "stderr",
     "output_type": "stream",
     "text": [
      "      12/25      2.52G      1.386      1.377      1.171        236        640: 100%|██████████| 28/28 [00:09<00:00,  2.99it/s]\n",
      "                 Class     Images  Instances      Box(P          R      mAP50  mAP50-95): 100%|██████████| 4/4 [00:01<00:00,  2.34it/s]"
     ]
    },
    {
     "name": "stdout",
     "output_type": "stream",
     "text": [
      "                   all        127        909      0.692      0.635      0.654      0.372\n"
     ]
    },
    {
     "name": "stderr",
     "output_type": "stream",
     "text": [
      "\n"
     ]
    },
    {
     "name": "stdout",
     "output_type": "stream",
     "text": [
      "\n",
      "      Epoch    GPU_mem   box_loss   cls_loss   dfl_loss  Instances       Size\n"
     ]
    },
    {
     "name": "stderr",
     "output_type": "stream",
     "text": [
      "      13/25      2.43G      1.372       1.33      1.165        206        640: 100%|██████████| 28/28 [00:05<00:00,  4.96it/s]\n",
      "                 Class     Images  Instances      Box(P          R      mAP50  mAP50-95): 100%|██████████| 4/4 [00:00<00:00,  5.80it/s]"
     ]
    },
    {
     "name": "stdout",
     "output_type": "stream",
     "text": [
      "                   all        127        909      0.663      0.607      0.661      0.378\n"
     ]
    },
    {
     "name": "stderr",
     "output_type": "stream",
     "text": [
      "\n"
     ]
    },
    {
     "name": "stdout",
     "output_type": "stream",
     "text": [
      "\n",
      "      Epoch    GPU_mem   box_loss   cls_loss   dfl_loss  Instances       Size\n"
     ]
    },
    {
     "name": "stderr",
     "output_type": "stream",
     "text": [
      "      14/25      2.69G      1.376      1.359      1.164        110        640: 100%|██████████| 28/28 [00:08<00:00,  3.40it/s]\n",
      "                 Class     Images  Instances      Box(P          R      mAP50  mAP50-95): 100%|██████████| 4/4 [00:00<00:00,  5.89it/s]"
     ]
    },
    {
     "name": "stdout",
     "output_type": "stream",
     "text": [
      "                   all        127        909      0.676      0.592      0.652      0.389\n"
     ]
    },
    {
     "name": "stderr",
     "output_type": "stream",
     "text": [
      "\n"
     ]
    },
    {
     "name": "stdout",
     "output_type": "stream",
     "text": [
      "\n",
      "      Epoch    GPU_mem   box_loss   cls_loss   dfl_loss  Instances       Size\n"
     ]
    },
    {
     "name": "stderr",
     "output_type": "stream",
     "text": [
      "      15/25      2.47G      1.321      1.246      1.124        197        640: 100%|██████████| 28/28 [00:08<00:00,  3.41it/s]\n",
      "                 Class     Images  Instances      Box(P          R      mAP50  mAP50-95): 100%|██████████| 4/4 [00:01<00:00,  2.27it/s]"
     ]
    },
    {
     "name": "stdout",
     "output_type": "stream",
     "text": [
      "                   all        127        909      0.712      0.617      0.674      0.399\n"
     ]
    },
    {
     "name": "stderr",
     "output_type": "stream",
     "text": [
      "\n"
     ]
    },
    {
     "name": "stdout",
     "output_type": "stream",
     "text": [
      "Closing dataloader mosaic\n",
      "\n",
      "      Epoch    GPU_mem   box_loss   cls_loss   dfl_loss  Instances       Size\n"
     ]
    },
    {
     "name": "stderr",
     "output_type": "stream",
     "text": [
      "      16/25      2.59G      1.319      1.423      1.139        141        640: 100%|██████████| 28/28 [00:09<00:00,  2.82it/s]\n",
      "                 Class     Images  Instances      Box(P          R      mAP50  mAP50-95): 100%|██████████| 4/4 [00:01<00:00,  3.72it/s]"
     ]
    },
    {
     "name": "stdout",
     "output_type": "stream",
     "text": [
      "                   all        127        909       0.63      0.607      0.638      0.378\n"
     ]
    },
    {
     "name": "stderr",
     "output_type": "stream",
     "text": [
      "\n"
     ]
    },
    {
     "name": "stdout",
     "output_type": "stream",
     "text": [
      "\n",
      "      Epoch    GPU_mem   box_loss   cls_loss   dfl_loss  Instances       Size\n"
     ]
    },
    {
     "name": "stderr",
     "output_type": "stream",
     "text": [
      "      17/25      2.63G      1.283      1.312      1.136         96        640: 100%|██████████| 28/28 [00:07<00:00,  3.74it/s]\n",
      "                 Class     Images  Instances      Box(P          R      mAP50  mAP50-95): 100%|██████████| 4/4 [00:01<00:00,  2.41it/s]"
     ]
    },
    {
     "name": "stdout",
     "output_type": "stream",
     "text": [
      "                   all        127        909      0.724      0.627      0.683      0.414\n"
     ]
    },
    {
     "name": "stderr",
     "output_type": "stream",
     "text": [
      "\n"
     ]
    },
    {
     "name": "stdout",
     "output_type": "stream",
     "text": [
      "\n",
      "      Epoch    GPU_mem   box_loss   cls_loss   dfl_loss  Instances       Size\n"
     ]
    },
    {
     "name": "stderr",
     "output_type": "stream",
     "text": [
      "      18/25      2.57G      1.258      1.238      1.112        113        640: 100%|██████████| 28/28 [00:07<00:00,  3.81it/s]\n",
      "                 Class     Images  Instances      Box(P          R      mAP50  mAP50-95): 100%|██████████| 4/4 [00:01<00:00,  2.48it/s]"
     ]
    },
    {
     "name": "stdout",
     "output_type": "stream",
     "text": [
      "                   all        127        909      0.705       0.65        0.7      0.408\n"
     ]
    },
    {
     "name": "stderr",
     "output_type": "stream",
     "text": [
      "\n"
     ]
    },
    {
     "name": "stdout",
     "output_type": "stream",
     "text": [
      "\n",
      "      Epoch    GPU_mem   box_loss   cls_loss   dfl_loss  Instances       Size\n"
     ]
    },
    {
     "name": "stderr",
     "output_type": "stream",
     "text": [
      "      19/25      2.38G      1.258      1.208      1.108         94        640: 100%|██████████| 28/28 [00:07<00:00,  3.76it/s]\n",
      "                 Class     Images  Instances      Box(P          R      mAP50  mAP50-95): 100%|██████████| 4/4 [00:01<00:00,  2.72it/s]"
     ]
    },
    {
     "name": "stdout",
     "output_type": "stream",
     "text": [
      "                   all        127        909      0.727      0.666      0.712      0.413\n"
     ]
    },
    {
     "name": "stderr",
     "output_type": "stream",
     "text": [
      "\n"
     ]
    },
    {
     "name": "stdout",
     "output_type": "stream",
     "text": [
      "\n",
      "      Epoch    GPU_mem   box_loss   cls_loss   dfl_loss  Instances       Size\n"
     ]
    },
    {
     "name": "stderr",
     "output_type": "stream",
     "text": [
      "      20/25      2.46G      1.234      1.148      1.088        116        640: 100%|██████████| 28/28 [00:07<00:00,  3.86it/s]\n",
      "                 Class     Images  Instances      Box(P          R      mAP50  mAP50-95): 100%|██████████| 4/4 [00:01<00:00,  2.67it/s]"
     ]
    },
    {
     "name": "stdout",
     "output_type": "stream",
     "text": [
      "                   all        127        909      0.798      0.646      0.721       0.42\n"
     ]
    },
    {
     "name": "stderr",
     "output_type": "stream",
     "text": [
      "\n"
     ]
    },
    {
     "name": "stdout",
     "output_type": "stream",
     "text": [
      "\n",
      "      Epoch    GPU_mem   box_loss   cls_loss   dfl_loss  Instances       Size\n"
     ]
    },
    {
     "name": "stderr",
     "output_type": "stream",
     "text": [
      "      21/25       2.5G      1.243       1.16      1.086        144        640: 100%|██████████| 28/28 [00:07<00:00,  3.78it/s]\n",
      "                 Class     Images  Instances      Box(P          R      mAP50  mAP50-95): 100%|██████████| 4/4 [00:01<00:00,  2.68it/s]"
     ]
    },
    {
     "name": "stdout",
     "output_type": "stream",
     "text": [
      "                   all        127        909      0.771      0.676      0.725      0.424\n"
     ]
    },
    {
     "name": "stderr",
     "output_type": "stream",
     "text": [
      "\n"
     ]
    },
    {
     "name": "stdout",
     "output_type": "stream",
     "text": [
      "\n",
      "      Epoch    GPU_mem   box_loss   cls_loss   dfl_loss  Instances       Size\n"
     ]
    },
    {
     "name": "stderr",
     "output_type": "stream",
     "text": [
      "      22/25      2.61G      1.225      1.115      1.091        103        640: 100%|██████████| 28/28 [00:07<00:00,  3.82it/s]\n",
      "                 Class     Images  Instances      Box(P          R      mAP50  mAP50-95): 100%|██████████| 4/4 [00:01<00:00,  2.60it/s]"
     ]
    },
    {
     "name": "stdout",
     "output_type": "stream",
     "text": [
      "                   all        127        909       0.74      0.698      0.729      0.425\n"
     ]
    },
    {
     "name": "stderr",
     "output_type": "stream",
     "text": [
      "\n"
     ]
    },
    {
     "name": "stdout",
     "output_type": "stream",
     "text": [
      "\n",
      "      Epoch    GPU_mem   box_loss   cls_loss   dfl_loss  Instances       Size\n"
     ]
    },
    {
     "name": "stderr",
     "output_type": "stream",
     "text": [
      "      23/25      2.52G      1.206        1.1      1.081         89        640: 100%|██████████| 28/28 [00:07<00:00,  3.89it/s]\n",
      "                 Class     Images  Instances      Box(P          R      mAP50  mAP50-95): 100%|██████████| 4/4 [00:01<00:00,  2.55it/s]"
     ]
    },
    {
     "name": "stdout",
     "output_type": "stream",
     "text": [
      "                   all        127        909      0.769      0.678      0.732      0.435\n"
     ]
    },
    {
     "name": "stderr",
     "output_type": "stream",
     "text": [
      "\n"
     ]
    },
    {
     "name": "stdout",
     "output_type": "stream",
     "text": [
      "\n",
      "      Epoch    GPU_mem   box_loss   cls_loss   dfl_loss  Instances       Size\n"
     ]
    },
    {
     "name": "stderr",
     "output_type": "stream",
     "text": [
      "      24/25      2.51G      1.175      1.059      1.062         86        640: 100%|██████████| 28/28 [00:07<00:00,  3.76it/s]\n",
      "                 Class     Images  Instances      Box(P          R      mAP50  mAP50-95): 100%|██████████| 4/4 [00:01<00:00,  2.92it/s]"
     ]
    },
    {
     "name": "stdout",
     "output_type": "stream",
     "text": [
      "                   all        127        909      0.787      0.681      0.749       0.45\n"
     ]
    },
    {
     "name": "stderr",
     "output_type": "stream",
     "text": [
      "\n"
     ]
    },
    {
     "name": "stdout",
     "output_type": "stream",
     "text": [
      "\n",
      "      Epoch    GPU_mem   box_loss   cls_loss   dfl_loss  Instances       Size\n"
     ]
    },
    {
     "name": "stderr",
     "output_type": "stream",
     "text": [
      "      25/25      2.53G      1.174      1.056      1.075         89        640: 100%|██████████| 28/28 [00:07<00:00,  3.58it/s]\n",
      "                 Class     Images  Instances      Box(P          R      mAP50  mAP50-95): 100%|██████████| 4/4 [00:02<00:00,  1.95it/s]"
     ]
    },
    {
     "name": "stdout",
     "output_type": "stream",
     "text": [
      "                   all        127        909      0.815       0.67       0.75      0.451\n"
     ]
    },
    {
     "name": "stderr",
     "output_type": "stream",
     "text": [
      "\n"
     ]
    },
    {
     "name": "stdout",
     "output_type": "stream",
     "text": [
      "\n",
      "25 epochs completed in 0.062 hours.\n",
      "Optimizer stripped from /home/verlo/dev_ws/YOLO/runs/detect/train2/weights/last.pt, 6.2MB\n",
      "Optimizer stripped from /home/verlo/dev_ws/YOLO/runs/detect/train2/weights/best.pt, 6.2MB\n",
      "\n",
      "Validating /home/verlo/dev_ws/YOLO/runs/detect/train2/weights/best.pt...\n",
      "Ultralytics YOLOv8.2.16 🚀 Python-3.10.12 torch-2.1.0+cu121 CUDA:0 (NVIDIA GeForce RTX 2060, 5927MiB)\n",
      "Model summary (fused): 168 layers, 3007013 parameters, 0 gradients, 8.1 GFLOPs\n"
     ]
    },
    {
     "name": "stderr",
     "output_type": "stream",
     "text": [
      "                 Class     Images  Instances      Box(P          R      mAP50  mAP50-95): 100%|██████████| 4/4 [00:03<00:00,  1.01it/s]\n"
     ]
    },
    {
     "name": "stdout",
     "output_type": "stream",
     "text": [
      "                   all        127        909      0.817      0.669      0.749      0.451\n",
      "                  fish        127        459      0.811      0.693      0.777      0.441\n",
      "             jellyfish        127        155      0.898      0.865      0.927      0.533\n",
      "               penguin        127        104      0.711      0.615      0.691      0.307\n",
      "                puffin        127         74      0.738      0.459      0.556      0.284\n",
      "                 shark        127         57      0.855      0.622      0.703      0.466\n",
      "              starfish        127         27      0.885      0.704       0.77      0.552\n",
      "              stingray        127         33      0.823      0.727       0.82      0.573\n",
      "Speed: 0.4ms preprocess, 4.9ms inference, 0.0ms loss, 15.4ms postprocess per image\n",
      "Results saved to \u001b[1m/home/verlo/dev_ws/YOLO/runs/detect/train2\u001b[0m\n"
     ]
    }
   ],
   "source": [
    "from ultralytics import YOLO\n",
    "\n",
    "model=YOLO('yolov8n.pt')\n",
    "\n",
    "results = model.train(data='/home/verlo/dev_ws/Yolo/data/Aquarium Combined/data.yaml', epochs=25)"
   ]
  },
  {
   "cell_type": "code",
   "execution_count": 6,
   "metadata": {},
   "outputs": [
    {
     "name": "stdout",
     "output_type": "stream",
     "text": [
      "\n",
      "image 1/63 /home/verlo/dev_ws/Yolo/data/Aquarium Combined/test/images/IMG_2289_jpeg_jpg.rf.fe2a7a149e7b11f2313f5a7b30386e85.jpg: 640x480 1 bird, 8.7ms\n",
      "image 2/63 /home/verlo/dev_ws/Yolo/data/Aquarium Combined/test/images/IMG_2301_jpeg_jpg.rf.2c19ae5efbd1f8611b5578125f001695.jpg: 640x480 1 bear, 8.2ms\n",
      "image 3/63 /home/verlo/dev_ws/Yolo/data/Aquarium Combined/test/images/IMG_2319_jpeg_jpg.rf.6e20bf97d17b74a8948aa48776c40454.jpg: 640x480 1 bird, 6.9ms\n",
      "image 4/63 /home/verlo/dev_ws/Yolo/data/Aquarium Combined/test/images/IMG_2347_jpeg_jpg.rf.7c71ac4b9301eb358cd4a832844dedcb.jpg: 640x480 2 birds, 7.1ms\n",
      "image 5/63 /home/verlo/dev_ws/Yolo/data/Aquarium Combined/test/images/IMG_2354_jpeg_jpg.rf.396e872c7fb0a95e911806986995ee7a.jpg: 640x480 1 bird, 6.2ms\n",
      "image 6/63 /home/verlo/dev_ws/Yolo/data/Aquarium Combined/test/images/IMG_2371_jpeg_jpg.rf.54505f60b6706da151c164188c305849.jpg: 640x480 2 birds, 6.0ms\n",
      "image 7/63 /home/verlo/dev_ws/Yolo/data/Aquarium Combined/test/images/IMG_2379_jpeg_jpg.rf.7dc3160c937072d26d4624c6c48e904d.jpg: 640x480 2 birds, 6.1ms\n",
      "image 8/63 /home/verlo/dev_ws/Yolo/data/Aquarium Combined/test/images/IMG_2380_jpeg_jpg.rf.a23809682eb1466c1136ca0f55de8fb5.jpg: 640x480 1 bird, 6.0ms\n",
      "image 9/63 /home/verlo/dev_ws/Yolo/data/Aquarium Combined/test/images/IMG_2387_jpeg_jpg.rf.09b38bacfab0922a3a6b66480f01b719.jpg: 640x480 1 dog, 6.0ms\n",
      "image 10/63 /home/verlo/dev_ws/Yolo/data/Aquarium Combined/test/images/IMG_2395_jpeg_jpg.rf.9f1503ad3b7a7c7938daed057cc4e9bc.jpg: 640x480 1 bird, 6.0ms\n",
      "image 11/63 /home/verlo/dev_ws/Yolo/data/Aquarium Combined/test/images/IMG_2423_jpeg_jpg.rf.1c0901882e71d5ebd26f036f4e22da65.jpg: 640x480 1 vase, 6.0ms\n",
      "image 12/63 /home/verlo/dev_ws/Yolo/data/Aquarium Combined/test/images/IMG_2434_jpeg_jpg.rf.8b20d3270d4fbc497c64125273f46ecb.jpg: 640x480 (no detections), 6.0ms\n",
      "image 13/63 /home/verlo/dev_ws/Yolo/data/Aquarium Combined/test/images/IMG_2446_jpeg_jpg.rf.06ee05e92df8e3c33073147d8f595211.jpg: 640x480 1 bird, 6.0ms\n",
      "image 14/63 /home/verlo/dev_ws/Yolo/data/Aquarium Combined/test/images/IMG_2448_jpeg_jpg.rf.28ce79dab47ad525751d5407be09bc3d.jpg: 640x480 (no detections), 6.1ms\n",
      "image 15/63 /home/verlo/dev_ws/Yolo/data/Aquarium Combined/test/images/IMG_2450_jpeg_jpg.rf.ff673921373de3bfc275863e3befeefe.jpg: 640x480 (no detections), 7.8ms\n",
      "image 16/63 /home/verlo/dev_ws/Yolo/data/Aquarium Combined/test/images/IMG_2465_jpeg_jpg.rf.7e699ec1d2e373d93dac32cd02db9438.jpg: 640x480 (no detections), 9.4ms\n",
      "image 17/63 /home/verlo/dev_ws/Yolo/data/Aquarium Combined/test/images/IMG_2466_jpeg_jpg.rf.53886abb9947ec4e47405957b30fe314.jpg: 640x480 (no detections), 17.6ms\n",
      "image 18/63 /home/verlo/dev_ws/Yolo/data/Aquarium Combined/test/images/IMG_2468_jpeg_jpg.rf.c933cc14c99b11a90413a1490d4556db.jpg: 640x480 1 kite, 7.3ms\n",
      "image 19/63 /home/verlo/dev_ws/Yolo/data/Aquarium Combined/test/images/IMG_2470_jpeg_jpg.rf.75b359c8baa6866bfecf07a0e4e8c33d.jpg: 640x480 1 banana, 1 clock, 6.0ms\n",
      "image 20/63 /home/verlo/dev_ws/Yolo/data/Aquarium Combined/test/images/IMG_2473_jpeg_jpg.rf.6284677f9c781b0cfeec54981a17d573.jpg: 640x480 (no detections), 5.9ms\n",
      "image 21/63 /home/verlo/dev_ws/Yolo/data/Aquarium Combined/test/images/IMG_2477_jpeg_jpg.rf.7b2692f142d53c16ad477065f1f8ae6d.jpg: 640x480 1 vase, 5.9ms\n",
      "image 22/63 /home/verlo/dev_ws/Yolo/data/Aquarium Combined/test/images/IMG_2496_jpeg_jpg.rf.3f91e7f18502074c89fa720a11926fab.jpg: 640x480 (no detections), 6.6ms\n",
      "image 23/63 /home/verlo/dev_ws/Yolo/data/Aquarium Combined/test/images/IMG_2499_jpeg_jpg.rf.6cbab3719b9063388b5ab3ab826d7bd3.jpg: 640x480 3 persons, 6.1ms\n",
      "image 24/63 /home/verlo/dev_ws/Yolo/data/Aquarium Combined/test/images/IMG_2514_jpeg_jpg.rf.6ccb3859d75fc5cfe053b1c1474254b2.jpg: 640x480 2 airplanes, 1 bird, 6.0ms\n",
      "image 25/63 /home/verlo/dev_ws/Yolo/data/Aquarium Combined/test/images/IMG_2526_jpeg_jpg.rf.003e1d1d41bcd204df731b85cea68781.jpg: 640x480 (no detections), 5.9ms\n",
      "image 26/63 /home/verlo/dev_ws/Yolo/data/Aquarium Combined/test/images/IMG_2532_jpeg_jpg.rf.2afeb76e5d9372dbbd6fbc53d5b75675.jpg: 640x480 (no detections), 6.0ms\n",
      "image 27/63 /home/verlo/dev_ws/Yolo/data/Aquarium Combined/test/images/IMG_2544_jpeg_jpg.rf.03f51bb9e1c57fb9cd62f8cbdca14e90.jpg: 640x480 1 frisbee, 1 sports ball, 5.9ms\n",
      "image 28/63 /home/verlo/dev_ws/Yolo/data/Aquarium Combined/test/images/IMG_2547_jpeg_jpg.rf.9406b6f1a9fad2292c4abd28f712baaf.jpg: 640x480 3 birds, 1 banana, 6.0ms\n",
      "image 29/63 /home/verlo/dev_ws/Yolo/data/Aquarium Combined/test/images/IMG_2570_jpeg_jpg.rf.ed40900b657a5b23d92cb2d296ad2dbc.jpg: 640x480 1 airplane, 2 birds, 6.1ms\n",
      "image 30/63 /home/verlo/dev_ws/Yolo/data/Aquarium Combined/test/images/IMG_2574_jpeg_jpg.rf.ca0c3ad32384309a61e92d9a8bef87b9.jpg: 640x480 1 teddy bear, 6.5ms\n",
      "image 31/63 /home/verlo/dev_ws/Yolo/data/Aquarium Combined/test/images/IMG_2582_jpeg_jpg.rf.14f175066ce74b470bf31fa0c7a096cd.jpg: 640x480 1 bird, 1 bear, 8.7ms\n",
      "image 32/63 /home/verlo/dev_ws/Yolo/data/Aquarium Combined/test/images/IMG_2588_jpeg_jpg.rf.cb9cea8f05891cfd55a3e93f2908201f.jpg: 640x480 (no detections), 8.1ms\n",
      "image 33/63 /home/verlo/dev_ws/Yolo/data/Aquarium Combined/test/images/IMG_2630_jpeg_jpg.rf.310f0c986a72be46b80ce31c2d00e46d.jpg: 640x480 1 bird, 11.3ms\n",
      "image 34/63 /home/verlo/dev_ws/Yolo/data/Aquarium Combined/test/images/IMG_2632_jpeg_jpg.rf.f44037edca490b16cbf06427e28ea946.jpg: 640x480 (no detections), 11.4ms\n",
      "image 35/63 /home/verlo/dev_ws/Yolo/data/Aquarium Combined/test/images/IMG_2651_jpeg_jpg.rf.84b3930aa80b610cc97bf1c176763940.jpg: 640x480 (no detections), 9.1ms\n",
      "image 36/63 /home/verlo/dev_ws/Yolo/data/Aquarium Combined/test/images/IMG_3129_jpeg_jpg.rf.90c472dcdf9b6713ec767cc97560ceca.jpg: 640x480 (no detections), 12.5ms\n",
      "image 37/63 /home/verlo/dev_ws/Yolo/data/Aquarium Combined/test/images/IMG_3134_jpeg_jpg.rf.50750ca778773042a3c46a1d3e480132.jpg: 640x480 (no detections), 11.3ms\n",
      "image 38/63 /home/verlo/dev_ws/Yolo/data/Aquarium Combined/test/images/IMG_3136_jpeg_jpg.rf.0d8fef73d4cc5e1c35ce424444d9e44b.jpg: 640x480 (no detections), 11.3ms\n",
      "image 39/63 /home/verlo/dev_ws/Yolo/data/Aquarium Combined/test/images/IMG_3144_jpeg_jpg.rf.f29a36360174dc83ecef93275ed8f02e.jpg: 640x480 1 bear, 10.8ms\n",
      "image 40/63 /home/verlo/dev_ws/Yolo/data/Aquarium Combined/test/images/IMG_3154_jpeg_jpg.rf.5f429a366c02d38bc9e2217f4508c3e0.jpg: 640x480 1 bird, 14.5ms\n",
      "image 41/63 /home/verlo/dev_ws/Yolo/data/Aquarium Combined/test/images/IMG_3164_jpeg_jpg.rf.06637eee0b72df791aa729807ca45c4d.jpg: 640x480 1 person, 2 bears, 15.5ms\n",
      "image 42/63 /home/verlo/dev_ws/Yolo/data/Aquarium Combined/test/images/IMG_3173_jpeg_jpg.rf.6f05acaa0b22d410a5df3ea3286e227d.jpg: 480x640 2 persons, 149.1ms\n",
      "image 43/63 /home/verlo/dev_ws/Yolo/data/Aquarium Combined/test/images/IMG_3175_jpeg_jpg.rf.686c7d36e049eea974a363e99bf0bee0.jpg: 480x640 1 person, 1 bird, 9.5ms\n",
      "image 44/63 /home/verlo/dev_ws/Yolo/data/Aquarium Combined/test/images/IMG_8331_jpg.rf.ec024bdf1e9de02b020b5e6505c1c58b.jpg: 480x640 1 bird, 7.5ms\n",
      "image 45/63 /home/verlo/dev_ws/Yolo/data/Aquarium Combined/test/images/IMG_8343_jpg.rf.2d88000497d74d72aedc118b125a0c07.jpg: 480x640 1 bird, 6.2ms\n",
      "image 46/63 /home/verlo/dev_ws/Yolo/data/Aquarium Combined/test/images/IMG_8395_jpg.rf.3bebece033961c9f665571644a14261f.jpg: 480x640 1 bird, 6.2ms\n",
      "image 47/63 /home/verlo/dev_ws/Yolo/data/Aquarium Combined/test/images/IMG_8396_jpg.rf.106a6ced5c649ea81f0de8ecaa4ff3b8.jpg: 480x640 (no detections), 6.1ms\n",
      "image 48/63 /home/verlo/dev_ws/Yolo/data/Aquarium Combined/test/images/IMG_8404_jpg.rf.265b89e862a375f6b89f781ea60ed480.jpg: 480x640 3 kites, 6.9ms\n",
      "image 49/63 /home/verlo/dev_ws/Yolo/data/Aquarium Combined/test/images/IMG_8420_jpg.rf.31f1d5f1440e48ccf1dee988b565911b.jpg: 480x640 2 birds, 8.4ms\n",
      "image 50/63 /home/verlo/dev_ws/Yolo/data/Aquarium Combined/test/images/IMG_8452_jpg.rf.6bbff701ab93e29553b3a70137fd4e66.jpg: 480x640 (no detections), 9.8ms\n",
      "image 51/63 /home/verlo/dev_ws/Yolo/data/Aquarium Combined/test/images/IMG_8490_jpg.rf.1836542cf054c6d303a2dd05d4194d7f.jpg: 480x640 (no detections), 8.4ms\n",
      "image 52/63 /home/verlo/dev_ws/Yolo/data/Aquarium Combined/test/images/IMG_8497_MOV-0_jpg.rf.5c59bd1bf7d8fd7a20999d51a79a12c0.jpg: 640x384 (no detections), 46.1ms\n",
      "image 53/63 /home/verlo/dev_ws/Yolo/data/Aquarium Combined/test/images/IMG_8497_MOV-3_jpg.rf.fd813e14681c8b41e709a500748ce46a.jpg: 640x384 (no detections), 6.2ms\n",
      "image 54/63 /home/verlo/dev_ws/Yolo/data/Aquarium Combined/test/images/IMG_8497_MOV-5_jpg.rf.3deffb208d656b7845661c5e33dd1afb.jpg: 640x384 (no detections), 6.0ms\n",
      "image 55/63 /home/verlo/dev_ws/Yolo/data/Aquarium Combined/test/images/IMG_8513_MOV-0_jpg.rf.2a2f77e3f73630b60aaf6ad3ca4ed130.jpg: 640x384 1 bird, 6.3ms\n",
      "image 56/63 /home/verlo/dev_ws/Yolo/data/Aquarium Combined/test/images/IMG_8515_jpg.rf.98a9daca7c5a5bad9872bd7fb2d4f198.jpg: 480x640 (no detections), 6.6ms\n",
      "image 57/63 /home/verlo/dev_ws/Yolo/data/Aquarium Combined/test/images/IMG_8582_MOV-0_jpg.rf.aa8304d7a5112d63c8841d96160d42cd.jpg: 640x384 2 birds, 6.4ms\n",
      "image 58/63 /home/verlo/dev_ws/Yolo/data/Aquarium Combined/test/images/IMG_8582_MOV-3_jpg.rf.c7dde0639837077f76428d70223368a4.jpg: 640x384 (no detections), 6.0ms\n",
      "image 59/63 /home/verlo/dev_ws/Yolo/data/Aquarium Combined/test/images/IMG_8582_MOV-5_jpg.rf.9d7a26fbf145ce39ab0831b4e6bc1f1e.jpg: 640x384 (no detections), 6.0ms\n",
      "image 60/63 /home/verlo/dev_ws/Yolo/data/Aquarium Combined/test/images/IMG_8590_MOV-2_jpg.rf.2136fdb5dcbcd58a1dc456bb3e5bf476.jpg: 640x384 1 apple, 6.0ms\n",
      "image 61/63 /home/verlo/dev_ws/Yolo/data/Aquarium Combined/test/images/IMG_8590_MOV-5_jpg.rf.074e6d8acdd3fcad16d866c341b43769.jpg: 640x384 1 airplane, 6.0ms\n",
      "image 62/63 /home/verlo/dev_ws/Yolo/data/Aquarium Combined/test/images/IMG_8595_MOV-0_jpg.rf.312ab0b8b9fca18134aee88044f45a06.jpg: 640x384 (no detections), 6.2ms\n",
      "image 63/63 /home/verlo/dev_ws/Yolo/data/Aquarium Combined/test/images/IMG_8599_MOV-3_jpg.rf.412ebb16ea80e964b4464c50e757df0e.jpg: 640x384 1 person, 1 sports ball, 1 kite, 6.0ms\n",
      "Speed: 3.3ms preprocess, 10.5ms inference, 1.1ms postprocess per image at shape (1, 3, 640, 384)\n",
      "Results saved to \u001b[1m/home/verlo/dev_ws/YOLO/runs/detect/predict4\u001b[0m\n"
     ]
    }
   ],
   "source": [
    "model = YOLO('/home/verlo/dev_ws/Yolo/runs/detect/train/weights/best.pt')\n",
    "\n",
    "results = model.predict('/home/verlo/dev_ws/Yolo/data/Aquarium Combined/test/images', save=True)"
   ]
  }
 ],
 "metadata": {
  "kernelspec": {
   "display_name": "Yolo_venv",
   "language": "python",
   "name": "python3"
  },
  "language_info": {
   "codemirror_mode": {
    "name": "ipython",
    "version": 3
   },
   "file_extension": ".py",
   "mimetype": "text/x-python",
   "name": "python",
   "nbconvert_exporter": "python",
   "pygments_lexer": "ipython3",
   "version": "3.10.12"
  }
 },
 "nbformat": 4,
 "nbformat_minor": 2
}
