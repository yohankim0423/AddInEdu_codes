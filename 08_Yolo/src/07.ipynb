{
 "cells": [
  {
   "cell_type": "code",
   "execution_count": 1,
   "metadata": {},
   "outputs": [
    {
     "name": "stdout",
     "output_type": "stream",
     "text": [
      "\n",
      "Found https://ultralytics.com/images/bus.jpg locally at bus.jpg\n",
      "image 1/1 /home/verlo/dev_ws/Yolo/src/bus.jpg: 640x480 4 persons, 1 bus, 1 skateboard, 195.0ms\n",
      "Speed: 10.9ms preprocess, 195.0ms inference, 1579.2ms postprocess per image at shape (1, 3, 640, 480)\n",
      "Results saved to \u001b[1m/home/verlo/dev_ws/YOLO/runs/segment/predict5\u001b[0m\n"
     ]
    },
    {
     "data": {
      "text/plain": [
       "[ultralytics.engine.results.Results object with attributes:\n",
       " \n",
       " boxes: ultralytics.engine.results.Boxes object\n",
       " keypoints: None\n",
       " masks: ultralytics.engine.results.Masks object\n",
       " names: {0: 'person', 1: 'bicycle', 2: 'car', 3: 'motorcycle', 4: 'airplane', 5: 'bus', 6: 'train', 7: 'truck', 8: 'boat', 9: 'traffic light', 10: 'fire hydrant', 11: 'stop sign', 12: 'parking meter', 13: 'bench', 14: 'bird', 15: 'cat', 16: 'dog', 17: 'horse', 18: 'sheep', 19: 'cow', 20: 'elephant', 21: 'bear', 22: 'zebra', 23: 'giraffe', 24: 'backpack', 25: 'umbrella', 26: 'handbag', 27: 'tie', 28: 'suitcase', 29: 'frisbee', 30: 'skis', 31: 'snowboard', 32: 'sports ball', 33: 'kite', 34: 'baseball bat', 35: 'baseball glove', 36: 'skateboard', 37: 'surfboard', 38: 'tennis racket', 39: 'bottle', 40: 'wine glass', 41: 'cup', 42: 'fork', 43: 'knife', 44: 'spoon', 45: 'bowl', 46: 'banana', 47: 'apple', 48: 'sandwich', 49: 'orange', 50: 'broccoli', 51: 'carrot', 52: 'hot dog', 53: 'pizza', 54: 'donut', 55: 'cake', 56: 'chair', 57: 'couch', 58: 'potted plant', 59: 'bed', 60: 'dining table', 61: 'toilet', 62: 'tv', 63: 'laptop', 64: 'mouse', 65: 'remote', 66: 'keyboard', 67: 'cell phone', 68: 'microwave', 69: 'oven', 70: 'toaster', 71: 'sink', 72: 'refrigerator', 73: 'book', 74: 'clock', 75: 'vase', 76: 'scissors', 77: 'teddy bear', 78: 'hair drier', 79: 'toothbrush'}\n",
       " obb: None\n",
       " orig_img: array([[[122, 148, 172],\n",
       "         [120, 146, 170],\n",
       "         [125, 153, 177],\n",
       "         ...,\n",
       "         [157, 170, 184],\n",
       "         [158, 171, 185],\n",
       "         [158, 171, 185]],\n",
       " \n",
       "        [[127, 153, 177],\n",
       "         [124, 150, 174],\n",
       "         [127, 155, 179],\n",
       "         ...,\n",
       "         [158, 171, 185],\n",
       "         [159, 172, 186],\n",
       "         [159, 172, 186]],\n",
       " \n",
       "        [[128, 154, 178],\n",
       "         [126, 152, 176],\n",
       "         [126, 154, 178],\n",
       "         ...,\n",
       "         [158, 171, 185],\n",
       "         [158, 171, 185],\n",
       "         [158, 171, 185]],\n",
       " \n",
       "        ...,\n",
       " \n",
       "        [[185, 185, 191],\n",
       "         [182, 182, 188],\n",
       "         [179, 179, 185],\n",
       "         ...,\n",
       "         [114, 107, 112],\n",
       "         [115, 105, 111],\n",
       "         [116, 106, 112]],\n",
       " \n",
       "        [[157, 157, 163],\n",
       "         [180, 180, 186],\n",
       "         [185, 186, 190],\n",
       "         ...,\n",
       "         [107,  97, 103],\n",
       "         [102,  92,  98],\n",
       "         [108,  98, 104]],\n",
       " \n",
       "        [[112, 112, 118],\n",
       "         [160, 160, 166],\n",
       "         [169, 170, 174],\n",
       "         ...,\n",
       "         [ 99,  89,  95],\n",
       "         [ 96,  86,  92],\n",
       "         [102,  92,  98]]], dtype=uint8)\n",
       " orig_shape: (1080, 810)\n",
       " path: '/home/verlo/dev_ws/Yolo/src/bus.jpg'\n",
       " probs: None\n",
       " save_dir: '/home/verlo/dev_ws/YOLO/runs/segment/predict5'\n",
       " speed: {'preprocess': 10.927677154541016, 'inference': 194.96846199035645, 'postprocess': 1579.2016983032227}]"
      ]
     },
     "execution_count": 1,
     "metadata": {},
     "output_type": "execute_result"
    }
   ],
   "source": [
    "from ultralytics import YOLO\n",
    "\n",
    "model = YOLO('yolov8n-seg.pt')\n",
    "results = model(source='https://ultralytics.com/images/bus.jpg', save=True)\n",
    "results"
   ]
  },
  {
   "cell_type": "code",
   "execution_count": 2,
   "metadata": {},
   "outputs": [
    {
     "name": "stdout",
     "output_type": "stream",
     "text": [
      "\n",
      "Found https://ultralytics.com/images/zidane.jpg locally at zidane.jpg\n",
      "image 1/1 /home/verlo/dev_ws/Yolo/src/zidane.jpg: 384x640 3 persons, 2 ties, 146.3ms\n",
      "Speed: 3.3ms preprocess, 146.3ms inference, 1.8ms postprocess per image at shape (1, 3, 384, 640)\n",
      "Results saved to \u001b[1m/home/verlo/dev_ws/YOLO/runs/segment/predict6\u001b[0m\n"
     ]
    },
    {
     "data": {
      "text/plain": [
       "[ultralytics.engine.results.Results object with attributes:\n",
       " \n",
       " boxes: ultralytics.engine.results.Boxes object\n",
       " keypoints: None\n",
       " masks: ultralytics.engine.results.Masks object\n",
       " names: {0: 'person', 1: 'bicycle', 2: 'car', 3: 'motorcycle', 4: 'airplane', 5: 'bus', 6: 'train', 7: 'truck', 8: 'boat', 9: 'traffic light', 10: 'fire hydrant', 11: 'stop sign', 12: 'parking meter', 13: 'bench', 14: 'bird', 15: 'cat', 16: 'dog', 17: 'horse', 18: 'sheep', 19: 'cow', 20: 'elephant', 21: 'bear', 22: 'zebra', 23: 'giraffe', 24: 'backpack', 25: 'umbrella', 26: 'handbag', 27: 'tie', 28: 'suitcase', 29: 'frisbee', 30: 'skis', 31: 'snowboard', 32: 'sports ball', 33: 'kite', 34: 'baseball bat', 35: 'baseball glove', 36: 'skateboard', 37: 'surfboard', 38: 'tennis racket', 39: 'bottle', 40: 'wine glass', 41: 'cup', 42: 'fork', 43: 'knife', 44: 'spoon', 45: 'bowl', 46: 'banana', 47: 'apple', 48: 'sandwich', 49: 'orange', 50: 'broccoli', 51: 'carrot', 52: 'hot dog', 53: 'pizza', 54: 'donut', 55: 'cake', 56: 'chair', 57: 'couch', 58: 'potted plant', 59: 'bed', 60: 'dining table', 61: 'toilet', 62: 'tv', 63: 'laptop', 64: 'mouse', 65: 'remote', 66: 'keyboard', 67: 'cell phone', 68: 'microwave', 69: 'oven', 70: 'toaster', 71: 'sink', 72: 'refrigerator', 73: 'book', 74: 'clock', 75: 'vase', 76: 'scissors', 77: 'teddy bear', 78: 'hair drier', 79: 'toothbrush'}\n",
       " obb: None\n",
       " orig_img: array([[[38, 48, 72],\n",
       "         [40, 50, 74],\n",
       "         [40, 51, 73],\n",
       "         ...,\n",
       "         [25, 21, 56],\n",
       "         [21, 19, 55],\n",
       "         [17, 15, 51]],\n",
       " \n",
       "        [[37, 47, 71],\n",
       "         [37, 47, 71],\n",
       "         [37, 48, 70],\n",
       "         ...,\n",
       "         [24, 20, 55],\n",
       "         [18, 16, 52],\n",
       "         [13, 11, 47]],\n",
       " \n",
       "        [[41, 51, 75],\n",
       "         [39, 49, 73],\n",
       "         [37, 48, 70],\n",
       "         ...,\n",
       "         [24, 20, 56],\n",
       "         [20, 16, 52],\n",
       "         [16, 12, 48]],\n",
       " \n",
       "        ...,\n",
       " \n",
       "        [[48, 43, 40],\n",
       "         [49, 44, 41],\n",
       "         [48, 43, 40],\n",
       "         ...,\n",
       "         [49, 49, 35],\n",
       "         [49, 49, 35],\n",
       "         [50, 50, 36]],\n",
       " \n",
       "        [[49, 42, 39],\n",
       "         [49, 42, 39],\n",
       "         [49, 42, 39],\n",
       "         ...,\n",
       "         [50, 49, 35],\n",
       "         [50, 49, 35],\n",
       "         [51, 50, 36]],\n",
       " \n",
       "        [[48, 41, 38],\n",
       "         [48, 41, 38],\n",
       "         [48, 41, 38],\n",
       "         ...,\n",
       "         [50, 49, 35],\n",
       "         [50, 49, 35],\n",
       "         [51, 50, 36]]], dtype=uint8)\n",
       " orig_shape: (720, 1280)\n",
       " path: '/home/verlo/dev_ws/Yolo/src/zidane.jpg'\n",
       " probs: None\n",
       " save_dir: '/home/verlo/dev_ws/YOLO/runs/segment/predict6'\n",
       " speed: {'preprocess': 3.326892852783203, 'inference': 146.27361297607422, 'postprocess': 1.7538070678710938}]"
      ]
     },
     "execution_count": 2,
     "metadata": {},
     "output_type": "execute_result"
    }
   ],
   "source": [
    "from ultralytics import YOLO\n",
    "\n",
    "model = YOLO('yolov8m-seg.pt')\n",
    "results = model(source='https://ultralytics.com/images/zidane.jpg', save=True)\n",
    "results"
   ]
  },
  {
   "cell_type": "code",
   "execution_count": 2,
   "metadata": {},
   "outputs": [
    {
     "name": "stdout",
     "output_type": "stream",
     "text": [
      "Ultralytics YOLOv8.2.16 🚀 Python-3.10.12 torch-2.1.0+cu121 CUDA:0 (NVIDIA GeForce RTX 2060, 5927MiB)\n",
      "\u001b[34m\u001b[1mengine/trainer: \u001b[0mtask=segment, mode=train, model=yolov8n-seg.pt, data=/home/verlo/dev_ws/Yolo/data/Sample/01.원천데이터/08_174514_221206/sensor_raw_data/camera/YOLODataset/dataset.yaml, epochs=100, time=None, patience=100, batch=4, imgsz=640, save=True, save_period=-1, cache=False, device=None, workers=8, project=None, name=train10, exist_ok=False, pretrained=True, optimizer=auto, verbose=True, seed=0, deterministic=True, single_cls=False, rect=False, cos_lr=False, close_mosaic=10, resume=False, amp=True, fraction=1.0, profile=False, freeze=None, multi_scale=False, overlap_mask=True, mask_ratio=4, dropout=0.0, val=True, split=val, save_json=False, save_hybrid=False, conf=None, iou=0.7, max_det=300, half=False, dnn=False, plots=True, source=None, vid_stride=1, stream_buffer=False, visualize=False, augment=False, agnostic_nms=False, classes=None, retina_masks=False, embed=None, show=False, save_frames=False, save_txt=False, save_conf=False, save_crop=False, show_labels=True, show_conf=True, show_boxes=True, line_width=None, format=torchscript, keras=False, optimize=False, int8=False, dynamic=False, simplify=False, opset=None, workspace=4, nms=False, lr0=0.01, lrf=0.01, momentum=0.937, weight_decay=0.0005, warmup_epochs=3.0, warmup_momentum=0.8, warmup_bias_lr=0.1, box=7.5, cls=0.5, dfl=1.5, pose=12.0, kobj=1.0, label_smoothing=0.0, nbs=64, hsv_h=0.015, hsv_s=0.7, hsv_v=0.4, degrees=0.0, translate=0.1, scale=0.5, shear=0.0, perspective=0.0, flipud=0.0, fliplr=0.5, bgr=0.0, mosaic=1.0, mixup=0.0, copy_paste=0.0, auto_augment=randaugment, erasing=0.4, crop_fraction=1.0, cfg=None, tracker=botsort.yaml, save_dir=/home/verlo/dev_ws/YOLO/runs/segment/train10\n",
      "Overriding model.yaml nc=80 with nc=1\n",
      "\n",
      "                   from  n    params  module                                       arguments                     \n",
      "  0                  -1  1       464  ultralytics.nn.modules.conv.Conv             [3, 16, 3, 2]                 \n",
      "  1                  -1  1      4672  ultralytics.nn.modules.conv.Conv             [16, 32, 3, 2]                \n",
      "  2                  -1  1      7360  ultralytics.nn.modules.block.C2f             [32, 32, 1, True]             \n",
      "  3                  -1  1     18560  ultralytics.nn.modules.conv.Conv             [32, 64, 3, 2]                \n",
      "  4                  -1  2     49664  ultralytics.nn.modules.block.C2f             [64, 64, 2, True]             \n",
      "  5                  -1  1     73984  ultralytics.nn.modules.conv.Conv             [64, 128, 3, 2]               \n",
      "  6                  -1  2    197632  ultralytics.nn.modules.block.C2f             [128, 128, 2, True]           \n",
      "  7                  -1  1    295424  ultralytics.nn.modules.conv.Conv             [128, 256, 3, 2]              \n",
      "  8                  -1  1    460288  ultralytics.nn.modules.block.C2f             [256, 256, 1, True]           \n",
      "  9                  -1  1    164608  ultralytics.nn.modules.block.SPPF            [256, 256, 5]                 \n",
      " 10                  -1  1         0  torch.nn.modules.upsampling.Upsample         [None, 2, 'nearest']          \n",
      " 11             [-1, 6]  1         0  ultralytics.nn.modules.conv.Concat           [1]                           \n",
      " 12                  -1  1    148224  ultralytics.nn.modules.block.C2f             [384, 128, 1]                 \n",
      " 13                  -1  1         0  torch.nn.modules.upsampling.Upsample         [None, 2, 'nearest']          \n",
      " 14             [-1, 4]  1         0  ultralytics.nn.modules.conv.Concat           [1]                           \n",
      " 15                  -1  1     37248  ultralytics.nn.modules.block.C2f             [192, 64, 1]                  \n",
      " 16                  -1  1     36992  ultralytics.nn.modules.conv.Conv             [64, 64, 3, 2]                \n",
      " 17            [-1, 12]  1         0  ultralytics.nn.modules.conv.Concat           [1]                           \n",
      " 18                  -1  1    123648  ultralytics.nn.modules.block.C2f             [192, 128, 1]                 \n",
      " 19                  -1  1    147712  ultralytics.nn.modules.conv.Conv             [128, 128, 3, 2]              \n",
      " 20             [-1, 9]  1         0  ultralytics.nn.modules.conv.Concat           [1]                           \n",
      " 21                  -1  1    493056  ultralytics.nn.modules.block.C2f             [384, 256, 1]                 \n",
      " 22        [15, 18, 21]  1   1004275  ultralytics.nn.modules.head.Segment          [1, 32, 64, [64, 128, 256]]   \n",
      "YOLOv8n-seg summary: 261 layers, 3263811 parameters, 3263795 gradients, 12.1 GFLOPs\n",
      "\n",
      "Transferred 381/417 items from pretrained weights\n",
      "Freezing layer 'model.22.dfl.conv.weight'\n",
      "\u001b[34m\u001b[1mAMP: \u001b[0mrunning Automatic Mixed Precision (AMP) checks with YOLOv8n...\n",
      "\u001b[34m\u001b[1mAMP: \u001b[0mchecks passed ✅\n"
     ]
    },
    {
     "name": "stderr",
     "output_type": "stream",
     "text": [
      "\u001b[34m\u001b[1mtrain: \u001b[0mScanning /home/verlo/dev_ws/Yolo/data/Sample/01.원천데이터/08_174514_221206/sensor_raw_data/camera/YOLODataset/labels/train.cache... 32 images, 0 backgrounds, 0 corrupt: 100%|██████████| 32/32 [00:00<?, ?it/s]\n",
      "\u001b[34m\u001b[1mval: \u001b[0mScanning /home/verlo/dev_ws/Yolo/data/Sample/01.원천데이터/08_174514_221206/sensor_raw_data/camera/YOLODataset/labels/val.cache... 8 images, 0 backgrounds, 0 corrupt: 100%|██████████| 8/8 [00:00<?, ?it/s]\n"
     ]
    },
    {
     "name": "stdout",
     "output_type": "stream",
     "text": [
      "Plotting labels to /home/verlo/dev_ws/YOLO/runs/segment/train10/labels.jpg... \n",
      "\u001b[34m\u001b[1moptimizer:\u001b[0m 'optimizer=auto' found, ignoring 'lr0=0.01' and 'momentum=0.937' and determining best 'optimizer', 'lr0' and 'momentum' automatically... \n",
      "\u001b[34m\u001b[1moptimizer:\u001b[0m AdamW(lr=0.002, momentum=0.9) with parameter groups 66 weight(decay=0.0), 77 weight(decay=0.0005), 76 bias(decay=0.0)\n",
      "Image sizes 640 train, 640 val\n",
      "Using 8 dataloader workers\n",
      "Logging results to \u001b[1m/home/verlo/dev_ws/YOLO/runs/segment/train10\u001b[0m\n",
      "Starting training for 100 epochs...\n",
      "\n",
      "      Epoch    GPU_mem   box_loss   seg_loss   cls_loss   dfl_loss  Instances       Size\n"
     ]
    },
    {
     "name": "stderr",
     "output_type": "stream",
     "text": [
      "      1/100     0.923G      2.473      4.572      3.961      1.812         25        640: 100%|██████████| 8/8 [00:03<00:00,  2.13it/s]\n",
      "                 Class     Images  Instances      Box(P          R      mAP50  mAP50-95)     Mask(P          R      mAP50  mAP50-95): 100%|██████████| 1/1 [00:00<00:00,  1.76it/s]"
     ]
    },
    {
     "name": "stdout",
     "output_type": "stream",
     "text": [
      "                   all          8         33     0.0075      0.545    0.00722    0.00339     0.0025      0.182    0.00223   0.000627\n"
     ]
    },
    {
     "name": "stderr",
     "output_type": "stream",
     "text": [
      "\n"
     ]
    },
    {
     "name": "stdout",
     "output_type": "stream",
     "text": [
      "\n",
      "      Epoch    GPU_mem   box_loss   seg_loss   cls_loss   dfl_loss  Instances       Size\n"
     ]
    },
    {
     "name": "stderr",
     "output_type": "stream",
     "text": [
      "      2/100     0.965G      1.824        3.1      3.278      1.305         26        640: 100%|██████████| 8/8 [00:01<00:00,  6.16it/s]\n",
      "                 Class     Images  Instances      Box(P          R      mAP50  mAP50-95)     Mask(P          R      mAP50  mAP50-95): 100%|██████████| 1/1 [00:00<00:00,  5.87it/s]\n"
     ]
    },
    {
     "name": "stdout",
     "output_type": "stream",
     "text": [
      "                   all          8         33     0.0117      0.848      0.583      0.333    0.00917      0.667      0.315      0.124\n",
      "\n",
      "      Epoch    GPU_mem   box_loss   seg_loss   cls_loss   dfl_loss  Instances       Size\n"
     ]
    },
    {
     "name": "stderr",
     "output_type": "stream",
     "text": [
      "      3/100     0.914G      1.831      2.478      2.536      1.191         36        640: 100%|██████████| 8/8 [00:01<00:00,  4.16it/s]\n",
      "                 Class     Images  Instances      Box(P          R      mAP50  mAP50-95)     Mask(P          R      mAP50  mAP50-95): 100%|██████████| 1/1 [00:00<00:00,  6.88it/s]"
     ]
    },
    {
     "name": "stdout",
     "output_type": "stream",
     "text": [
      "                   all          8         33     0.0125      0.909       0.59      0.234     0.0121      0.879      0.435      0.152\n"
     ]
    },
    {
     "name": "stderr",
     "output_type": "stream",
     "text": [
      "\n"
     ]
    },
    {
     "name": "stdout",
     "output_type": "stream",
     "text": [
      "\n",
      "      Epoch    GPU_mem   box_loss   seg_loss   cls_loss   dfl_loss  Instances       Size\n"
     ]
    },
    {
     "name": "stderr",
     "output_type": "stream",
     "text": [
      "      4/100     0.904G      1.685      2.312       2.13      1.229         20        640: 100%|██████████| 8/8 [00:01<00:00,  4.69it/s]\n",
      "                 Class     Images  Instances      Box(P          R      mAP50  mAP50-95)     Mask(P          R      mAP50  mAP50-95): 100%|██████████| 1/1 [00:00<00:00,  5.40it/s]\n"
     ]
    },
    {
     "name": "stdout",
     "output_type": "stream",
     "text": [
      "                   all          8         33     0.0117      0.848      0.497      0.196     0.0112      0.818       0.25      0.104\n",
      "\n",
      "      Epoch    GPU_mem   box_loss   seg_loss   cls_loss   dfl_loss  Instances       Size\n"
     ]
    },
    {
     "name": "stderr",
     "output_type": "stream",
     "text": [
      "      5/100     0.929G      1.694      2.143      1.858      1.203         45        640: 100%|██████████| 8/8 [00:01<00:00,  5.36it/s]\n",
      "                 Class     Images  Instances      Box(P          R      mAP50  mAP50-95)     Mask(P          R      mAP50  mAP50-95): 100%|██████████| 1/1 [00:00<00:00,  4.42it/s]"
     ]
    },
    {
     "name": "stdout",
     "output_type": "stream",
     "text": [
      "                   all          8         33     0.0125      0.909      0.427      0.228     0.0112      0.818      0.178     0.0618\n"
     ]
    },
    {
     "name": "stderr",
     "output_type": "stream",
     "text": [
      "\n"
     ]
    },
    {
     "name": "stdout",
     "output_type": "stream",
     "text": [
      "\n",
      "      Epoch    GPU_mem   box_loss   seg_loss   cls_loss   dfl_loss  Instances       Size\n"
     ]
    },
    {
     "name": "stderr",
     "output_type": "stream",
     "text": [
      "      6/100     0.916G      1.628       2.32      1.825      1.199         33        640: 100%|██████████| 8/8 [00:01<00:00,  4.36it/s]\n",
      "                 Class     Images  Instances      Box(P          R      mAP50  mAP50-95)     Mask(P          R      mAP50  mAP50-95): 100%|██████████| 1/1 [00:00<00:00,  7.05it/s]"
     ]
    },
    {
     "name": "stdout",
     "output_type": "stream",
     "text": [
      "                   all          8         33      0.845      0.333      0.448      0.228       0.01      0.727      0.146     0.0445\n"
     ]
    },
    {
     "name": "stderr",
     "output_type": "stream",
     "text": [
      "\n"
     ]
    },
    {
     "name": "stdout",
     "output_type": "stream",
     "text": [
      "\n",
      "      Epoch    GPU_mem   box_loss   seg_loss   cls_loss   dfl_loss  Instances       Size\n"
     ]
    },
    {
     "name": "stderr",
     "output_type": "stream",
     "text": [
      "      7/100     0.912G      1.672      2.073      1.811      1.197         14        640: 100%|██████████| 8/8 [00:02<00:00,  3.67it/s]\n",
      "                 Class     Images  Instances      Box(P          R      mAP50  mAP50-95)     Mask(P          R      mAP50  mAP50-95): 100%|██████████| 1/1 [00:00<00:00,  3.36it/s]"
     ]
    },
    {
     "name": "stdout",
     "output_type": "stream",
     "text": [
      "                   all          8         33          1     0.0617      0.417      0.259     0.0142      0.909      0.207     0.0558\n"
     ]
    },
    {
     "name": "stderr",
     "output_type": "stream",
     "text": [
      "\n"
     ]
    },
    {
     "name": "stdout",
     "output_type": "stream",
     "text": [
      "\n",
      "      Epoch    GPU_mem   box_loss   seg_loss   cls_loss   dfl_loss  Instances       Size\n"
     ]
    },
    {
     "name": "stderr",
     "output_type": "stream",
     "text": [
      "      8/100     0.925G      1.663      2.008      1.733      1.182         48        640: 100%|██████████| 8/8 [00:01<00:00,  4.11it/s]\n",
      "                 Class     Images  Instances      Box(P          R      mAP50  mAP50-95)     Mask(P          R      mAP50  mAP50-95): 100%|██████████| 1/1 [00:00<00:00,  4.98it/s]"
     ]
    },
    {
     "name": "stdout",
     "output_type": "stream",
     "text": [
      "                   all          8         33      0.768        0.3      0.451      0.275      0.542      0.212      0.361      0.144\n"
     ]
    },
    {
     "name": "stderr",
     "output_type": "stream",
     "text": [
      "\n"
     ]
    },
    {
     "name": "stdout",
     "output_type": "stream",
     "text": [
      "\n",
      "      Epoch    GPU_mem   box_loss   seg_loss   cls_loss   dfl_loss  Instances       Size\n"
     ]
    },
    {
     "name": "stderr",
     "output_type": "stream",
     "text": [
      "      9/100     0.963G      1.514      1.882      1.557      1.126         37        640: 100%|██████████| 8/8 [00:01<00:00,  4.40it/s]\n",
      "                 Class     Images  Instances      Box(P          R      mAP50  mAP50-95)     Mask(P          R      mAP50  mAP50-95): 100%|██████████| 1/1 [00:00<00:00,  5.29it/s]\n"
     ]
    },
    {
     "name": "stdout",
     "output_type": "stream",
     "text": [
      "                   all          8         33      0.729       0.49      0.564      0.362      0.639       0.43      0.435      0.194\n",
      "\n",
      "      Epoch    GPU_mem   box_loss   seg_loss   cls_loss   dfl_loss  Instances       Size\n"
     ]
    },
    {
     "name": "stderr",
     "output_type": "stream",
     "text": [
      "     10/100     0.912G      1.578       1.99      1.757        1.2         26        640: 100%|██████████| 8/8 [00:01<00:00,  4.62it/s]\n",
      "                 Class     Images  Instances      Box(P          R      mAP50  mAP50-95)     Mask(P          R      mAP50  mAP50-95): 100%|██████████| 1/1 [00:00<00:00,  6.83it/s]"
     ]
    },
    {
     "name": "stdout",
     "output_type": "stream",
     "text": [
      "                   all          8         33      0.729       0.49      0.564      0.362      0.639       0.43      0.435      0.194\n"
     ]
    },
    {
     "name": "stderr",
     "output_type": "stream",
     "text": [
      "\n"
     ]
    },
    {
     "name": "stdout",
     "output_type": "stream",
     "text": [
      "\n",
      "      Epoch    GPU_mem   box_loss   seg_loss   cls_loss   dfl_loss  Instances       Size\n"
     ]
    },
    {
     "name": "stderr",
     "output_type": "stream",
     "text": [
      "     11/100     0.921G      1.598      2.022      1.643      1.163         46        640: 100%|██████████| 8/8 [00:01<00:00,  4.81it/s]\n",
      "                 Class     Images  Instances      Box(P          R      mAP50  mAP50-95)     Mask(P          R      mAP50  mAP50-95): 100%|██████████| 1/1 [00:00<00:00,  7.25it/s]"
     ]
    },
    {
     "name": "stdout",
     "output_type": "stream",
     "text": [
      "                   all          8         33      0.936      0.447       0.67      0.437      0.936      0.447      0.701      0.316\n"
     ]
    },
    {
     "name": "stderr",
     "output_type": "stream",
     "text": [
      "\n"
     ]
    },
    {
     "name": "stdout",
     "output_type": "stream",
     "text": [
      "\n",
      "      Epoch    GPU_mem   box_loss   seg_loss   cls_loss   dfl_loss  Instances       Size\n"
     ]
    },
    {
     "name": "stderr",
     "output_type": "stream",
     "text": [
      "     12/100     0.956G      1.545      1.757      1.549      1.156         50        640: 100%|██████████| 8/8 [00:01<00:00,  4.56it/s]\n",
      "                 Class     Images  Instances      Box(P          R      mAP50  mAP50-95)     Mask(P          R      mAP50  mAP50-95): 100%|██████████| 1/1 [00:00<00:00,  5.01it/s]"
     ]
    },
    {
     "name": "stdout",
     "output_type": "stream",
     "text": [
      "                   all          8         33      0.936      0.447       0.67      0.437      0.936      0.447      0.701      0.316\n"
     ]
    },
    {
     "name": "stderr",
     "output_type": "stream",
     "text": [
      "\n"
     ]
    },
    {
     "name": "stdout",
     "output_type": "stream",
     "text": [
      "\n",
      "      Epoch    GPU_mem   box_loss   seg_loss   cls_loss   dfl_loss  Instances       Size\n"
     ]
    },
    {
     "name": "stderr",
     "output_type": "stream",
     "text": [
      "     13/100     0.963G      1.612      1.882      1.613      1.216         40        640: 100%|██████████| 8/8 [00:01<00:00,  4.72it/s]\n",
      "                 Class     Images  Instances      Box(P          R      mAP50  mAP50-95)     Mask(P          R      mAP50  mAP50-95): 100%|██████████| 1/1 [00:00<00:00,  5.55it/s]\n"
     ]
    },
    {
     "name": "stdout",
     "output_type": "stream",
     "text": [
      "                   all          8         33       0.73      0.667      0.744      0.436      0.678      0.637      0.682      0.224\n",
      "\n",
      "      Epoch    GPU_mem   box_loss   seg_loss   cls_loss   dfl_loss  Instances       Size\n"
     ]
    },
    {
     "name": "stderr",
     "output_type": "stream",
     "text": [
      "     14/100     0.891G      1.644      2.037      1.577      1.245         32        640: 100%|██████████| 8/8 [00:01<00:00,  4.97it/s]\n",
      "                 Class     Images  Instances      Box(P          R      mAP50  mAP50-95)     Mask(P          R      mAP50  mAP50-95): 100%|██████████| 1/1 [00:00<00:00,  5.94it/s]\n"
     ]
    },
    {
     "name": "stdout",
     "output_type": "stream",
     "text": [
      "                   all          8         33       0.73      0.667      0.744      0.436      0.678      0.637      0.682      0.224\n",
      "\n",
      "      Epoch    GPU_mem   box_loss   seg_loss   cls_loss   dfl_loss  Instances       Size\n"
     ]
    },
    {
     "name": "stderr",
     "output_type": "stream",
     "text": [
      "     15/100     0.914G      1.645      2.049      1.805      1.243         44        640: 100%|██████████| 8/8 [00:01<00:00,  5.17it/s]\n",
      "                 Class     Images  Instances      Box(P          R      mAP50  mAP50-95)     Mask(P          R      mAP50  mAP50-95): 100%|██████████| 1/1 [00:00<00:00,  5.91it/s]\n"
     ]
    },
    {
     "name": "stdout",
     "output_type": "stream",
     "text": [
      "                   all          8         33      0.733      0.606      0.667       0.38      0.733      0.606      0.653      0.245\n",
      "\n",
      "      Epoch    GPU_mem   box_loss   seg_loss   cls_loss   dfl_loss  Instances       Size\n"
     ]
    },
    {
     "name": "stderr",
     "output_type": "stream",
     "text": [
      "     16/100       0.9G       1.56      1.767      1.551      1.204         16        640: 100%|██████████| 8/8 [00:01<00:00,  4.79it/s]\n",
      "                 Class     Images  Instances      Box(P          R      mAP50  mAP50-95)     Mask(P          R      mAP50  mAP50-95): 100%|██████████| 1/1 [00:00<00:00,  5.07it/s]\n"
     ]
    },
    {
     "name": "stdout",
     "output_type": "stream",
     "text": [
      "                   all          8         33      0.733      0.606      0.667       0.38      0.733      0.606      0.653      0.245\n",
      "\n",
      "      Epoch    GPU_mem   box_loss   seg_loss   cls_loss   dfl_loss  Instances       Size\n"
     ]
    },
    {
     "name": "stderr",
     "output_type": "stream",
     "text": [
      "     17/100     0.912G      1.525      1.683      1.564      1.186         25        640: 100%|██████████| 8/8 [00:01<00:00,  4.90it/s]\n",
      "                 Class     Images  Instances      Box(P          R      mAP50  mAP50-95)     Mask(P          R      mAP50  mAP50-95): 100%|██████████| 1/1 [00:00<00:00,  8.73it/s]"
     ]
    },
    {
     "name": "stdout",
     "output_type": "stream",
     "text": [
      "                   all          8         33      0.843      0.606      0.716      0.387      0.843      0.606      0.709      0.309\n"
     ]
    },
    {
     "name": "stderr",
     "output_type": "stream",
     "text": [
      "\n"
     ]
    },
    {
     "name": "stdout",
     "output_type": "stream",
     "text": [
      "\n",
      "      Epoch    GPU_mem   box_loss   seg_loss   cls_loss   dfl_loss  Instances       Size\n"
     ]
    },
    {
     "name": "stderr",
     "output_type": "stream",
     "text": [
      "     18/100     0.912G      1.636      1.877      1.544      1.153         43        640: 100%|██████████| 8/8 [00:01<00:00,  4.72it/s]\n",
      "                 Class     Images  Instances      Box(P          R      mAP50  mAP50-95)     Mask(P          R      mAP50  mAP50-95): 100%|██████████| 1/1 [00:00<00:00,  5.48it/s]"
     ]
    },
    {
     "name": "stdout",
     "output_type": "stream",
     "text": [
      "                   all          8         33      0.843      0.606      0.716      0.387      0.843      0.606      0.709      0.309\n"
     ]
    },
    {
     "name": "stderr",
     "output_type": "stream",
     "text": [
      "\n"
     ]
    },
    {
     "name": "stdout",
     "output_type": "stream",
     "text": [
      "\n",
      "      Epoch    GPU_mem   box_loss   seg_loss   cls_loss   dfl_loss  Instances       Size\n"
     ]
    },
    {
     "name": "stderr",
     "output_type": "stream",
     "text": [
      "     19/100      1.02G      1.527       1.72      1.516      1.126         33        640: 100%|██████████| 8/8 [00:01<00:00,  4.72it/s]\n",
      "                 Class     Images  Instances      Box(P          R      mAP50  mAP50-95)     Mask(P          R      mAP50  mAP50-95): 100%|██████████| 1/1 [00:00<00:00,  4.96it/s]"
     ]
    },
    {
     "name": "stdout",
     "output_type": "stream",
     "text": [
      "                   all          8         33      0.877       0.65      0.841       0.51      0.877       0.65      0.821      0.312\n"
     ]
    },
    {
     "name": "stderr",
     "output_type": "stream",
     "text": [
      "\n"
     ]
    },
    {
     "name": "stdout",
     "output_type": "stream",
     "text": [
      "\n",
      "      Epoch    GPU_mem   box_loss   seg_loss   cls_loss   dfl_loss  Instances       Size\n"
     ]
    },
    {
     "name": "stderr",
     "output_type": "stream",
     "text": [
      "     20/100      1.02G      1.468      1.717      1.475      1.162         23        640: 100%|██████████| 8/8 [00:02<00:00,  3.46it/s]\n",
      "                 Class     Images  Instances      Box(P          R      mAP50  mAP50-95)     Mask(P          R      mAP50  mAP50-95): 100%|██████████| 1/1 [00:00<00:00,  4.34it/s]"
     ]
    },
    {
     "name": "stdout",
     "output_type": "stream",
     "text": [
      "                   all          8         33      0.877       0.65      0.841       0.51      0.877       0.65      0.821      0.312\n"
     ]
    },
    {
     "name": "stderr",
     "output_type": "stream",
     "text": [
      "\n"
     ]
    },
    {
     "name": "stdout",
     "output_type": "stream",
     "text": [
      "\n",
      "      Epoch    GPU_mem   box_loss   seg_loss   cls_loss   dfl_loss  Instances       Size\n"
     ]
    },
    {
     "name": "stderr",
     "output_type": "stream",
     "text": [
      "     21/100     0.998G      1.535      1.862      1.534      1.146         24        640: 100%|██████████| 8/8 [00:02<00:00,  4.00it/s]\n",
      "                 Class     Images  Instances      Box(P          R      mAP50  mAP50-95)     Mask(P          R      mAP50  mAP50-95): 100%|██████████| 1/1 [00:00<00:00,  3.47it/s]"
     ]
    },
    {
     "name": "stdout",
     "output_type": "stream",
     "text": [
      "                   all          8         33      0.766      0.758      0.811      0.501      0.797      0.715      0.829      0.367\n"
     ]
    },
    {
     "name": "stderr",
     "output_type": "stream",
     "text": [
      "\n"
     ]
    },
    {
     "name": "stdout",
     "output_type": "stream",
     "text": [
      "\n",
      "      Epoch    GPU_mem   box_loss   seg_loss   cls_loss   dfl_loss  Instances       Size\n"
     ]
    },
    {
     "name": "stderr",
     "output_type": "stream",
     "text": [
      "     22/100     0.937G      1.461      1.689      1.385       1.14         22        640: 100%|██████████| 8/8 [00:02<00:00,  3.70it/s]\n",
      "                 Class     Images  Instances      Box(P          R      mAP50  mAP50-95)     Mask(P          R      mAP50  mAP50-95): 100%|██████████| 1/1 [00:00<00:00,  5.61it/s]"
     ]
    },
    {
     "name": "stdout",
     "output_type": "stream",
     "text": [
      "                   all          8         33      0.766      0.758      0.811      0.501      0.797      0.715      0.829      0.367\n"
     ]
    },
    {
     "name": "stderr",
     "output_type": "stream",
     "text": [
      "\n"
     ]
    },
    {
     "name": "stdout",
     "output_type": "stream",
     "text": [
      "\n",
      "      Epoch    GPU_mem   box_loss   seg_loss   cls_loss   dfl_loss  Instances       Size\n"
     ]
    },
    {
     "name": "stderr",
     "output_type": "stream",
     "text": [
      "     23/100     0.895G      1.422      1.694       1.38      1.092         26        640: 100%|██████████| 8/8 [00:01<00:00,  4.66it/s]\n",
      "                 Class     Images  Instances      Box(P          R      mAP50  mAP50-95)     Mask(P          R      mAP50  mAP50-95): 100%|██████████| 1/1 [00:00<00:00,  5.03it/s]"
     ]
    },
    {
     "name": "stdout",
     "output_type": "stream",
     "text": [
      "                   all          8         33        0.8      0.879      0.906      0.584      0.772      0.848      0.865      0.426\n"
     ]
    },
    {
     "name": "stderr",
     "output_type": "stream",
     "text": [
      "\n"
     ]
    },
    {
     "name": "stdout",
     "output_type": "stream",
     "text": [
      "\n",
      "      Epoch    GPU_mem   box_loss   seg_loss   cls_loss   dfl_loss  Instances       Size\n"
     ]
    },
    {
     "name": "stderr",
     "output_type": "stream",
     "text": [
      "     24/100     0.879G      1.378      1.723      1.275      1.082         32        640: 100%|██████████| 8/8 [00:01<00:00,  4.88it/s]\n",
      "                 Class     Images  Instances      Box(P          R      mAP50  mAP50-95)     Mask(P          R      mAP50  mAP50-95): 100%|██████████| 1/1 [00:00<00:00,  5.69it/s]"
     ]
    },
    {
     "name": "stdout",
     "output_type": "stream",
     "text": [
      "                   all          8         33        0.8      0.879      0.906      0.584      0.772      0.848      0.865      0.426\n"
     ]
    },
    {
     "name": "stderr",
     "output_type": "stream",
     "text": [
      "\n"
     ]
    },
    {
     "name": "stdout",
     "output_type": "stream",
     "text": [
      "\n",
      "      Epoch    GPU_mem   box_loss   seg_loss   cls_loss   dfl_loss  Instances       Size\n"
     ]
    },
    {
     "name": "stderr",
     "output_type": "stream",
     "text": [
      "     25/100     0.929G      1.375      1.641      1.342      1.122         41        640: 100%|██████████| 8/8 [00:01<00:00,  4.44it/s]\n",
      "                 Class     Images  Instances      Box(P          R      mAP50  mAP50-95)     Mask(P          R      mAP50  mAP50-95): 100%|██████████| 1/1 [00:00<00:00,  5.61it/s]"
     ]
    },
    {
     "name": "stdout",
     "output_type": "stream",
     "text": [
      "                   all          8         33      0.856      0.902      0.906      0.616      0.826      0.879       0.86      0.405\n"
     ]
    },
    {
     "name": "stderr",
     "output_type": "stream",
     "text": [
      "\n"
     ]
    },
    {
     "name": "stdout",
     "output_type": "stream",
     "text": [
      "\n",
      "      Epoch    GPU_mem   box_loss   seg_loss   cls_loss   dfl_loss  Instances       Size\n"
     ]
    },
    {
     "name": "stderr",
     "output_type": "stream",
     "text": [
      "     26/100     0.889G      1.401      1.614      1.313      1.123         40        640: 100%|██████████| 8/8 [00:01<00:00,  5.78it/s]\n",
      "                 Class     Images  Instances      Box(P          R      mAP50  mAP50-95)     Mask(P          R      mAP50  mAP50-95): 100%|██████████| 1/1 [00:00<00:00,  5.79it/s]"
     ]
    },
    {
     "name": "stdout",
     "output_type": "stream",
     "text": [
      "                   all          8         33      0.856      0.902      0.906      0.616      0.826      0.879       0.86      0.405\n"
     ]
    },
    {
     "name": "stderr",
     "output_type": "stream",
     "text": [
      "\n"
     ]
    },
    {
     "name": "stdout",
     "output_type": "stream",
     "text": [
      "\n",
      "      Epoch    GPU_mem   box_loss   seg_loss   cls_loss   dfl_loss  Instances       Size\n"
     ]
    },
    {
     "name": "stderr",
     "output_type": "stream",
     "text": [
      "     27/100     0.956G      1.304      1.614      1.204      1.082         31        640: 100%|██████████| 8/8 [00:01<00:00,  4.87it/s]\n",
      "                 Class     Images  Instances      Box(P          R      mAP50  mAP50-95)     Mask(P          R      mAP50  mAP50-95): 100%|██████████| 1/1 [00:00<00:00,  6.05it/s]\n"
     ]
    },
    {
     "name": "stdout",
     "output_type": "stream",
     "text": [
      "                   all          8         33      0.796      0.909      0.885      0.546      0.796      0.909      0.883      0.425\n",
      "\n",
      "      Epoch    GPU_mem   box_loss   seg_loss   cls_loss   dfl_loss  Instances       Size\n"
     ]
    },
    {
     "name": "stderr",
     "output_type": "stream",
     "text": [
      "     28/100     0.908G      1.294      1.474      1.339      1.096         23        640: 100%|██████████| 8/8 [00:01<00:00,  5.04it/s]\n",
      "                 Class     Images  Instances      Box(P          R      mAP50  mAP50-95)     Mask(P          R      mAP50  mAP50-95): 100%|██████████| 1/1 [00:00<00:00,  7.36it/s]"
     ]
    },
    {
     "name": "stdout",
     "output_type": "stream",
     "text": [
      "                   all          8         33      0.796      0.909      0.885      0.546      0.796      0.909      0.883      0.425\n"
     ]
    },
    {
     "name": "stderr",
     "output_type": "stream",
     "text": [
      "\n"
     ]
    },
    {
     "name": "stdout",
     "output_type": "stream",
     "text": [
      "\n",
      "      Epoch    GPU_mem   box_loss   seg_loss   cls_loss   dfl_loss  Instances       Size\n"
     ]
    },
    {
     "name": "stderr",
     "output_type": "stream",
     "text": [
      "     29/100     0.935G      1.315      1.546      1.233      1.097         31        640: 100%|██████████| 8/8 [00:01<00:00,  4.87it/s]\n",
      "                 Class     Images  Instances      Box(P          R      mAP50  mAP50-95)     Mask(P          R      mAP50  mAP50-95): 100%|██████████| 1/1 [00:00<00:00,  8.00it/s]"
     ]
    },
    {
     "name": "stdout",
     "output_type": "stream",
     "text": [
      "                   all          8         33      0.744      0.882      0.896       0.56      0.719      0.852      0.853       0.38\n"
     ]
    },
    {
     "name": "stderr",
     "output_type": "stream",
     "text": [
      "\n"
     ]
    },
    {
     "name": "stdout",
     "output_type": "stream",
     "text": [
      "\n",
      "      Epoch    GPU_mem   box_loss   seg_loss   cls_loss   dfl_loss  Instances       Size\n"
     ]
    },
    {
     "name": "stderr",
     "output_type": "stream",
     "text": [
      "     30/100     0.952G      1.363      1.652      1.202       1.07         47        640: 100%|██████████| 8/8 [00:01<00:00,  5.60it/s]\n",
      "                 Class     Images  Instances      Box(P          R      mAP50  mAP50-95)     Mask(P          R      mAP50  mAP50-95): 100%|██████████| 1/1 [00:00<00:00,  5.92it/s]\n"
     ]
    },
    {
     "name": "stdout",
     "output_type": "stream",
     "text": [
      "                   all          8         33      0.744      0.882      0.896       0.56      0.719      0.852      0.853       0.38\n",
      "\n",
      "      Epoch    GPU_mem   box_loss   seg_loss   cls_loss   dfl_loss  Instances       Size\n"
     ]
    },
    {
     "name": "stderr",
     "output_type": "stream",
     "text": [
      "     31/100      0.91G      1.259       1.45       1.19      1.076         29        640: 100%|██████████| 8/8 [00:01<00:00,  4.98it/s]\n",
      "                 Class     Images  Instances      Box(P          R      mAP50  mAP50-95)     Mask(P          R      mAP50  mAP50-95): 100%|██████████| 1/1 [00:00<00:00,  7.00it/s]"
     ]
    },
    {
     "name": "stdout",
     "output_type": "stream",
     "text": [
      "                   all          8         33      0.882      0.758      0.903       0.58      0.882      0.758      0.882      0.451\n"
     ]
    },
    {
     "name": "stderr",
     "output_type": "stream",
     "text": [
      "\n"
     ]
    },
    {
     "name": "stdout",
     "output_type": "stream",
     "text": [
      "\n",
      "      Epoch    GPU_mem   box_loss   seg_loss   cls_loss   dfl_loss  Instances       Size\n"
     ]
    },
    {
     "name": "stderr",
     "output_type": "stream",
     "text": [
      "     32/100     0.946G      1.226      1.324      1.205      1.062         40        640: 100%|██████████| 8/8 [00:01<00:00,  5.48it/s]\n",
      "                 Class     Images  Instances      Box(P          R      mAP50  mAP50-95)     Mask(P          R      mAP50  mAP50-95): 100%|██████████| 1/1 [00:00<00:00,  6.62it/s]"
     ]
    },
    {
     "name": "stdout",
     "output_type": "stream",
     "text": [
      "                   all          8         33      0.882      0.758      0.903       0.58      0.882      0.758      0.882      0.451\n"
     ]
    },
    {
     "name": "stderr",
     "output_type": "stream",
     "text": [
      "\n"
     ]
    },
    {
     "name": "stdout",
     "output_type": "stream",
     "text": [
      "\n",
      "      Epoch    GPU_mem   box_loss   seg_loss   cls_loss   dfl_loss  Instances       Size\n"
     ]
    },
    {
     "name": "stderr",
     "output_type": "stream",
     "text": [
      "     33/100     0.902G      1.258      1.403      1.182      1.059         26        640: 100%|██████████| 8/8 [00:01<00:00,  5.19it/s]\n",
      "                 Class     Images  Instances      Box(P          R      mAP50  mAP50-95)     Mask(P          R      mAP50  mAP50-95): 100%|██████████| 1/1 [00:00<00:00,  7.14it/s]"
     ]
    },
    {
     "name": "stdout",
     "output_type": "stream",
     "text": [
      "                   all          8         33      0.851      0.868      0.944      0.617      0.851      0.868      0.944      0.491\n"
     ]
    },
    {
     "name": "stderr",
     "output_type": "stream",
     "text": [
      "\n"
     ]
    },
    {
     "name": "stdout",
     "output_type": "stream",
     "text": [
      "\n",
      "      Epoch    GPU_mem   box_loss   seg_loss   cls_loss   dfl_loss  Instances       Size\n"
     ]
    },
    {
     "name": "stderr",
     "output_type": "stream",
     "text": [
      "     34/100     0.904G      1.237      1.509      1.088      1.048         27        640: 100%|██████████| 8/8 [00:01<00:00,  5.12it/s]\n",
      "                 Class     Images  Instances      Box(P          R      mAP50  mAP50-95)     Mask(P          R      mAP50  mAP50-95): 100%|██████████| 1/1 [00:00<00:00,  6.17it/s]\n"
     ]
    },
    {
     "name": "stdout",
     "output_type": "stream",
     "text": [
      "                   all          8         33      0.851      0.868      0.944      0.617      0.851      0.868      0.944      0.491\n",
      "\n",
      "      Epoch    GPU_mem   box_loss   seg_loss   cls_loss   dfl_loss  Instances       Size\n"
     ]
    },
    {
     "name": "stderr",
     "output_type": "stream",
     "text": [
      "     35/100     0.908G      1.249       1.44      1.076      1.053         23        640: 100%|██████████| 8/8 [00:01<00:00,  5.18it/s]\n",
      "                 Class     Images  Instances      Box(P          R      mAP50  mAP50-95)     Mask(P          R      mAP50  mAP50-95): 100%|██████████| 1/1 [00:00<00:00,  6.95it/s]"
     ]
    },
    {
     "name": "stdout",
     "output_type": "stream",
     "text": [
      "                   all          8         33      0.871      0.879      0.934       0.65      0.926      0.755      0.902      0.454\n"
     ]
    },
    {
     "name": "stderr",
     "output_type": "stream",
     "text": [
      "\n"
     ]
    },
    {
     "name": "stdout",
     "output_type": "stream",
     "text": [
      "\n",
      "      Epoch    GPU_mem   box_loss   seg_loss   cls_loss   dfl_loss  Instances       Size\n"
     ]
    },
    {
     "name": "stderr",
     "output_type": "stream",
     "text": [
      "     36/100     0.937G      1.228      1.354      1.081      1.048         31        640: 100%|██████████| 8/8 [00:01<00:00,  6.02it/s]\n",
      "                 Class     Images  Instances      Box(P          R      mAP50  mAP50-95)     Mask(P          R      mAP50  mAP50-95): 100%|██████████| 1/1 [00:00<00:00,  6.70it/s]"
     ]
    },
    {
     "name": "stdout",
     "output_type": "stream",
     "text": [
      "                   all          8         33      0.871      0.879      0.934       0.65      0.926      0.755      0.902      0.454\n"
     ]
    },
    {
     "name": "stderr",
     "output_type": "stream",
     "text": [
      "\n"
     ]
    },
    {
     "name": "stdout",
     "output_type": "stream",
     "text": [
      "\n",
      "      Epoch    GPU_mem   box_loss   seg_loss   cls_loss   dfl_loss  Instances       Size\n"
     ]
    },
    {
     "name": "stderr",
     "output_type": "stream",
     "text": [
      "     37/100     0.877G      1.213      1.409      1.108      1.046         22        640: 100%|██████████| 8/8 [00:01<00:00,  5.82it/s]\n",
      "                 Class     Images  Instances      Box(P          R      mAP50  mAP50-95)     Mask(P          R      mAP50  mAP50-95): 100%|██████████| 1/1 [00:00<00:00,  7.24it/s]"
     ]
    },
    {
     "name": "stdout",
     "output_type": "stream",
     "text": [
      "                   all          8         33      0.958      0.879      0.951      0.664      0.925      0.848      0.889       0.45\n"
     ]
    },
    {
     "name": "stderr",
     "output_type": "stream",
     "text": [
      "\n"
     ]
    },
    {
     "name": "stdout",
     "output_type": "stream",
     "text": [
      "\n",
      "      Epoch    GPU_mem   box_loss   seg_loss   cls_loss   dfl_loss  Instances       Size\n"
     ]
    },
    {
     "name": "stderr",
     "output_type": "stream",
     "text": [
      "     38/100     0.925G      1.197      1.397      1.121      1.064         40        640: 100%|██████████| 8/8 [00:01<00:00,  5.22it/s]\n",
      "                 Class     Images  Instances      Box(P          R      mAP50  mAP50-95)     Mask(P          R      mAP50  mAP50-95): 100%|██████████| 1/1 [00:00<00:00,  4.33it/s]"
     ]
    },
    {
     "name": "stdout",
     "output_type": "stream",
     "text": [
      "                   all          8         33      0.958      0.879      0.951      0.664      0.925      0.848      0.889       0.45\n"
     ]
    },
    {
     "name": "stderr",
     "output_type": "stream",
     "text": [
      "\n"
     ]
    },
    {
     "name": "stdout",
     "output_type": "stream",
     "text": [
      "\n",
      "      Epoch    GPU_mem   box_loss   seg_loss   cls_loss   dfl_loss  Instances       Size\n"
     ]
    },
    {
     "name": "stderr",
     "output_type": "stream",
     "text": [
      "     39/100     0.908G      1.167      1.324      1.118      1.055         25        640: 100%|██████████| 8/8 [00:01<00:00,  5.14it/s]\n",
      "                 Class     Images  Instances      Box(P          R      mAP50  mAP50-95)     Mask(P          R      mAP50  mAP50-95): 100%|██████████| 1/1 [00:00<00:00,  5.18it/s]\n"
     ]
    },
    {
     "name": "stdout",
     "output_type": "stream",
     "text": [
      "                   all          8         33      0.934      0.855      0.959      0.677      0.901      0.825       0.91       0.42\n",
      "\n",
      "      Epoch    GPU_mem   box_loss   seg_loss   cls_loss   dfl_loss  Instances       Size\n"
     ]
    },
    {
     "name": "stderr",
     "output_type": "stream",
     "text": [
      "     40/100     0.925G      1.152      1.358      1.092      1.024         25        640: 100%|██████████| 8/8 [00:01<00:00,  5.38it/s]\n",
      "                 Class     Images  Instances      Box(P          R      mAP50  mAP50-95)     Mask(P          R      mAP50  mAP50-95): 100%|██████████| 1/1 [00:00<00:00,  9.14it/s]"
     ]
    },
    {
     "name": "stdout",
     "output_type": "stream",
     "text": [
      "                   all          8         33      0.934      0.855      0.959      0.677      0.901      0.825       0.91       0.42\n"
     ]
    },
    {
     "name": "stderr",
     "output_type": "stream",
     "text": [
      "\n"
     ]
    },
    {
     "name": "stdout",
     "output_type": "stream",
     "text": [
      "\n",
      "      Epoch    GPU_mem   box_loss   seg_loss   cls_loss   dfl_loss  Instances       Size\n"
     ]
    },
    {
     "name": "stderr",
     "output_type": "stream",
     "text": [
      "     41/100     0.933G       1.21      1.353      1.112      1.077         27        640: 100%|██████████| 8/8 [00:01<00:00,  5.20it/s]\n",
      "                 Class     Images  Instances      Box(P          R      mAP50  mAP50-95)     Mask(P          R      mAP50  mAP50-95): 100%|██████████| 1/1 [00:00<00:00,  5.03it/s]\n"
     ]
    },
    {
     "name": "stdout",
     "output_type": "stream",
     "text": [
      "                   all          8         33      0.946      0.909      0.974      0.684      0.926      0.879      0.921      0.459\n",
      "\n",
      "      Epoch    GPU_mem   box_loss   seg_loss   cls_loss   dfl_loss  Instances       Size\n"
     ]
    },
    {
     "name": "stderr",
     "output_type": "stream",
     "text": [
      "     42/100     0.992G      1.202      1.348      1.041          1         60        640: 100%|██████████| 8/8 [00:01<00:00,  4.78it/s]\n",
      "                 Class     Images  Instances      Box(P          R      mAP50  mAP50-95)     Mask(P          R      mAP50  mAP50-95): 100%|██████████| 1/1 [00:00<00:00,  5.74it/s]\n"
     ]
    },
    {
     "name": "stdout",
     "output_type": "stream",
     "text": [
      "                   all          8         33      0.946      0.909      0.974      0.684      0.926      0.879      0.921      0.459\n",
      "\n",
      "      Epoch    GPU_mem   box_loss   seg_loss   cls_loss   dfl_loss  Instances       Size\n"
     ]
    },
    {
     "name": "stderr",
     "output_type": "stream",
     "text": [
      "     43/100     0.996G      1.173      1.379      1.054     0.9994         37        640: 100%|██████████| 8/8 [00:02<00:00,  3.93it/s]\n",
      "                 Class     Images  Instances      Box(P          R      mAP50  mAP50-95)     Mask(P          R      mAP50  mAP50-95): 100%|██████████| 1/1 [00:00<00:00,  8.14it/s]"
     ]
    },
    {
     "name": "stdout",
     "output_type": "stream",
     "text": [
      "                   all          8         33      0.986      0.879      0.973      0.703      0.875      0.939      0.941      0.468\n"
     ]
    },
    {
     "name": "stderr",
     "output_type": "stream",
     "text": [
      "\n"
     ]
    },
    {
     "name": "stdout",
     "output_type": "stream",
     "text": [
      "\n",
      "      Epoch    GPU_mem   box_loss   seg_loss   cls_loss   dfl_loss  Instances       Size\n"
     ]
    },
    {
     "name": "stderr",
     "output_type": "stream",
     "text": [
      "     44/100     0.904G      1.162      1.306      1.052     0.9859         32        640: 100%|██████████| 8/8 [00:01<00:00,  4.88it/s]\n",
      "                 Class     Images  Instances      Box(P          R      mAP50  mAP50-95)     Mask(P          R      mAP50  mAP50-95): 100%|██████████| 1/1 [00:00<00:00,  5.21it/s]\n"
     ]
    },
    {
     "name": "stdout",
     "output_type": "stream",
     "text": [
      "                   all          8         33      0.986      0.879      0.973      0.703      0.875      0.939      0.941      0.468\n",
      "\n",
      "      Epoch    GPU_mem   box_loss   seg_loss   cls_loss   dfl_loss  Instances       Size\n"
     ]
    },
    {
     "name": "stderr",
     "output_type": "stream",
     "text": [
      "     45/100     0.908G      1.132       1.47     0.9645     0.9947         26        640: 100%|██████████| 8/8 [00:01<00:00,  4.49it/s]\n",
      "                 Class     Images  Instances      Box(P          R      mAP50  mAP50-95)     Mask(P          R      mAP50  mAP50-95): 100%|██████████| 1/1 [00:00<00:00,  5.33it/s]\n"
     ]
    },
    {
     "name": "stdout",
     "output_type": "stream",
     "text": [
      "                   all          8         33      0.905      0.909      0.957      0.678      0.905      0.909      0.925      0.472\n",
      "\n",
      "      Epoch    GPU_mem   box_loss   seg_loss   cls_loss   dfl_loss  Instances       Size\n"
     ]
    },
    {
     "name": "stderr",
     "output_type": "stream",
     "text": [
      "     46/100     0.912G      1.239      1.267      1.119      1.056         34        640: 100%|██████████| 8/8 [00:01<00:00,  5.45it/s]\n",
      "                 Class     Images  Instances      Box(P          R      mAP50  mAP50-95)     Mask(P          R      mAP50  mAP50-95): 100%|██████████| 1/1 [00:00<00:00,  7.22it/s]"
     ]
    },
    {
     "name": "stdout",
     "output_type": "stream",
     "text": [
      "                   all          8         33      0.905      0.909      0.957      0.678      0.905      0.909      0.925      0.472\n"
     ]
    },
    {
     "name": "stderr",
     "output_type": "stream",
     "text": [
      "\n"
     ]
    },
    {
     "name": "stdout",
     "output_type": "stream",
     "text": [
      "\n",
      "      Epoch    GPU_mem   box_loss   seg_loss   cls_loss   dfl_loss  Instances       Size\n"
     ]
    },
    {
     "name": "stderr",
     "output_type": "stream",
     "text": [
      "     47/100     0.919G      1.106      1.328     0.9989      1.003         24        640: 100%|██████████| 8/8 [00:01<00:00,  5.23it/s]\n",
      "                 Class     Images  Instances      Box(P          R      mAP50  mAP50-95)     Mask(P          R      mAP50  mAP50-95): 100%|██████████| 1/1 [00:00<00:00,  7.72it/s]"
     ]
    },
    {
     "name": "stdout",
     "output_type": "stream",
     "text": [
      "                   all          8         33      0.882      0.909      0.952      0.678      0.882      0.909      0.921      0.484\n"
     ]
    },
    {
     "name": "stderr",
     "output_type": "stream",
     "text": [
      "\n"
     ]
    },
    {
     "name": "stdout",
     "output_type": "stream",
     "text": [
      "\n",
      "      Epoch    GPU_mem   box_loss   seg_loss   cls_loss   dfl_loss  Instances       Size\n"
     ]
    },
    {
     "name": "stderr",
     "output_type": "stream",
     "text": [
      "     48/100     0.916G      1.134       1.29     0.9679     0.9983         23        640: 100%|██████████| 8/8 [00:01<00:00,  5.01it/s]\n",
      "                 Class     Images  Instances      Box(P          R      mAP50  mAP50-95)     Mask(P          R      mAP50  mAP50-95): 100%|██████████| 1/1 [00:00<00:00,  5.72it/s]"
     ]
    },
    {
     "name": "stdout",
     "output_type": "stream",
     "text": [
      "                   all          8         33      0.882      0.909      0.952      0.678      0.882      0.909      0.921      0.484\n"
     ]
    },
    {
     "name": "stderr",
     "output_type": "stream",
     "text": [
      "\n"
     ]
    },
    {
     "name": "stdout",
     "output_type": "stream",
     "text": [
      "\n",
      "      Epoch    GPU_mem   box_loss   seg_loss   cls_loss   dfl_loss  Instances       Size\n"
     ]
    },
    {
     "name": "stderr",
     "output_type": "stream",
     "text": [
      "     49/100     0.898G      1.112      1.305     0.9543     0.9679         46        640: 100%|██████████| 8/8 [00:01<00:00,  4.22it/s]\n",
      "                 Class     Images  Instances      Box(P          R      mAP50  mAP50-95)     Mask(P          R      mAP50  mAP50-95): 100%|██████████| 1/1 [00:00<00:00,  6.12it/s]"
     ]
    },
    {
     "name": "stdout",
     "output_type": "stream",
     "text": [
      "                   all          8         33      0.936      0.881      0.961      0.681      0.956      0.879      0.932      0.489\n"
     ]
    },
    {
     "name": "stderr",
     "output_type": "stream",
     "text": [
      "\n"
     ]
    },
    {
     "name": "stdout",
     "output_type": "stream",
     "text": [
      "\n",
      "      Epoch    GPU_mem   box_loss   seg_loss   cls_loss   dfl_loss  Instances       Size\n"
     ]
    },
    {
     "name": "stderr",
     "output_type": "stream",
     "text": [
      "     50/100     0.958G      1.109      1.214     0.9711     0.9896         35        640: 100%|██████████| 8/8 [00:01<00:00,  4.84it/s]\n",
      "                 Class     Images  Instances      Box(P          R      mAP50  mAP50-95)     Mask(P          R      mAP50  mAP50-95): 100%|██████████| 1/1 [00:00<00:00,  6.46it/s]"
     ]
    },
    {
     "name": "stdout",
     "output_type": "stream",
     "text": [
      "                   all          8         33      0.936      0.881      0.961      0.681      0.956      0.879      0.932      0.489\n"
     ]
    },
    {
     "name": "stderr",
     "output_type": "stream",
     "text": [
      "\n"
     ]
    },
    {
     "name": "stdout",
     "output_type": "stream",
     "text": [
      "\n",
      "      Epoch    GPU_mem   box_loss   seg_loss   cls_loss   dfl_loss  Instances       Size\n"
     ]
    },
    {
     "name": "stderr",
     "output_type": "stream",
     "text": [
      "     51/100     0.923G      1.088      1.276      1.002      1.009         13        640: 100%|██████████| 8/8 [00:01<00:00,  4.94it/s]\n",
      "                 Class     Images  Instances      Box(P          R      mAP50  mAP50-95)     Mask(P          R      mAP50  mAP50-95): 100%|██████████| 1/1 [00:00<00:00,  4.88it/s]"
     ]
    },
    {
     "name": "stdout",
     "output_type": "stream",
     "text": [
      "                   all          8         33      0.911      0.879      0.963      0.676      0.936      0.848        0.9       0.46\n"
     ]
    },
    {
     "name": "stderr",
     "output_type": "stream",
     "text": [
      "\n"
     ]
    },
    {
     "name": "stdout",
     "output_type": "stream",
     "text": [
      "\n",
      "      Epoch    GPU_mem   box_loss   seg_loss   cls_loss   dfl_loss  Instances       Size\n"
     ]
    },
    {
     "name": "stderr",
     "output_type": "stream",
     "text": [
      "     52/100     0.923G      1.044      1.241     0.9502     0.9803         36        640: 100%|██████████| 8/8 [00:01<00:00,  4.59it/s]\n",
      "                 Class     Images  Instances      Box(P          R      mAP50  mAP50-95)     Mask(P          R      mAP50  mAP50-95): 100%|██████████| 1/1 [00:00<00:00,  4.79it/s]"
     ]
    },
    {
     "name": "stdout",
     "output_type": "stream",
     "text": [
      "                   all          8         33      0.911      0.879      0.963      0.676      0.936      0.848        0.9       0.46\n"
     ]
    },
    {
     "name": "stderr",
     "output_type": "stream",
     "text": [
      "\n"
     ]
    },
    {
     "name": "stdout",
     "output_type": "stream",
     "text": [
      "\n",
      "      Epoch    GPU_mem   box_loss   seg_loss   cls_loss   dfl_loss  Instances       Size\n"
     ]
    },
    {
     "name": "stderr",
     "output_type": "stream",
     "text": [
      "     53/100     0.914G      1.119      1.314     0.9303      1.004         33        640: 100%|██████████| 8/8 [00:01<00:00,  4.58it/s]\n",
      "                 Class     Images  Instances      Box(P          R      mAP50  mAP50-95)     Mask(P          R      mAP50  mAP50-95): 100%|██████████| 1/1 [00:00<00:00,  5.96it/s]\n"
     ]
    },
    {
     "name": "stdout",
     "output_type": "stream",
     "text": [
      "                   all          8         33       0.91      0.939      0.967      0.681      0.935      0.874       0.94      0.487\n",
      "\n",
      "      Epoch    GPU_mem   box_loss   seg_loss   cls_loss   dfl_loss  Instances       Size\n"
     ]
    },
    {
     "name": "stderr",
     "output_type": "stream",
     "text": [
      "     54/100     0.956G      1.086      1.232     0.9512     0.9829         44        640: 100%|██████████| 8/8 [00:01<00:00,  5.00it/s]\n",
      "                 Class     Images  Instances      Box(P          R      mAP50  mAP50-95)     Mask(P          R      mAP50  mAP50-95): 100%|██████████| 1/1 [00:00<00:00,  6.44it/s]"
     ]
    },
    {
     "name": "stdout",
     "output_type": "stream",
     "text": [
      "                   all          8         33       0.91      0.939      0.967      0.681      0.935      0.874       0.94      0.487\n"
     ]
    },
    {
     "name": "stderr",
     "output_type": "stream",
     "text": [
      "\n"
     ]
    },
    {
     "name": "stdout",
     "output_type": "stream",
     "text": [
      "\n",
      "      Epoch    GPU_mem   box_loss   seg_loss   cls_loss   dfl_loss  Instances       Size\n"
     ]
    },
    {
     "name": "stderr",
     "output_type": "stream",
     "text": [
      "     55/100     0.898G      1.166      1.322      1.027      1.007         22        640: 100%|██████████| 8/8 [00:01<00:00,  4.33it/s]\n",
      "                 Class     Images  Instances      Box(P          R      mAP50  mAP50-95)     Mask(P          R      mAP50  mAP50-95): 100%|██████████| 1/1 [00:00<00:00,  6.10it/s]"
     ]
    },
    {
     "name": "stdout",
     "output_type": "stream",
     "text": [
      "                   all          8         33      0.913      0.959      0.964      0.668      0.872      0.909      0.936       0.46\n"
     ]
    },
    {
     "name": "stderr",
     "output_type": "stream",
     "text": [
      "\n"
     ]
    },
    {
     "name": "stdout",
     "output_type": "stream",
     "text": [
      "\n",
      "      Epoch    GPU_mem   box_loss   seg_loss   cls_loss   dfl_loss  Instances       Size\n"
     ]
    },
    {
     "name": "stderr",
     "output_type": "stream",
     "text": [
      "     56/100     0.912G      1.133      1.335     0.9836       1.04         21        640: 100%|██████████| 8/8 [00:01<00:00,  5.62it/s]\n",
      "                 Class     Images  Instances      Box(P          R      mAP50  mAP50-95)     Mask(P          R      mAP50  mAP50-95): 100%|██████████| 1/1 [00:00<00:00,  7.08it/s]"
     ]
    },
    {
     "name": "stdout",
     "output_type": "stream",
     "text": [
      "                   all          8         33      0.913      0.959      0.964      0.668      0.872      0.909      0.936       0.46\n"
     ]
    },
    {
     "name": "stderr",
     "output_type": "stream",
     "text": [
      "\n"
     ]
    },
    {
     "name": "stdout",
     "output_type": "stream",
     "text": [
      "\n",
      "      Epoch    GPU_mem   box_loss   seg_loss   cls_loss   dfl_loss  Instances       Size\n"
     ]
    },
    {
     "name": "stderr",
     "output_type": "stream",
     "text": [
      "     57/100     0.898G      1.115      1.318     0.9254      1.019         27        640: 100%|██████████| 8/8 [00:01<00:00,  5.68it/s]\n",
      "                 Class     Images  Instances      Box(P          R      mAP50  mAP50-95)     Mask(P          R      mAP50  mAP50-95): 100%|██████████| 1/1 [00:00<00:00,  8.54it/s]"
     ]
    },
    {
     "name": "stdout",
     "output_type": "stream",
     "text": [
      "                   all          8         33      0.929       0.97      0.971      0.673      0.914      0.909      0.943      0.449\n"
     ]
    },
    {
     "name": "stderr",
     "output_type": "stream",
     "text": [
      "\n"
     ]
    },
    {
     "name": "stdout",
     "output_type": "stream",
     "text": [
      "\n",
      "      Epoch    GPU_mem   box_loss   seg_loss   cls_loss   dfl_loss  Instances       Size\n"
     ]
    },
    {
     "name": "stderr",
     "output_type": "stream",
     "text": [
      "     58/100     0.912G      1.112       1.25     0.9508      1.014         39        640: 100%|██████████| 8/8 [00:01<00:00,  5.23it/s]\n",
      "                 Class     Images  Instances      Box(P          R      mAP50  mAP50-95)     Mask(P          R      mAP50  mAP50-95): 100%|██████████| 1/1 [00:00<00:00,  5.54it/s]"
     ]
    },
    {
     "name": "stdout",
     "output_type": "stream",
     "text": [
      "                   all          8         33      0.929       0.97      0.971      0.673      0.914      0.909      0.943      0.449\n"
     ]
    },
    {
     "name": "stderr",
     "output_type": "stream",
     "text": [
      "\n"
     ]
    },
    {
     "name": "stdout",
     "output_type": "stream",
     "text": [
      "\n",
      "      Epoch    GPU_mem   box_loss   seg_loss   cls_loss   dfl_loss  Instances       Size\n"
     ]
    },
    {
     "name": "stderr",
     "output_type": "stream",
     "text": [
      "     59/100     0.965G      1.043      1.244     0.8735     0.9802         44        640: 100%|██████████| 8/8 [00:01<00:00,  5.15it/s]\n",
      "                 Class     Images  Instances      Box(P          R      mAP50  mAP50-95)     Mask(P          R      mAP50  mAP50-95): 100%|██████████| 1/1 [00:00<00:00, 10.06it/s]"
     ]
    },
    {
     "name": "stdout",
     "output_type": "stream",
     "text": [
      "                   all          8         33      0.958      0.939      0.969      0.704      0.958      0.879      0.909      0.447\n"
     ]
    },
    {
     "name": "stderr",
     "output_type": "stream",
     "text": [
      "\n"
     ]
    },
    {
     "name": "stdout",
     "output_type": "stream",
     "text": [
      "\n",
      "      Epoch    GPU_mem   box_loss   seg_loss   cls_loss   dfl_loss  Instances       Size\n"
     ]
    },
    {
     "name": "stderr",
     "output_type": "stream",
     "text": [
      "     60/100     0.935G      1.078      1.289     0.9032     0.9728         34        640: 100%|██████████| 8/8 [00:01<00:00,  4.22it/s]\n",
      "                 Class     Images  Instances      Box(P          R      mAP50  mAP50-95)     Mask(P          R      mAP50  mAP50-95): 100%|██████████| 1/1 [00:00<00:00,  6.95it/s]"
     ]
    },
    {
     "name": "stdout",
     "output_type": "stream",
     "text": [
      "                   all          8         33      0.958      0.939      0.969      0.704      0.958      0.879      0.909      0.447\n"
     ]
    },
    {
     "name": "stderr",
     "output_type": "stream",
     "text": [
      "\n"
     ]
    },
    {
     "name": "stdout",
     "output_type": "stream",
     "text": [
      "\n",
      "      Epoch    GPU_mem   box_loss   seg_loss   cls_loss   dfl_loss  Instances       Size\n"
     ]
    },
    {
     "name": "stderr",
     "output_type": "stream",
     "text": [
      "     61/100     0.937G      1.065      1.253     0.9245     0.9769         43        640: 100%|██████████| 8/8 [00:01<00:00,  5.59it/s]\n",
      "                 Class     Images  Instances      Box(P          R      mAP50  mAP50-95)     Mask(P          R      mAP50  mAP50-95): 100%|██████████| 1/1 [00:00<00:00,  7.26it/s]"
     ]
    },
    {
     "name": "stdout",
     "output_type": "stream",
     "text": [
      "                   all          8         33       0.96      0.939      0.972      0.684      0.934      0.909      0.925      0.458\n"
     ]
    },
    {
     "name": "stderr",
     "output_type": "stream",
     "text": [
      "\n"
     ]
    },
    {
     "name": "stdout",
     "output_type": "stream",
     "text": [
      "\n",
      "      Epoch    GPU_mem   box_loss   seg_loss   cls_loss   dfl_loss  Instances       Size\n"
     ]
    },
    {
     "name": "stderr",
     "output_type": "stream",
     "text": [
      "     62/100     0.931G      1.097        1.3     0.9539      1.003         33        640: 100%|██████████| 8/8 [00:01<00:00,  5.86it/s]\n",
      "                 Class     Images  Instances      Box(P          R      mAP50  mAP50-95)     Mask(P          R      mAP50  mAP50-95): 100%|██████████| 1/1 [00:00<00:00,  5.80it/s]\n"
     ]
    },
    {
     "name": "stdout",
     "output_type": "stream",
     "text": [
      "                   all          8         33       0.96      0.939      0.972      0.684      0.934      0.909      0.925      0.458\n",
      "\n",
      "      Epoch    GPU_mem   box_loss   seg_loss   cls_loss   dfl_loss  Instances       Size\n"
     ]
    },
    {
     "name": "stderr",
     "output_type": "stream",
     "text": [
      "     63/100     0.875G      1.035      1.281     0.9419     0.9622         36        640: 100%|██████████| 8/8 [00:01<00:00,  5.25it/s]\n",
      "                 Class     Images  Instances      Box(P          R      mAP50  mAP50-95)     Mask(P          R      mAP50  mAP50-95): 100%|██████████| 1/1 [00:00<00:00,  9.22it/s]"
     ]
    },
    {
     "name": "stdout",
     "output_type": "stream",
     "text": [
      "                   all          8         33      0.969      0.963      0.974       0.68      0.932      0.909      0.929      0.439\n"
     ]
    },
    {
     "name": "stderr",
     "output_type": "stream",
     "text": [
      "\n"
     ]
    },
    {
     "name": "stdout",
     "output_type": "stream",
     "text": [
      "\n",
      "      Epoch    GPU_mem   box_loss   seg_loss   cls_loss   dfl_loss  Instances       Size\n"
     ]
    },
    {
     "name": "stderr",
     "output_type": "stream",
     "text": [
      "     64/100     0.877G      1.041      1.156     0.9095      1.006         24        640: 100%|██████████| 8/8 [00:01<00:00,  5.05it/s]\n",
      "                 Class     Images  Instances      Box(P          R      mAP50  mAP50-95)     Mask(P          R      mAP50  mAP50-95): 100%|██████████| 1/1 [00:00<00:00,  6.16it/s]"
     ]
    },
    {
     "name": "stdout",
     "output_type": "stream",
     "text": [
      "                   all          8         33      0.969      0.963      0.974       0.68      0.932      0.909      0.929      0.439\n"
     ]
    },
    {
     "name": "stderr",
     "output_type": "stream",
     "text": [
      "\n"
     ]
    },
    {
     "name": "stdout",
     "output_type": "stream",
     "text": [
      "\n",
      "      Epoch    GPU_mem   box_loss   seg_loss   cls_loss   dfl_loss  Instances       Size\n"
     ]
    },
    {
     "name": "stderr",
     "output_type": "stream",
     "text": [
      "     65/100     0.887G      1.034      1.247       0.94      1.003         32        640: 100%|██████████| 8/8 [00:01<00:00,  5.03it/s]\n",
      "                 Class     Images  Instances      Box(P          R      mAP50  mAP50-95)     Mask(P          R      mAP50  mAP50-95): 100%|██████████| 1/1 [00:00<00:00,  6.28it/s]"
     ]
    },
    {
     "name": "stdout",
     "output_type": "stream",
     "text": [
      "                   all          8         33      0.938       0.97      0.982      0.711      0.879      0.909      0.904      0.461\n"
     ]
    },
    {
     "name": "stderr",
     "output_type": "stream",
     "text": [
      "\n"
     ]
    },
    {
     "name": "stdout",
     "output_type": "stream",
     "text": [
      "\n",
      "      Epoch    GPU_mem   box_loss   seg_loss   cls_loss   dfl_loss  Instances       Size\n"
     ]
    },
    {
     "name": "stderr",
     "output_type": "stream",
     "text": [
      "     66/100     0.879G          1      1.117     0.8786      0.967         27        640: 100%|██████████| 8/8 [00:01<00:00,  4.61it/s]\n",
      "                 Class     Images  Instances      Box(P          R      mAP50  mAP50-95)     Mask(P          R      mAP50  mAP50-95): 100%|██████████| 1/1 [00:00<00:00,  5.89it/s]\n"
     ]
    },
    {
     "name": "stdout",
     "output_type": "stream",
     "text": [
      "                   all          8         33      0.938       0.97      0.982      0.711      0.879      0.909      0.904      0.461\n",
      "\n",
      "      Epoch    GPU_mem   box_loss   seg_loss   cls_loss   dfl_loss  Instances       Size\n"
     ]
    },
    {
     "name": "stderr",
     "output_type": "stream",
     "text": [
      "     67/100     0.937G      1.007      1.238     0.8781      0.985         33        640: 100%|██████████| 8/8 [00:01<00:00,  4.24it/s]\n",
      "                 Class     Images  Instances      Box(P          R      mAP50  mAP50-95)     Mask(P          R      mAP50  mAP50-95): 100%|██████████| 1/1 [00:00<00:00,  4.96it/s]"
     ]
    },
    {
     "name": "stdout",
     "output_type": "stream",
     "text": [
      "                   all          8         33      0.942      0.991      0.982      0.747      0.914       0.96       0.97      0.499\n"
     ]
    },
    {
     "name": "stderr",
     "output_type": "stream",
     "text": [
      "\n"
     ]
    },
    {
     "name": "stdout",
     "output_type": "stream",
     "text": [
      "\n",
      "      Epoch    GPU_mem   box_loss   seg_loss   cls_loss   dfl_loss  Instances       Size\n"
     ]
    },
    {
     "name": "stderr",
     "output_type": "stream",
     "text": [
      "     68/100     0.973G     0.9261      1.152     0.8523     0.9343         20        640: 100%|██████████| 8/8 [00:01<00:00,  4.62it/s]\n",
      "                 Class     Images  Instances      Box(P          R      mAP50  mAP50-95)     Mask(P          R      mAP50  mAP50-95): 100%|██████████| 1/1 [00:00<00:00,  4.59it/s]"
     ]
    },
    {
     "name": "stdout",
     "output_type": "stream",
     "text": [
      "                   all          8         33      0.942      0.991      0.982      0.747      0.914       0.96       0.97      0.499\n"
     ]
    },
    {
     "name": "stderr",
     "output_type": "stream",
     "text": [
      "\n"
     ]
    },
    {
     "name": "stdout",
     "output_type": "stream",
     "text": [
      "\n",
      "      Epoch    GPU_mem   box_loss   seg_loss   cls_loss   dfl_loss  Instances       Size\n"
     ]
    },
    {
     "name": "stderr",
     "output_type": "stream",
     "text": [
      "     69/100      0.94G      1.025      1.227     0.8932     0.9865         24        640: 100%|██████████| 8/8 [00:01<00:00,  4.83it/s]\n",
      "                 Class     Images  Instances      Box(P          R      mAP50  mAP50-95)     Mask(P          R      mAP50  mAP50-95): 100%|██████████| 1/1 [00:00<00:00,  6.63it/s]"
     ]
    },
    {
     "name": "stdout",
     "output_type": "stream",
     "text": [
      "                   all          8         33      0.932          1      0.981      0.724      0.876      0.939      0.921      0.507\n"
     ]
    },
    {
     "name": "stderr",
     "output_type": "stream",
     "text": [
      "\n"
     ]
    },
    {
     "name": "stdout",
     "output_type": "stream",
     "text": [
      "\n",
      "      Epoch    GPU_mem   box_loss   seg_loss   cls_loss   dfl_loss  Instances       Size\n"
     ]
    },
    {
     "name": "stderr",
     "output_type": "stream",
     "text": [
      "     70/100     0.883G     0.9819      1.147      0.853     0.9693         22        640: 100%|██████████| 8/8 [00:01<00:00,  5.05it/s]\n",
      "                 Class     Images  Instances      Box(P          R      mAP50  mAP50-95)     Mask(P          R      mAP50  mAP50-95): 100%|██████████| 1/1 [00:00<00:00,  7.47it/s]"
     ]
    },
    {
     "name": "stdout",
     "output_type": "stream",
     "text": [
      "                   all          8         33      0.932          1      0.981      0.724      0.876      0.939      0.921      0.507\n"
     ]
    },
    {
     "name": "stderr",
     "output_type": "stream",
     "text": [
      "\n"
     ]
    },
    {
     "name": "stdout",
     "output_type": "stream",
     "text": [
      "\n",
      "      Epoch    GPU_mem   box_loss   seg_loss   cls_loss   dfl_loss  Instances       Size\n"
     ]
    },
    {
     "name": "stderr",
     "output_type": "stream",
     "text": [
      "     71/100     0.935G     0.9453      1.246     0.8514     0.9368         33        640: 100%|██████████| 8/8 [00:01<00:00,  5.30it/s]\n",
      "                 Class     Images  Instances      Box(P          R      mAP50  mAP50-95)     Mask(P          R      mAP50  mAP50-95): 100%|██████████| 1/1 [00:00<00:00,  5.74it/s]\n"
     ]
    },
    {
     "name": "stdout",
     "output_type": "stream",
     "text": [
      "                   all          8         33      0.939          1      0.979      0.744       0.91       0.97      0.947      0.485\n",
      "\n",
      "      Epoch    GPU_mem   box_loss   seg_loss   cls_loss   dfl_loss  Instances       Size\n"
     ]
    },
    {
     "name": "stderr",
     "output_type": "stream",
     "text": [
      "     72/100      0.96G          1      1.139     0.8251     0.9371         39        640: 100%|██████████| 8/8 [00:01<00:00,  5.48it/s]\n",
      "                 Class     Images  Instances      Box(P          R      mAP50  mAP50-95)     Mask(P          R      mAP50  mAP50-95): 100%|██████████| 1/1 [00:00<00:00,  6.89it/s]"
     ]
    },
    {
     "name": "stdout",
     "output_type": "stream",
     "text": [
      "                   all          8         33      0.939          1      0.979      0.744       0.91       0.97      0.947      0.485\n"
     ]
    },
    {
     "name": "stderr",
     "output_type": "stream",
     "text": [
      "\n"
     ]
    },
    {
     "name": "stdout",
     "output_type": "stream",
     "text": [
      "\n",
      "      Epoch    GPU_mem   box_loss   seg_loss   cls_loss   dfl_loss  Instances       Size\n"
     ]
    },
    {
     "name": "stderr",
     "output_type": "stream",
     "text": [
      "     73/100     0.994G      1.072      1.198     0.8712      0.993         42        640: 100%|██████████| 8/8 [00:01<00:00,  5.40it/s]\n",
      "                 Class     Images  Instances      Box(P          R      mAP50  mAP50-95)     Mask(P          R      mAP50  mAP50-95): 100%|██████████| 1/1 [00:00<00:00,  6.61it/s]"
     ]
    },
    {
     "name": "stdout",
     "output_type": "stream",
     "text": [
      "                   all          8         33      0.943      0.996      0.979      0.749      0.914      0.966      0.948      0.464\n"
     ]
    },
    {
     "name": "stderr",
     "output_type": "stream",
     "text": [
      "\n"
     ]
    },
    {
     "name": "stdout",
     "output_type": "stream",
     "text": [
      "\n",
      "      Epoch    GPU_mem   box_loss   seg_loss   cls_loss   dfl_loss  Instances       Size\n"
     ]
    },
    {
     "name": "stderr",
     "output_type": "stream",
     "text": [
      "     74/100     0.908G      1.001      1.155     0.9047     0.9775         20        640: 100%|██████████| 8/8 [00:01<00:00,  5.05it/s]\n",
      "                 Class     Images  Instances      Box(P          R      mAP50  mAP50-95)     Mask(P          R      mAP50  mAP50-95): 100%|██████████| 1/1 [00:00<00:00,  7.24it/s]"
     ]
    },
    {
     "name": "stdout",
     "output_type": "stream",
     "text": [
      "                   all          8         33      0.943      0.996      0.979      0.749      0.914      0.966      0.948      0.464\n"
     ]
    },
    {
     "name": "stderr",
     "output_type": "stream",
     "text": [
      "\n"
     ]
    },
    {
     "name": "stdout",
     "output_type": "stream",
     "text": [
      "\n",
      "      Epoch    GPU_mem   box_loss   seg_loss   cls_loss   dfl_loss  Instances       Size\n"
     ]
    },
    {
     "name": "stderr",
     "output_type": "stream",
     "text": [
      "     75/100     0.877G     0.9789      1.093     0.8455     0.9572         33        640: 100%|██████████| 8/8 [00:01<00:00,  5.58it/s]\n",
      "                 Class     Images  Instances      Box(P          R      mAP50  mAP50-95)     Mask(P          R      mAP50  mAP50-95): 100%|██████████| 1/1 [00:00<00:00,  8.97it/s]"
     ]
    },
    {
     "name": "stdout",
     "output_type": "stream",
     "text": [
      "                   all          8         33      0.906       0.97      0.968      0.714      0.849      0.909      0.885      0.443\n"
     ]
    },
    {
     "name": "stderr",
     "output_type": "stream",
     "text": [
      "\n"
     ]
    },
    {
     "name": "stdout",
     "output_type": "stream",
     "text": [
      "\n",
      "      Epoch    GPU_mem   box_loss   seg_loss   cls_loss   dfl_loss  Instances       Size\n"
     ]
    },
    {
     "name": "stderr",
     "output_type": "stream",
     "text": [
      "     76/100     0.969G     0.9452      1.123     0.8156     0.9278         29        640: 100%|██████████| 8/8 [00:01<00:00,  5.92it/s]\n",
      "                 Class     Images  Instances      Box(P          R      mAP50  mAP50-95)     Mask(P          R      mAP50  mAP50-95): 100%|██████████| 1/1 [00:00<00:00,  7.22it/s]"
     ]
    },
    {
     "name": "stdout",
     "output_type": "stream",
     "text": [
      "                   all          8         33      0.906       0.97      0.968      0.714      0.849      0.909      0.885      0.443\n"
     ]
    },
    {
     "name": "stderr",
     "output_type": "stream",
     "text": [
      "\n"
     ]
    },
    {
     "name": "stdout",
     "output_type": "stream",
     "text": [
      "\n",
      "      Epoch    GPU_mem   box_loss   seg_loss   cls_loss   dfl_loss  Instances       Size\n"
     ]
    },
    {
     "name": "stderr",
     "output_type": "stream",
     "text": [
      "     77/100     0.881G     0.9084      1.057     0.7916     0.9257         34        640: 100%|██████████| 8/8 [00:01<00:00,  4.99it/s]\n",
      "                 Class     Images  Instances      Box(P          R      mAP50  mAP50-95)     Mask(P          R      mAP50  mAP50-95): 100%|██████████| 1/1 [00:00<00:00,  7.50it/s]"
     ]
    },
    {
     "name": "stdout",
     "output_type": "stream",
     "text": [
      "                   all          8         33      0.906       0.97      0.968      0.712      0.877      0.939      0.936      0.481\n"
     ]
    },
    {
     "name": "stderr",
     "output_type": "stream",
     "text": [
      "\n"
     ]
    },
    {
     "name": "stdout",
     "output_type": "stream",
     "text": [
      "\n",
      "      Epoch    GPU_mem   box_loss   seg_loss   cls_loss   dfl_loss  Instances       Size\n"
     ]
    },
    {
     "name": "stderr",
     "output_type": "stream",
     "text": [
      "     78/100     0.881G     0.9721      1.177     0.8593     0.9549         32        640: 100%|██████████| 8/8 [00:01<00:00,  5.65it/s]\n",
      "                 Class     Images  Instances      Box(P          R      mAP50  mAP50-95)     Mask(P          R      mAP50  mAP50-95): 100%|██████████| 1/1 [00:00<00:00,  7.64it/s]"
     ]
    },
    {
     "name": "stdout",
     "output_type": "stream",
     "text": [
      "                   all          8         33      0.906       0.97      0.968      0.712      0.877      0.939      0.936      0.481\n"
     ]
    },
    {
     "name": "stderr",
     "output_type": "stream",
     "text": [
      "\n"
     ]
    },
    {
     "name": "stdout",
     "output_type": "stream",
     "text": [
      "\n",
      "      Epoch    GPU_mem   box_loss   seg_loss   cls_loss   dfl_loss  Instances       Size\n"
     ]
    },
    {
     "name": "stderr",
     "output_type": "stream",
     "text": [
      "     79/100     0.906G      0.984      1.108     0.8258     0.9632         29        640: 100%|██████████| 8/8 [00:01<00:00,  6.13it/s]\n",
      "                 Class     Images  Instances      Box(P          R      mAP50  mAP50-95)     Mask(P          R      mAP50  mAP50-95): 100%|██████████| 1/1 [00:00<00:00,  5.30it/s]"
     ]
    },
    {
     "name": "stdout",
     "output_type": "stream",
     "text": [
      "                   all          8         33      0.891      0.989      0.973      0.738      0.855      0.939       0.94      0.511\n"
     ]
    },
    {
     "name": "stderr",
     "output_type": "stream",
     "text": [
      "\n"
     ]
    },
    {
     "name": "stdout",
     "output_type": "stream",
     "text": [
      "\n",
      "      Epoch    GPU_mem   box_loss   seg_loss   cls_loss   dfl_loss  Instances       Size\n"
     ]
    },
    {
     "name": "stderr",
     "output_type": "stream",
     "text": [
      "     80/100      0.91G     0.9306      1.082     0.8185      0.937         43        640: 100%|██████████| 8/8 [00:01<00:00,  5.71it/s]\n",
      "                 Class     Images  Instances      Box(P          R      mAP50  mAP50-95)     Mask(P          R      mAP50  mAP50-95): 100%|██████████| 1/1 [00:00<00:00,  8.12it/s]"
     ]
    },
    {
     "name": "stdout",
     "output_type": "stream",
     "text": [
      "                   all          8         33      0.891      0.989      0.973      0.738      0.855      0.939       0.94      0.511\n"
     ]
    },
    {
     "name": "stderr",
     "output_type": "stream",
     "text": [
      "\n"
     ]
    },
    {
     "name": "stdout",
     "output_type": "stream",
     "text": [
      "\n",
      "      Epoch    GPU_mem   box_loss   seg_loss   cls_loss   dfl_loss  Instances       Size\n"
     ]
    },
    {
     "name": "stderr",
     "output_type": "stream",
     "text": [
      "     81/100     0.929G     0.9244      1.078      0.864     0.9405         20        640: 100%|██████████| 8/8 [00:01<00:00,  5.36it/s]\n",
      "                 Class     Images  Instances      Box(P          R      mAP50  mAP50-95)     Mask(P          R      mAP50  mAP50-95): 100%|██████████| 1/1 [00:00<00:00,  6.47it/s]"
     ]
    },
    {
     "name": "stdout",
     "output_type": "stream",
     "text": [
      "                   all          8         33      0.891      0.993      0.974      0.746      0.857      0.939      0.941      0.519\n"
     ]
    },
    {
     "name": "stderr",
     "output_type": "stream",
     "text": [
      "\n"
     ]
    },
    {
     "name": "stdout",
     "output_type": "stream",
     "text": [
      "\n",
      "      Epoch    GPU_mem   box_loss   seg_loss   cls_loss   dfl_loss  Instances       Size\n"
     ]
    },
    {
     "name": "stderr",
     "output_type": "stream",
     "text": [
      "     82/100     0.904G      0.928      1.097     0.8459     0.9346         30        640: 100%|██████████| 8/8 [00:01<00:00,  5.87it/s]\n",
      "                 Class     Images  Instances      Box(P          R      mAP50  mAP50-95)     Mask(P          R      mAP50  mAP50-95): 100%|██████████| 1/1 [00:00<00:00,  8.42it/s]"
     ]
    },
    {
     "name": "stdout",
     "output_type": "stream",
     "text": [
      "                   all          8         33      0.891      0.993      0.974      0.746      0.857      0.939      0.941      0.519\n"
     ]
    },
    {
     "name": "stderr",
     "output_type": "stream",
     "text": [
      "\n"
     ]
    },
    {
     "name": "stdout",
     "output_type": "stream",
     "text": [
      "\n",
      "      Epoch    GPU_mem   box_loss   seg_loss   cls_loss   dfl_loss  Instances       Size\n"
     ]
    },
    {
     "name": "stderr",
     "output_type": "stream",
     "text": [
      "     83/100     0.912G     0.9306      1.081     0.7935     0.9421         36        640: 100%|██████████| 8/8 [00:01<00:00,  5.09it/s]\n",
      "                 Class     Images  Instances      Box(P          R      mAP50  mAP50-95)     Mask(P          R      mAP50  mAP50-95): 100%|██████████| 1/1 [00:00<00:00,  8.37it/s]"
     ]
    },
    {
     "name": "stdout",
     "output_type": "stream",
     "text": [
      "                   all          8         33      0.891          1      0.978       0.75      0.867      0.909      0.944      0.492\n"
     ]
    },
    {
     "name": "stderr",
     "output_type": "stream",
     "text": [
      "\n"
     ]
    },
    {
     "name": "stdout",
     "output_type": "stream",
     "text": [
      "\n",
      "      Epoch    GPU_mem   box_loss   seg_loss   cls_loss   dfl_loss  Instances       Size\n"
     ]
    },
    {
     "name": "stderr",
     "output_type": "stream",
     "text": [
      "     84/100     0.925G     0.9502      1.117     0.8288     0.9531         42        640: 100%|██████████| 8/8 [00:01<00:00,  6.14it/s]\n",
      "                 Class     Images  Instances      Box(P          R      mAP50  mAP50-95)     Mask(P          R      mAP50  mAP50-95): 100%|██████████| 1/1 [00:00<00:00,  8.71it/s]"
     ]
    },
    {
     "name": "stdout",
     "output_type": "stream",
     "text": [
      "                   all          8         33      0.891          1      0.978       0.75      0.867      0.909      0.944      0.492\n"
     ]
    },
    {
     "name": "stderr",
     "output_type": "stream",
     "text": [
      "\n"
     ]
    },
    {
     "name": "stdout",
     "output_type": "stream",
     "text": [
      "\n",
      "      Epoch    GPU_mem   box_loss   seg_loss   cls_loss   dfl_loss  Instances       Size\n"
     ]
    },
    {
     "name": "stderr",
     "output_type": "stream",
     "text": [
      "     85/100       0.9G     0.8711      1.068      0.795     0.9375         24        640: 100%|██████████| 8/8 [00:01<00:00,  6.17it/s]\n",
      "                 Class     Images  Instances      Box(P          R      mAP50  mAP50-95)     Mask(P          R      mAP50  mAP50-95): 100%|██████████| 1/1 [00:00<00:00,  6.57it/s]"
     ]
    },
    {
     "name": "stdout",
     "output_type": "stream",
     "text": [
      "                   all          8         33       0.89          1       0.98      0.759      0.858      0.914      0.947      0.508\n"
     ]
    },
    {
     "name": "stderr",
     "output_type": "stream",
     "text": [
      "\n"
     ]
    },
    {
     "name": "stdout",
     "output_type": "stream",
     "text": [
      "\n",
      "      Epoch    GPU_mem   box_loss   seg_loss   cls_loss   dfl_loss  Instances       Size\n"
     ]
    },
    {
     "name": "stderr",
     "output_type": "stream",
     "text": [
      "     86/100     0.954G     0.9829      1.227     0.8288     0.9557         46        640: 100%|██████████| 8/8 [00:01<00:00,  5.40it/s]\n",
      "                 Class     Images  Instances      Box(P          R      mAP50  mAP50-95)     Mask(P          R      mAP50  mAP50-95): 100%|██████████| 1/1 [00:00<00:00,  7.94it/s]"
     ]
    },
    {
     "name": "stdout",
     "output_type": "stream",
     "text": [
      "                   all          8         33       0.89          1       0.98      0.759      0.858      0.914      0.947      0.508\n"
     ]
    },
    {
     "name": "stderr",
     "output_type": "stream",
     "text": [
      "\n"
     ]
    },
    {
     "name": "stdout",
     "output_type": "stream",
     "text": [
      "\n",
      "      Epoch    GPU_mem   box_loss   seg_loss   cls_loss   dfl_loss  Instances       Size\n"
     ]
    },
    {
     "name": "stderr",
     "output_type": "stream",
     "text": [
      "     87/100     0.925G     0.8906      1.141     0.7809     0.9252         28        640: 100%|██████████| 8/8 [00:01<00:00,  5.38it/s]\n",
      "                 Class     Images  Instances      Box(P          R      mAP50  mAP50-95)     Mask(P          R      mAP50  mAP50-95): 100%|██████████| 1/1 [00:00<00:00,  7.54it/s]"
     ]
    },
    {
     "name": "stdout",
     "output_type": "stream",
     "text": [
      "                   all          8         33      0.913          1      0.981      0.759      0.878      0.939      0.935      0.546\n"
     ]
    },
    {
     "name": "stderr",
     "output_type": "stream",
     "text": [
      "\n"
     ]
    },
    {
     "name": "stdout",
     "output_type": "stream",
     "text": [
      "\n",
      "      Epoch    GPU_mem   box_loss   seg_loss   cls_loss   dfl_loss  Instances       Size\n"
     ]
    },
    {
     "name": "stderr",
     "output_type": "stream",
     "text": [
      "     88/100     0.904G     0.9145      1.056     0.8088     0.9364         22        640: 100%|██████████| 8/8 [00:01<00:00,  5.45it/s]\n",
      "                 Class     Images  Instances      Box(P          R      mAP50  mAP50-95)     Mask(P          R      mAP50  mAP50-95): 100%|██████████| 1/1 [00:00<00:00,  6.82it/s]"
     ]
    },
    {
     "name": "stdout",
     "output_type": "stream",
     "text": [
      "                   all          8         33      0.913          1      0.981      0.759      0.878      0.939      0.935      0.546\n"
     ]
    },
    {
     "name": "stderr",
     "output_type": "stream",
     "text": [
      "\n"
     ]
    },
    {
     "name": "stdout",
     "output_type": "stream",
     "text": [
      "\n",
      "      Epoch    GPU_mem   box_loss   seg_loss   cls_loss   dfl_loss  Instances       Size\n"
     ]
    },
    {
     "name": "stderr",
     "output_type": "stream",
     "text": [
      "     89/100     0.956G     0.9212      1.075     0.8226     0.9389         52        640: 100%|██████████| 8/8 [00:01<00:00,  5.22it/s]\n",
      "                 Class     Images  Instances      Box(P          R      mAP50  mAP50-95)     Mask(P          R      mAP50  mAP50-95): 100%|██████████| 1/1 [00:00<00:00,  6.92it/s]"
     ]
    },
    {
     "name": "stdout",
     "output_type": "stream",
     "text": [
      "                   all          8         33      0.937          1      0.985      0.747      0.908       0.97      0.953      0.556\n"
     ]
    },
    {
     "name": "stderr",
     "output_type": "stream",
     "text": [
      "\n"
     ]
    },
    {
     "name": "stdout",
     "output_type": "stream",
     "text": [
      "\n",
      "      Epoch    GPU_mem   box_loss   seg_loss   cls_loss   dfl_loss  Instances       Size\n"
     ]
    },
    {
     "name": "stderr",
     "output_type": "stream",
     "text": [
      "     90/100     0.866G     0.9381      1.001     0.8181     0.9358         31        640: 100%|██████████| 8/8 [00:01<00:00,  5.53it/s]\n",
      "                 Class     Images  Instances      Box(P          R      mAP50  mAP50-95)     Mask(P          R      mAP50  mAP50-95): 100%|██████████| 1/1 [00:00<00:00,  8.84it/s]"
     ]
    },
    {
     "name": "stdout",
     "output_type": "stream",
     "text": [
      "                   all          8         33      0.937          1      0.985      0.747      0.908       0.97      0.953      0.556\n"
     ]
    },
    {
     "name": "stderr",
     "output_type": "stream",
     "text": [
      "\n"
     ]
    },
    {
     "name": "stdout",
     "output_type": "stream",
     "text": [
      "Closing dataloader mosaic\n",
      "\n",
      "      Epoch    GPU_mem   box_loss   seg_loss   cls_loss   dfl_loss  Instances       Size\n"
     ]
    },
    {
     "name": "stderr",
     "output_type": "stream",
     "text": [
      "     91/100     0.837G     0.9551      1.144     0.9679     0.9439         17        640: 100%|██████████| 8/8 [00:02<00:00,  2.77it/s]\n",
      "                 Class     Images  Instances      Box(P          R      mAP50  mAP50-95)     Mask(P          R      mAP50  mAP50-95): 100%|██████████| 1/1 [00:00<00:00,  5.78it/s]\n"
     ]
    },
    {
     "name": "stdout",
     "output_type": "stream",
     "text": [
      "                   all          8         33      0.937          1      0.981      0.746      0.908       0.97       0.95      0.552\n",
      "\n",
      "      Epoch    GPU_mem   box_loss   seg_loss   cls_loss   dfl_loss  Instances       Size\n"
     ]
    },
    {
     "name": "stderr",
     "output_type": "stream",
     "text": [
      "     92/100     0.803G     0.8871     0.9699     0.9093      0.916         13        640: 100%|██████████| 8/8 [00:01<00:00,  5.79it/s]\n",
      "                 Class     Images  Instances      Box(P          R      mAP50  mAP50-95)     Mask(P          R      mAP50  mAP50-95): 100%|██████████| 1/1 [00:00<00:00,  6.88it/s]"
     ]
    },
    {
     "name": "stdout",
     "output_type": "stream",
     "text": [
      "                   all          8         33      0.937          1      0.981      0.746      0.908       0.97       0.95      0.552\n"
     ]
    },
    {
     "name": "stderr",
     "output_type": "stream",
     "text": [
      "\n"
     ]
    },
    {
     "name": "stdout",
     "output_type": "stream",
     "text": [
      "\n",
      "      Epoch    GPU_mem   box_loss   seg_loss   cls_loss   dfl_loss  Instances       Size\n"
     ]
    },
    {
     "name": "stderr",
     "output_type": "stream",
     "text": [
      "     93/100     0.816G      0.922      1.023     0.8629     0.9393         17        640: 100%|██████████| 8/8 [00:01<00:00,  6.24it/s]\n",
      "                 Class     Images  Instances      Box(P          R      mAP50  mAP50-95)     Mask(P          R      mAP50  mAP50-95): 100%|██████████| 1/1 [00:00<00:00,  8.27it/s]"
     ]
    },
    {
     "name": "stdout",
     "output_type": "stream",
     "text": [
      "                   all          8         33      0.935          1       0.98      0.737      0.903      0.939      0.964      0.544\n"
     ]
    },
    {
     "name": "stderr",
     "output_type": "stream",
     "text": [
      "\n"
     ]
    },
    {
     "name": "stdout",
     "output_type": "stream",
     "text": [
      "\n",
      "      Epoch    GPU_mem   box_loss   seg_loss   cls_loss   dfl_loss  Instances       Size\n"
     ]
    },
    {
     "name": "stderr",
     "output_type": "stream",
     "text": [
      "     94/100     0.845G     0.8749       0.95     0.8638     0.9276         16        640: 100%|██████████| 8/8 [00:01<00:00,  5.71it/s]\n",
      "                 Class     Images  Instances      Box(P          R      mAP50  mAP50-95)     Mask(P          R      mAP50  mAP50-95): 100%|██████████| 1/1 [00:00<00:00,  5.77it/s]\n"
     ]
    },
    {
     "name": "stdout",
     "output_type": "stream",
     "text": [
      "                   all          8         33      0.935          1       0.98      0.737      0.903      0.939      0.964      0.544\n",
      "\n",
      "      Epoch    GPU_mem   box_loss   seg_loss   cls_loss   dfl_loss  Instances       Size\n"
     ]
    },
    {
     "name": "stderr",
     "output_type": "stream",
     "text": [
      "     95/100     0.837G     0.8822     0.9766     0.8985     0.9228         20        640: 100%|██████████| 8/8 [00:01<00:00,  6.57it/s]\n",
      "                 Class     Images  Instances      Box(P          R      mAP50  mAP50-95)     Mask(P          R      mAP50  mAP50-95): 100%|██████████| 1/1 [00:00<00:00,  7.08it/s]"
     ]
    },
    {
     "name": "stdout",
     "output_type": "stream",
     "text": [
      "                   all          8         33      0.936          1      0.978      0.726      0.911      0.939      0.961      0.505\n"
     ]
    },
    {
     "name": "stderr",
     "output_type": "stream",
     "text": [
      "\n"
     ]
    },
    {
     "name": "stdout",
     "output_type": "stream",
     "text": [
      "\n",
      "      Epoch    GPU_mem   box_loss   seg_loss   cls_loss   dfl_loss  Instances       Size\n"
     ]
    },
    {
     "name": "stderr",
     "output_type": "stream",
     "text": [
      "     96/100     0.866G     0.8143     0.9419     0.8296     0.9198         14        640: 100%|██████████| 8/8 [00:01<00:00,  5.43it/s]\n",
      "                 Class     Images  Instances      Box(P          R      mAP50  mAP50-95)     Mask(P          R      mAP50  mAP50-95): 100%|██████████| 1/1 [00:00<00:00,  6.57it/s]"
     ]
    },
    {
     "name": "stdout",
     "output_type": "stream",
     "text": [
      "                   all          8         33      0.936          1      0.978      0.726      0.911      0.939      0.961      0.505\n"
     ]
    },
    {
     "name": "stderr",
     "output_type": "stream",
     "text": [
      "\n"
     ]
    },
    {
     "name": "stdout",
     "output_type": "stream",
     "text": [
      "\n",
      "      Epoch    GPU_mem   box_loss   seg_loss   cls_loss   dfl_loss  Instances       Size\n"
     ]
    },
    {
     "name": "stderr",
     "output_type": "stream",
     "text": [
      "     97/100     0.816G     0.8815       1.11     0.8771     0.9346         14        640: 100%|██████████| 8/8 [00:01<00:00,  6.28it/s]\n",
      "                 Class     Images  Instances      Box(P          R      mAP50  mAP50-95)     Mask(P          R      mAP50  mAP50-95): 100%|██████████| 1/1 [00:00<00:00,  5.90it/s]\n"
     ]
    },
    {
     "name": "stdout",
     "output_type": "stream",
     "text": [
      "                   all          8         33       0.94          1      0.977      0.722      0.886      0.943       0.96      0.512\n",
      "\n",
      "      Epoch    GPU_mem   box_loss   seg_loss   cls_loss   dfl_loss  Instances       Size\n"
     ]
    },
    {
     "name": "stderr",
     "output_type": "stream",
     "text": [
      "     98/100     0.845G     0.8397     0.9939     0.8079     0.9149         18        640: 100%|██████████| 8/8 [00:01<00:00,  5.90it/s]\n",
      "                 Class     Images  Instances      Box(P          R      mAP50  mAP50-95)     Mask(P          R      mAP50  mAP50-95): 100%|██████████| 1/1 [00:00<00:00,  7.04it/s]"
     ]
    },
    {
     "name": "stdout",
     "output_type": "stream",
     "text": [
      "                   all          8         33       0.94          1      0.977      0.722      0.886      0.943       0.96      0.512\n"
     ]
    },
    {
     "name": "stderr",
     "output_type": "stream",
     "text": [
      "\n"
     ]
    },
    {
     "name": "stdout",
     "output_type": "stream",
     "text": [
      "\n",
      "      Epoch    GPU_mem   box_loss   seg_loss   cls_loss   dfl_loss  Instances       Size\n"
     ]
    },
    {
     "name": "stderr",
     "output_type": "stream",
     "text": [
      "     99/100     0.858G     0.8726     0.9946     0.8352     0.9317         19        640: 100%|██████████| 8/8 [00:01<00:00,  5.73it/s]\n",
      "                 Class     Images  Instances      Box(P          R      mAP50  mAP50-95)     Mask(P          R      mAP50  mAP50-95): 100%|██████████| 1/1 [00:00<00:00,  9.10it/s]"
     ]
    },
    {
     "name": "stdout",
     "output_type": "stream",
     "text": [
      "                   all          8         33       0.94          1      0.978      0.704      0.858      0.913      0.925      0.497\n"
     ]
    },
    {
     "name": "stderr",
     "output_type": "stream",
     "text": [
      "\n"
     ]
    },
    {
     "name": "stdout",
     "output_type": "stream",
     "text": [
      "\n",
      "      Epoch    GPU_mem   box_loss   seg_loss   cls_loss   dfl_loss  Instances       Size\n"
     ]
    },
    {
     "name": "stderr",
     "output_type": "stream",
     "text": [
      "    100/100     0.824G     0.8977     0.9893     0.8276     0.9684         23        640: 100%|██████████| 8/8 [00:01<00:00,  6.39it/s]\n",
      "                 Class     Images  Instances      Box(P          R      mAP50  mAP50-95)     Mask(P          R      mAP50  mAP50-95): 100%|██████████| 1/1 [00:00<00:00,  6.56it/s]"
     ]
    },
    {
     "name": "stdout",
     "output_type": "stream",
     "text": [
      "                   all          8         33       0.94          1      0.978      0.704      0.858      0.913      0.925      0.497\n"
     ]
    },
    {
     "name": "stderr",
     "output_type": "stream",
     "text": [
      "\n"
     ]
    },
    {
     "name": "stdout",
     "output_type": "stream",
     "text": [
      "\n",
      "100 epochs completed in 0.076 hours.\n",
      "Optimizer stripped from /home/verlo/dev_ws/YOLO/runs/segment/train10/weights/last.pt, 6.8MB\n",
      "Optimizer stripped from /home/verlo/dev_ws/YOLO/runs/segment/train10/weights/best.pt, 6.8MB\n",
      "\n",
      "Validating /home/verlo/dev_ws/YOLO/runs/segment/train10/weights/best.pt...\n",
      "Ultralytics YOLOv8.2.16 🚀 Python-3.10.12 torch-2.1.0+cu121 CUDA:0 (NVIDIA GeForce RTX 2060, 5927MiB)\n",
      "YOLOv8n-seg summary (fused): 195 layers, 3258259 parameters, 0 gradients, 12.0 GFLOPs\n"
     ]
    },
    {
     "name": "stderr",
     "output_type": "stream",
     "text": [
      "                 Class     Images  Instances      Box(P          R      mAP50  mAP50-95)     Mask(P          R      mAP50  mAP50-95): 100%|██████████| 1/1 [00:00<00:00,  7.51it/s]\n"
     ]
    },
    {
     "name": "stdout",
     "output_type": "stream",
     "text": [
      "                   all          8         33      0.937          1      0.985      0.747      0.908       0.97      0.953      0.555\n",
      "Speed: 0.3ms preprocess, 2.6ms inference, 0.0ms loss, 1.8ms postprocess per image\n",
      "Results saved to \u001b[1m/home/verlo/dev_ws/YOLO/runs/segment/train10\u001b[0m\n"
     ]
    }
   ],
   "source": [
    "from ultralytics import YOLO\n",
    "\n",
    "model = YOLO('yolov8n-seg.pt')\n",
    "\n",
    "results = model.train(data='/home/verlo/dev_ws/Yolo/data/Sample/01.원천데이터/08_174514_221206/sensor_raw_data/camera/YOLODataset/dataset.yaml', epochs=100, imgsz=640, batch=4)\n",
    "\n"
   ]
  },
  {
   "cell_type": "code",
   "execution_count": 3,
   "metadata": {},
   "outputs": [
    {
     "name": "stdout",
     "output_type": "stream",
     "text": [
      "\n",
      "image 1/40 /home/verlo/dev_ws/Yolo/data/Sample/01.원천데이터/08_174514_221206/sensor_raw_data/camera/08_174514_221206_01.jpg: 384x640 3 lanes, 183.1ms\n",
      "image 2/40 /home/verlo/dev_ws/Yolo/data/Sample/01.원천데이터/08_174514_221206/sensor_raw_data/camera/08_174514_221206_02.jpg: 384x640 5 lanes, 14.3ms\n",
      "image 3/40 /home/verlo/dev_ws/Yolo/data/Sample/01.원천데이터/08_174514_221206/sensor_raw_data/camera/08_174514_221206_03.jpg: 384x640 4 lanes, 12.9ms\n",
      "image 4/40 /home/verlo/dev_ws/Yolo/data/Sample/01.원천데이터/08_174514_221206/sensor_raw_data/camera/08_174514_221206_04.jpg: 384x640 4 lanes, 12.4ms\n",
      "image 5/40 /home/verlo/dev_ws/Yolo/data/Sample/01.원천데이터/08_174514_221206/sensor_raw_data/camera/08_174514_221206_05.jpg: 384x640 2 lanes, 11.8ms\n",
      "image 6/40 /home/verlo/dev_ws/Yolo/data/Sample/01.원천데이터/08_174514_221206/sensor_raw_data/camera/08_174514_221206_06.jpg: 384x640 2 lanes, 18.1ms\n",
      "image 7/40 /home/verlo/dev_ws/Yolo/data/Sample/01.원천데이터/08_174514_221206/sensor_raw_data/camera/08_174514_221206_07.jpg: 384x640 2 lanes, 21.0ms\n",
      "image 8/40 /home/verlo/dev_ws/Yolo/data/Sample/01.원천데이터/08_174514_221206/sensor_raw_data/camera/08_174514_221206_08.jpg: 384x640 3 lanes, 14.0ms\n",
      "image 9/40 /home/verlo/dev_ws/Yolo/data/Sample/01.원천데이터/08_174514_221206/sensor_raw_data/camera/08_174514_221206_09.jpg: 384x640 3 lanes, 22.9ms\n",
      "image 10/40 /home/verlo/dev_ws/Yolo/data/Sample/01.원천데이터/08_174514_221206/sensor_raw_data/camera/08_174514_221206_10.jpg: 384x640 3 lanes, 14.8ms\n",
      "image 11/40 /home/verlo/dev_ws/Yolo/data/Sample/01.원천데이터/08_174514_221206/sensor_raw_data/camera/08_174514_221206_11.jpg: 384x640 1 lane, 15.9ms\n",
      "image 12/40 /home/verlo/dev_ws/Yolo/data/Sample/01.원천데이터/08_174514_221206/sensor_raw_data/camera/08_174514_221206_12.jpg: 384x640 5 lanes, 11.6ms\n",
      "image 13/40 /home/verlo/dev_ws/Yolo/data/Sample/01.원천데이터/08_174514_221206/sensor_raw_data/camera/08_174514_221206_13.jpg: 384x640 4 lanes, 17.3ms\n",
      "image 14/40 /home/verlo/dev_ws/Yolo/data/Sample/01.원천데이터/08_174514_221206/sensor_raw_data/camera/08_174514_221206_14.jpg: 384x640 6 lanes, 21.1ms\n",
      "image 15/40 /home/verlo/dev_ws/Yolo/data/Sample/01.원천데이터/08_174514_221206/sensor_raw_data/camera/08_174514_221206_15.jpg: 384x640 6 lanes, 13.6ms\n",
      "image 16/40 /home/verlo/dev_ws/Yolo/data/Sample/01.원천데이터/08_174514_221206/sensor_raw_data/camera/08_174514_221206_16.jpg: 384x640 4 lanes, 13.7ms\n",
      "image 17/40 /home/verlo/dev_ws/Yolo/data/Sample/01.원천데이터/08_174514_221206/sensor_raw_data/camera/08_174514_221206_17.jpg: 384x640 5 lanes, 12.4ms\n",
      "image 18/40 /home/verlo/dev_ws/Yolo/data/Sample/01.원천데이터/08_174514_221206/sensor_raw_data/camera/08_174514_221206_18.jpg: 384x640 4 lanes, 17.7ms\n",
      "image 19/40 /home/verlo/dev_ws/Yolo/data/Sample/01.원천데이터/08_174514_221206/sensor_raw_data/camera/08_174514_221206_19.jpg: 384x640 5 lanes, 11.2ms\n",
      "image 20/40 /home/verlo/dev_ws/Yolo/data/Sample/01.원천데이터/08_174514_221206/sensor_raw_data/camera/08_174514_221206_20.jpg: 384x640 6 lanes, 13.0ms\n",
      "image 21/40 /home/verlo/dev_ws/Yolo/data/Sample/01.원천데이터/08_174514_221206/sensor_raw_data/camera/08_174514_221206_21.jpg: 384x640 4 lanes, 20.0ms\n",
      "image 22/40 /home/verlo/dev_ws/Yolo/data/Sample/01.원천데이터/08_174514_221206/sensor_raw_data/camera/08_174514_221206_22.jpg: 384x640 5 lanes, 16.8ms\n",
      "image 23/40 /home/verlo/dev_ws/Yolo/data/Sample/01.원천데이터/08_174514_221206/sensor_raw_data/camera/08_174514_221206_23.jpg: 384x640 5 lanes, 15.1ms\n",
      "image 24/40 /home/verlo/dev_ws/Yolo/data/Sample/01.원천데이터/08_174514_221206/sensor_raw_data/camera/08_174514_221206_24.jpg: 384x640 5 lanes, 12.5ms\n",
      "image 25/40 /home/verlo/dev_ws/Yolo/data/Sample/01.원천데이터/08_174514_221206/sensor_raw_data/camera/08_174514_221206_25.jpg: 384x640 6 lanes, 16.6ms\n",
      "image 26/40 /home/verlo/dev_ws/Yolo/data/Sample/01.원천데이터/08_174514_221206/sensor_raw_data/camera/08_174514_221206_26.jpg: 384x640 5 lanes, 12.1ms\n",
      "image 27/40 /home/verlo/dev_ws/Yolo/data/Sample/01.원천데이터/08_174514_221206/sensor_raw_data/camera/08_174514_221206_27.jpg: 384x640 7 lanes, 16.9ms\n",
      "image 28/40 /home/verlo/dev_ws/Yolo/data/Sample/01.원천데이터/08_174514_221206/sensor_raw_data/camera/08_174514_221206_28.jpg: 384x640 8 lanes, 19.5ms\n",
      "image 29/40 /home/verlo/dev_ws/Yolo/data/Sample/01.원천데이터/08_174514_221206/sensor_raw_data/camera/08_174514_221206_29.jpg: 384x640 7 lanes, 19.1ms\n",
      "image 30/40 /home/verlo/dev_ws/Yolo/data/Sample/01.원천데이터/08_174514_221206/sensor_raw_data/camera/08_174514_221206_30.jpg: 384x640 6 lanes, 28.3ms\n",
      "image 31/40 /home/verlo/dev_ws/Yolo/data/Sample/01.원천데이터/08_174514_221206/sensor_raw_data/camera/08_174514_221206_31.jpg: 384x640 6 lanes, 16.0ms\n",
      "image 32/40 /home/verlo/dev_ws/Yolo/data/Sample/01.원천데이터/08_174514_221206/sensor_raw_data/camera/08_174514_221206_32.jpg: 384x640 6 lanes, 16.3ms\n",
      "image 33/40 /home/verlo/dev_ws/Yolo/data/Sample/01.원천데이터/08_174514_221206/sensor_raw_data/camera/08_174514_221206_33.jpg: 384x640 6 lanes, 17.1ms\n",
      "image 34/40 /home/verlo/dev_ws/Yolo/data/Sample/01.원천데이터/08_174514_221206/sensor_raw_data/camera/08_174514_221206_34.jpg: 384x640 5 lanes, 23.4ms\n",
      "image 35/40 /home/verlo/dev_ws/Yolo/data/Sample/01.원천데이터/08_174514_221206/sensor_raw_data/camera/08_174514_221206_35.jpg: 384x640 4 lanes, 14.5ms\n",
      "image 36/40 /home/verlo/dev_ws/Yolo/data/Sample/01.원천데이터/08_174514_221206/sensor_raw_data/camera/08_174514_221206_36.jpg: 384x640 4 lanes, 15.3ms\n",
      "image 37/40 /home/verlo/dev_ws/Yolo/data/Sample/01.원천데이터/08_174514_221206/sensor_raw_data/camera/08_174514_221206_37.jpg: 384x640 4 lanes, 14.7ms\n",
      "image 38/40 /home/verlo/dev_ws/Yolo/data/Sample/01.원천데이터/08_174514_221206/sensor_raw_data/camera/08_174514_221206_38.jpg: 384x640 3 lanes, 14.7ms\n",
      "image 39/40 /home/verlo/dev_ws/Yolo/data/Sample/01.원천데이터/08_174514_221206/sensor_raw_data/camera/08_174514_221206_39.jpg: 384x640 4 lanes, 13.8ms\n",
      "image 40/40 /home/verlo/dev_ws/Yolo/data/Sample/01.원천데이터/08_174514_221206/sensor_raw_data/camera/08_174514_221206_40.jpg: 384x640 4 lanes, 14.9ms\n",
      "Speed: 7.1ms preprocess, 20.3ms inference, 5.6ms postprocess per image at shape (1, 3, 384, 640)\n",
      "Results saved to \u001b[1m/home/verlo/dev_ws/YOLO/runs/segment/predict7\u001b[0m\n",
      "[ultralytics.engine.results.Results object with attributes:\n",
      "\n",
      "boxes: ultralytics.engine.results.Boxes object\n",
      "keypoints: None\n",
      "masks: ultralytics.engine.results.Masks object\n",
      "names: {0: 'lane'}\n",
      "obb: None\n",
      "orig_img: array([[[ 49, 109,  55],\n",
      "        [ 53, 111,  57],\n",
      "        [ 29,  81,  27],\n",
      "        ...,\n",
      "        [106, 103,  98],\n",
      "        [100, 106,  95],\n",
      "        [102, 113,  97]],\n",
      "\n",
      "       [[ 68, 113,  74],\n",
      "        [ 69, 113,  72],\n",
      "        [ 76, 116,  74],\n",
      "        ...,\n",
      "        [104, 101,  97],\n",
      "        [ 97, 102,  93],\n",
      "        [ 96, 106,  93]],\n",
      "\n",
      "       [[ 84, 102,  89],\n",
      "        [ 85, 104,  89],\n",
      "        [ 90, 106,  88],\n",
      "        ...,\n",
      "        [102, 103, 101],\n",
      "        [ 99, 103,  98],\n",
      "        [ 96, 103,  96]],\n",
      "\n",
      "       ...,\n",
      "\n",
      "       [[ 42,  36,  37],\n",
      "        [ 42,  35,  38],\n",
      "        [ 41,  34,  39],\n",
      "        ...,\n",
      "        [ 18,  43,  53],\n",
      "        [ 24,  43,  50],\n",
      "        [ 25,  44,  49]],\n",
      "\n",
      "       [[ 45,  36,  33],\n",
      "        [ 45,  35,  35],\n",
      "        [ 42,  33,  36],\n",
      "        ...,\n",
      "        [ 21,  41,  52],\n",
      "        [ 24,  42,  49],\n",
      "        [ 26,  42,  48]],\n",
      "\n",
      "       [[ 43,  32,  28],\n",
      "        [ 47,  35,  33],\n",
      "        [ 46,  35,  37],\n",
      "        ...,\n",
      "        [ 23,  43,  54],\n",
      "        [ 27,  43,  50],\n",
      "        [ 29,  43,  49]]], dtype=uint8)\n",
      "orig_shape: (1080, 1920)\n",
      "path: '/home/verlo/dev_ws/Yolo/data/Sample/01.원천데이터/08_174514_221206/sensor_raw_data/camera/08_174514_221206_01.jpg'\n",
      "probs: None\n",
      "save_dir: '/home/verlo/dev_ws/YOLO/runs/segment/predict7'\n",
      "speed: {'preprocess': 2.3758411407470703, 'inference': 183.0599308013916, 'postprocess': 9.24992561340332}, ultralytics.engine.results.Results object with attributes:\n",
      "\n",
      "boxes: ultralytics.engine.results.Boxes object\n",
      "keypoints: None\n",
      "masks: ultralytics.engine.results.Masks object\n",
      "names: {0: 'lane'}\n",
      "obb: None\n",
      "orig_img: array([[[ 52, 106,  59],\n",
      "        [ 50, 105,  56],\n",
      "        [ 25,  81,  30],\n",
      "        ...,\n",
      "        [116,  79,  95],\n",
      "        [112,  64, 100],\n",
      "        [116,  65, 109]],\n",
      "\n",
      "       [[ 59,  99,  64],\n",
      "        [ 64, 104,  69],\n",
      "        [ 59, 102,  65],\n",
      "        ...,\n",
      "        [114,  78,  92],\n",
      "        [112,  70, 101],\n",
      "        [115,  68, 106]],\n",
      "\n",
      "       [[ 78,  89,  79],\n",
      "        [ 77,  91,  80],\n",
      "        [ 77,  92,  84],\n",
      "        ...,\n",
      "        [110,  79,  88],\n",
      "        [112,  76,  98],\n",
      "        [109,  72,  98]],\n",
      "\n",
      "       ...,\n",
      "\n",
      "       [[ 21,  33,  45],\n",
      "        [ 22,  34,  46],\n",
      "        [ 23,  33,  50],\n",
      "        ...,\n",
      "        [ 22,  41,  49],\n",
      "        [ 20,  42,  48],\n",
      "        [ 17,  41,  47]],\n",
      "\n",
      "       [[ 19,  34,  43],\n",
      "        [ 20,  34,  46],\n",
      "        [ 22,  32,  49],\n",
      "        ...,\n",
      "        [ 25,  46,  54],\n",
      "        [ 23,  47,  53],\n",
      "        [ 20,  47,  51]],\n",
      "\n",
      "       [[ 20,  35,  44],\n",
      "        [ 20,  34,  46],\n",
      "        [ 22,  33,  47],\n",
      "        ...,\n",
      "        [ 36,  58,  64],\n",
      "        [ 34,  58,  64],\n",
      "        [ 32,  59,  63]]], dtype=uint8)\n",
      "orig_shape: (1080, 1920)\n",
      "path: '/home/verlo/dev_ws/Yolo/data/Sample/01.원천데이터/08_174514_221206/sensor_raw_data/camera/08_174514_221206_02.jpg'\n",
      "probs: None\n",
      "save_dir: '/home/verlo/dev_ws/YOLO/runs/segment/predict7'\n",
      "speed: {'preprocess': 7.724761962890625, 'inference': 14.316320419311523, 'postprocess': 5.217075347900391}, ultralytics.engine.results.Results object with attributes:\n",
      "\n",
      "boxes: ultralytics.engine.results.Boxes object\n",
      "keypoints: None\n",
      "masks: ultralytics.engine.results.Masks object\n",
      "names: {0: 'lane'}\n",
      "obb: None\n",
      "orig_img: array([[[ 49, 104,  59],\n",
      "        [ 48, 102,  55],\n",
      "        [ 33,  79,  32],\n",
      "        ...,\n",
      "        [ 83,  95,  59],\n",
      "        [ 77,  85,  55],\n",
      "        [ 79,  85,  60]],\n",
      "\n",
      "       [[ 56, 104,  68],\n",
      "        [ 62, 108,  72],\n",
      "        [ 63, 104,  67],\n",
      "        ...,\n",
      "        [ 85,  92,  59],\n",
      "        [ 80,  85,  56],\n",
      "        [ 81,  86,  59]],\n",
      "\n",
      "       [[ 57,  89,  72],\n",
      "        [ 61,  93,  76],\n",
      "        [ 70,  99,  84],\n",
      "        ...,\n",
      "        [ 90,  89,  63],\n",
      "        [ 87,  87,  57],\n",
      "        [ 86,  87,  55]],\n",
      "\n",
      "       ...,\n",
      "\n",
      "       [[ 33,  29,  40],\n",
      "        [ 34,  30,  41],\n",
      "        [ 34,  33,  43],\n",
      "        ...,\n",
      "        [ 35,  35,  41],\n",
      "        [ 34,  32,  44],\n",
      "        [ 31,  31,  45]],\n",
      "\n",
      "       [[ 30,  26,  37],\n",
      "        [ 32,  28,  39],\n",
      "        [ 33,  32,  42],\n",
      "        ...,\n",
      "        [ 38,  37,  39],\n",
      "        [ 37,  34,  43],\n",
      "        [ 35,  34,  44]],\n",
      "\n",
      "       [[ 32,  28,  39],\n",
      "        [ 29,  25,  36],\n",
      "        [ 25,  24,  34],\n",
      "        ...,\n",
      "        [ 37,  37,  37],\n",
      "        [ 36,  34,  40],\n",
      "        [ 38,  35,  44]]], dtype=uint8)\n",
      "orig_shape: (1080, 1920)\n",
      "path: '/home/verlo/dev_ws/Yolo/data/Sample/01.원천데이터/08_174514_221206/sensor_raw_data/camera/08_174514_221206_03.jpg'\n",
      "probs: None\n",
      "save_dir: '/home/verlo/dev_ws/YOLO/runs/segment/predict7'\n",
      "speed: {'preprocess': 6.090402603149414, 'inference': 12.857913970947266, 'postprocess': 4.027128219604492}, ultralytics.engine.results.Results object with attributes:\n",
      "\n",
      "boxes: ultralytics.engine.results.Boxes object\n",
      "keypoints: None\n",
      "masks: ultralytics.engine.results.Masks object\n",
      "names: {0: 'lane'}\n",
      "obb: None\n",
      "orig_img: array([[[ 36, 110,  46],\n",
      "        [ 38, 108,  48],\n",
      "        [ 18,  81,  31],\n",
      "        ...,\n",
      "        [ 94,  65,  60],\n",
      "        [ 81,  68,  54],\n",
      "        [ 76,  70,  51]],\n",
      "\n",
      "       [[ 38,  94,  41],\n",
      "        [ 40,  92,  44],\n",
      "        [ 41,  88,  49],\n",
      "        ...,\n",
      "        [ 92,  66,  60],\n",
      "        [ 83,  69,  57],\n",
      "        [ 79,  72,  55]],\n",
      "\n",
      "       [[ 69,  90,  57],\n",
      "        [ 62,  81,  54],\n",
      "        [ 63,  82,  63],\n",
      "        ...,\n",
      "        [ 91,  66,  62],\n",
      "        [ 83,  71,  61],\n",
      "        [ 78,  72,  59]],\n",
      "\n",
      "       ...,\n",
      "\n",
      "       [[ 23,  36,  34],\n",
      "        [ 23,  37,  33],\n",
      "        [ 25,  36,  33],\n",
      "        ...,\n",
      "        [100,  95, 104],\n",
      "        [106,  96, 112],\n",
      "        [105,  95, 112]],\n",
      "\n",
      "       [[ 21,  36,  32],\n",
      "        [ 22,  36,  32],\n",
      "        [ 25,  36,  33],\n",
      "        ...,\n",
      "        [104,  96, 106],\n",
      "        [100,  91, 104],\n",
      "        [100,  90, 106]],\n",
      "\n",
      "       [[ 23,  38,  34],\n",
      "        [ 22,  37,  33],\n",
      "        [ 24,  36,  30],\n",
      "        ...,\n",
      "        [123, 116, 123],\n",
      "        [121, 112, 125],\n",
      "        [125, 115, 131]]], dtype=uint8)\n",
      "orig_shape: (1080, 1920)\n",
      "path: '/home/verlo/dev_ws/Yolo/data/Sample/01.원천데이터/08_174514_221206/sensor_raw_data/camera/08_174514_221206_04.jpg'\n",
      "probs: None\n",
      "save_dir: '/home/verlo/dev_ws/YOLO/runs/segment/predict7'\n",
      "speed: {'preprocess': 5.324840545654297, 'inference': 12.385368347167969, 'postprocess': 4.57310676574707}, ultralytics.engine.results.Results object with attributes:\n",
      "\n",
      "boxes: ultralytics.engine.results.Boxes object\n",
      "keypoints: None\n",
      "masks: ultralytics.engine.results.Masks object\n",
      "names: {0: 'lane'}\n",
      "obb: None\n",
      "orig_img: array([[[ 51, 110,  35],\n",
      "        [ 52, 106,  39],\n",
      "        [ 39,  81,  33],\n",
      "        ...,\n",
      "        [ 86,  58,  57],\n",
      "        [ 99,  68,  53],\n",
      "        [107,  76,  53]],\n",
      "\n",
      "       [[ 45,  88,  25],\n",
      "        [ 47,  88,  31],\n",
      "        [ 51,  83,  42],\n",
      "        ...,\n",
      "        [ 86,  56,  55],\n",
      "        [102,  71,  56],\n",
      "        [105,  74,  53]],\n",
      "\n",
      "       [[ 62,  76,  35],\n",
      "        [ 63,  74,  41],\n",
      "        [ 71,  80,  54],\n",
      "        ...,\n",
      "        [ 88,  56,  51],\n",
      "        [111,  79,  66],\n",
      "        [113,  80,  64]],\n",
      "\n",
      "       ...,\n",
      "\n",
      "       [[ 15,  39,  57],\n",
      "        [ 15,  39,  57],\n",
      "        [ 20,  41,  56],\n",
      "        ...,\n",
      "        [109, 105, 110],\n",
      "        [104,  99, 100],\n",
      "        [103, 101, 100]],\n",
      "\n",
      "       [[ 15,  32,  53],\n",
      "        [ 16,  33,  52],\n",
      "        [ 18,  37,  52],\n",
      "        ...,\n",
      "        [112, 105, 112],\n",
      "        [112, 105, 108],\n",
      "        [107, 102, 103]],\n",
      "\n",
      "       [[ 18,  32,  54],\n",
      "        [ 19,  34,  53],\n",
      "        [ 21,  38,  51],\n",
      "        ...,\n",
      "        [117, 109, 116],\n",
      "        [123, 116, 119],\n",
      "        [122, 116, 117]]], dtype=uint8)\n",
      "orig_shape: (1080, 1920)\n",
      "path: '/home/verlo/dev_ws/Yolo/data/Sample/01.원천데이터/08_174514_221206/sensor_raw_data/camera/08_174514_221206_05.jpg'\n",
      "probs: None\n",
      "save_dir: '/home/verlo/dev_ws/YOLO/runs/segment/predict7'\n",
      "speed: {'preprocess': 4.601716995239258, 'inference': 11.843204498291016, 'postprocess': 4.639863967895508}, ultralytics.engine.results.Results object with attributes:\n",
      "\n",
      "boxes: ultralytics.engine.results.Boxes object\n",
      "keypoints: None\n",
      "masks: ultralytics.engine.results.Masks object\n",
      "names: {0: 'lane'}\n",
      "obb: None\n",
      "orig_img: array([[[ 62, 103,  42],\n",
      "        [ 63, 103,  45],\n",
      "        [ 42,  79,  29],\n",
      "        ...,\n",
      "        [109,  88,  67],\n",
      "        [ 96,  80,  63],\n",
      "        [ 88,  75,  59]],\n",
      "\n",
      "       [[ 69,  93,  39],\n",
      "        [ 68,  91,  39],\n",
      "        [ 63,  86,  41],\n",
      "        ...,\n",
      "        [109,  87,  69],\n",
      "        [ 95,  81,  63],\n",
      "        [ 86,  76,  58]],\n",
      "\n",
      "       [[102,  96,  55],\n",
      "        [ 97,  90,  51],\n",
      "        [ 96,  90,  53],\n",
      "        ...,\n",
      "        [102,  82,  65],\n",
      "        [ 88,  77,  57],\n",
      "        [ 80,  75,  54]],\n",
      "\n",
      "       ...,\n",
      "\n",
      "       [[ 16,  36,  47],\n",
      "        [ 17,  35,  46],\n",
      "        [ 23,  36,  50],\n",
      "        ...,\n",
      "        [128, 132, 143],\n",
      "        [131, 135, 146],\n",
      "        [131, 135, 146]],\n",
      "\n",
      "       [[ 18,  35,  48],\n",
      "        [ 17,  33,  46],\n",
      "        [ 23,  33,  50],\n",
      "        ...,\n",
      "        [139, 147, 154],\n",
      "        [138, 145, 154],\n",
      "        [138, 145, 154]],\n",
      "\n",
      "       [[ 21,  37,  50],\n",
      "        [ 19,  32,  46],\n",
      "        [ 26,  34,  51],\n",
      "        ...,\n",
      "        [147, 158, 162],\n",
      "        [147, 156, 165],\n",
      "        [149, 158, 167]]], dtype=uint8)\n",
      "orig_shape: (1080, 1920)\n",
      "path: '/home/verlo/dev_ws/Yolo/data/Sample/01.원천데이터/08_174514_221206/sensor_raw_data/camera/08_174514_221206_06.jpg'\n",
      "probs: None\n",
      "save_dir: '/home/verlo/dev_ws/YOLO/runs/segment/predict7'\n",
      "speed: {'preprocess': 10.435104370117188, 'inference': 18.099308013916016, 'postprocess': 9.966373443603516}, ultralytics.engine.results.Results object with attributes:\n",
      "\n",
      "boxes: ultralytics.engine.results.Boxes object\n",
      "keypoints: None\n",
      "masks: ultralytics.engine.results.Masks object\n",
      "names: {0: 'lane'}\n",
      "obb: None\n",
      "orig_img: array([[[ 75, 102,  38],\n",
      "        [ 73, 100,  36],\n",
      "        [ 56,  84,  18],\n",
      "        ...,\n",
      "        [120,  74,  63],\n",
      "        [117,  75,  52],\n",
      "        [118,  79,  47]],\n",
      "\n",
      "       [[ 54,  69,  12],\n",
      "        [ 59,  74,  17],\n",
      "        [ 69,  87,  28],\n",
      "        ...,\n",
      "        [117,  70,  66],\n",
      "        [112,  69,  52],\n",
      "        [115,  77,  53]],\n",
      "\n",
      "       [[ 81,  71,  31],\n",
      "        [ 79,  71,  31],\n",
      "        [ 88,  82,  39],\n",
      "        ...,\n",
      "        [117,  70,  73],\n",
      "        [106,  65,  62],\n",
      "        [107,  69,  64]],\n",
      "\n",
      "       ...,\n",
      "\n",
      "       [[ 16,  21,  20],\n",
      "        [ 15,  20,  19],\n",
      "        [ 18,  20,  21],\n",
      "        ...,\n",
      "        [ 32,  30,  29],\n",
      "        [ 32,  31,  27],\n",
      "        [ 31,  30,  26]],\n",
      "\n",
      "       [[ 16,  21,  20],\n",
      "        [ 15,  20,  19],\n",
      "        [ 16,  20,  21],\n",
      "        ...,\n",
      "        [ 35,  36,  34],\n",
      "        [ 37,  36,  32],\n",
      "        [ 37,  36,  32]],\n",
      "\n",
      "       [[ 18,  23,  22],\n",
      "        [ 17,  22,  21],\n",
      "        [ 17,  21,  22],\n",
      "        ...,\n",
      "        [ 41,  42,  40],\n",
      "        [ 43,  42,  38],\n",
      "        [ 43,  42,  38]]], dtype=uint8)\n",
      "orig_shape: (1080, 1920)\n",
      "path: '/home/verlo/dev_ws/Yolo/data/Sample/01.원천데이터/08_174514_221206/sensor_raw_data/camera/08_174514_221206_07.jpg'\n",
      "probs: None\n",
      "save_dir: '/home/verlo/dev_ws/YOLO/runs/segment/predict7'\n",
      "speed: {'preprocess': 7.83538818359375, 'inference': 20.996809005737305, 'postprocess': 5.428314208984375}, ultralytics.engine.results.Results object with attributes:\n",
      "\n",
      "boxes: ultralytics.engine.results.Boxes object\n",
      "keypoints: None\n",
      "masks: ultralytics.engine.results.Masks object\n",
      "names: {0: 'lane'}\n",
      "obb: None\n",
      "orig_img: array([[[ 62, 101,  33],\n",
      "        [ 64,  99,  35],\n",
      "        [ 51,  83,  26],\n",
      "        ...,\n",
      "        [110,  64,  57],\n",
      "        [107,  69,  45],\n",
      "        [105,  72,  39]],\n",
      "\n",
      "       [[ 56,  84,  25],\n",
      "        [ 58,  85,  29],\n",
      "        [ 58,  79,  30],\n",
      "        ...,\n",
      "        [107,  61,  54],\n",
      "        [103,  65,  47],\n",
      "        [101,  65,  41]],\n",
      "\n",
      "       [[ 71,  79,  39],\n",
      "        [ 69,  77,  37],\n",
      "        [ 74,  76,  40],\n",
      "        ...,\n",
      "        [105,  63,  58],\n",
      "        [112,  70,  63],\n",
      "        [111,  72,  64]],\n",
      "\n",
      "       ...,\n",
      "\n",
      "       [[ 23,  24,  50],\n",
      "        [ 24,  25,  53],\n",
      "        [ 28,  26,  56],\n",
      "        ...,\n",
      "        [ 24,  37,  39],\n",
      "        [ 22,  35,  37],\n",
      "        [ 21,  36,  38]],\n",
      "\n",
      "       [[ 20,  25,  46],\n",
      "        [ 22,  26,  50],\n",
      "        [ 26,  27,  55],\n",
      "        ...,\n",
      "        [ 35,  50,  52],\n",
      "        [ 34,  49,  51],\n",
      "        [ 32,  50,  51]],\n",
      "\n",
      "       [[ 20,  26,  45],\n",
      "        [ 22,  27,  48],\n",
      "        [ 27,  28,  56],\n",
      "        ...,\n",
      "        [ 49,  67,  68],\n",
      "        [ 48,  66,  67],\n",
      "        [ 48,  66,  67]]], dtype=uint8)\n",
      "orig_shape: (1080, 1920)\n",
      "path: '/home/verlo/dev_ws/Yolo/data/Sample/01.원천데이터/08_174514_221206/sensor_raw_data/camera/08_174514_221206_08.jpg'\n",
      "probs: None\n",
      "save_dir: '/home/verlo/dev_ws/YOLO/runs/segment/predict7'\n",
      "speed: {'preprocess': 4.876613616943359, 'inference': 13.975143432617188, 'postprocess': 6.984710693359375}, ultralytics.engine.results.Results object with attributes:\n",
      "\n",
      "boxes: ultralytics.engine.results.Boxes object\n",
      "keypoints: None\n",
      "masks: ultralytics.engine.results.Masks object\n",
      "names: {0: 'lane'}\n",
      "obb: None\n",
      "orig_img: array([[[65, 95, 42],\n",
      "        [65, 95, 42],\n",
      "        [55, 80, 30],\n",
      "        ...,\n",
      "        [89, 62, 58],\n",
      "        [86, 64, 58],\n",
      "        [82, 63, 56]],\n",
      "\n",
      "       [[67, 79, 37],\n",
      "        [67, 79, 37],\n",
      "        [71, 81, 39],\n",
      "        ...,\n",
      "        [90, 61, 57],\n",
      "        [89, 64, 60],\n",
      "        [85, 63, 58]],\n",
      "\n",
      "       [[91, 70, 49],\n",
      "        [92, 68, 48],\n",
      "        [97, 73, 53],\n",
      "        ...,\n",
      "        [96, 62, 62],\n",
      "        [99, 68, 67],\n",
      "        [98, 68, 67]],\n",
      "\n",
      "       ...,\n",
      "\n",
      "       [[19, 30, 44],\n",
      "        [21, 33, 45],\n",
      "        [24, 34, 44],\n",
      "        ...,\n",
      "        [28, 29, 27],\n",
      "        [32, 28, 27],\n",
      "        [32, 28, 27]],\n",
      "\n",
      "       [[20, 34, 46],\n",
      "        [22, 34, 46],\n",
      "        [24, 34, 44],\n",
      "        ...,\n",
      "        [28, 29, 27],\n",
      "        [32, 28, 27],\n",
      "        [32, 28, 27]],\n",
      "\n",
      "       [[18, 32, 44],\n",
      "        [21, 33, 43],\n",
      "        [24, 34, 44],\n",
      "        ...,\n",
      "        [28, 29, 27],\n",
      "        [32, 28, 27],\n",
      "        [32, 28, 27]]], dtype=uint8)\n",
      "orig_shape: (1080, 1920)\n",
      "path: '/home/verlo/dev_ws/Yolo/data/Sample/01.원천데이터/08_174514_221206/sensor_raw_data/camera/08_174514_221206_09.jpg'\n",
      "probs: None\n",
      "save_dir: '/home/verlo/dev_ws/YOLO/runs/segment/predict7'\n",
      "speed: {'preprocess': 8.393049240112305, 'inference': 22.901535034179688, 'postprocess': 7.4138641357421875}, ultralytics.engine.results.Results object with attributes:\n",
      "\n",
      "boxes: ultralytics.engine.results.Boxes object\n",
      "keypoints: None\n",
      "masks: ultralytics.engine.results.Masks object\n",
      "names: {0: 'lane'}\n",
      "obb: None\n",
      "orig_img: array([[[68, 94, 40],\n",
      "        [67, 94, 38],\n",
      "        [56, 81, 25],\n",
      "        ...,\n",
      "        [94, 59, 69],\n",
      "        [93, 59, 69],\n",
      "        [91, 57, 67]],\n",
      "\n",
      "       [[66, 78, 30],\n",
      "        [67, 79, 31],\n",
      "        [68, 80, 32],\n",
      "        ...,\n",
      "        [97, 63, 69],\n",
      "        [93, 59, 66],\n",
      "        [92, 58, 68]],\n",
      "\n",
      "       [[89, 75, 39],\n",
      "        [86, 71, 38],\n",
      "        [90, 73, 46],\n",
      "        ...,\n",
      "        [96, 62, 62],\n",
      "        [95, 61, 67],\n",
      "        [90, 56, 63]],\n",
      "\n",
      "       ...,\n",
      "\n",
      "       [[36, 29, 66],\n",
      "        [33, 30, 69],\n",
      "        [27, 31, 72],\n",
      "        ...,\n",
      "        [22, 27, 26],\n",
      "        [23, 28, 27],\n",
      "        [25, 31, 30]],\n",
      "\n",
      "       [[38, 31, 66],\n",
      "        [35, 31, 67],\n",
      "        [28, 30, 70],\n",
      "        ...,\n",
      "        [25, 31, 30],\n",
      "        [26, 32, 31],\n",
      "        [24, 32, 31]],\n",
      "\n",
      "       [[40, 30, 66],\n",
      "        [37, 30, 67],\n",
      "        [29, 30, 68],\n",
      "        ...,\n",
      "        [30, 36, 35],\n",
      "        [28, 36, 35],\n",
      "        [26, 34, 33]]], dtype=uint8)\n",
      "orig_shape: (1080, 1920)\n",
      "path: '/home/verlo/dev_ws/Yolo/data/Sample/01.원천데이터/08_174514_221206/sensor_raw_data/camera/08_174514_221206_10.jpg'\n",
      "probs: None\n",
      "save_dir: '/home/verlo/dev_ws/YOLO/runs/segment/predict7'\n",
      "speed: {'preprocess': 7.313728332519531, 'inference': 14.757871627807617, 'postprocess': 4.570484161376953}, ultralytics.engine.results.Results object with attributes:\n",
      "\n",
      "boxes: ultralytics.engine.results.Boxes object\n",
      "keypoints: None\n",
      "masks: ultralytics.engine.results.Masks object\n",
      "names: {0: 'lane'}\n",
      "obb: None\n",
      "orig_img: array([[[ 57,  94,  44],\n",
      "        [ 57,  93,  41],\n",
      "        [ 48,  79,  24],\n",
      "        ...,\n",
      "        [101,  65,  35],\n",
      "        [102,  57,  53],\n",
      "        [107,  58,  66]],\n",
      "\n",
      "       [[ 78, 101,  56],\n",
      "        [ 80, 102,  54],\n",
      "        [ 79,  98,  49],\n",
      "        ...,\n",
      "        [101,  64,  38],\n",
      "        [103,  58,  54],\n",
      "        [107,  59,  65]],\n",
      "\n",
      "       [[ 92,  87,  48],\n",
      "        [ 94,  89,  50],\n",
      "        [ 98,  90,  53],\n",
      "        ...,\n",
      "        [103,  63,  44],\n",
      "        [106,  59,  55],\n",
      "        [107,  57,  61]],\n",
      "\n",
      "       ...,\n",
      "\n",
      "       [[ 10,  37,  94],\n",
      "        [ 10,  38,  92],\n",
      "        [ 11,  40,  85],\n",
      "        ...,\n",
      "        [ 25,  30,  28],\n",
      "        [ 27,  30,  28],\n",
      "        [ 28,  29,  27]],\n",
      "\n",
      "       [[  4,  41,  99],\n",
      "        [  6,  42,  96],\n",
      "        [  8,  42,  88],\n",
      "        ...,\n",
      "        [ 29,  34,  32],\n",
      "        [ 31,  34,  32],\n",
      "        [ 30,  33,  31]],\n",
      "\n",
      "       [[  0,  40,  99],\n",
      "        [  0,  41,  96],\n",
      "        [  6,  42,  90],\n",
      "        ...,\n",
      "        [ 31,  36,  34],\n",
      "        [ 32,  35,  33],\n",
      "        [ 31,  34,  32]]], dtype=uint8)\n",
      "orig_shape: (1080, 1920)\n",
      "path: '/home/verlo/dev_ws/Yolo/data/Sample/01.원천데이터/08_174514_221206/sensor_raw_data/camera/08_174514_221206_11.jpg'\n",
      "probs: None\n",
      "save_dir: '/home/verlo/dev_ws/YOLO/runs/segment/predict7'\n",
      "speed: {'preprocess': 6.568670272827148, 'inference': 15.860795974731445, 'postprocess': 7.751941680908203}, ultralytics.engine.results.Results object with attributes:\n",
      "\n",
      "boxes: ultralytics.engine.results.Boxes object\n",
      "keypoints: None\n",
      "masks: ultralytics.engine.results.Masks object\n",
      "names: {0: 'lane'}\n",
      "obb: None\n",
      "orig_img: array([[[ 52,  94,  39],\n",
      "        [ 51,  95,  42],\n",
      "        [ 38,  81,  30],\n",
      "        ...,\n",
      "        [117,  69,  45],\n",
      "        [115,  63,  47],\n",
      "        [117,  64,  51]],\n",
      "\n",
      "       [[ 66,  93,  49],\n",
      "        [ 70,  97,  54],\n",
      "        [ 66,  96,  55],\n",
      "        ...,\n",
      "        [113,  63,  43],\n",
      "        [117,  65,  52],\n",
      "        [119,  67,  55]],\n",
      "\n",
      "       [[ 94,  87,  67],\n",
      "        [ 93,  88,  67],\n",
      "        [ 90,  89,  69],\n",
      "        ...,\n",
      "        [114,  63,  47],\n",
      "        [119,  66,  56],\n",
      "        [113,  61,  54]],\n",
      "\n",
      "       ...,\n",
      "\n",
      "       [[ 34,  29,  90],\n",
      "        [ 37,  32,  93],\n",
      "        [ 41,  36,  97],\n",
      "        ...,\n",
      "        [ 24,  26,  27],\n",
      "        [ 26,  25,  27],\n",
      "        [ 26,  25,  27]],\n",
      "\n",
      "       [[ 48,  36,  88],\n",
      "        [ 47,  38,  88],\n",
      "        [ 50,  41,  91],\n",
      "        ...,\n",
      "        [ 27,  27,  27],\n",
      "        [ 31,  29,  29],\n",
      "        [ 31,  29,  29]],\n",
      "\n",
      "       [[ 58,  45,  91],\n",
      "        [ 55,  44,  90],\n",
      "        [ 53,  43,  86],\n",
      "        ...,\n",
      "        [ 28,  28,  28],\n",
      "        [ 34,  29,  30],\n",
      "        [ 35,  30,  31]]], dtype=uint8)\n",
      "orig_shape: (1080, 1920)\n",
      "path: '/home/verlo/dev_ws/Yolo/data/Sample/01.원천데이터/08_174514_221206/sensor_raw_data/camera/08_174514_221206_12.jpg'\n",
      "probs: None\n",
      "save_dir: '/home/verlo/dev_ws/YOLO/runs/segment/predict7'\n",
      "speed: {'preprocess': 5.1212310791015625, 'inference': 11.588335037231445, 'postprocess': 4.400968551635742}, ultralytics.engine.results.Results object with attributes:\n",
      "\n",
      "boxes: ultralytics.engine.results.Boxes object\n",
      "keypoints: None\n",
      "masks: ultralytics.engine.results.Masks object\n",
      "names: {0: 'lane'}\n",
      "obb: None\n",
      "orig_img: array([[[ 68,  89,  40],\n",
      "        [ 64,  87,  43],\n",
      "        [ 50,  75,  41],\n",
      "        ...,\n",
      "        [102,  58,  51],\n",
      "        [ 97,  64,  45],\n",
      "        [ 99,  69,  44]],\n",
      "\n",
      "       [[ 97, 108,  70],\n",
      "        [ 92, 103,  70],\n",
      "        [ 79,  95,  71],\n",
      "        ...,\n",
      "        [105,  60,  56],\n",
      "        [ 99,  65,  49],\n",
      "        [ 97,  66,  45]],\n",
      "\n",
      "       [[119, 109,  92],\n",
      "        [109, 102,  87],\n",
      "        [ 94,  90,  85],\n",
      "        ...,\n",
      "        [105,  60,  56],\n",
      "        [101,  62,  53],\n",
      "        [ 99,  64,  51]],\n",
      "\n",
      "       ...,\n",
      "\n",
      "       [[  0,   1,   8],\n",
      "        [ 41,  48,  68],\n",
      "        [ 37,  43,  90],\n",
      "        ...,\n",
      "        [ 28,  28,  28],\n",
      "        [ 28,  28,  28],\n",
      "        [ 27,  27,  27]],\n",
      "\n",
      "       [[  0,   3,   3],\n",
      "        [ 40,  48,  61],\n",
      "        [ 37,  45,  82],\n",
      "        ...,\n",
      "        [ 26,  24,  24],\n",
      "        [ 26,  24,  24],\n",
      "        [ 26,  24,  24]],\n",
      "\n",
      "       [[  0,   5,   2],\n",
      "        [ 42,  49,  58],\n",
      "        [ 35,  43,  73],\n",
      "        ...,\n",
      "        [ 26,  24,  24],\n",
      "        [ 26,  24,  24],\n",
      "        [ 27,  25,  25]]], dtype=uint8)\n",
      "orig_shape: (1080, 1920)\n",
      "path: '/home/verlo/dev_ws/Yolo/data/Sample/01.원천데이터/08_174514_221206/sensor_raw_data/camera/08_174514_221206_13.jpg'\n",
      "probs: None\n",
      "save_dir: '/home/verlo/dev_ws/YOLO/runs/segment/predict7'\n",
      "speed: {'preprocess': 7.158756256103516, 'inference': 17.3032283782959, 'postprocess': 7.207393646240234}, ultralytics.engine.results.Results object with attributes:\n",
      "\n",
      "boxes: ultralytics.engine.results.Boxes object\n",
      "keypoints: None\n",
      "masks: ultralytics.engine.results.Masks object\n",
      "names: {0: 'lane'}\n",
      "obb: None\n",
      "orig_img: array([[[ 51,  89,  39],\n",
      "        [ 46,  88,  41],\n",
      "        [ 31,  79,  37],\n",
      "        ...,\n",
      "        [114,  70,  71],\n",
      "        [108,  61,  63],\n",
      "        [110,  63,  65]],\n",
      "\n",
      "       [[ 88, 116,  73],\n",
      "        [ 87, 118,  79],\n",
      "        [ 85, 122,  90],\n",
      "        ...,\n",
      "        [116,  71,  68],\n",
      "        [110,  65,  61],\n",
      "        [114,  70,  63]],\n",
      "\n",
      "       [[108, 113,  84],\n",
      "        [107, 115,  92],\n",
      "        [100, 113,  97],\n",
      "        ...,\n",
      "        [115,  71,  58],\n",
      "        [109,  66,  49],\n",
      "        [104,  65,  43]],\n",
      "\n",
      "       ...,\n",
      "\n",
      "       [[  9,   0,   4],\n",
      "        [ 44,  33,  43],\n",
      "        [ 63,  50,  64],\n",
      "        ...,\n",
      "        [ 28,  28,  28],\n",
      "        [ 28,  28,  28],\n",
      "        [ 27,  27,  27]],\n",
      "\n",
      "       [[  9,   0,   5],\n",
      "        [ 80,  69,  77],\n",
      "        [ 81,  69,  81],\n",
      "        ...,\n",
      "        [ 25,  25,  25],\n",
      "        [ 24,  24,  24],\n",
      "        [ 24,  25,  23]],\n",
      "\n",
      "       [[  7,   0,   3],\n",
      "        [112, 105, 110],\n",
      "        [111,  99, 111],\n",
      "        ...,\n",
      "        [ 21,  21,  21],\n",
      "        [ 21,  22,  20],\n",
      "        [ 21,  22,  20]]], dtype=uint8)\n",
      "orig_shape: (1080, 1920)\n",
      "path: '/home/verlo/dev_ws/Yolo/data/Sample/01.원천데이터/08_174514_221206/sensor_raw_data/camera/08_174514_221206_14.jpg'\n",
      "probs: None\n",
      "save_dir: '/home/verlo/dev_ws/YOLO/runs/segment/predict7'\n",
      "speed: {'preprocess': 10.498523712158203, 'inference': 21.0721492767334, 'postprocess': 6.757497787475586}, ultralytics.engine.results.Results object with attributes:\n",
      "\n",
      "boxes: ultralytics.engine.results.Boxes object\n",
      "keypoints: None\n",
      "masks: ultralytics.engine.results.Masks object\n",
      "names: {0: 'lane'}\n",
      "obb: None\n",
      "orig_img: array([[[ 48,  84,  48],\n",
      "        [ 46,  84,  48],\n",
      "        [ 34,  77,  40],\n",
      "        ...,\n",
      "        [120,  79,  54],\n",
      "        [113,  74,  52],\n",
      "        [115,  78,  56]],\n",
      "\n",
      "       [[102, 127,  99],\n",
      "        [ 97, 127,  98],\n",
      "        [103, 137, 107],\n",
      "        ...,\n",
      "        [120,  77,  58],\n",
      "        [115,  75,  57],\n",
      "        [112,  76,  60]],\n",
      "\n",
      "       [[107, 114, 101],\n",
      "        [108, 118, 105],\n",
      "        [120, 138, 121],\n",
      "        ...,\n",
      "        [120,  74,  67],\n",
      "        [118,  76,  71],\n",
      "        [112,  74,  70]],\n",
      "\n",
      "       ...,\n",
      "\n",
      "       [[ 11,   0,   5],\n",
      "        [200, 193, 198],\n",
      "        [188, 188, 194],\n",
      "        ...,\n",
      "        [ 21,  21,  21],\n",
      "        [ 21,  21,  21],\n",
      "        [ 20,  20,  20]],\n",
      "\n",
      "       [[ 13,   3,   9],\n",
      "        [164, 158, 163],\n",
      "        [166, 169, 174],\n",
      "        ...,\n",
      "        [ 24,  26,  26],\n",
      "        [ 24,  26,  26],\n",
      "        [ 23,  25,  25]],\n",
      "\n",
      "       [[  8,   0,   4],\n",
      "        [ 16,  10,  15],\n",
      "        [ 16,  19,  24],\n",
      "        ...,\n",
      "        [ 21,  23,  23],\n",
      "        [ 22,  24,  24],\n",
      "        [ 22,  24,  24]]], dtype=uint8)\n",
      "orig_shape: (1080, 1920)\n",
      "path: '/home/verlo/dev_ws/Yolo/data/Sample/01.원천데이터/08_174514_221206/sensor_raw_data/camera/08_174514_221206_15.jpg'\n",
      "probs: None\n",
      "save_dir: '/home/verlo/dev_ws/YOLO/runs/segment/predict7'\n",
      "speed: {'preprocess': 1.8572807312011719, 'inference': 13.554811477661133, 'postprocess': 4.64940071105957}, ultralytics.engine.results.Results object with attributes:\n",
      "\n",
      "boxes: ultralytics.engine.results.Boxes object\n",
      "keypoints: None\n",
      "masks: ultralytics.engine.results.Masks object\n",
      "names: {0: 'lane'}\n",
      "obb: None\n",
      "orig_img: array([[[ 45,  91,  32],\n",
      "        [ 42,  88,  35],\n",
      "        [ 35,  81,  38],\n",
      "        ...,\n",
      "        [ 91,  74,  78],\n",
      "        [ 93,  65,  88],\n",
      "        [ 91,  61,  90]],\n",
      "\n",
      "       [[126, 164, 116],\n",
      "        [114, 153, 108],\n",
      "        [115, 154, 122],\n",
      "        ...,\n",
      "        [ 90,  69,  72],\n",
      "        [ 89,  62,  78],\n",
      "        [ 91,  62,  85]],\n",
      "\n",
      "       [[127, 152, 124],\n",
      "        [120, 146, 123],\n",
      "        [120, 145, 135],\n",
      "        ...,\n",
      "        [ 98,  73,  69],\n",
      "        [ 97,  68,  77],\n",
      "        [100,  67,  81]],\n",
      "\n",
      "       ...,\n",
      "\n",
      "       [[ 41,  52, 102],\n",
      "        [ 44,  61, 110],\n",
      "        [ 36,  62, 109],\n",
      "        ...,\n",
      "        [ 19,  21,  21],\n",
      "        [ 18,  20,  20],\n",
      "        [ 18,  20,  20]],\n",
      "\n",
      "       [[ 37,  54,  93],\n",
      "        [ 41,  64, 102],\n",
      "        [ 37,  68, 107],\n",
      "        ...,\n",
      "        [ 19,  21,  21],\n",
      "        [ 19,  21,  21],\n",
      "        [ 19,  21,  21]],\n",
      "\n",
      "       [[ 31,  51,  86],\n",
      "        [ 37,  62,  96],\n",
      "        [ 37,  72, 106],\n",
      "        ...,\n",
      "        [ 19,  21,  21],\n",
      "        [ 20,  22,  22],\n",
      "        [ 20,  22,  22]]], dtype=uint8)\n",
      "orig_shape: (1080, 1920)\n",
      "path: '/home/verlo/dev_ws/Yolo/data/Sample/01.원천데이터/08_174514_221206/sensor_raw_data/camera/08_174514_221206_16.jpg'\n",
      "probs: None\n",
      "save_dir: '/home/verlo/dev_ws/YOLO/runs/segment/predict7'\n",
      "speed: {'preprocess': 10.126590728759766, 'inference': 13.686180114746094, 'postprocess': 4.823207855224609}, ultralytics.engine.results.Results object with attributes:\n",
      "\n",
      "boxes: ultralytics.engine.results.Boxes object\n",
      "keypoints: None\n",
      "masks: ultralytics.engine.results.Masks object\n",
      "names: {0: 'lane'}\n",
      "obb: None\n",
      "orig_img: array([[[ 39,  78,  46],\n",
      "        [ 41,  84,  51],\n",
      "        [ 28,  77,  45],\n",
      "        ...,\n",
      "        [112,  66,  58],\n",
      "        [120,  71,  55],\n",
      "        [123,  73,  53]],\n",
      "\n",
      "       [[133, 165, 141],\n",
      "        [124, 163, 138],\n",
      "        [116, 160, 137],\n",
      "        ...,\n",
      "        [110,  67,  58],\n",
      "        [116,  71,  57],\n",
      "        [120,  74,  56]],\n",
      "\n",
      "       [[134, 155, 147],\n",
      "        [127, 153, 147],\n",
      "        [122, 156, 155],\n",
      "        ...,\n",
      "        [106,  65,  56],\n",
      "        [105,  66,  52],\n",
      "        [107,  66,  51]],\n",
      "\n",
      "       ...,\n",
      "\n",
      "       [[ 75,  63,  99],\n",
      "        [ 67,  66, 100],\n",
      "        [ 57,  77, 108],\n",
      "        ...,\n",
      "        [ 23,  28,  29],\n",
      "        [ 24,  27,  31],\n",
      "        [ 26,  27,  31]],\n",
      "\n",
      "       [[ 72,  67,  99],\n",
      "        [ 62,  67,  98],\n",
      "        [ 50,  77, 104],\n",
      "        ...,\n",
      "        [ 25,  30,  33],\n",
      "        [ 26,  29,  33],\n",
      "        [ 27,  30,  34]],\n",
      "\n",
      "       [[ 72,  71, 103],\n",
      "        [ 61,  71, 101],\n",
      "        [ 45,  76, 101],\n",
      "        ...,\n",
      "        [ 24,  31,  34],\n",
      "        [ 28,  31,  35],\n",
      "        [ 29,  32,  36]]], dtype=uint8)\n",
      "orig_shape: (1080, 1920)\n",
      "path: '/home/verlo/dev_ws/Yolo/data/Sample/01.원천데이터/08_174514_221206/sensor_raw_data/camera/08_174514_221206_17.jpg'\n",
      "probs: None\n",
      "save_dir: '/home/verlo/dev_ws/YOLO/runs/segment/predict7'\n",
      "speed: {'preprocess': 4.615306854248047, 'inference': 12.43901252746582, 'postprocess': 3.2074451446533203}, ultralytics.engine.results.Results object with attributes:\n",
      "\n",
      "boxes: ultralytics.engine.results.Boxes object\n",
      "keypoints: None\n",
      "masks: ultralytics.engine.results.Masks object\n",
      "names: {0: 'lane'}\n",
      "obb: None\n",
      "orig_img: array([[[ 45,  87,  39],\n",
      "        [ 37,  85,  37],\n",
      "        [ 19,  79,  38],\n",
      "        ...,\n",
      "        [104,  81,  59],\n",
      "        [104,  78,  61],\n",
      "        [106,  78,  61]],\n",
      "\n",
      "       [[ 36,  70,  33],\n",
      "        [128, 169, 132],\n",
      "        [117, 170, 137],\n",
      "        ...,\n",
      "        [101,  76,  60],\n",
      "        [105,  76,  62],\n",
      "        [ 99,  70,  56]],\n",
      "\n",
      "       [[ 41,  59,  46],\n",
      "        [130, 155, 141],\n",
      "        [128, 164, 150],\n",
      "        ...,\n",
      "        [ 97,  68,  63],\n",
      "        [105,  72,  69],\n",
      "        [103,  68,  65]],\n",
      "\n",
      "       ...,\n",
      "\n",
      "       [[ 70,  74,  99],\n",
      "        [ 68,  71,  99],\n",
      "        [ 67,  70, 101],\n",
      "        ...,\n",
      "        [ 23,  28,  29],\n",
      "        [ 25,  29,  30],\n",
      "        [ 26,  30,  31]],\n",
      "\n",
      "       [[ 74,  69,  90],\n",
      "        [ 73,  70,  92],\n",
      "        [ 75,  72,  98],\n",
      "        ...,\n",
      "        [ 23,  31,  31],\n",
      "        [ 25,  30,  31],\n",
      "        [ 25,  31,  30]],\n",
      "\n",
      "       [[ 81,  73,  90],\n",
      "        [ 78,  72,  91],\n",
      "        [ 77,  71,  96],\n",
      "        ...,\n",
      "        [ 22,  30,  30],\n",
      "        [ 25,  31,  30],\n",
      "        [ 25,  31,  30]]], dtype=uint8)\n",
      "orig_shape: (1080, 1920)\n",
      "path: '/home/verlo/dev_ws/Yolo/data/Sample/01.원천데이터/08_174514_221206/sensor_raw_data/camera/08_174514_221206_18.jpg'\n",
      "probs: None\n",
      "save_dir: '/home/verlo/dev_ws/YOLO/runs/segment/predict7'\n",
      "speed: {'preprocess': 3.888368606567383, 'inference': 17.69256591796875, 'postprocess': 6.638765335083008}, ultralytics.engine.results.Results object with attributes:\n",
      "\n",
      "boxes: ultralytics.engine.results.Boxes object\n",
      "keypoints: None\n",
      "masks: ultralytics.engine.results.Masks object\n",
      "names: {0: 'lane'}\n",
      "obb: None\n",
      "orig_img: array([[[ 37,  88,  38],\n",
      "        [ 28,  83,  34],\n",
      "        [ 25,  81,  40],\n",
      "        ...,\n",
      "        [ 95,  75,  64],\n",
      "        [107,  76,  79],\n",
      "        [106,  72,  79]],\n",
      "\n",
      "       [[  0,  26,   0],\n",
      "        [120, 163, 126],\n",
      "        [123, 172, 140],\n",
      "        ...,\n",
      "        [101,  75,  63],\n",
      "        [106,  75,  72],\n",
      "        [107,  73,  74]],\n",
      "\n",
      "       [[  0,  13,   0],\n",
      "        [128, 148, 135],\n",
      "        [128, 162, 152],\n",
      "        ...,\n",
      "        [109,  76,  61],\n",
      "        [110,  76,  63],\n",
      "        [110,  75,  65]],\n",
      "\n",
      "       ...,\n",
      "\n",
      "       [[ 20,  34,  82],\n",
      "        [ 21,  35,  77],\n",
      "        [ 29,  40,  70],\n",
      "        ...,\n",
      "        [ 28,  39,  37],\n",
      "        [ 30,  41,  39],\n",
      "        [ 27,  41,  37]],\n",
      "\n",
      "       [[ 16,  38,  79],\n",
      "        [ 20,  40,  75],\n",
      "        [ 24,  43,  70],\n",
      "        ...,\n",
      "        [ 28,  39,  37],\n",
      "        [ 27,  40,  38],\n",
      "        [ 25,  40,  36]],\n",
      "\n",
      "       [[ 13,  39,  75],\n",
      "        [ 15,  40,  72],\n",
      "        [ 22,  44,  69],\n",
      "        ...,\n",
      "        [ 26,  39,  37],\n",
      "        [ 27,  40,  38],\n",
      "        [ 25,  40,  36]]], dtype=uint8)\n",
      "orig_shape: (1080, 1920)\n",
      "path: '/home/verlo/dev_ws/Yolo/data/Sample/01.원천데이터/08_174514_221206/sensor_raw_data/camera/08_174514_221206_19.jpg'\n",
      "probs: None\n",
      "save_dir: '/home/verlo/dev_ws/YOLO/runs/segment/predict7'\n",
      "speed: {'preprocess': 2.9201507568359375, 'inference': 11.177539825439453, 'postprocess': 4.36091423034668}, ultralytics.engine.results.Results object with attributes:\n",
      "\n",
      "boxes: ultralytics.engine.results.Boxes object\n",
      "keypoints: None\n",
      "masks: ultralytics.engine.results.Masks object\n",
      "names: {0: 'lane'}\n",
      "obb: None\n",
      "orig_img: array([[[ 29,  81,  44],\n",
      "        [ 28,  79,  42],\n",
      "        [ 30,  77,  44],\n",
      "        ...,\n",
      "        [110,  91, 100],\n",
      "        [112,  94, 101],\n",
      "        [110,  93,  97]],\n",
      "\n",
      "       [[106, 151, 125],\n",
      "        [115, 157, 132],\n",
      "        [128, 168, 143],\n",
      "        ...,\n",
      "        [108,  92,  99],\n",
      "        [110,  93,  97],\n",
      "        [112,  98, 100]],\n",
      "\n",
      "       [[103, 130, 126],\n",
      "        [119, 146, 142],\n",
      "        [143, 168, 164],\n",
      "        ...,\n",
      "        [106,  93,  95],\n",
      "        [111,  97,  99],\n",
      "        [111,  99,  99]],\n",
      "\n",
      "       ...,\n",
      "\n",
      "       [[ 36,  39,  47],\n",
      "        [ 33,  40,  49],\n",
      "        [ 31,  39,  52],\n",
      "        ...,\n",
      "        [ 26,  39,  37],\n",
      "        [ 29,  37,  37],\n",
      "        [ 30,  35,  36]],\n",
      "\n",
      "       [[ 37,  37,  51],\n",
      "        [ 35,  38,  52],\n",
      "        [ 33,  37,  55],\n",
      "        ...,\n",
      "        [ 28,  40,  40],\n",
      "        [ 33,  41,  41],\n",
      "        [ 33,  41,  41]],\n",
      "\n",
      "       [[ 37,  36,  52],\n",
      "        [ 38,  38,  54],\n",
      "        [ 34,  38,  57],\n",
      "        ...,\n",
      "        [ 27,  39,  39],\n",
      "        [ 30,  40,  40],\n",
      "        [ 30,  38,  38]]], dtype=uint8)\n",
      "orig_shape: (1080, 1920)\n",
      "path: '/home/verlo/dev_ws/Yolo/data/Sample/01.원천데이터/08_174514_221206/sensor_raw_data/camera/08_174514_221206_20.jpg'\n",
      "probs: None\n",
      "save_dir: '/home/verlo/dev_ws/YOLO/runs/segment/predict7'\n",
      "speed: {'preprocess': 9.079694747924805, 'inference': 13.009071350097656, 'postprocess': 5.285024642944336}, ultralytics.engine.results.Results object with attributes:\n",
      "\n",
      "boxes: ultralytics.engine.results.Boxes object\n",
      "keypoints: None\n",
      "masks: ultralytics.engine.results.Masks object\n",
      "names: {0: 'lane'}\n",
      "obb: None\n",
      "orig_img: array([[[ 34,  84,  26],\n",
      "        [ 37,  87,  29],\n",
      "        [ 32,  81,  25],\n",
      "        ...,\n",
      "        [148, 138, 144],\n",
      "        [140, 124, 135],\n",
      "        [143, 127, 138]],\n",
      "\n",
      "       [[ 13,  53,  11],\n",
      "        [159, 199, 157],\n",
      "        [166, 206, 164],\n",
      "        ...,\n",
      "        [148, 138, 144],\n",
      "        [141, 128, 136],\n",
      "        [126, 112, 123]],\n",
      "\n",
      "       [[ 13,  38,  24],\n",
      "        [167, 192, 178],\n",
      "        [168, 194, 178],\n",
      "        ...,\n",
      "        [138, 132, 137],\n",
      "        [116, 108, 115],\n",
      "        [126, 115, 123]],\n",
      "\n",
      "       ...,\n",
      "\n",
      "       [[ 45,  36,  39],\n",
      "        [ 43,  36,  39],\n",
      "        [ 40,  40,  40],\n",
      "        ...,\n",
      "        [ 30,  30,  30],\n",
      "        [ 28,  30,  30],\n",
      "        [ 26,  31,  30]],\n",
      "\n",
      "       [[ 54,  43,  45],\n",
      "        [ 50,  42,  42],\n",
      "        [ 45,  44,  40],\n",
      "        ...,\n",
      "        [ 29,  27,  26],\n",
      "        [ 27,  27,  27],\n",
      "        [ 25,  27,  27]],\n",
      "\n",
      "       [[ 59,  47,  47],\n",
      "        [ 51,  44,  41],\n",
      "        [ 43,  42,  38],\n",
      "        ...,\n",
      "        [ 26,  24,  23],\n",
      "        [ 24,  24,  24],\n",
      "        [ 24,  24,  24]]], dtype=uint8)\n",
      "orig_shape: (1080, 1920)\n",
      "path: '/home/verlo/dev_ws/Yolo/data/Sample/01.원천데이터/08_174514_221206/sensor_raw_data/camera/08_174514_221206_21.jpg'\n",
      "probs: None\n",
      "save_dir: '/home/verlo/dev_ws/YOLO/runs/segment/predict7'\n",
      "speed: {'preprocess': 7.7342987060546875, 'inference': 19.96755599975586, 'postprocess': 8.755207061767578}, ultralytics.engine.results.Results object with attributes:\n",
      "\n",
      "boxes: ultralytics.engine.results.Boxes object\n",
      "keypoints: None\n",
      "masks: ultralytics.engine.results.Masks object\n",
      "names: {0: 'lane'}\n",
      "obb: None\n",
      "orig_img: array([[[ 32,  84,  30],\n",
      "        [ 27,  82,  25],\n",
      "        [ 29,  87,  29],\n",
      "        ...,\n",
      "        [151, 144, 135],\n",
      "        [150, 145, 136],\n",
      "        [152, 147, 138]],\n",
      "\n",
      "       [[108, 151, 108],\n",
      "        [118, 164, 118],\n",
      "        [117, 164, 118],\n",
      "        ...,\n",
      "        [151, 144, 135],\n",
      "        [151, 144, 135],\n",
      "        [149, 145, 134]],\n",
      "\n",
      "       [[101, 122, 100],\n",
      "        [118, 141, 119],\n",
      "        [131, 156, 136],\n",
      "        ...,\n",
      "        [152, 140, 134],\n",
      "        [150, 144, 133],\n",
      "        [149, 143, 130]],\n",
      "\n",
      "       ...,\n",
      "\n",
      "       [[ 41,  36,  45],\n",
      "        [ 39,  38,  42],\n",
      "        [ 41,  41,  41],\n",
      "        ...,\n",
      "        [ 46,  41,  43],\n",
      "        [ 47,  40,  43],\n",
      "        [ 48,  40,  41]],\n",
      "\n",
      "       [[ 45,  35,  51],\n",
      "        [ 42,  36,  47],\n",
      "        [ 43,  39,  44],\n",
      "        ...,\n",
      "        [ 49,  40,  43],\n",
      "        [ 50,  39,  42],\n",
      "        [ 50,  39,  41]],\n",
      "\n",
      "       [[ 47,  37,  54],\n",
      "        [ 44,  35,  48],\n",
      "        [ 44,  39,  48],\n",
      "        ...,\n",
      "        [ 48,  39,  42],\n",
      "        [ 51,  37,  41],\n",
      "        [ 51,  38,  40]]], dtype=uint8)\n",
      "orig_shape: (1080, 1920)\n",
      "path: '/home/verlo/dev_ws/Yolo/data/Sample/01.원천데이터/08_174514_221206/sensor_raw_data/camera/08_174514_221206_22.jpg'\n",
      "probs: None\n",
      "save_dir: '/home/verlo/dev_ws/YOLO/runs/segment/predict7'\n",
      "speed: {'preprocess': 3.4711360931396484, 'inference': 16.750097274780273, 'postprocess': 3.8084983825683594}, ultralytics.engine.results.Results object with attributes:\n",
      "\n",
      "boxes: ultralytics.engine.results.Boxes object\n",
      "keypoints: None\n",
      "masks: ultralytics.engine.results.Masks object\n",
      "names: {0: 'lane'}\n",
      "obb: None\n",
      "orig_img: array([[[ 46,  85,  17],\n",
      "        [ 48,  85,  21],\n",
      "        [ 49,  80,  25],\n",
      "        ...,\n",
      "        [128,  88, 116],\n",
      "        [134,  97, 117],\n",
      "        [130,  97, 111]],\n",
      "\n",
      "       [[ 87, 112,  56],\n",
      "        [ 85, 109,  55],\n",
      "        [ 88, 108,  61],\n",
      "        ...,\n",
      "        [128,  89, 114],\n",
      "        [129,  96, 110],\n",
      "        [130,  99, 108]],\n",
      "\n",
      "       [[102, 101,  67],\n",
      "        [101, 100,  66],\n",
      "        [103, 101,  71],\n",
      "        ...,\n",
      "        [125,  95, 108],\n",
      "        [128,  99, 102],\n",
      "        [128, 100,  99]],\n",
      "\n",
      "       ...,\n",
      "\n",
      "       [[ 53,  66,  88],\n",
      "        [ 54,  65,  85],\n",
      "        [ 66,  72,  91],\n",
      "        ...,\n",
      "        [ 27,  33,  40],\n",
      "        [ 29,  34,  37],\n",
      "        [ 33,  37,  38]],\n",
      "\n",
      "       [[ 49,  55,  84],\n",
      "        [ 55,  59,  87],\n",
      "        [ 60,  63,  84],\n",
      "        ...,\n",
      "        [ 27,  34,  43],\n",
      "        [ 33,  36,  41],\n",
      "        [ 37,  38,  42]],\n",
      "\n",
      "       [[ 54,  56,  90],\n",
      "        [ 44,  46,  76],\n",
      "        [ 53,  54,  75],\n",
      "        ...,\n",
      "        [ 29,  36,  45],\n",
      "        [ 34,  36,  44],\n",
      "        [ 36,  36,  42]]], dtype=uint8)\n",
      "orig_shape: (1080, 1920)\n",
      "path: '/home/verlo/dev_ws/Yolo/data/Sample/01.원천데이터/08_174514_221206/sensor_raw_data/camera/08_174514_221206_23.jpg'\n",
      "probs: None\n",
      "save_dir: '/home/verlo/dev_ws/YOLO/runs/segment/predict7'\n",
      "speed: {'preprocess': 5.2204132080078125, 'inference': 15.104055404663086, 'postprocess': 4.714250564575195}, ultralytics.engine.results.Results object with attributes:\n",
      "\n",
      "boxes: ultralytics.engine.results.Boxes object\n",
      "keypoints: None\n",
      "masks: ultralytics.engine.results.Masks object\n",
      "names: {0: 'lane'}\n",
      "obb: None\n",
      "orig_img: array([[[ 71,  81,  15],\n",
      "        [ 70,  84,  20],\n",
      "        [ 56,  78,  20],\n",
      "        ...,\n",
      "        [114,  75,  66],\n",
      "        [114,  76,  71],\n",
      "        [113,  75,  71]],\n",
      "\n",
      "       [[ 88,  88,  28],\n",
      "        [ 83,  86,  30],\n",
      "        [ 78,  88,  35],\n",
      "        ...,\n",
      "        [112,  76,  68],\n",
      "        [109,  74,  70],\n",
      "        [110,  75,  71]],\n",
      "\n",
      "       [[ 98,  80,  33],\n",
      "        [ 92,  76,  30],\n",
      "        [ 94,  80,  38],\n",
      "        ...,\n",
      "        [106,  75,  72],\n",
      "        [102,  75,  71],\n",
      "        [102,  77,  73]],\n",
      "\n",
      "       ...,\n",
      "\n",
      "       [[ 47,  37,  67],\n",
      "        [ 42,  36,  61],\n",
      "        [ 40,  40,  58],\n",
      "        ...,\n",
      "        [ 30,  31,  29],\n",
      "        [ 28,  31,  29],\n",
      "        [ 26,  30,  25]],\n",
      "\n",
      "       [[ 43,  36,  63],\n",
      "        [ 41,  37,  62],\n",
      "        [ 39,  38,  58],\n",
      "        ...,\n",
      "        [ 30,  31,  29],\n",
      "        [ 27,  30,  28],\n",
      "        [ 27,  30,  28]],\n",
      "\n",
      "       [[ 39,  35,  60],\n",
      "        [ 41,  38,  60],\n",
      "        [ 38,  36,  58],\n",
      "        ...,\n",
      "        [ 30,  30,  30],\n",
      "        [ 27,  30,  28],\n",
      "        [ 28,  31,  29]]], dtype=uint8)\n",
      "orig_shape: (1080, 1920)\n",
      "path: '/home/verlo/dev_ws/Yolo/data/Sample/01.원천데이터/08_174514_221206/sensor_raw_data/camera/08_174514_221206_24.jpg'\n",
      "probs: None\n",
      "save_dir: '/home/verlo/dev_ws/YOLO/runs/segment/predict7'\n",
      "speed: {'preprocess': 8.686542510986328, 'inference': 12.499809265136719, 'postprocess': 7.2765350341796875}, ultralytics.engine.results.Results object with attributes:\n",
      "\n",
      "boxes: ultralytics.engine.results.Boxes object\n",
      "keypoints: None\n",
      "masks: ultralytics.engine.results.Masks object\n",
      "names: {0: 'lane'}\n",
      "obb: None\n",
      "orig_img: array([[[ 61,  74,  30],\n",
      "        [ 66,  80,  32],\n",
      "        [ 59,  79,  20],\n",
      "        ...,\n",
      "        [113,  62,  76],\n",
      "        [109,  68,  66],\n",
      "        [107,  71,  61]],\n",
      "\n",
      "       [[ 82,  82,  46],\n",
      "        [ 78,  79,  39],\n",
      "        [ 78,  84,  35],\n",
      "        ...,\n",
      "        [111,  64,  73],\n",
      "        [105,  67,  63],\n",
      "        [102,  68,  55]],\n",
      "\n",
      "       [[ 93,  69,  47],\n",
      "        [ 93,  69,  45],\n",
      "        [101,  80,  52],\n",
      "        ...,\n",
      "        [105,  67,  67],\n",
      "        [104,  71,  62],\n",
      "        [102,  73,  58]],\n",
      "\n",
      "       ...,\n",
      "\n",
      "       [[ 17,  35,  46],\n",
      "        [ 16,  35,  48],\n",
      "        [ 20,  37,  56],\n",
      "        ...,\n",
      "        [ 23,  25,  25],\n",
      "        [ 25,  27,  28],\n",
      "        [ 25,  27,  28]],\n",
      "\n",
      "       [[ 21,  42,  50],\n",
      "        [ 19,  41,  52],\n",
      "        [ 18,  41,  56],\n",
      "        ...,\n",
      "        [ 25,  27,  28],\n",
      "        [ 25,  27,  28],\n",
      "        [ 25,  27,  28]],\n",
      "\n",
      "       [[ 25,  49,  55],\n",
      "        [ 20,  46,  53],\n",
      "        [ 19,  42,  57],\n",
      "        ...,\n",
      "        [ 26,  28,  29],\n",
      "        [ 26,  28,  29],\n",
      "        [ 26,  28,  29]]], dtype=uint8)\n",
      "orig_shape: (1080, 1920)\n",
      "path: '/home/verlo/dev_ws/Yolo/data/Sample/01.원천데이터/08_174514_221206/sensor_raw_data/camera/08_174514_221206_25.jpg'\n",
      "probs: None\n",
      "save_dir: '/home/verlo/dev_ws/YOLO/runs/segment/predict7'\n",
      "speed: {'preprocess': 5.9299468994140625, 'inference': 16.62302017211914, 'postprocess': 4.68754768371582}, ultralytics.engine.results.Results object with attributes:\n",
      "\n",
      "boxes: ultralytics.engine.results.Boxes object\n",
      "keypoints: None\n",
      "masks: ultralytics.engine.results.Masks object\n",
      "names: {0: 'lane'}\n",
      "obb: None\n",
      "orig_img: array([[[ 70,  78,  25],\n",
      "        [ 64,  76,  28],\n",
      "        [ 52,  74,  39],\n",
      "        ...,\n",
      "        [112,  74,  56],\n",
      "        [125,  73,  61],\n",
      "        [128,  71,  62]],\n",
      "\n",
      "       [[ 98,  98,  58],\n",
      "        [ 93,  97,  62],\n",
      "        [ 90, 101,  75],\n",
      "        ...,\n",
      "        [112,  69,  54],\n",
      "        [119,  65,  54],\n",
      "        [123,  64,  55]],\n",
      "\n",
      "       [[102,  83,  70],\n",
      "        [ 99,  82,  73],\n",
      "        [103,  92,  88],\n",
      "        ...,\n",
      "        [108,  59,  49],\n",
      "        [113,  54,  44],\n",
      "        [119,  54,  45]],\n",
      "\n",
      "       ...,\n",
      "\n",
      "       [[ 78,  56,  80],\n",
      "        [ 76,  61,  82],\n",
      "        [ 65,  66,  80],\n",
      "        ...,\n",
      "        [ 21,  21,  21],\n",
      "        [ 21,  21,  21],\n",
      "        [ 21,  21,  21]],\n",
      "\n",
      "       [[ 70,  51,  70],\n",
      "        [ 66,  54,  72],\n",
      "        [ 62,  65,  79],\n",
      "        ...,\n",
      "        [ 17,  17,  17],\n",
      "        [ 18,  18,  18],\n",
      "        [ 18,  18,  18]],\n",
      "\n",
      "       [[ 63,  47,  64],\n",
      "        [ 56,  46,  62],\n",
      "        [ 60,  63,  77],\n",
      "        ...,\n",
      "        [ 13,  13,  13],\n",
      "        [ 13,  13,  13],\n",
      "        [ 14,  14,  14]]], dtype=uint8)\n",
      "orig_shape: (1080, 1920)\n",
      "path: '/home/verlo/dev_ws/Yolo/data/Sample/01.원천데이터/08_174514_221206/sensor_raw_data/camera/08_174514_221206_26.jpg'\n",
      "probs: None\n",
      "save_dir: '/home/verlo/dev_ws/YOLO/runs/segment/predict7'\n",
      "speed: {'preprocess': 3.787517547607422, 'inference': 12.086153030395508, 'postprocess': 3.492116928100586}, ultralytics.engine.results.Results object with attributes:\n",
      "\n",
      "boxes: ultralytics.engine.results.Boxes object\n",
      "keypoints: None\n",
      "masks: ultralytics.engine.results.Masks object\n",
      "names: {0: 'lane'}\n",
      "obb: None\n",
      "orig_img: array([[[ 54,  75,  37],\n",
      "        [ 49,  77,  41],\n",
      "        [ 32,  74,  39],\n",
      "        ...,\n",
      "        [100,  68,  55],\n",
      "        [100,  68,  62],\n",
      "        [ 95,  65,  60]],\n",
      "\n",
      "       [[ 68,  77,  56],\n",
      "        [148, 165, 144],\n",
      "        [136, 167, 146],\n",
      "        ...,\n",
      "        [101,  66,  56],\n",
      "        [100,  66,  60],\n",
      "        [ 93,  61,  56]],\n",
      "\n",
      "       [[ 77,  66,  76],\n",
      "        [156, 153, 162],\n",
      "        [150, 162, 166],\n",
      "        ...,\n",
      "        [100,  62,  57],\n",
      "        [101,  65,  59],\n",
      "        [100,  64,  58]],\n",
      "\n",
      "       ...,\n",
      "\n",
      "       [[ 28,  39,  59],\n",
      "        [ 27,  38,  58],\n",
      "        [ 27,  40,  62],\n",
      "        ...,\n",
      "        [ 21,  23,  23],\n",
      "        [ 24,  24,  24],\n",
      "        [ 24,  24,  24]],\n",
      "\n",
      "       [[ 28,  42,  61],\n",
      "        [ 25,  40,  59],\n",
      "        [ 28,  43,  62],\n",
      "        ...,\n",
      "        [ 23,  25,  25],\n",
      "        [ 25,  27,  27],\n",
      "        [ 27,  29,  29]],\n",
      "\n",
      "       [[ 24,  39,  58],\n",
      "        [ 23,  38,  57],\n",
      "        [ 24,  42,  59],\n",
      "        ...,\n",
      "        [ 26,  28,  28],\n",
      "        [ 25,  27,  27],\n",
      "        [ 26,  28,  28]]], dtype=uint8)\n",
      "orig_shape: (1080, 1920)\n",
      "path: '/home/verlo/dev_ws/Yolo/data/Sample/01.원천데이터/08_174514_221206/sensor_raw_data/camera/08_174514_221206_27.jpg'\n",
      "probs: None\n",
      "save_dir: '/home/verlo/dev_ws/YOLO/runs/segment/predict7'\n",
      "speed: {'preprocess': 15.323162078857422, 'inference': 16.89457893371582, 'postprocess': 5.577325820922852}, ultralytics.engine.results.Results object with attributes:\n",
      "\n",
      "boxes: ultralytics.engine.results.Boxes object\n",
      "keypoints: None\n",
      "masks: ultralytics.engine.results.Masks object\n",
      "names: {0: 'lane'}\n",
      "obb: None\n",
      "orig_img: array([[[ 45,  74,  41],\n",
      "        [ 42,  75,  40],\n",
      "        [ 31,  76,  37],\n",
      "        ...,\n",
      "        [ 98,  72,  60],\n",
      "        [101,  69,  64],\n",
      "        [102,  66,  66]],\n",
      "\n",
      "       [[135, 159, 135],\n",
      "        [166, 195, 169],\n",
      "        [162, 203, 172],\n",
      "        ...,\n",
      "        [ 93,  68,  58],\n",
      "        [ 93,  63,  58],\n",
      "        [ 96,  63,  60]],\n",
      "\n",
      "       [[140, 154, 150],\n",
      "        [175, 196, 188],\n",
      "        [163, 196, 181],\n",
      "        ...,\n",
      "        [ 89,  67,  62],\n",
      "        [ 90,  64,  58],\n",
      "        [ 92,  66,  60]],\n",
      "\n",
      "       ...,\n",
      "\n",
      "       [[ 23,  43,  48],\n",
      "        [ 24,  43,  51],\n",
      "        [ 25,  40,  56],\n",
      "        ...,\n",
      "        [ 26,  31,  29],\n",
      "        [ 25,  32,  29],\n",
      "        [ 23,  32,  29]],\n",
      "\n",
      "       [[ 25,  44,  47],\n",
      "        [ 26,  45,  50],\n",
      "        [ 29,  42,  56],\n",
      "        ...,\n",
      "        [ 24,  29,  27],\n",
      "        [ 23,  30,  27],\n",
      "        [ 22,  29,  24]],\n",
      "\n",
      "       [[ 26,  46,  47],\n",
      "        [ 26,  45,  50],\n",
      "        [ 32,  44,  56],\n",
      "        ...,\n",
      "        [ 24,  29,  27],\n",
      "        [ 24,  30,  25],\n",
      "        [ 22,  29,  24]]], dtype=uint8)\n",
      "orig_shape: (1080, 1920)\n",
      "path: '/home/verlo/dev_ws/Yolo/data/Sample/01.원천데이터/08_174514_221206/sensor_raw_data/camera/08_174514_221206_28.jpg'\n",
      "probs: None\n",
      "save_dir: '/home/verlo/dev_ws/YOLO/runs/segment/predict7'\n",
      "speed: {'preprocess': 7.529497146606445, 'inference': 19.4852352142334, 'postprocess': 8.84699821472168}, ultralytics.engine.results.Results object with attributes:\n",
      "\n",
      "boxes: ultralytics.engine.results.Boxes object\n",
      "keypoints: None\n",
      "masks: ultralytics.engine.results.Masks object\n",
      "names: {0: 'lane'}\n",
      "obb: None\n",
      "orig_img: array([[[ 62,  73,  35],\n",
      "        [ 58,  76,  37],\n",
      "        [ 49,  76,  37],\n",
      "        ...,\n",
      "        [ 98,  62,  62],\n",
      "        [ 95,  60,  56],\n",
      "        [ 96,  62,  56]],\n",
      "\n",
      "       [[129, 132, 106],\n",
      "        [126, 135, 108],\n",
      "        [119, 139, 110],\n",
      "        ...,\n",
      "        [101,  65,  65],\n",
      "        [ 98,  63,  59],\n",
      "        [ 96,  61,  57]],\n",
      "\n",
      "       [[135, 125, 118],\n",
      "        [132, 126, 119],\n",
      "        [123, 127, 121],\n",
      "        ...,\n",
      "        [102,  67,  64],\n",
      "        [104,  66,  64],\n",
      "        [103,  65,  63]],\n",
      "\n",
      "       ...,\n",
      "\n",
      "       [[ 26,  33,  48],\n",
      "        [ 26,  34,  47],\n",
      "        [ 36,  44,  51],\n",
      "        ...,\n",
      "        [ 25,  40,  36],\n",
      "        [ 24,  38,  36],\n",
      "        [ 21,  38,  35]],\n",
      "\n",
      "       [[ 22,  35,  49],\n",
      "        [ 23,  35,  45],\n",
      "        [ 33,  45,  49],\n",
      "        ...,\n",
      "        [ 25,  40,  36],\n",
      "        [ 24,  38,  36],\n",
      "        [ 21,  37,  36]],\n",
      "\n",
      "       [[ 23,  39,  52],\n",
      "        [ 22,  39,  48],\n",
      "        [ 34,  49,  52],\n",
      "        ...,\n",
      "        [ 25,  40,  36],\n",
      "        [ 24,  38,  37],\n",
      "        [ 22,  38,  37]]], dtype=uint8)\n",
      "orig_shape: (1080, 1920)\n",
      "path: '/home/verlo/dev_ws/Yolo/data/Sample/01.원천데이터/08_174514_221206/sensor_raw_data/camera/08_174514_221206_29.jpg'\n",
      "probs: None\n",
      "save_dir: '/home/verlo/dev_ws/YOLO/runs/segment/predict7'\n",
      "speed: {'preprocess': 10.556697845458984, 'inference': 19.072294235229492, 'postprocess': 6.617069244384766}, ultralytics.engine.results.Results object with attributes:\n",
      "\n",
      "boxes: ultralytics.engine.results.Boxes object\n",
      "keypoints: None\n",
      "masks: ultralytics.engine.results.Masks object\n",
      "names: {0: 'lane'}\n",
      "obb: None\n",
      "orig_img: array([[[ 72,  73,  33],\n",
      "        [ 63,  73,  30],\n",
      "        [ 51,  81,  32],\n",
      "        ...,\n",
      "        [108,  73,  77],\n",
      "        [112,  74,  80],\n",
      "        [110,  69,  76]],\n",
      "\n",
      "       [[ 94,  88,  51],\n",
      "        [ 84,  87,  48],\n",
      "        [ 72,  92,  49],\n",
      "        ...,\n",
      "        [105,  70,  74],\n",
      "        [111,  71,  76],\n",
      "        [115,  74,  79]],\n",
      "\n",
      "       [[110,  92,  63],\n",
      "        [100,  89,  59],\n",
      "        [ 89,  89,  59],\n",
      "        ...,\n",
      "        [102,  70,  71],\n",
      "        [117,  77,  79],\n",
      "        [122,  77,  80]],\n",
      "\n",
      "       ...,\n",
      "\n",
      "       [[ 47,  39,  32],\n",
      "        [ 49,  41,  34],\n",
      "        [ 48,  42,  37],\n",
      "        ...,\n",
      "        [ 22,  26,  21],\n",
      "        [ 23,  25,  25],\n",
      "        [ 22,  24,  24]],\n",
      "\n",
      "       [[ 39,  34,  25],\n",
      "        [ 45,  40,  31],\n",
      "        [ 46,  43,  35],\n",
      "        ...,\n",
      "        [ 25,  29,  24],\n",
      "        [ 24,  26,  26],\n",
      "        [ 24,  26,  26]],\n",
      "\n",
      "       [[ 33,  31,  21],\n",
      "        [ 41,  39,  29],\n",
      "        [ 46,  43,  35],\n",
      "        ...,\n",
      "        [ 26,  30,  25],\n",
      "        [ 25,  27,  27],\n",
      "        [ 26,  28,  28]]], dtype=uint8)\n",
      "orig_shape: (1080, 1920)\n",
      "path: '/home/verlo/dev_ws/Yolo/data/Sample/01.원천데이터/08_174514_221206/sensor_raw_data/camera/08_174514_221206_30.jpg'\n",
      "probs: None\n",
      "save_dir: '/home/verlo/dev_ws/YOLO/runs/segment/predict7'\n",
      "speed: {'preprocess': 5.117893218994141, 'inference': 28.29718589782715, 'postprocess': 4.837274551391602}, ultralytics.engine.results.Results object with attributes:\n",
      "\n",
      "boxes: ultralytics.engine.results.Boxes object\n",
      "keypoints: None\n",
      "masks: ultralytics.engine.results.Masks object\n",
      "names: {0: 'lane'}\n",
      "obb: None\n",
      "orig_img: array([[[ 82,  66,  43],\n",
      "        [ 74,  67,  40],\n",
      "        [ 61,  72,  40],\n",
      "        ...,\n",
      "        [113,  87,  87],\n",
      "        [109,  87,  89],\n",
      "        [109,  88,  90]],\n",
      "\n",
      "       [[ 91,  67,  55],\n",
      "        [ 84,  68,  51],\n",
      "        [ 77,  76,  50],\n",
      "        ...,\n",
      "        [114,  90,  90],\n",
      "        [106,  86,  85],\n",
      "        [107,  89,  88]],\n",
      "\n",
      "       [[103,  61,  72],\n",
      "        [ 98,  63,  67],\n",
      "        [ 97,  73,  61],\n",
      "        ...,\n",
      "        [112,  90,  92],\n",
      "        [101,  84,  81],\n",
      "        [ 99,  84,  81]],\n",
      "\n",
      "       ...,\n",
      "\n",
      "       [[ 34,  48,  54],\n",
      "        [ 35,  47,  53],\n",
      "        [ 36,  45,  55],\n",
      "        ...,\n",
      "        [ 34,  33,  42],\n",
      "        [ 36,  35,  39],\n",
      "        [ 37,  36,  38]],\n",
      "\n",
      "       [[ 36,  48,  52],\n",
      "        [ 35,  46,  50],\n",
      "        [ 37,  44,  53],\n",
      "        ...,\n",
      "        [ 34,  34,  40],\n",
      "        [ 36,  35,  37],\n",
      "        [ 38,  36,  36]],\n",
      "\n",
      "       [[ 33,  45,  47],\n",
      "        [ 33,  44,  48],\n",
      "        [ 39,  45,  52],\n",
      "        ...,\n",
      "        [ 32,  33,  37],\n",
      "        [ 36,  34,  34],\n",
      "        [ 36,  34,  33]]], dtype=uint8)\n",
      "orig_shape: (1080, 1920)\n",
      "path: '/home/verlo/dev_ws/Yolo/data/Sample/01.원천데이터/08_174514_221206/sensor_raw_data/camera/08_174514_221206_31.jpg'\n",
      "probs: None\n",
      "save_dir: '/home/verlo/dev_ws/YOLO/runs/segment/predict7'\n",
      "speed: {'preprocess': 9.090662002563477, 'inference': 16.00480079650879, 'postprocess': 4.833698272705078}, ultralytics.engine.results.Results object with attributes:\n",
      "\n",
      "boxes: ultralytics.engine.results.Boxes object\n",
      "keypoints: None\n",
      "masks: ultralytics.engine.results.Masks object\n",
      "names: {0: 'lane'}\n",
      "obb: None\n",
      "orig_img: array([[[ 74,  81,  14],\n",
      "        [ 70,  81,  18],\n",
      "        [ 59,  81,  23],\n",
      "        ...,\n",
      "        [ 96,  99, 103],\n",
      "        [101,  91, 107],\n",
      "        [106,  90, 113]],\n",
      "\n",
      "       [[ 83,  85,  26],\n",
      "        [ 82,  87,  32],\n",
      "        [ 75,  85,  38],\n",
      "        ...,\n",
      "        [ 96,  98,  99],\n",
      "        [104,  93, 109],\n",
      "        [107,  92, 113]],\n",
      "\n",
      "       [[ 81,  75,  32],\n",
      "        [ 84,  77,  38],\n",
      "        [ 86,  76,  46],\n",
      "        ...,\n",
      "        [101,  96,  98],\n",
      "        [107,  95, 107],\n",
      "        [109,  93, 110]],\n",
      "\n",
      "       ...,\n",
      "\n",
      "       [[ 45,  30,  51],\n",
      "        [ 44,  31,  47],\n",
      "        [ 45,  35,  47],\n",
      "        ...,\n",
      "        [ 25,  38,  40],\n",
      "        [ 28,  37,  40],\n",
      "        [ 31,  38,  41]],\n",
      "\n",
      "       [[ 47,  35,  55],\n",
      "        [ 47,  36,  52],\n",
      "        [ 50,  38,  50],\n",
      "        ...,\n",
      "        [ 27,  37,  37],\n",
      "        [ 31,  36,  37],\n",
      "        [ 32,  37,  38]],\n",
      "\n",
      "       [[ 47,  35,  55],\n",
      "        [ 49,  38,  54],\n",
      "        [ 50,  38,  50],\n",
      "        ...,\n",
      "        [ 30,  38,  38],\n",
      "        [ 32,  37,  38],\n",
      "        [ 33,  37,  38]]], dtype=uint8)\n",
      "orig_shape: (1080, 1920)\n",
      "path: '/home/verlo/dev_ws/Yolo/data/Sample/01.원천데이터/08_174514_221206/sensor_raw_data/camera/08_174514_221206_32.jpg'\n",
      "probs: None\n",
      "save_dir: '/home/verlo/dev_ws/YOLO/runs/segment/predict7'\n",
      "speed: {'preprocess': 10.972261428833008, 'inference': 16.328096389770508, 'postprocess': 7.298946380615234}, ultralytics.engine.results.Results object with attributes:\n",
      "\n",
      "boxes: ultralytics.engine.results.Boxes object\n",
      "keypoints: None\n",
      "masks: ultralytics.engine.results.Masks object\n",
      "names: {0: 'lane'}\n",
      "obb: None\n",
      "orig_img: array([[[ 84,  79,  16],\n",
      "        [ 76,  80,  15],\n",
      "        [ 63,  84,  21],\n",
      "        ...,\n",
      "        [101,  80,  78],\n",
      "        [100,  90,  72],\n",
      "        [ 99,  94,  69]],\n",
      "\n",
      "       [[ 92,  81,  21],\n",
      "        [ 87,  83,  24],\n",
      "        [ 75,  86,  30],\n",
      "        ...,\n",
      "        [ 99,  79,  78],\n",
      "        [ 97,  86,  72],\n",
      "        [ 90,  83,  63]],\n",
      "\n",
      "       [[106,  83,  27],\n",
      "        [102,  83,  32],\n",
      "        [ 97,  91,  50],\n",
      "        ...,\n",
      "        [ 96,  75,  78],\n",
      "        [ 98,  84,  78],\n",
      "        [ 96,  84,  74]],\n",
      "\n",
      "       ...,\n",
      "\n",
      "       [[ 50,  49,  39],\n",
      "        [ 50,  50,  44],\n",
      "        [ 51,  49,  49],\n",
      "        ...,\n",
      "        [ 36,  33,  48],\n",
      "        [ 38,  34,  46],\n",
      "        [ 37,  33,  44]],\n",
      "\n",
      "       [[ 45,  46,  37],\n",
      "        [ 45,  45,  39],\n",
      "        [ 45,  45,  45],\n",
      "        ...,\n",
      "        [ 37,  35,  47],\n",
      "        [ 39,  36,  45],\n",
      "        [ 38,  35,  44]],\n",
      "\n",
      "       [[ 40,  41,  32],\n",
      "        [ 36,  38,  32],\n",
      "        [ 39,  38,  40],\n",
      "        ...,\n",
      "        [ 39,  38,  48],\n",
      "        [ 41,  38,  47],\n",
      "        [ 40,  38,  44]]], dtype=uint8)\n",
      "orig_shape: (1080, 1920)\n",
      "path: '/home/verlo/dev_ws/Yolo/data/Sample/01.원천데이터/08_174514_221206/sensor_raw_data/camera/08_174514_221206_33.jpg'\n",
      "probs: None\n",
      "save_dir: '/home/verlo/dev_ws/YOLO/runs/segment/predict7'\n",
      "speed: {'preprocess': 11.734485626220703, 'inference': 17.13705062866211, 'postprocess': 3.660440444946289}, ultralytics.engine.results.Results object with attributes:\n",
      "\n",
      "boxes: ultralytics.engine.results.Boxes object\n",
      "keypoints: None\n",
      "masks: ultralytics.engine.results.Masks object\n",
      "names: {0: 'lane'}\n",
      "obb: None\n",
      "orig_img: array([[[101,  71,  30],\n",
      "        [ 90,  73,  30],\n",
      "        [ 69,  73,  31],\n",
      "        ...,\n",
      "        [110,  64,  63],\n",
      "        [112,  67,  70],\n",
      "        [108,  64,  70]],\n",
      "\n",
      "       [[121,  91,  50],\n",
      "        [109,  90,  47],\n",
      "        [ 90,  91,  49],\n",
      "        ...,\n",
      "        [110,  65,  68],\n",
      "        [108,  67,  72],\n",
      "        [106,  66,  71]],\n",
      "\n",
      "       [[126,  99,  55],\n",
      "        [122, 100,  58],\n",
      "        [106,  98,  61],\n",
      "        ...,\n",
      "        [106,  65,  73],\n",
      "        [103,  66,  74],\n",
      "        [101,  67,  73]],\n",
      "\n",
      "       ...,\n",
      "\n",
      "       [[ 55,  41,  52],\n",
      "        [ 52,  43,  53],\n",
      "        [ 50,  47,  56],\n",
      "        ...,\n",
      "        [ 30,  44,  43],\n",
      "        [ 27,  44,  41],\n",
      "        [ 25,  42,  38]],\n",
      "\n",
      "       [[ 53,  39,  51],\n",
      "        [ 52,  41,  51],\n",
      "        [ 51,  46,  55],\n",
      "        ...,\n",
      "        [ 30,  44,  42],\n",
      "        [ 28,  46,  39],\n",
      "        [ 27,  45,  38]],\n",
      "\n",
      "       [[ 56,  42,  54],\n",
      "        [ 53,  41,  53],\n",
      "        [ 52,  44,  54],\n",
      "        ...,\n",
      "        [ 30,  45,  41],\n",
      "        [ 30,  46,  39],\n",
      "        [ 29,  48,  39]]], dtype=uint8)\n",
      "orig_shape: (1080, 1920)\n",
      "path: '/home/verlo/dev_ws/Yolo/data/Sample/01.원천데이터/08_174514_221206/sensor_raw_data/camera/08_174514_221206_34.jpg'\n",
      "probs: None\n",
      "save_dir: '/home/verlo/dev_ws/YOLO/runs/segment/predict7'\n",
      "speed: {'preprocess': 11.435270309448242, 'inference': 23.415088653564453, 'postprocess': 5.548715591430664}, ultralytics.engine.results.Results object with attributes:\n",
      "\n",
      "boxes: ultralytics.engine.results.Boxes object\n",
      "keypoints: None\n",
      "masks: ultralytics.engine.results.Masks object\n",
      "names: {0: 'lane'}\n",
      "obb: None\n",
      "orig_img: array([[[ 96,  73,  25],\n",
      "        [ 83,  73,  26],\n",
      "        [ 59,  79,  34],\n",
      "        ...,\n",
      "        [101,  61,  56],\n",
      "        [110,  62,  60],\n",
      "        [111,  62,  60]],\n",
      "\n",
      "       [[119,  93,  53],\n",
      "        [122, 110,  70],\n",
      "        [100, 112,  76],\n",
      "        ...,\n",
      "        [ 96,  58,  53],\n",
      "        [102,  59,  56],\n",
      "        [105,  60,  57]],\n",
      "\n",
      "       [[122,  92,  67],\n",
      "        [128, 107,  85],\n",
      "        [111, 107,  89],\n",
      "        ...,\n",
      "        [ 93,  61,  56],\n",
      "        [ 97,  60,  56],\n",
      "        [101,  63,  59]],\n",
      "\n",
      "       ...,\n",
      "\n",
      "       [[ 60,  51,  42],\n",
      "        [ 58,  51,  42],\n",
      "        [ 58,  50,  43],\n",
      "        ...,\n",
      "        [ 36,  35,  37],\n",
      "        [ 38,  34,  39],\n",
      "        [ 38,  34,  40]],\n",
      "\n",
      "       [[ 60,  51,  37],\n",
      "        [ 61,  51,  41],\n",
      "        [ 57,  48,  44],\n",
      "        ...,\n",
      "        [ 38,  35,  37],\n",
      "        [ 40,  34,  39],\n",
      "        [ 40,  34,  39]],\n",
      "\n",
      "       [[ 64,  54,  37],\n",
      "        [ 63,  54,  41],\n",
      "        [ 62,  50,  48],\n",
      "        ...,\n",
      "        [ 38,  36,  36],\n",
      "        [ 41,  34,  39],\n",
      "        [ 41,  34,  39]]], dtype=uint8)\n",
      "orig_shape: (1080, 1920)\n",
      "path: '/home/verlo/dev_ws/Yolo/data/Sample/01.원천데이터/08_174514_221206/sensor_raw_data/camera/08_174514_221206_35.jpg'\n",
      "probs: None\n",
      "save_dir: '/home/verlo/dev_ws/YOLO/runs/segment/predict7'\n",
      "speed: {'preprocess': 11.418342590332031, 'inference': 14.547348022460938, 'postprocess': 5.226373672485352}, ultralytics.engine.results.Results object with attributes:\n",
      "\n",
      "boxes: ultralytics.engine.results.Boxes object\n",
      "keypoints: None\n",
      "masks: ultralytics.engine.results.Masks object\n",
      "names: {0: 'lane'}\n",
      "obb: None\n",
      "orig_img: array([[[ 87,  68,  33],\n",
      "        [ 72,  73,  31],\n",
      "        [ 48,  81,  30],\n",
      "        ...,\n",
      "        [ 96,  76,  29],\n",
      "        [ 95,  73,  32],\n",
      "        [ 97,  73,  37]],\n",
      "\n",
      "       [[ 32,  16,   0],\n",
      "        [162, 160, 125],\n",
      "        [140, 163, 118],\n",
      "        ...,\n",
      "        [ 99,  74,  34],\n",
      "        [ 95,  67,  36],\n",
      "        [ 95,  65,  38]],\n",
      "\n",
      "       [[ 19,   5,   0],\n",
      "        [161, 153, 130],\n",
      "        [153, 158, 126],\n",
      "        ...,\n",
      "        [ 99,  69,  42],\n",
      "        [101,  62,  48],\n",
      "        [104,  60,  53]],\n",
      "\n",
      "       ...,\n",
      "\n",
      "       [[ 70,  45,  49],\n",
      "        [ 67,  44,  49],\n",
      "        [ 65,  44,  52],\n",
      "        ...,\n",
      "        [ 32,  36,  37],\n",
      "        [ 33,  35,  35],\n",
      "        [ 33,  34,  32]],\n",
      "\n",
      "       [[ 73,  46,  50],\n",
      "        [ 67,  44,  49],\n",
      "        [ 63,  42,  50],\n",
      "        ...,\n",
      "        [ 29,  33,  34],\n",
      "        [ 32,  34,  34],\n",
      "        [ 34,  35,  33]],\n",
      "\n",
      "       [[ 74,  47,  51],\n",
      "        [ 68,  42,  48],\n",
      "        [ 60,  39,  47],\n",
      "        ...,\n",
      "        [ 32,  37,  36],\n",
      "        [ 33,  35,  35],\n",
      "        [ 34,  35,  33]]], dtype=uint8)\n",
      "orig_shape: (1080, 1920)\n",
      "path: '/home/verlo/dev_ws/Yolo/data/Sample/01.원천데이터/08_174514_221206/sensor_raw_data/camera/08_174514_221206_36.jpg'\n",
      "probs: None\n",
      "save_dir: '/home/verlo/dev_ws/YOLO/runs/segment/predict7'\n",
      "speed: {'preprocess': 6.17527961730957, 'inference': 15.320777893066406, 'postprocess': 4.747152328491211}, ultralytics.engine.results.Results object with attributes:\n",
      "\n",
      "boxes: ultralytics.engine.results.Boxes object\n",
      "keypoints: None\n",
      "masks: ultralytics.engine.results.Masks object\n",
      "names: {0: 'lane'}\n",
      "obb: None\n",
      "orig_img: array([[[ 92,  70,  35],\n",
      "        [ 78,  69,  31],\n",
      "        [ 64,  78,  30],\n",
      "        ...,\n",
      "        [124,  62,  46],\n",
      "        [129,  63,  38],\n",
      "        [132,  65,  34]],\n",
      "\n",
      "       [[ 35,  14,   0],\n",
      "        [215, 205, 175],\n",
      "        [196, 207, 167],\n",
      "        ...,\n",
      "        [120,  60,  48],\n",
      "        [124,  60,  42],\n",
      "        [126,  61,  40]],\n",
      "\n",
      "       [[ 22,   5,   0],\n",
      "        [208, 199, 185],\n",
      "        [202, 204, 182],\n",
      "        ...,\n",
      "        [114,  57,  55],\n",
      "        [115,  55,  55],\n",
      "        [117,  57,  57]],\n",
      "\n",
      "       ...,\n",
      "\n",
      "       [[ 67,  68,  29],\n",
      "        [ 64,  65,  33],\n",
      "        [ 60,  62,  40],\n",
      "        ...,\n",
      "        [ 30,  33,  37],\n",
      "        [ 33,  34,  38],\n",
      "        [ 33,  34,  38]],\n",
      "\n",
      "       [[ 72,  70,  35],\n",
      "        [ 65,  65,  35],\n",
      "        [ 62,  64,  45],\n",
      "        ...,\n",
      "        [ 32,  37,  38],\n",
      "        [ 32,  36,  37],\n",
      "        [ 32,  36,  37]],\n",
      "\n",
      "       [[ 65,  63,  28],\n",
      "        [ 59,  59,  29],\n",
      "        [ 60,  63,  47],\n",
      "        ...,\n",
      "        [ 33,  38,  39],\n",
      "        [ 35,  39,  40],\n",
      "        [ 34,  38,  39]]], dtype=uint8)\n",
      "orig_shape: (1080, 1920)\n",
      "path: '/home/verlo/dev_ws/Yolo/data/Sample/01.원천데이터/08_174514_221206/sensor_raw_data/camera/08_174514_221206_37.jpg'\n",
      "probs: None\n",
      "save_dir: '/home/verlo/dev_ws/YOLO/runs/segment/predict7'\n",
      "speed: {'preprocess': 5.434513092041016, 'inference': 14.725685119628906, 'postprocess': 4.98199462890625}, ultralytics.engine.results.Results object with attributes:\n",
      "\n",
      "boxes: ultralytics.engine.results.Boxes object\n",
      "keypoints: None\n",
      "masks: ultralytics.engine.results.Masks object\n",
      "names: {0: 'lane'}\n",
      "obb: None\n",
      "orig_img: array([[[ 94,  65,  34],\n",
      "        [ 88,  72,  35],\n",
      "        [ 64,  76,  26],\n",
      "        ...,\n",
      "        [102,  84, 101],\n",
      "        [105,  88, 102],\n",
      "        [ 97,  80,  94]],\n",
      "\n",
      "       [[255, 232, 207],\n",
      "        [251, 233, 202],\n",
      "        [239, 246, 203],\n",
      "        ...,\n",
      "        [ 99,  89, 102],\n",
      "        [ 95,  84, 100],\n",
      "        [ 87,  76,  92]],\n",
      "\n",
      "       [[255, 232, 216],\n",
      "        [247, 228, 207],\n",
      "        [241, 237, 208],\n",
      "        ...,\n",
      "        [ 88,  92, 103],\n",
      "        [ 90,  88, 107],\n",
      "        [ 90,  88, 108]],\n",
      "\n",
      "       ...,\n",
      "\n",
      "       [[ 67,  59,  59],\n",
      "        [ 64,  60,  59],\n",
      "        [ 63,  67,  62],\n",
      "        ...,\n",
      "        [ 31,  34,  38],\n",
      "        [ 34,  32,  38],\n",
      "        [ 37,  33,  39]],\n",
      "\n",
      "       [[ 73,  57,  51],\n",
      "        [ 68,  59,  50],\n",
      "        [ 66,  65,  55],\n",
      "        ...,\n",
      "        [ 30,  33,  37],\n",
      "        [ 33,  32,  36],\n",
      "        [ 33,  32,  36]],\n",
      "\n",
      "       [[ 75,  56,  48],\n",
      "        [ 69,  57,  47],\n",
      "        [ 66,  63,  49],\n",
      "        ...,\n",
      "        [ 29,  33,  34],\n",
      "        [ 30,  31,  35],\n",
      "        [ 33,  32,  36]]], dtype=uint8)\n",
      "orig_shape: (1080, 1920)\n",
      "path: '/home/verlo/dev_ws/Yolo/data/Sample/01.원천데이터/08_174514_221206/sensor_raw_data/camera/08_174514_221206_38.jpg'\n",
      "probs: None\n",
      "save_dir: '/home/verlo/dev_ws/YOLO/runs/segment/predict7'\n",
      "speed: {'preprocess': 4.090785980224609, 'inference': 14.74142074584961, 'postprocess': 4.466056823730469}, ultralytics.engine.results.Results object with attributes:\n",
      "\n",
      "boxes: ultralytics.engine.results.Boxes object\n",
      "keypoints: None\n",
      "masks: ultralytics.engine.results.Masks object\n",
      "names: {0: 'lane'}\n",
      "obb: None\n",
      "orig_img: array([[[134,  66,  19],\n",
      "        [122,  71,  21],\n",
      "        [ 95,  72,  22],\n",
      "        ...,\n",
      "        [ 52,  51,  77],\n",
      "        [ 53,  51,  81],\n",
      "        [ 50,  47,  79]],\n",
      "\n",
      "       [[118,  53,  14],\n",
      "        [119,  67,  26],\n",
      "        [100,  74,  28],\n",
      "        ...,\n",
      "        [ 48,  49,  70],\n",
      "        [ 51,  48,  74],\n",
      "        [ 50,  46,  75]],\n",
      "\n",
      "       [[105,  48,  26],\n",
      "        [116,  65,  39],\n",
      "        [109,  70,  38],\n",
      "        ...,\n",
      "        [ 46,  46,  62],\n",
      "        [ 48,  46,  65],\n",
      "        [ 48,  46,  65]],\n",
      "\n",
      "       ...,\n",
      "\n",
      "       [[ 40,  45,  44],\n",
      "        [ 39,  44,  47],\n",
      "        [ 34,  39,  54],\n",
      "        ...,\n",
      "        [ 23,  23,  23],\n",
      "        [ 23,  23,  23],\n",
      "        [ 23,  23,  23]],\n",
      "\n",
      "       [[ 35,  46,  43],\n",
      "        [ 33,  45,  47],\n",
      "        [ 31,  38,  57],\n",
      "        ...,\n",
      "        [ 21,  21,  21],\n",
      "        [ 21,  21,  21],\n",
      "        [ 22,  22,  22]],\n",
      "\n",
      "       [[ 32,  48,  41],\n",
      "        [ 29,  44,  46],\n",
      "        [ 29,  38,  58],\n",
      "        ...,\n",
      "        [ 20,  20,  20],\n",
      "        [ 21,  21,  21],\n",
      "        [ 22,  22,  22]]], dtype=uint8)\n",
      "orig_shape: (1080, 1920)\n",
      "path: '/home/verlo/dev_ws/Yolo/data/Sample/01.원천데이터/08_174514_221206/sensor_raw_data/camera/08_174514_221206_39.jpg'\n",
      "probs: None\n",
      "save_dir: '/home/verlo/dev_ws/YOLO/runs/segment/predict7'\n",
      "speed: {'preprocess': 8.379220962524414, 'inference': 13.842582702636719, 'postprocess': 4.195690155029297}, ultralytics.engine.results.Results object with attributes:\n",
      "\n",
      "boxes: ultralytics.engine.results.Boxes object\n",
      "keypoints: None\n",
      "masks: ultralytics.engine.results.Masks object\n",
      "names: {0: 'lane'}\n",
      "obb: None\n",
      "orig_img: array([[[133,  61,  31],\n",
      "        [121,  66,  27],\n",
      "        [ 98,  74,  20],\n",
      "        ...,\n",
      "        [101,  58,  55],\n",
      "        [100,  59,  57],\n",
      "        [ 97,  58,  56]],\n",
      "\n",
      "       [[142,  70,  46],\n",
      "        [130,  73,  41],\n",
      "        [108,  80,  33],\n",
      "        ...,\n",
      "        [104,  59,  55],\n",
      "        [ 98,  58,  53],\n",
      "        [ 96,  59,  51]],\n",
      "\n",
      "       [[137,  66,  52],\n",
      "        [127,  66,  46],\n",
      "        [115,  74,  42],\n",
      "        ...,\n",
      "        [107,  65,  53],\n",
      "        [102,  66,  50],\n",
      "        [102,  69,  50]],\n",
      "\n",
      "       ...,\n",
      "\n",
      "       [[ 50,  42,  42],\n",
      "        [ 51,  43,  44],\n",
      "        [ 54,  43,  53],\n",
      "        ...,\n",
      "        [ 51,  49,  48],\n",
      "        [ 56,  51,  52],\n",
      "        [ 55,  50,  51]],\n",
      "\n",
      "       [[ 59,  39,  44],\n",
      "        [ 57,  39,  46],\n",
      "        [ 57,  40,  54],\n",
      "        ...,\n",
      "        [ 51,  49,  48],\n",
      "        [ 54,  50,  49],\n",
      "        [ 53,  49,  48]],\n",
      "\n",
      "       [[ 63,  39,  47],\n",
      "        [ 60,  39,  48],\n",
      "        [ 58,  39,  56],\n",
      "        ...,\n",
      "        [ 51,  49,  48],\n",
      "        [ 53,  49,  48],\n",
      "        [ 52,  48,  47]]], dtype=uint8)\n",
      "orig_shape: (1080, 1920)\n",
      "path: '/home/verlo/dev_ws/Yolo/data/Sample/01.원천데이터/08_174514_221206/sensor_raw_data/camera/08_174514_221206_40.jpg'\n",
      "probs: None\n",
      "save_dir: '/home/verlo/dev_ws/YOLO/runs/segment/predict7'\n",
      "speed: {'preprocess': 6.514310836791992, 'inference': 14.930486679077148, 'postprocess': 4.807710647583008}]\n"
     ]
    }
   ],
   "source": [
    "from ultralytics import YOLO\n",
    "model = YOLO('/home/verlo/dev_ws/YOLO/runs/segment/train10/weights/best.pt')\n",
    "results = model.predict(source='/home/verlo/dev_ws/Yolo/data/Sample/01.원천데이터/08_174514_221206/sensor_raw_data/camera/*.jpg', save=True)\n",
    "print(results)"
   ]
  },
  {
   "cell_type": "code",
   "execution_count": 4,
   "metadata": {},
   "outputs": [
    {
     "name": "stdout",
     "output_type": "stream",
     "text": [
      "Ultralytics YOLOv8.2.16 🚀 Python-3.10.12 torch-2.1.0+cu121 CUDA:0 (NVIDIA GeForce RTX 2060, 5927MiB)\n",
      "\u001b[34m\u001b[1mengine/trainer: \u001b[0mtask=segment, mode=train, model=yolov8n-seg.pt, data=/home/verlo/dev_ws/Yolo/data/Sample/01.원천데이터/08_174514_221206/sensor_raw_data/camera/YOLODataset/dataset.yaml, epochs=100, time=None, patience=100, batch=16, imgsz=640, save=True, save_period=-1, cache=False, device=None, workers=8, project=None, name=train11, exist_ok=False, pretrained=True, optimizer=auto, verbose=True, seed=0, deterministic=True, single_cls=False, rect=False, cos_lr=False, close_mosaic=10, resume=False, amp=True, fraction=1.0, profile=False, freeze=None, multi_scale=False, overlap_mask=True, mask_ratio=4, dropout=0.0, val=True, split=val, save_json=False, save_hybrid=False, conf=None, iou=0.7, max_det=300, half=False, dnn=False, plots=True, source=None, vid_stride=1, stream_buffer=False, visualize=False, augment=False, agnostic_nms=False, classes=None, retina_masks=False, embed=None, show=False, save_frames=False, save_txt=False, save_conf=False, save_crop=False, show_labels=True, show_conf=True, show_boxes=True, line_width=None, format=torchscript, keras=False, optimize=False, int8=False, dynamic=False, simplify=False, opset=None, workspace=4, nms=False, lr0=0.01, lrf=0.01, momentum=0.937, weight_decay=0.0005, warmup_epochs=3.0, warmup_momentum=0.8, warmup_bias_lr=0.1, box=7.5, cls=0.5, dfl=1.5, pose=12.0, kobj=1.0, label_smoothing=0.0, nbs=64, hsv_h=0.015, hsv_s=0.7, hsv_v=0.4, degrees=0.0, translate=0.1, scale=0.5, shear=0.0, perspective=0.0, flipud=0.0, fliplr=0.5, bgr=0.0, mosaic=1.0, mixup=0.0, copy_paste=0.0, auto_augment=randaugment, erasing=0.4, crop_fraction=1.0, cfg=None, tracker=botsort.yaml, save_dir=/home/verlo/dev_ws/YOLO/runs/segment/train11\n",
      "Overriding model.yaml nc=80 with nc=1\n",
      "\n",
      "                   from  n    params  module                                       arguments                     \n",
      "  0                  -1  1       464  ultralytics.nn.modules.conv.Conv             [3, 16, 3, 2]                 \n",
      "  1                  -1  1      4672  ultralytics.nn.modules.conv.Conv             [16, 32, 3, 2]                \n",
      "  2                  -1  1      7360  ultralytics.nn.modules.block.C2f             [32, 32, 1, True]             \n",
      "  3                  -1  1     18560  ultralytics.nn.modules.conv.Conv             [32, 64, 3, 2]                \n",
      "  4                  -1  2     49664  ultralytics.nn.modules.block.C2f             [64, 64, 2, True]             \n",
      "  5                  -1  1     73984  ultralytics.nn.modules.conv.Conv             [64, 128, 3, 2]               \n",
      "  6                  -1  2    197632  ultralytics.nn.modules.block.C2f             [128, 128, 2, True]           \n",
      "  7                  -1  1    295424  ultralytics.nn.modules.conv.Conv             [128, 256, 3, 2]              \n",
      "  8                  -1  1    460288  ultralytics.nn.modules.block.C2f             [256, 256, 1, True]           \n",
      "  9                  -1  1    164608  ultralytics.nn.modules.block.SPPF            [256, 256, 5]                 \n",
      " 10                  -1  1         0  torch.nn.modules.upsampling.Upsample         [None, 2, 'nearest']          \n",
      " 11             [-1, 6]  1         0  ultralytics.nn.modules.conv.Concat           [1]                           \n",
      " 12                  -1  1    148224  ultralytics.nn.modules.block.C2f             [384, 128, 1]                 \n",
      " 13                  -1  1         0  torch.nn.modules.upsampling.Upsample         [None, 2, 'nearest']          \n",
      " 14             [-1, 4]  1         0  ultralytics.nn.modules.conv.Concat           [1]                           \n",
      " 15                  -1  1     37248  ultralytics.nn.modules.block.C2f             [192, 64, 1]                  \n",
      " 16                  -1  1     36992  ultralytics.nn.modules.conv.Conv             [64, 64, 3, 2]                \n",
      " 17            [-1, 12]  1         0  ultralytics.nn.modules.conv.Concat           [1]                           \n",
      " 18                  -1  1    123648  ultralytics.nn.modules.block.C2f             [192, 128, 1]                 \n",
      " 19                  -1  1    147712  ultralytics.nn.modules.conv.Conv             [128, 128, 3, 2]              \n",
      " 20             [-1, 9]  1         0  ultralytics.nn.modules.conv.Concat           [1]                           \n",
      " 21                  -1  1    493056  ultralytics.nn.modules.block.C2f             [384, 256, 1]                 \n",
      " 22        [15, 18, 21]  1   1004275  ultralytics.nn.modules.head.Segment          [1, 32, 64, [64, 128, 256]]   \n",
      "YOLOv8n-seg summary: 261 layers, 3263811 parameters, 3263795 gradients, 12.1 GFLOPs\n",
      "\n",
      "Transferred 381/417 items from pretrained weights\n",
      "Freezing layer 'model.22.dfl.conv.weight'\n",
      "\u001b[34m\u001b[1mAMP: \u001b[0mrunning Automatic Mixed Precision (AMP) checks with YOLOv8n...\n",
      "\u001b[34m\u001b[1mAMP: \u001b[0mchecks passed ✅\n"
     ]
    },
    {
     "name": "stderr",
     "output_type": "stream",
     "text": [
      "\u001b[34m\u001b[1mtrain: \u001b[0mScanning /home/verlo/dev_ws/Yolo/data/Sample/01.원천데이터/08_174514_221206/sensor_raw_data/camera/YOLODataset/labels/train.cache... 32 images, 0 backgrounds, 0 corrupt: 100%|██████████| 32/32 [00:00<?, ?it/s]\n",
      "\u001b[34m\u001b[1mval: \u001b[0mScanning /home/verlo/dev_ws/Yolo/data/Sample/01.원천데이터/08_174514_221206/sensor_raw_data/camera/YOLODataset/labels/val.cache... 8 images, 0 backgrounds, 0 corrupt: 100%|██████████| 8/8 [00:00<?, ?it/s]\n"
     ]
    },
    {
     "name": "stdout",
     "output_type": "stream",
     "text": [
      "Plotting labels to /home/verlo/dev_ws/YOLO/runs/segment/train11/labels.jpg... \n",
      "\u001b[34m\u001b[1moptimizer:\u001b[0m 'optimizer=auto' found, ignoring 'lr0=0.01' and 'momentum=0.937' and determining best 'optimizer', 'lr0' and 'momentum' automatically... \n",
      "\u001b[34m\u001b[1moptimizer:\u001b[0m AdamW(lr=0.002, momentum=0.9) with parameter groups 66 weight(decay=0.0), 77 weight(decay=0.0005), 76 bias(decay=0.0)\n",
      "Image sizes 640 train, 640 val\n",
      "Using 8 dataloader workers\n",
      "Logging results to \u001b[1m/home/verlo/dev_ws/YOLO/runs/segment/train11\u001b[0m\n",
      "Starting training for 100 epochs...\n",
      "\n",
      "      Epoch    GPU_mem   box_loss   seg_loss   cls_loss   dfl_loss  Instances       Size\n"
     ]
    },
    {
     "name": "stderr",
     "output_type": "stream",
     "text": [
      "      1/100      3.15G      2.337      4.642      3.914      1.673        151        640: 100%|██████████| 2/2 [00:01<00:00,  1.15it/s]\n",
      "                 Class     Images  Instances      Box(P          R      mAP50  mAP50-95)     Mask(P          R      mAP50  mAP50-95): 100%|██████████| 1/1 [00:00<00:00,  1.34it/s]"
     ]
    },
    {
     "name": "stdout",
     "output_type": "stream",
     "text": [
      "                   all          8         33    0.00375      0.273     0.0027   0.000805   0.000417     0.0303    0.00022    4.4e-05\n"
     ]
    },
    {
     "name": "stderr",
     "output_type": "stream",
     "text": [
      "\n"
     ]
    },
    {
     "name": "stdout",
     "output_type": "stream",
     "text": [
      "\n",
      "      Epoch    GPU_mem   box_loss   seg_loss   cls_loss   dfl_loss  Instances       Size\n"
     ]
    },
    {
     "name": "stderr",
     "output_type": "stream",
     "text": [
      "      2/100      3.31G      2.234      4.575      3.898      1.595        126        640: 100%|██████████| 2/2 [00:01<00:00,  1.02it/s]\n",
      "                 Class     Images  Instances      Box(P          R      mAP50  mAP50-95)     Mask(P          R      mAP50  mAP50-95): 100%|██████████| 1/1 [00:00<00:00,  2.52it/s]"
     ]
    },
    {
     "name": "stdout",
     "output_type": "stream",
     "text": [
      "                   all          8         33    0.00375      0.273     0.0026     0.0008   0.000417     0.0303    0.00022    4.4e-05\n"
     ]
    },
    {
     "name": "stderr",
     "output_type": "stream",
     "text": [
      "\n"
     ]
    },
    {
     "name": "stdout",
     "output_type": "stream",
     "text": [
      "\n",
      "      Epoch    GPU_mem   box_loss   seg_loss   cls_loss   dfl_loss  Instances       Size\n"
     ]
    },
    {
     "name": "stderr",
     "output_type": "stream",
     "text": [
      "      3/100      3.07G       2.41      4.633      4.033      1.768        133        640: 100%|██████████| 2/2 [00:01<00:00,  1.91it/s]\n",
      "                 Class     Images  Instances      Box(P          R      mAP50  mAP50-95)     Mask(P          R      mAP50  mAP50-95): 100%|██████████| 1/1 [00:00<00:00,  3.23it/s]"
     ]
    },
    {
     "name": "stdout",
     "output_type": "stream",
     "text": [
      "                   all          8         33    0.00375      0.273    0.00264   0.000721   0.000417     0.0303   0.000216   6.49e-05\n"
     ]
    },
    {
     "name": "stderr",
     "output_type": "stream",
     "text": [
      "\n"
     ]
    },
    {
     "name": "stdout",
     "output_type": "stream",
     "text": [
      "\n",
      "      Epoch    GPU_mem   box_loss   seg_loss   cls_loss   dfl_loss  Instances       Size\n"
     ]
    },
    {
     "name": "stderr",
     "output_type": "stream",
     "text": [
      "      4/100      3.17G      2.269      4.268      3.915      1.605        102        640: 100%|██████████| 2/2 [00:00<00:00,  2.32it/s]\n",
      "                 Class     Images  Instances      Box(P          R      mAP50  mAP50-95)     Mask(P          R      mAP50  mAP50-95): 100%|██████████| 1/1 [00:00<00:00,  4.46it/s]"
     ]
    },
    {
     "name": "stdout",
     "output_type": "stream",
     "text": [
      "                   all          8         33    0.00958      0.697     0.0459     0.0207    0.00625      0.455      0.046     0.0172\n"
     ]
    },
    {
     "name": "stderr",
     "output_type": "stream",
     "text": [
      "\n"
     ]
    },
    {
     "name": "stdout",
     "output_type": "stream",
     "text": [
      "\n",
      "      Epoch    GPU_mem   box_loss   seg_loss   cls_loss   dfl_loss  Instances       Size\n"
     ]
    },
    {
     "name": "stderr",
     "output_type": "stream",
     "text": [
      "      5/100      3.15G      1.706      2.916      3.226      1.234        131        640: 100%|██████████| 2/2 [00:00<00:00,  2.28it/s]\n",
      "                 Class     Images  Instances      Box(P          R      mAP50  mAP50-95)     Mask(P          R      mAP50  mAP50-95): 100%|██████████| 1/1 [00:00<00:00,  4.03it/s]"
     ]
    },
    {
     "name": "stdout",
     "output_type": "stream",
     "text": [
      "                   all          8         33     0.0108      0.788       0.48      0.259    0.00875      0.636      0.329      0.121\n"
     ]
    },
    {
     "name": "stderr",
     "output_type": "stream",
     "text": [
      "\n"
     ]
    },
    {
     "name": "stdout",
     "output_type": "stream",
     "text": [
      "\n",
      "      Epoch    GPU_mem   box_loss   seg_loss   cls_loss   dfl_loss  Instances       Size\n"
     ]
    },
    {
     "name": "stderr",
     "output_type": "stream",
     "text": [
      "      6/100      3.24G      1.625      2.304       2.54      1.122        117        640: 100%|██████████| 2/2 [00:00<00:00,  2.34it/s]\n",
      "                 Class     Images  Instances      Box(P          R      mAP50  mAP50-95)     Mask(P          R      mAP50  mAP50-95): 100%|██████████| 1/1 [00:00<00:00,  4.45it/s]"
     ]
    },
    {
     "name": "stdout",
     "output_type": "stream",
     "text": [
      "                   all          8         33     0.0129      0.939      0.545      0.252     0.0108      0.788        0.4      0.164\n"
     ]
    },
    {
     "name": "stderr",
     "output_type": "stream",
     "text": [
      "\n"
     ]
    },
    {
     "name": "stdout",
     "output_type": "stream",
     "text": [
      "\n",
      "      Epoch    GPU_mem   box_loss   seg_loss   cls_loss   dfl_loss  Instances       Size\n"
     ]
    },
    {
     "name": "stderr",
     "output_type": "stream",
     "text": [
      "      7/100      3.21G      1.715      2.365      2.174      1.159        166        640: 100%|██████████| 2/2 [00:00<00:00,  2.52it/s]\n",
      "                 Class     Images  Instances      Box(P          R      mAP50  mAP50-95)     Mask(P          R      mAP50  mAP50-95): 100%|██████████| 1/1 [00:00<00:00,  4.01it/s]"
     ]
    },
    {
     "name": "stdout",
     "output_type": "stream",
     "text": [
      "                   all          8         33      0.726      0.364      0.445      0.206      0.544      0.273      0.331       0.13\n"
     ]
    },
    {
     "name": "stderr",
     "output_type": "stream",
     "text": [
      "\n"
     ]
    },
    {
     "name": "stdout",
     "output_type": "stream",
     "text": [
      "\n",
      "      Epoch    GPU_mem   box_loss   seg_loss   cls_loss   dfl_loss  Instances       Size\n"
     ]
    },
    {
     "name": "stderr",
     "output_type": "stream",
     "text": [
      "      8/100      3.18G      1.533      2.033      1.765      1.118        145        640: 100%|██████████| 2/2 [00:00<00:00,  2.44it/s]\n",
      "                 Class     Images  Instances      Box(P          R      mAP50  mAP50-95)     Mask(P          R      mAP50  mAP50-95): 100%|██████████| 1/1 [00:00<00:00,  4.97it/s]"
     ]
    },
    {
     "name": "stdout",
     "output_type": "stream",
     "text": [
      "                   all          8         33     0.0952      0.667      0.568      0.284      0.029      0.667      0.317      0.117\n"
     ]
    },
    {
     "name": "stderr",
     "output_type": "stream",
     "text": [
      "\n"
     ]
    },
    {
     "name": "stdout",
     "output_type": "stream",
     "text": [
      "\n",
      "      Epoch    GPU_mem   box_loss   seg_loss   cls_loss   dfl_loss  Instances       Size\n"
     ]
    },
    {
     "name": "stderr",
     "output_type": "stream",
     "text": [
      "      9/100      3.27G      1.523      2.054      1.606      1.117        150        640: 100%|██████████| 2/2 [00:00<00:00,  2.57it/s]\n",
      "                 Class     Images  Instances      Box(P          R      mAP50  mAP50-95)     Mask(P          R      mAP50  mAP50-95): 100%|██████████| 1/1 [00:00<00:00,  5.22it/s]\n"
     ]
    },
    {
     "name": "stdout",
     "output_type": "stream",
     "text": [
      "                   all          8         33     0.0467      0.697      0.603      0.332     0.0426      0.636      0.374      0.126\n",
      "\n",
      "      Epoch    GPU_mem   box_loss   seg_loss   cls_loss   dfl_loss  Instances       Size\n"
     ]
    },
    {
     "name": "stderr",
     "output_type": "stream",
     "text": [
      "     10/100      3.23G      1.447      1.907      1.557      1.108        136        640: 100%|██████████| 2/2 [00:00<00:00,  2.36it/s]\n",
      "                 Class     Images  Instances      Box(P          R      mAP50  mAP50-95)     Mask(P          R      mAP50  mAP50-95): 100%|██████████| 1/1 [00:00<00:00,  4.68it/s]"
     ]
    },
    {
     "name": "stdout",
     "output_type": "stream",
     "text": [
      "                   all          8         33     0.0523      0.697      0.589      0.317       0.05      0.667      0.353      0.103\n"
     ]
    },
    {
     "name": "stderr",
     "output_type": "stream",
     "text": [
      "\n"
     ]
    },
    {
     "name": "stdout",
     "output_type": "stream",
     "text": [
      "\n",
      "      Epoch    GPU_mem   box_loss   seg_loss   cls_loss   dfl_loss  Instances       Size\n"
     ]
    },
    {
     "name": "stderr",
     "output_type": "stream",
     "text": [
      "     11/100      3.31G      1.428      1.803      1.491      1.091        136        640: 100%|██████████| 2/2 [00:00<00:00,  2.47it/s]\n",
      "                 Class     Images  Instances      Box(P          R      mAP50  mAP50-95)     Mask(P          R      mAP50  mAP50-95): 100%|██████████| 1/1 [00:00<00:00,  4.78it/s]"
     ]
    },
    {
     "name": "stdout",
     "output_type": "stream",
     "text": [
      "                   all          8         33     0.0125      0.909      0.569      0.317     0.0125      0.909      0.405      0.108\n"
     ]
    },
    {
     "name": "stderr",
     "output_type": "stream",
     "text": [
      "\n"
     ]
    },
    {
     "name": "stdout",
     "output_type": "stream",
     "text": [
      "\n",
      "      Epoch    GPU_mem   box_loss   seg_loss   cls_loss   dfl_loss  Instances       Size\n"
     ]
    },
    {
     "name": "stderr",
     "output_type": "stream",
     "text": [
      "     12/100      3.19G      1.386      1.816      1.469      1.062        134        640: 100%|██████████| 2/2 [00:00<00:00,  2.67it/s]\n",
      "                 Class     Images  Instances      Box(P          R      mAP50  mAP50-95)     Mask(P          R      mAP50  mAP50-95): 100%|██████████| 1/1 [00:00<00:00,  5.21it/s]\n"
     ]
    },
    {
     "name": "stdout",
     "output_type": "stream",
     "text": [
      "                   all          8         33     0.0133       0.97      0.543      0.354     0.0133       0.97      0.464      0.148\n",
      "\n",
      "      Epoch    GPU_mem   box_loss   seg_loss   cls_loss   dfl_loss  Instances       Size\n"
     ]
    },
    {
     "name": "stderr",
     "output_type": "stream",
     "text": [
      "     13/100      3.19G      1.331      1.726      1.509       1.07        168        640: 100%|██████████| 2/2 [00:00<00:00,  2.25it/s]\n",
      "                 Class     Images  Instances      Box(P          R      mAP50  mAP50-95)     Mask(P          R      mAP50  mAP50-95): 100%|██████████| 1/1 [00:00<00:00,  4.31it/s]"
     ]
    },
    {
     "name": "stdout",
     "output_type": "stream",
     "text": [
      "                   all          8         33     0.0138          1      0.557      0.365     0.0125      0.909      0.377      0.144\n"
     ]
    },
    {
     "name": "stderr",
     "output_type": "stream",
     "text": [
      "\n"
     ]
    },
    {
     "name": "stdout",
     "output_type": "stream",
     "text": [
      "\n",
      "      Epoch    GPU_mem   box_loss   seg_loss   cls_loss   dfl_loss  Instances       Size\n"
     ]
    },
    {
     "name": "stderr",
     "output_type": "stream",
     "text": [
      "     14/100      3.31G      1.336      1.763      1.478      1.087        138        640: 100%|██████████| 2/2 [00:00<00:00,  2.60it/s]\n",
      "                 Class     Images  Instances      Box(P          R      mAP50  mAP50-95)     Mask(P          R      mAP50  mAP50-95): 100%|██████████| 1/1 [00:00<00:00,  3.50it/s]"
     ]
    },
    {
     "name": "stdout",
     "output_type": "stream",
     "text": [
      "                   all          8         33     0.0138          1      0.479      0.308     0.0125      0.909      0.312      0.116\n"
     ]
    },
    {
     "name": "stderr",
     "output_type": "stream",
     "text": [
      "\n"
     ]
    },
    {
     "name": "stdout",
     "output_type": "stream",
     "text": [
      "\n",
      "      Epoch    GPU_mem   box_loss   seg_loss   cls_loss   dfl_loss  Instances       Size\n"
     ]
    },
    {
     "name": "stderr",
     "output_type": "stream",
     "text": [
      "     15/100      3.23G      1.335      1.587      1.378      1.062        115        640: 100%|██████████| 2/2 [00:00<00:00,  2.29it/s]\n",
      "                 Class     Images  Instances      Box(P          R      mAP50  mAP50-95)     Mask(P          R      mAP50  mAP50-95): 100%|██████████| 1/1 [00:00<00:00,  5.14it/s]\n"
     ]
    },
    {
     "name": "stdout",
     "output_type": "stream",
     "text": [
      "                   all          8         33     0.0133       0.97      0.476      0.309     0.0129      0.939      0.401      0.128\n",
      "\n",
      "      Epoch    GPU_mem   box_loss   seg_loss   cls_loss   dfl_loss  Instances       Size\n"
     ]
    },
    {
     "name": "stderr",
     "output_type": "stream",
     "text": [
      "     16/100      3.23G      1.338      1.622      1.353      1.072        115        640: 100%|██████████| 2/2 [00:00<00:00,  2.57it/s]\n",
      "                 Class     Images  Instances      Box(P          R      mAP50  mAP50-95)     Mask(P          R      mAP50  mAP50-95): 100%|██████████| 1/1 [00:00<00:00,  5.19it/s]\n"
     ]
    },
    {
     "name": "stdout",
     "output_type": "stream",
     "text": [
      "                   all          8         33     0.0299      0.606      0.486      0.351     0.0304      0.617      0.446      0.179\n",
      "\n",
      "      Epoch    GPU_mem   box_loss   seg_loss   cls_loss   dfl_loss  Instances       Size\n"
     ]
    },
    {
     "name": "stderr",
     "output_type": "stream",
     "text": [
      "     17/100      3.27G      1.382      1.574      1.304      1.071        170        640: 100%|██████████| 2/2 [00:00<00:00,  2.40it/s]\n",
      "                 Class     Images  Instances      Box(P          R      mAP50  mAP50-95)     Mask(P          R      mAP50  mAP50-95): 100%|██████████| 1/1 [00:00<00:00,  6.21it/s]\n"
     ]
    },
    {
     "name": "stdout",
     "output_type": "stream",
     "text": [
      "                   all          8         33          1     0.0857      0.489      0.352          1     0.0857      0.489      0.186\n",
      "\n",
      "      Epoch    GPU_mem   box_loss   seg_loss   cls_loss   dfl_loss  Instances       Size\n"
     ]
    },
    {
     "name": "stderr",
     "output_type": "stream",
     "text": [
      "     18/100      3.06G      1.295      1.649      1.469      1.044        117        640: 100%|██████████| 2/2 [00:00<00:00,  2.88it/s]\n",
      "                 Class     Images  Instances      Box(P          R      mAP50  mAP50-95)     Mask(P          R      mAP50  mAP50-95): 100%|██████████| 1/1 [00:00<00:00,  4.12it/s]"
     ]
    },
    {
     "name": "stdout",
     "output_type": "stream",
     "text": [
      "                   all          8         33          1     0.0903      0.527      0.375          1     0.0903       0.47      0.179\n"
     ]
    },
    {
     "name": "stderr",
     "output_type": "stream",
     "text": [
      "\n"
     ]
    },
    {
     "name": "stdout",
     "output_type": "stream",
     "text": [
      "\n",
      "      Epoch    GPU_mem   box_loss   seg_loss   cls_loss   dfl_loss  Instances       Size\n"
     ]
    },
    {
     "name": "stderr",
     "output_type": "stream",
     "text": [
      "     19/100      3.32G      1.246      1.382      1.234      1.052        116        640: 100%|██████████| 2/2 [00:00<00:00,  2.59it/s]\n",
      "                 Class     Images  Instances      Box(P          R      mAP50  mAP50-95)     Mask(P          R      mAP50  mAP50-95): 100%|██████████| 1/1 [00:00<00:00,  4.83it/s]"
     ]
    },
    {
     "name": "stdout",
     "output_type": "stream",
     "text": [
      "                   all          8         33     0.0404      0.545      0.553      0.377     0.0381      0.515      0.513      0.196\n"
     ]
    },
    {
     "name": "stderr",
     "output_type": "stream",
     "text": [
      "\n"
     ]
    },
    {
     "name": "stdout",
     "output_type": "stream",
     "text": [
      "\n",
      "      Epoch    GPU_mem   box_loss   seg_loss   cls_loss   dfl_loss  Instances       Size\n"
     ]
    },
    {
     "name": "stderr",
     "output_type": "stream",
     "text": [
      "     20/100      3.23G      1.212      1.437      1.235      1.043        110        640: 100%|██████████| 2/2 [00:00<00:00,  2.54it/s]\n",
      "                 Class     Images  Instances      Box(P          R      mAP50  mAP50-95)     Mask(P          R      mAP50  mAP50-95): 100%|██████████| 1/1 [00:00<00:00,  5.39it/s]"
     ]
    },
    {
     "name": "stdout",
     "output_type": "stream",
     "text": [
      "                   all          8         33     0.0309      0.697      0.553      0.386     0.0282      0.636      0.483      0.194\n"
     ]
    },
    {
     "name": "stderr",
     "output_type": "stream",
     "text": [
      "\n"
     ]
    },
    {
     "name": "stdout",
     "output_type": "stream",
     "text": [
      "\n",
      "      Epoch    GPU_mem   box_loss   seg_loss   cls_loss   dfl_loss  Instances       Size\n"
     ]
    },
    {
     "name": "stderr",
     "output_type": "stream",
     "text": [
      "     21/100      3.15G      1.189      1.458      1.273       1.01        103        640: 100%|██████████| 2/2 [00:00<00:00,  2.17it/s]\n",
      "                 Class     Images  Instances      Box(P          R      mAP50  mAP50-95)     Mask(P          R      mAP50  mAP50-95): 100%|██████████| 1/1 [00:00<00:00,  4.57it/s]"
     ]
    },
    {
     "name": "stdout",
     "output_type": "stream",
     "text": [
      "                   all          8         33      0.783      0.485      0.495      0.349      0.734      0.455      0.441      0.133\n"
     ]
    },
    {
     "name": "stderr",
     "output_type": "stream",
     "text": [
      "\n"
     ]
    },
    {
     "name": "stdout",
     "output_type": "stream",
     "text": [
      "\n",
      "      Epoch    GPU_mem   box_loss   seg_loss   cls_loss   dfl_loss  Instances       Size\n"
     ]
    },
    {
     "name": "stderr",
     "output_type": "stream",
     "text": [
      "     22/100      3.22G      1.131      1.474      1.165     0.9972        142        640: 100%|██████████| 2/2 [00:01<00:00,  1.72it/s]\n",
      "                 Class     Images  Instances      Box(P          R      mAP50  mAP50-95)     Mask(P          R      mAP50  mAP50-95): 100%|██████████| 1/1 [00:00<00:00,  3.06it/s]"
     ]
    },
    {
     "name": "stdout",
     "output_type": "stream",
     "text": [
      "                   all          8         33          1      0.107      0.534      0.367      0.863     0.0909      0.401      0.133\n"
     ]
    },
    {
     "name": "stderr",
     "output_type": "stream",
     "text": [
      "\n"
     ]
    },
    {
     "name": "stdout",
     "output_type": "stream",
     "text": [
      "\n",
      "      Epoch    GPU_mem   box_loss   seg_loss   cls_loss   dfl_loss  Instances       Size\n"
     ]
    },
    {
     "name": "stderr",
     "output_type": "stream",
     "text": [
      "     23/100      3.25G      1.238      1.433      1.183      1.002        106        640: 100%|██████████| 2/2 [00:00<00:00,  2.06it/s]\n",
      "                 Class     Images  Instances      Box(P          R      mAP50  mAP50-95)     Mask(P          R      mAP50  mAP50-95): 100%|██████████| 1/1 [00:00<00:00,  4.38it/s]"
     ]
    },
    {
     "name": "stdout",
     "output_type": "stream",
     "text": [
      "                   all          8         33          1     0.0848      0.561       0.41          1     0.0848      0.514      0.167\n"
     ]
    },
    {
     "name": "stderr",
     "output_type": "stream",
     "text": [
      "\n"
     ]
    },
    {
     "name": "stdout",
     "output_type": "stream",
     "text": [
      "\n",
      "      Epoch    GPU_mem   box_loss   seg_loss   cls_loss   dfl_loss  Instances       Size\n"
     ]
    },
    {
     "name": "stderr",
     "output_type": "stream",
     "text": [
      "     24/100      3.37G      1.215       1.51       1.15      1.021        101        640: 100%|██████████| 2/2 [00:00<00:00,  2.51it/s]\n",
      "                 Class     Images  Instances      Box(P          R      mAP50  mAP50-95)     Mask(P          R      mAP50  mAP50-95): 100%|██████████| 1/1 [00:00<00:00,  6.68it/s]"
     ]
    },
    {
     "name": "stdout",
     "output_type": "stream",
     "text": [
      "                   all          8         33          1        0.3      0.585       0.42          1        0.3      0.586        0.2\n"
     ]
    },
    {
     "name": "stderr",
     "output_type": "stream",
     "text": [
      "\n"
     ]
    },
    {
     "name": "stdout",
     "output_type": "stream",
     "text": [
      "\n",
      "      Epoch    GPU_mem   box_loss   seg_loss   cls_loss   dfl_loss  Instances       Size\n"
     ]
    },
    {
     "name": "stderr",
     "output_type": "stream",
     "text": [
      "     25/100      3.21G      1.274      1.445      1.142      1.054        110        640: 100%|██████████| 2/2 [00:00<00:00,  2.18it/s]\n",
      "                 Class     Images  Instances      Box(P          R      mAP50  mAP50-95)     Mask(P          R      mAP50  mAP50-95): 100%|██████████| 1/1 [00:00<00:00,  5.25it/s]\n"
     ]
    },
    {
     "name": "stdout",
     "output_type": "stream",
     "text": [
      "                   all          8         33      0.925      0.373      0.572      0.426      0.925      0.373      0.572      0.269\n",
      "\n",
      "      Epoch    GPU_mem   box_loss   seg_loss   cls_loss   dfl_loss  Instances       Size\n"
     ]
    },
    {
     "name": "stderr",
     "output_type": "stream",
     "text": [
      "     26/100       3.2G      1.294      1.435      1.178      1.029        122        640: 100%|██████████| 2/2 [00:00<00:00,  2.21it/s]\n",
      "                 Class     Images  Instances      Box(P          R      mAP50  mAP50-95)     Mask(P          R      mAP50  mAP50-95): 100%|██████████| 1/1 [00:00<00:00,  4.54it/s]"
     ]
    },
    {
     "name": "stdout",
     "output_type": "stream",
     "text": [
      "                   all          8         33      0.773      0.485      0.543      0.375      0.773      0.485      0.554      0.301\n"
     ]
    },
    {
     "name": "stderr",
     "output_type": "stream",
     "text": [
      "\n"
     ]
    },
    {
     "name": "stdout",
     "output_type": "stream",
     "text": [
      "\n",
      "      Epoch    GPU_mem   box_loss   seg_loss   cls_loss   dfl_loss  Instances       Size\n"
     ]
    },
    {
     "name": "stderr",
     "output_type": "stream",
     "text": [
      "     27/100      3.21G      1.327      1.512      1.125      1.014        126        640: 100%|██████████| 2/2 [00:00<00:00,  2.04it/s]\n",
      "                 Class     Images  Instances      Box(P          R      mAP50  mAP50-95)     Mask(P          R      mAP50  mAP50-95): 100%|██████████| 1/1 [00:00<00:00,  4.22it/s]"
     ]
    },
    {
     "name": "stdout",
     "output_type": "stream",
     "text": [
      "                   all          8         33      0.487      0.515      0.525      0.387      0.487      0.515      0.533      0.277\n"
     ]
    },
    {
     "name": "stderr",
     "output_type": "stream",
     "text": [
      "\n"
     ]
    },
    {
     "name": "stdout",
     "output_type": "stream",
     "text": [
      "\n",
      "      Epoch    GPU_mem   box_loss   seg_loss   cls_loss   dfl_loss  Instances       Size\n"
     ]
    },
    {
     "name": "stderr",
     "output_type": "stream",
     "text": [
      "     28/100      3.21G      1.314      1.527      1.192      1.045        132        640: 100%|██████████| 2/2 [00:00<00:00,  2.21it/s]\n",
      "                 Class     Images  Instances      Box(P          R      mAP50  mAP50-95)     Mask(P          R      mAP50  mAP50-95): 100%|██████████| 1/1 [00:00<00:00,  4.40it/s]"
     ]
    },
    {
     "name": "stdout",
     "output_type": "stream",
     "text": [
      "                   all          8         33      0.487      0.515      0.525      0.387      0.487      0.515      0.533      0.277\n"
     ]
    },
    {
     "name": "stderr",
     "output_type": "stream",
     "text": [
      "\n"
     ]
    },
    {
     "name": "stdout",
     "output_type": "stream",
     "text": [
      "\n",
      "      Epoch    GPU_mem   box_loss   seg_loss   cls_loss   dfl_loss  Instances       Size\n"
     ]
    },
    {
     "name": "stderr",
     "output_type": "stream",
     "text": [
      "     29/100      3.27G      1.226      1.484       1.13      1.005        107        640: 100%|██████████| 2/2 [00:00<00:00,  2.13it/s]\n",
      "                 Class     Images  Instances      Box(P          R      mAP50  mAP50-95)     Mask(P          R      mAP50  mAP50-95): 100%|██████████| 1/1 [00:00<00:00,  4.35it/s]"
     ]
    },
    {
     "name": "stdout",
     "output_type": "stream",
     "text": [
      "                   all          8         33      0.815      0.402      0.555      0.387      0.815      0.402      0.567      0.276\n"
     ]
    },
    {
     "name": "stderr",
     "output_type": "stream",
     "text": [
      "\n"
     ]
    },
    {
     "name": "stdout",
     "output_type": "stream",
     "text": [
      "\n",
      "      Epoch    GPU_mem   box_loss   seg_loss   cls_loss   dfl_loss  Instances       Size\n"
     ]
    },
    {
     "name": "stderr",
     "output_type": "stream",
     "text": [
      "     30/100       3.2G      1.229      1.479      1.172      1.011        120        640: 100%|██████████| 2/2 [00:00<00:00,  2.58it/s]\n",
      "                 Class     Images  Instances      Box(P          R      mAP50  mAP50-95)     Mask(P          R      mAP50  mAP50-95): 100%|██████████| 1/1 [00:00<00:00,  5.30it/s]\n"
     ]
    },
    {
     "name": "stdout",
     "output_type": "stream",
     "text": [
      "                   all          8         33      0.801      0.367      0.651      0.436      0.927      0.424      0.682        0.3\n",
      "\n",
      "      Epoch    GPU_mem   box_loss   seg_loss   cls_loss   dfl_loss  Instances       Size\n"
     ]
    },
    {
     "name": "stderr",
     "output_type": "stream",
     "text": [
      "     31/100      3.16G      1.232      1.396      1.108      1.013        142        640: 100%|██████████| 2/2 [00:00<00:00,  2.41it/s]\n",
      "                 Class     Images  Instances      Box(P          R      mAP50  mAP50-95)     Mask(P          R      mAP50  mAP50-95): 100%|██████████| 1/1 [00:00<00:00,  4.94it/s]"
     ]
    },
    {
     "name": "stdout",
     "output_type": "stream",
     "text": [
      "                   all          8         33      0.801      0.367      0.651      0.436      0.927      0.424      0.682        0.3\n"
     ]
    },
    {
     "name": "stderr",
     "output_type": "stream",
     "text": [
      "\n"
     ]
    },
    {
     "name": "stdout",
     "output_type": "stream",
     "text": [
      "\n",
      "      Epoch    GPU_mem   box_loss   seg_loss   cls_loss   dfl_loss  Instances       Size\n"
     ]
    },
    {
     "name": "stderr",
     "output_type": "stream",
     "text": [
      "     32/100      3.17G      1.311      1.487      1.108       1.04        152        640: 100%|██████████| 2/2 [00:00<00:00,  2.33it/s]\n",
      "                 Class     Images  Instances      Box(P          R      mAP50  mAP50-95)     Mask(P          R      mAP50  mAP50-95): 100%|██████████| 1/1 [00:00<00:00,  4.89it/s]"
     ]
    },
    {
     "name": "stdout",
     "output_type": "stream",
     "text": [
      "                   all          8         33      0.964      0.333      0.714      0.477          1      0.346       0.74      0.351\n"
     ]
    },
    {
     "name": "stderr",
     "output_type": "stream",
     "text": [
      "\n"
     ]
    },
    {
     "name": "stdout",
     "output_type": "stream",
     "text": [
      "\n",
      "      Epoch    GPU_mem   box_loss   seg_loss   cls_loss   dfl_loss  Instances       Size\n"
     ]
    },
    {
     "name": "stderr",
     "output_type": "stream",
     "text": [
      "     33/100      3.25G      1.271       1.52      1.097      1.025        155        640: 100%|██████████| 2/2 [00:00<00:00,  2.54it/s]\n",
      "                 Class     Images  Instances      Box(P          R      mAP50  mAP50-95)     Mask(P          R      mAP50  mAP50-95): 100%|██████████| 1/1 [00:00<00:00,  4.85it/s]"
     ]
    },
    {
     "name": "stdout",
     "output_type": "stream",
     "text": [
      "                   all          8         33      0.988      0.515       0.76      0.494      0.988      0.515      0.753      0.385\n"
     ]
    },
    {
     "name": "stderr",
     "output_type": "stream",
     "text": [
      "\n"
     ]
    },
    {
     "name": "stdout",
     "output_type": "stream",
     "text": [
      "\n",
      "      Epoch    GPU_mem   box_loss   seg_loss   cls_loss   dfl_loss  Instances       Size\n"
     ]
    },
    {
     "name": "stderr",
     "output_type": "stream",
     "text": [
      "     34/100      3.32G      1.182      1.329      1.063      1.026        113        640: 100%|██████████| 2/2 [00:00<00:00,  2.63it/s]\n",
      "                 Class     Images  Instances      Box(P          R      mAP50  mAP50-95)     Mask(P          R      mAP50  mAP50-95): 100%|██████████| 1/1 [00:00<00:00,  4.87it/s]"
     ]
    },
    {
     "name": "stdout",
     "output_type": "stream",
     "text": [
      "                   all          8         33      0.988      0.515       0.76      0.494      0.988      0.515      0.753      0.385\n"
     ]
    },
    {
     "name": "stderr",
     "output_type": "stream",
     "text": [
      "\n"
     ]
    },
    {
     "name": "stdout",
     "output_type": "stream",
     "text": [
      "\n",
      "      Epoch    GPU_mem   box_loss   seg_loss   cls_loss   dfl_loss  Instances       Size\n"
     ]
    },
    {
     "name": "stderr",
     "output_type": "stream",
     "text": [
      "     35/100      3.25G      1.175      1.391      1.075     0.9813        105        640: 100%|██████████| 2/2 [00:00<00:00,  2.57it/s]\n",
      "                 Class     Images  Instances      Box(P          R      mAP50  mAP50-95)     Mask(P          R      mAP50  mAP50-95): 100%|██████████| 1/1 [00:00<00:00,  5.53it/s]"
     ]
    },
    {
     "name": "stdout",
     "output_type": "stream",
     "text": [
      "                   all          8         33          1      0.542      0.795      0.531          1      0.542      0.768      0.346\n"
     ]
    },
    {
     "name": "stderr",
     "output_type": "stream",
     "text": [
      "\n"
     ]
    },
    {
     "name": "stdout",
     "output_type": "stream",
     "text": [
      "\n",
      "      Epoch    GPU_mem   box_loss   seg_loss   cls_loss   dfl_loss  Instances       Size\n"
     ]
    },
    {
     "name": "stderr",
     "output_type": "stream",
     "text": [
      "     36/100      3.19G      1.102      1.375      1.055     0.9945        102        640: 100%|██████████| 2/2 [00:00<00:00,  2.58it/s]\n",
      "                 Class     Images  Instances      Box(P          R      mAP50  mAP50-95)     Mask(P          R      mAP50  mAP50-95): 100%|██████████| 1/1 [00:00<00:00,  7.97it/s]"
     ]
    },
    {
     "name": "stdout",
     "output_type": "stream",
     "text": [
      "                   all          8         33       0.95      0.579      0.787      0.568       0.95      0.579      0.787      0.393\n"
     ]
    },
    {
     "name": "stderr",
     "output_type": "stream",
     "text": [
      "\n"
     ]
    },
    {
     "name": "stdout",
     "output_type": "stream",
     "text": [
      "\n",
      "      Epoch    GPU_mem   box_loss   seg_loss   cls_loss   dfl_loss  Instances       Size\n"
     ]
    },
    {
     "name": "stderr",
     "output_type": "stream",
     "text": [
      "     37/100      3.26G      1.132      1.321      0.997     0.9888        142        640: 100%|██████████| 2/2 [00:00<00:00,  2.48it/s]\n",
      "                 Class     Images  Instances      Box(P          R      mAP50  mAP50-95)     Mask(P          R      mAP50  mAP50-95): 100%|██████████| 1/1 [00:00<00:00,  3.61it/s]"
     ]
    },
    {
     "name": "stdout",
     "output_type": "stream",
     "text": [
      "                   all          8         33       0.95      0.579      0.787      0.568       0.95      0.579      0.787      0.393\n"
     ]
    },
    {
     "name": "stderr",
     "output_type": "stream",
     "text": [
      "\n"
     ]
    },
    {
     "name": "stdout",
     "output_type": "stream",
     "text": [
      "\n",
      "      Epoch    GPU_mem   box_loss   seg_loss   cls_loss   dfl_loss  Instances       Size\n"
     ]
    },
    {
     "name": "stderr",
     "output_type": "stream",
     "text": [
      "     38/100      3.26G      1.022      1.174     0.9676     0.9737        113        640: 100%|██████████| 2/2 [00:00<00:00,  2.28it/s]\n",
      "                 Class     Images  Instances      Box(P          R      mAP50  mAP50-95)     Mask(P          R      mAP50  mAP50-95): 100%|██████████| 1/1 [00:00<00:00,  3.99it/s]"
     ]
    },
    {
     "name": "stdout",
     "output_type": "stream",
     "text": [
      "                   all          8         33          1      0.597      0.842      0.598          1      0.597      0.842      0.388\n"
     ]
    },
    {
     "name": "stderr",
     "output_type": "stream",
     "text": [
      "\n"
     ]
    },
    {
     "name": "stdout",
     "output_type": "stream",
     "text": [
      "\n",
      "      Epoch    GPU_mem   box_loss   seg_loss   cls_loss   dfl_loss  Instances       Size\n"
     ]
    },
    {
     "name": "stderr",
     "output_type": "stream",
     "text": [
      "     39/100      3.21G      1.124      1.277      1.112     0.9924         92        640: 100%|██████████| 2/2 [00:00<00:00,  2.59it/s]\n",
      "                 Class     Images  Instances      Box(P          R      mAP50  mAP50-95)     Mask(P          R      mAP50  mAP50-95): 100%|██████████| 1/1 [00:00<00:00,  4.85it/s]"
     ]
    },
    {
     "name": "stdout",
     "output_type": "stream",
     "text": [
      "                   all          8         33      0.983      0.606      0.841      0.597      0.983      0.606      0.807      0.378\n"
     ]
    },
    {
     "name": "stderr",
     "output_type": "stream",
     "text": [
      "\n"
     ]
    },
    {
     "name": "stdout",
     "output_type": "stream",
     "text": [
      "\n",
      "      Epoch    GPU_mem   box_loss   seg_loss   cls_loss   dfl_loss  Instances       Size\n"
     ]
    },
    {
     "name": "stderr",
     "output_type": "stream",
     "text": [
      "     40/100      3.21G      1.163      1.297      1.059     0.9936        126        640: 100%|██████████| 2/2 [00:00<00:00,  2.67it/s]\n",
      "                 Class     Images  Instances      Box(P          R      mAP50  mAP50-95)     Mask(P          R      mAP50  mAP50-95): 100%|██████████| 1/1 [00:00<00:00,  6.47it/s]"
     ]
    },
    {
     "name": "stdout",
     "output_type": "stream",
     "text": [
      "                   all          8         33      0.983      0.606      0.841      0.597      0.983      0.606      0.807      0.378\n"
     ]
    },
    {
     "name": "stderr",
     "output_type": "stream",
     "text": [
      "\n"
     ]
    },
    {
     "name": "stdout",
     "output_type": "stream",
     "text": [
      "\n",
      "      Epoch    GPU_mem   box_loss   seg_loss   cls_loss   dfl_loss  Instances       Size\n"
     ]
    },
    {
     "name": "stderr",
     "output_type": "stream",
     "text": [
      "     41/100      3.33G      1.124      1.385      1.006     0.9879        131        640: 100%|██████████| 2/2 [00:00<00:00,  2.43it/s]\n",
      "                 Class     Images  Instances      Box(P          R      mAP50  mAP50-95)     Mask(P          R      mAP50  mAP50-95): 100%|██████████| 1/1 [00:00<00:00,  6.11it/s]\n"
     ]
    },
    {
     "name": "stdout",
     "output_type": "stream",
     "text": [
      "                   all          8         33      0.906      0.583      0.861      0.611      0.906      0.583      0.794       0.36\n",
      "\n",
      "      Epoch    GPU_mem   box_loss   seg_loss   cls_loss   dfl_loss  Instances       Size\n"
     ]
    },
    {
     "name": "stderr",
     "output_type": "stream",
     "text": [
      "     42/100      3.23G      1.135      1.319      1.013     0.9583        172        640: 100%|██████████| 2/2 [00:00<00:00,  2.59it/s]\n",
      "                 Class     Images  Instances      Box(P          R      mAP50  mAP50-95)     Mask(P          R      mAP50  mAP50-95): 100%|██████████| 1/1 [00:00<00:00,  5.26it/s]\n"
     ]
    },
    {
     "name": "stdout",
     "output_type": "stream",
     "text": [
      "                   all          8         33       0.96      0.735      0.934      0.624      0.841      0.644      0.835      0.364\n",
      "\n",
      "      Epoch    GPU_mem   box_loss   seg_loss   cls_loss   dfl_loss  Instances       Size\n"
     ]
    },
    {
     "name": "stderr",
     "output_type": "stream",
     "text": [
      "     43/100       3.3G      1.075      1.289     0.9527     0.9694        136        640: 100%|██████████| 2/2 [00:00<00:00,  2.49it/s]\n",
      "                 Class     Images  Instances      Box(P          R      mAP50  mAP50-95)     Mask(P          R      mAP50  mAP50-95): 100%|██████████| 1/1 [00:00<00:00,  3.98it/s]"
     ]
    },
    {
     "name": "stdout",
     "output_type": "stream",
     "text": [
      "                   all          8         33       0.96      0.735      0.934      0.624      0.841      0.644      0.835      0.364\n"
     ]
    },
    {
     "name": "stderr",
     "output_type": "stream",
     "text": [
      "\n"
     ]
    },
    {
     "name": "stdout",
     "output_type": "stream",
     "text": [
      "\n",
      "      Epoch    GPU_mem   box_loss   seg_loss   cls_loss   dfl_loss  Instances       Size\n"
     ]
    },
    {
     "name": "stderr",
     "output_type": "stream",
     "text": [
      "     44/100      3.16G      1.089      1.319      1.042      1.009        138        640: 100%|██████████| 2/2 [00:00<00:00,  2.64it/s]\n",
      "                 Class     Images  Instances      Box(P          R      mAP50  mAP50-95)     Mask(P          R      mAP50  mAP50-95): 100%|██████████| 1/1 [00:00<00:00,  5.68it/s]"
     ]
    },
    {
     "name": "stdout",
     "output_type": "stream",
     "text": [
      "                   all          8         33      0.928      0.782      0.965      0.643      0.856      0.719      0.847       0.43\n"
     ]
    },
    {
     "name": "stderr",
     "output_type": "stream",
     "text": [
      "\n"
     ]
    },
    {
     "name": "stdout",
     "output_type": "stream",
     "text": [
      "\n",
      "      Epoch    GPU_mem   box_loss   seg_loss   cls_loss   dfl_loss  Instances       Size\n"
     ]
    },
    {
     "name": "stderr",
     "output_type": "stream",
     "text": [
      "     45/100      3.27G      1.128      1.252      1.016          1        109        640: 100%|██████████| 2/2 [00:00<00:00,  2.64it/s]\n",
      "                 Class     Images  Instances      Box(P          R      mAP50  mAP50-95)     Mask(P          R      mAP50  mAP50-95): 100%|██████████| 1/1 [00:00<00:00, 11.73it/s]"
     ]
    },
    {
     "name": "stdout",
     "output_type": "stream",
     "text": [
      "                   all          8         33      0.928      0.782      0.965      0.643      0.856      0.719      0.847       0.43\n"
     ]
    },
    {
     "name": "stderr",
     "output_type": "stream",
     "text": [
      "\n"
     ]
    },
    {
     "name": "stdout",
     "output_type": "stream",
     "text": [
      "\n",
      "      Epoch    GPU_mem   box_loss   seg_loss   cls_loss   dfl_loss  Instances       Size\n"
     ]
    },
    {
     "name": "stderr",
     "output_type": "stream",
     "text": [
      "     46/100      3.24G      1.064      1.325     0.9284     0.9612        160        640: 100%|██████████| 2/2 [00:00<00:00,  2.99it/s]\n",
      "                 Class     Images  Instances      Box(P          R      mAP50  mAP50-95)     Mask(P          R      mAP50  mAP50-95): 100%|██████████| 1/1 [00:00<00:00,  5.08it/s]\n"
     ]
    },
    {
     "name": "stdout",
     "output_type": "stream",
     "text": [
      "                   all          8         33      0.928      0.848      0.973      0.698      0.914      0.788      0.914      0.465\n",
      "\n",
      "      Epoch    GPU_mem   box_loss   seg_loss   cls_loss   dfl_loss  Instances       Size\n"
     ]
    },
    {
     "name": "stderr",
     "output_type": "stream",
     "text": [
      "     47/100      3.28G      1.026      1.218      0.915     0.9666        122        640: 100%|██████████| 2/2 [00:00<00:00,  3.17it/s]\n",
      "                 Class     Images  Instances      Box(P          R      mAP50  mAP50-95)     Mask(P          R      mAP50  mAP50-95): 100%|██████████| 1/1 [00:00<00:00,  6.14it/s]\n"
     ]
    },
    {
     "name": "stdout",
     "output_type": "stream",
     "text": [
      "                   all          8         33      0.928      0.848      0.973      0.698      0.914      0.788      0.914      0.465\n",
      "\n",
      "      Epoch    GPU_mem   box_loss   seg_loss   cls_loss   dfl_loss  Instances       Size\n"
     ]
    },
    {
     "name": "stderr",
     "output_type": "stream",
     "text": [
      "     48/100      3.16G      1.033      1.244     0.9735     0.9453        113        640: 100%|██████████| 2/2 [00:00<00:00,  2.48it/s]\n",
      "                 Class     Images  Instances      Box(P          R      mAP50  mAP50-95)     Mask(P          R      mAP50  mAP50-95): 100%|██████████| 1/1 [00:00<00:00,  5.38it/s]\n"
     ]
    },
    {
     "name": "stdout",
     "output_type": "stream",
     "text": [
      "                   all          8         33          1      0.742      0.968      0.737          1      0.728      0.907       0.48\n",
      "\n",
      "      Epoch    GPU_mem   box_loss   seg_loss   cls_loss   dfl_loss  Instances       Size\n"
     ]
    },
    {
     "name": "stderr",
     "output_type": "stream",
     "text": [
      "     49/100      3.23G     0.9844      1.184     0.8705     0.9364        144        640: 100%|██████████| 2/2 [00:00<00:00,  2.39it/s]\n",
      "                 Class     Images  Instances      Box(P          R      mAP50  mAP50-95)     Mask(P          R      mAP50  mAP50-95): 100%|██████████| 1/1 [00:00<00:00,  4.36it/s]"
     ]
    },
    {
     "name": "stdout",
     "output_type": "stream",
     "text": [
      "                   all          8         33          1      0.742      0.968      0.737          1      0.728      0.907       0.48\n"
     ]
    },
    {
     "name": "stderr",
     "output_type": "stream",
     "text": [
      "\n"
     ]
    },
    {
     "name": "stdout",
     "output_type": "stream",
     "text": [
      "\n",
      "      Epoch    GPU_mem   box_loss   seg_loss   cls_loss   dfl_loss  Instances       Size\n"
     ]
    },
    {
     "name": "stderr",
     "output_type": "stream",
     "text": [
      "     50/100      3.22G      1.018      1.235     0.9186     0.9462        116        640: 100%|██████████| 2/2 [00:00<00:00,  2.16it/s]\n",
      "                 Class     Images  Instances      Box(P          R      mAP50  mAP50-95)     Mask(P          R      mAP50  mAP50-95): 100%|██████████| 1/1 [00:00<00:00,  4.40it/s]"
     ]
    },
    {
     "name": "stdout",
     "output_type": "stream",
     "text": [
      "                   all          8         33      0.992      0.727      0.931      0.659      0.952      0.697      0.862       0.49\n"
     ]
    },
    {
     "name": "stderr",
     "output_type": "stream",
     "text": [
      "\n"
     ]
    },
    {
     "name": "stdout",
     "output_type": "stream",
     "text": [
      "\n",
      "      Epoch    GPU_mem   box_loss   seg_loss   cls_loss   dfl_loss  Instances       Size\n"
     ]
    },
    {
     "name": "stderr",
     "output_type": "stream",
     "text": [
      "     51/100      3.25G       1.01      1.222     0.9042     0.9798        116        640: 100%|██████████| 2/2 [00:00<00:00,  2.40it/s]\n",
      "                 Class     Images  Instances      Box(P          R      mAP50  mAP50-95)     Mask(P          R      mAP50  mAP50-95): 100%|██████████| 1/1 [00:00<00:00,  4.91it/s]"
     ]
    },
    {
     "name": "stdout",
     "output_type": "stream",
     "text": [
      "                   all          8         33      0.992      0.727      0.931      0.659      0.952      0.697      0.862       0.49\n"
     ]
    },
    {
     "name": "stderr",
     "output_type": "stream",
     "text": [
      "\n"
     ]
    },
    {
     "name": "stdout",
     "output_type": "stream",
     "text": [
      "\n",
      "      Epoch    GPU_mem   box_loss   seg_loss   cls_loss   dfl_loss  Instances       Size\n"
     ]
    },
    {
     "name": "stderr",
     "output_type": "stream",
     "text": [
      "     52/100      3.29G      1.051      1.187     0.9353     0.9593        141        640: 100%|██████████| 2/2 [00:00<00:00,  2.33it/s]\n",
      "                 Class     Images  Instances      Box(P          R      mAP50  mAP50-95)     Mask(P          R      mAP50  mAP50-95): 100%|██████████| 1/1 [00:00<00:00,  5.62it/s]"
     ]
    },
    {
     "name": "stdout",
     "output_type": "stream",
     "text": [
      "                   all          8         33       0.96      0.732      0.898      0.641       0.92      0.701      0.851      0.498\n"
     ]
    },
    {
     "name": "stderr",
     "output_type": "stream",
     "text": [
      "\n"
     ]
    },
    {
     "name": "stdout",
     "output_type": "stream",
     "text": [
      "\n",
      "      Epoch    GPU_mem   box_loss   seg_loss   cls_loss   dfl_loss  Instances       Size\n"
     ]
    },
    {
     "name": "stderr",
     "output_type": "stream",
     "text": [
      "     53/100      3.21G      1.045      1.097     0.9452     0.9628        124        640: 100%|██████████| 2/2 [00:00<00:00,  2.55it/s]\n",
      "                 Class     Images  Instances      Box(P          R      mAP50  mAP50-95)     Mask(P          R      mAP50  mAP50-95): 100%|██████████| 1/1 [00:00<00:00,  5.13it/s]\n"
     ]
    },
    {
     "name": "stdout",
     "output_type": "stream",
     "text": [
      "                   all          8         33       0.96      0.732      0.898      0.641       0.92      0.701      0.851      0.498\n",
      "\n",
      "      Epoch    GPU_mem   box_loss   seg_loss   cls_loss   dfl_loss  Instances       Size\n"
     ]
    },
    {
     "name": "stderr",
     "output_type": "stream",
     "text": [
      "     54/100      3.21G      1.034      1.117     0.9168     0.9592        146        640: 100%|██████████| 2/2 [00:00<00:00,  2.67it/s]\n",
      "                 Class     Images  Instances      Box(P          R      mAP50  mAP50-95)     Mask(P          R      mAP50  mAP50-95): 100%|██████████| 1/1 [00:00<00:00,  4.61it/s]"
     ]
    },
    {
     "name": "stdout",
     "output_type": "stream",
     "text": [
      "                   all          8         33      0.963       0.78      0.903      0.663      0.958      0.727      0.841      0.451\n"
     ]
    },
    {
     "name": "stderr",
     "output_type": "stream",
     "text": [
      "\n"
     ]
    },
    {
     "name": "stdout",
     "output_type": "stream",
     "text": [
      "\n",
      "      Epoch    GPU_mem   box_loss   seg_loss   cls_loss   dfl_loss  Instances       Size\n"
     ]
    },
    {
     "name": "stderr",
     "output_type": "stream",
     "text": [
      "     55/100      3.27G      1.029      1.195     0.8855     0.9698        102        640: 100%|██████████| 2/2 [00:00<00:00,  2.75it/s]\n",
      "                 Class     Images  Instances      Box(P          R      mAP50  mAP50-95)     Mask(P          R      mAP50  mAP50-95): 100%|██████████| 1/1 [00:00<00:00,  6.38it/s]\n"
     ]
    },
    {
     "name": "stdout",
     "output_type": "stream",
     "text": [
      "                   all          8         33      0.963       0.78      0.903      0.663      0.958      0.727      0.841      0.451\n",
      "\n",
      "      Epoch    GPU_mem   box_loss   seg_loss   cls_loss   dfl_loss  Instances       Size\n"
     ]
    },
    {
     "name": "stderr",
     "output_type": "stream",
     "text": [
      "     56/100      3.23G      1.035      1.145     0.9121     0.9646        120        640: 100%|██████████| 2/2 [00:00<00:00,  2.49it/s]\n",
      "                 Class     Images  Instances      Box(P          R      mAP50  mAP50-95)     Mask(P          R      mAP50  mAP50-95): 100%|██████████| 1/1 [00:00<00:00,  5.76it/s]"
     ]
    },
    {
     "name": "stdout",
     "output_type": "stream",
     "text": [
      "                   all          8         33      0.894       0.77       0.89      0.627       0.96      0.758      0.871      0.401\n"
     ]
    },
    {
     "name": "stderr",
     "output_type": "stream",
     "text": [
      "\n"
     ]
    },
    {
     "name": "stdout",
     "output_type": "stream",
     "text": [
      "\n",
      "      Epoch    GPU_mem   box_loss   seg_loss   cls_loss   dfl_loss  Instances       Size\n"
     ]
    },
    {
     "name": "stderr",
     "output_type": "stream",
     "text": [
      "     57/100      3.24G     0.9808      1.179     0.8936     0.9396        146        640: 100%|██████████| 2/2 [00:00<00:00,  2.56it/s]\n",
      "                 Class     Images  Instances      Box(P          R      mAP50  mAP50-95)     Mask(P          R      mAP50  mAP50-95): 100%|██████████| 1/1 [00:00<00:00,  6.43it/s]\n"
     ]
    },
    {
     "name": "stdout",
     "output_type": "stream",
     "text": [
      "                   all          8         33      0.894       0.77       0.89      0.627       0.96      0.758      0.871      0.401\n",
      "\n",
      "      Epoch    GPU_mem   box_loss   seg_loss   cls_loss   dfl_loss  Instances       Size\n"
     ]
    },
    {
     "name": "stderr",
     "output_type": "stream",
     "text": [
      "     58/100      3.17G      1.026      1.189     0.8995     0.9546        108        640: 100%|██████████| 2/2 [00:00<00:00,  2.75it/s]\n",
      "                 Class     Images  Instances      Box(P          R      mAP50  mAP50-95)     Mask(P          R      mAP50  mAP50-95): 100%|██████████| 1/1 [00:00<00:00,  2.87it/s]"
     ]
    },
    {
     "name": "stdout",
     "output_type": "stream",
     "text": [
      "                   all          8         33      0.895      0.779       0.89        0.6      0.895      0.758      0.877      0.396\n"
     ]
    },
    {
     "name": "stderr",
     "output_type": "stream",
     "text": [
      "\n"
     ]
    },
    {
     "name": "stdout",
     "output_type": "stream",
     "text": [
      "\n",
      "      Epoch    GPU_mem   box_loss   seg_loss   cls_loss   dfl_loss  Instances       Size\n"
     ]
    },
    {
     "name": "stderr",
     "output_type": "stream",
     "text": [
      "     59/100      3.16G      1.012      1.288      0.891     0.9591        152        640: 100%|██████████| 2/2 [00:00<00:00,  2.75it/s]\n",
      "                 Class     Images  Instances      Box(P          R      mAP50  mAP50-95)     Mask(P          R      mAP50  mAP50-95): 100%|██████████| 1/1 [00:00<00:00,  6.04it/s]\n"
     ]
    },
    {
     "name": "stdout",
     "output_type": "stream",
     "text": [
      "                   all          8         33      0.895      0.779       0.89        0.6      0.895      0.758      0.877      0.396\n",
      "\n",
      "      Epoch    GPU_mem   box_loss   seg_loss   cls_loss   dfl_loss  Instances       Size\n"
     ]
    },
    {
     "name": "stderr",
     "output_type": "stream",
     "text": [
      "     60/100      3.22G      1.022       1.17     0.8985     0.9597        137        640: 100%|██████████| 2/2 [00:00<00:00,  2.12it/s]\n",
      "                 Class     Images  Instances      Box(P          R      mAP50  mAP50-95)     Mask(P          R      mAP50  mAP50-95): 100%|██████████| 1/1 [00:00<00:00,  4.71it/s]"
     ]
    },
    {
     "name": "stdout",
     "output_type": "stream",
     "text": [
      "                   all          8         33      0.872      0.818       0.92      0.649      0.845      0.788      0.877      0.432\n"
     ]
    },
    {
     "name": "stderr",
     "output_type": "stream",
     "text": [
      "\n"
     ]
    },
    {
     "name": "stdout",
     "output_type": "stream",
     "text": [
      "\n",
      "      Epoch    GPU_mem   box_loss   seg_loss   cls_loss   dfl_loss  Instances       Size\n"
     ]
    },
    {
     "name": "stderr",
     "output_type": "stream",
     "text": [
      "     61/100      3.12G     0.9962      1.219     0.8891     0.9579        140        640: 100%|██████████| 2/2 [00:00<00:00,  2.69it/s]\n",
      "                 Class     Images  Instances      Box(P          R      mAP50  mAP50-95)     Mask(P          R      mAP50  mAP50-95): 100%|██████████| 1/1 [00:00<00:00,  5.55it/s]"
     ]
    },
    {
     "name": "stdout",
     "output_type": "stream",
     "text": [
      "                   all          8         33      0.872      0.818       0.92      0.649      0.845      0.788      0.877      0.432\n"
     ]
    },
    {
     "name": "stderr",
     "output_type": "stream",
     "text": [
      "\n"
     ]
    },
    {
     "name": "stdout",
     "output_type": "stream",
     "text": [
      "\n",
      "      Epoch    GPU_mem   box_loss   seg_loss   cls_loss   dfl_loss  Instances       Size\n"
     ]
    },
    {
     "name": "stderr",
     "output_type": "stream",
     "text": [
      "     62/100      3.13G     0.9813      1.193     0.9114     0.9384        125        640: 100%|██████████| 2/2 [00:01<00:00,  1.83it/s]\n",
      "                 Class     Images  Instances      Box(P          R      mAP50  mAP50-95)     Mask(P          R      mAP50  mAP50-95): 100%|██████████| 1/1 [00:00<00:00,  4.19it/s]"
     ]
    },
    {
     "name": "stdout",
     "output_type": "stream",
     "text": [
      "                   all          8         33      0.846      0.835      0.916      0.655      0.852      0.788      0.853      0.417\n"
     ]
    },
    {
     "name": "stderr",
     "output_type": "stream",
     "text": [
      "\n"
     ]
    },
    {
     "name": "stdout",
     "output_type": "stream",
     "text": [
      "\n",
      "      Epoch    GPU_mem   box_loss   seg_loss   cls_loss   dfl_loss  Instances       Size\n"
     ]
    },
    {
     "name": "stderr",
     "output_type": "stream",
     "text": [
      "     63/100      3.24G     0.9776      1.092     0.8485     0.9537        147        640: 100%|██████████| 2/2 [00:00<00:00,  2.83it/s]\n",
      "                 Class     Images  Instances      Box(P          R      mAP50  mAP50-95)     Mask(P          R      mAP50  mAP50-95): 100%|██████████| 1/1 [00:00<00:00,  4.10it/s]"
     ]
    },
    {
     "name": "stdout",
     "output_type": "stream",
     "text": [
      "                   all          8         33      0.846      0.835      0.916      0.655      0.852      0.788      0.853      0.417\n"
     ]
    },
    {
     "name": "stderr",
     "output_type": "stream",
     "text": [
      "\n"
     ]
    },
    {
     "name": "stdout",
     "output_type": "stream",
     "text": [
      "\n",
      "      Epoch    GPU_mem   box_loss   seg_loss   cls_loss   dfl_loss  Instances       Size\n"
     ]
    },
    {
     "name": "stderr",
     "output_type": "stream",
     "text": [
      "     64/100      3.31G     0.9354      1.087     0.8398     0.9564        133        640: 100%|██████████| 2/2 [00:00<00:00,  2.49it/s]\n",
      "                 Class     Images  Instances      Box(P          R      mAP50  mAP50-95)     Mask(P          R      mAP50  mAP50-95): 100%|██████████| 1/1 [00:00<00:00,  6.07it/s]\n"
     ]
    },
    {
     "name": "stdout",
     "output_type": "stream",
     "text": [
      "                   all          8         33      0.803      0.879      0.928       0.65      0.754      0.837      0.893       0.46\n",
      "\n",
      "      Epoch    GPU_mem   box_loss   seg_loss   cls_loss   dfl_loss  Instances       Size\n"
     ]
    },
    {
     "name": "stderr",
     "output_type": "stream",
     "text": [
      "     65/100      3.24G     0.9669      1.129     0.8229     0.9432        165        640: 100%|██████████| 2/2 [00:00<00:00,  2.56it/s]\n",
      "                 Class     Images  Instances      Box(P          R      mAP50  mAP50-95)     Mask(P          R      mAP50  mAP50-95): 100%|██████████| 1/1 [00:00<00:00,  5.84it/s]\n"
     ]
    },
    {
     "name": "stdout",
     "output_type": "stream",
     "text": [
      "                   all          8         33      0.803      0.879      0.928       0.65      0.754      0.837      0.893       0.46\n",
      "\n",
      "      Epoch    GPU_mem   box_loss   seg_loss   cls_loss   dfl_loss  Instances       Size\n"
     ]
    },
    {
     "name": "stderr",
     "output_type": "stream",
     "text": [
      "     66/100       3.2G     0.9768      1.122     0.8502     0.9662        114        640: 100%|██████████| 2/2 [00:00<00:00,  2.52it/s]\n",
      "                 Class     Images  Instances      Box(P          R      mAP50  mAP50-95)     Mask(P          R      mAP50  mAP50-95): 100%|██████████| 1/1 [00:00<00:00,  5.67it/s]"
     ]
    },
    {
     "name": "stdout",
     "output_type": "stream",
     "text": [
      "                   all          8         33       0.86      0.879      0.948      0.669      0.823      0.844      0.912      0.473\n"
     ]
    },
    {
     "name": "stderr",
     "output_type": "stream",
     "text": [
      "\n"
     ]
    },
    {
     "name": "stdout",
     "output_type": "stream",
     "text": [
      "\n",
      "      Epoch    GPU_mem   box_loss   seg_loss   cls_loss   dfl_loss  Instances       Size\n"
     ]
    },
    {
     "name": "stderr",
     "output_type": "stream",
     "text": [
      "     67/100      3.33G     0.9167      1.058     0.7875      0.949        144        640: 100%|██████████| 2/2 [00:00<00:00,  2.71it/s]\n",
      "                 Class     Images  Instances      Box(P          R      mAP50  mAP50-95)     Mask(P          R      mAP50  mAP50-95): 100%|██████████| 1/1 [00:00<00:00,  5.64it/s]"
     ]
    },
    {
     "name": "stdout",
     "output_type": "stream",
     "text": [
      "                   all          8         33       0.86      0.879      0.948      0.669      0.823      0.844      0.912      0.473\n"
     ]
    },
    {
     "name": "stderr",
     "output_type": "stream",
     "text": [
      "\n"
     ]
    },
    {
     "name": "stdout",
     "output_type": "stream",
     "text": [
      "\n",
      "      Epoch    GPU_mem   box_loss   seg_loss   cls_loss   dfl_loss  Instances       Size\n"
     ]
    },
    {
     "name": "stderr",
     "output_type": "stream",
     "text": [
      "     68/100      3.23G     0.9362      1.083     0.8407     0.9358        121        640: 100%|██████████| 2/2 [00:00<00:00,  2.56it/s]\n",
      "                 Class     Images  Instances      Box(P          R      mAP50  mAP50-95)     Mask(P          R      mAP50  mAP50-95): 100%|██████████| 1/1 [00:00<00:00,  4.45it/s]"
     ]
    },
    {
     "name": "stdout",
     "output_type": "stream",
     "text": [
      "                   all          8         33       0.88       0.97      0.956      0.702      0.808       0.89      0.893      0.484\n"
     ]
    },
    {
     "name": "stderr",
     "output_type": "stream",
     "text": [
      "\n"
     ]
    },
    {
     "name": "stdout",
     "output_type": "stream",
     "text": [
      "\n",
      "      Epoch    GPU_mem   box_loss   seg_loss   cls_loss   dfl_loss  Instances       Size\n"
     ]
    },
    {
     "name": "stderr",
     "output_type": "stream",
     "text": [
      "     69/100      3.24G     0.9076      1.048     0.7925     0.9175        143        640: 100%|██████████| 2/2 [00:00<00:00,  2.67it/s]\n",
      "                 Class     Images  Instances      Box(P          R      mAP50  mAP50-95)     Mask(P          R      mAP50  mAP50-95): 100%|██████████| 1/1 [00:00<00:00,  5.60it/s]"
     ]
    },
    {
     "name": "stdout",
     "output_type": "stream",
     "text": [
      "                   all          8         33       0.88       0.97      0.956      0.702      0.808       0.89      0.893      0.484\n"
     ]
    },
    {
     "name": "stderr",
     "output_type": "stream",
     "text": [
      "\n"
     ]
    },
    {
     "name": "stdout",
     "output_type": "stream",
     "text": [
      "\n",
      "      Epoch    GPU_mem   box_loss   seg_loss   cls_loss   dfl_loss  Instances       Size\n"
     ]
    },
    {
     "name": "stderr",
     "output_type": "stream",
     "text": [
      "     70/100      3.14G     0.8691     0.9734     0.8059     0.9128        133        640: 100%|██████████| 2/2 [00:00<00:00,  2.48it/s]\n",
      "                 Class     Images  Instances      Box(P          R      mAP50  mAP50-95)     Mask(P          R      mAP50  mAP50-95): 100%|██████████| 1/1 [00:00<00:00,  3.71it/s]"
     ]
    },
    {
     "name": "stdout",
     "output_type": "stream",
     "text": [
      "                   all          8         33      0.913       0.97      0.972      0.725      0.906      0.875      0.883      0.468\n"
     ]
    },
    {
     "name": "stderr",
     "output_type": "stream",
     "text": [
      "\n"
     ]
    },
    {
     "name": "stdout",
     "output_type": "stream",
     "text": [
      "\n",
      "      Epoch    GPU_mem   box_loss   seg_loss   cls_loss   dfl_loss  Instances       Size\n"
     ]
    },
    {
     "name": "stderr",
     "output_type": "stream",
     "text": [
      "     71/100      3.18G     0.8576     0.9308     0.7853      0.922        125        640: 100%|██████████| 2/2 [00:00<00:00,  2.80it/s]\n",
      "                 Class     Images  Instances      Box(P          R      mAP50  mAP50-95)     Mask(P          R      mAP50  mAP50-95): 100%|██████████| 1/1 [00:00<00:00,  5.97it/s]\n"
     ]
    },
    {
     "name": "stdout",
     "output_type": "stream",
     "text": [
      "                   all          8         33      0.913       0.97      0.972      0.725      0.906      0.875      0.883      0.468\n",
      "\n",
      "      Epoch    GPU_mem   box_loss   seg_loss   cls_loss   dfl_loss  Instances       Size\n"
     ]
    },
    {
     "name": "stderr",
     "output_type": "stream",
     "text": [
      "     72/100      3.22G     0.9327       1.16     0.8273     0.9574        126        640: 100%|██████████| 2/2 [00:00<00:00,  2.66it/s]\n",
      "                 Class     Images  Instances      Box(P          R      mAP50  mAP50-95)     Mask(P          R      mAP50  mAP50-95): 100%|██████████| 1/1 [00:00<00:00,  7.03it/s]"
     ]
    },
    {
     "name": "stdout",
     "output_type": "stream",
     "text": [
      "                   all          8         33      0.941       0.97      0.973      0.718      0.903      0.909      0.917      0.471\n"
     ]
    },
    {
     "name": "stderr",
     "output_type": "stream",
     "text": [
      "\n"
     ]
    },
    {
     "name": "stdout",
     "output_type": "stream",
     "text": [
      "\n",
      "      Epoch    GPU_mem   box_loss   seg_loss   cls_loss   dfl_loss  Instances       Size\n"
     ]
    },
    {
     "name": "stderr",
     "output_type": "stream",
     "text": [
      "     73/100      3.26G     0.8938      1.035     0.7944     0.9129        111        640: 100%|██████████| 2/2 [00:00<00:00,  2.62it/s]\n",
      "                 Class     Images  Instances      Box(P          R      mAP50  mAP50-95)     Mask(P          R      mAP50  mAP50-95): 100%|██████████| 1/1 [00:00<00:00,  6.23it/s]\n"
     ]
    },
    {
     "name": "stdout",
     "output_type": "stream",
     "text": [
      "                   all          8         33      0.941       0.97      0.973      0.718      0.903      0.909      0.917      0.471\n",
      "\n",
      "      Epoch    GPU_mem   box_loss   seg_loss   cls_loss   dfl_loss  Instances       Size\n"
     ]
    },
    {
     "name": "stderr",
     "output_type": "stream",
     "text": [
      "     74/100      3.24G     0.9497      1.123     0.8068     0.9313        148        640: 100%|██████████| 2/2 [00:00<00:00,  2.66it/s]\n",
      "                 Class     Images  Instances      Box(P          R      mAP50  mAP50-95)     Mask(P          R      mAP50  mAP50-95): 100%|██████████| 1/1 [00:00<00:00,  5.60it/s]"
     ]
    },
    {
     "name": "stdout",
     "output_type": "stream",
     "text": [
      "                   all          8         33      0.914       0.97      0.963      0.701      0.872      0.909      0.917      0.476\n"
     ]
    },
    {
     "name": "stderr",
     "output_type": "stream",
     "text": [
      "\n"
     ]
    },
    {
     "name": "stdout",
     "output_type": "stream",
     "text": [
      "\n",
      "      Epoch    GPU_mem   box_loss   seg_loss   cls_loss   dfl_loss  Instances       Size\n"
     ]
    },
    {
     "name": "stderr",
     "output_type": "stream",
     "text": [
      "     75/100       3.3G       0.99      1.114     0.8073     0.9235        132        640: 100%|██████████| 2/2 [00:00<00:00,  2.68it/s]\n",
      "                 Class     Images  Instances      Box(P          R      mAP50  mAP50-95)     Mask(P          R      mAP50  mAP50-95): 100%|██████████| 1/1 [00:00<00:00,  5.73it/s]\n"
     ]
    },
    {
     "name": "stdout",
     "output_type": "stream",
     "text": [
      "                   all          8         33      0.914       0.97      0.963      0.701      0.872      0.909      0.917      0.476\n",
      "\n",
      "      Epoch    GPU_mem   box_loss   seg_loss   cls_loss   dfl_loss  Instances       Size\n"
     ]
    },
    {
     "name": "stderr",
     "output_type": "stream",
     "text": [
      "     76/100      3.19G     0.9107       1.02     0.7739     0.9575        127        640: 100%|██████████| 2/2 [00:00<00:00,  2.36it/s]\n",
      "                 Class     Images  Instances      Box(P          R      mAP50  mAP50-95)     Mask(P          R      mAP50  mAP50-95): 100%|██████████| 1/1 [00:00<00:00,  5.13it/s]\n"
     ]
    },
    {
     "name": "stdout",
     "output_type": "stream",
     "text": [
      "                   all          8         33      0.884      0.928      0.965      0.713      0.885      0.933      0.934      0.475\n",
      "\n",
      "      Epoch    GPU_mem   box_loss   seg_loss   cls_loss   dfl_loss  Instances       Size\n"
     ]
    },
    {
     "name": "stderr",
     "output_type": "stream",
     "text": [
      "     77/100      3.23G     0.8351      0.949     0.7617     0.9094        128        640: 100%|██████████| 2/2 [00:00<00:00,  2.62it/s]\n",
      "                 Class     Images  Instances      Box(P          R      mAP50  mAP50-95)     Mask(P          R      mAP50  mAP50-95): 100%|██████████| 1/1 [00:00<00:00,  3.94it/s]"
     ]
    },
    {
     "name": "stdout",
     "output_type": "stream",
     "text": [
      "                   all          8         33      0.884      0.928      0.965      0.713      0.885      0.933      0.934      0.475\n"
     ]
    },
    {
     "name": "stderr",
     "output_type": "stream",
     "text": [
      "\n"
     ]
    },
    {
     "name": "stdout",
     "output_type": "stream",
     "text": [
      "\n",
      "      Epoch    GPU_mem   box_loss   seg_loss   cls_loss   dfl_loss  Instances       Size\n"
     ]
    },
    {
     "name": "stderr",
     "output_type": "stream",
     "text": [
      "     78/100      3.32G     0.9029      1.003     0.7802     0.9137        142        640: 100%|██████████| 2/2 [00:00<00:00,  2.55it/s]\n",
      "                 Class     Images  Instances      Box(P          R      mAP50  mAP50-95)     Mask(P          R      mAP50  mAP50-95): 100%|██████████| 1/1 [00:00<00:00,  5.55it/s]"
     ]
    },
    {
     "name": "stdout",
     "output_type": "stream",
     "text": [
      "                   all          8         33      0.967      0.895      0.965      0.736      0.954      0.879      0.966      0.494\n"
     ]
    },
    {
     "name": "stderr",
     "output_type": "stream",
     "text": [
      "\n"
     ]
    },
    {
     "name": "stdout",
     "output_type": "stream",
     "text": [
      "\n",
      "      Epoch    GPU_mem   box_loss   seg_loss   cls_loss   dfl_loss  Instances       Size\n"
     ]
    },
    {
     "name": "stderr",
     "output_type": "stream",
     "text": [
      "     79/100      3.18G     0.8277     0.9612      0.773     0.8793        147        640: 100%|██████████| 2/2 [00:00<00:00,  2.94it/s]\n",
      "                 Class     Images  Instances      Box(P          R      mAP50  mAP50-95)     Mask(P          R      mAP50  mAP50-95): 100%|██████████| 1/1 [00:00<00:00,  4.11it/s]"
     ]
    },
    {
     "name": "stdout",
     "output_type": "stream",
     "text": [
      "                   all          8         33      0.967      0.895      0.965      0.736      0.954      0.879      0.966      0.494\n"
     ]
    },
    {
     "name": "stderr",
     "output_type": "stream",
     "text": [
      "\n"
     ]
    },
    {
     "name": "stdout",
     "output_type": "stream",
     "text": [
      "\n",
      "      Epoch    GPU_mem   box_loss   seg_loss   cls_loss   dfl_loss  Instances       Size\n"
     ]
    },
    {
     "name": "stderr",
     "output_type": "stream",
     "text": [
      "     80/100       3.2G      0.841     0.9658     0.7629     0.8904        135        640: 100%|██████████| 2/2 [00:00<00:00,  2.50it/s]\n",
      "                 Class     Images  Instances      Box(P          R      mAP50  mAP50-95)     Mask(P          R      mAP50  mAP50-95): 100%|██████████| 1/1 [00:00<00:00,  5.77it/s]"
     ]
    },
    {
     "name": "stdout",
     "output_type": "stream",
     "text": [
      "                   all          8         33      0.968      0.909      0.967      0.734      0.966      0.871      0.936      0.492\n"
     ]
    },
    {
     "name": "stderr",
     "output_type": "stream",
     "text": [
      "\n"
     ]
    },
    {
     "name": "stdout",
     "output_type": "stream",
     "text": [
      "\n",
      "      Epoch    GPU_mem   box_loss   seg_loss   cls_loss   dfl_loss  Instances       Size\n"
     ]
    },
    {
     "name": "stderr",
     "output_type": "stream",
     "text": [
      "     81/100       3.2G     0.8605      1.001     0.7344     0.9168        119        640: 100%|██████████| 2/2 [00:00<00:00,  2.76it/s]\n",
      "                 Class     Images  Instances      Box(P          R      mAP50  mAP50-95)     Mask(P          R      mAP50  mAP50-95): 100%|██████████| 1/1 [00:00<00:00,  5.03it/s]"
     ]
    },
    {
     "name": "stdout",
     "output_type": "stream",
     "text": [
      "                   all          8         33      0.968      0.909      0.967      0.734      0.966      0.871      0.936      0.492\n"
     ]
    },
    {
     "name": "stderr",
     "output_type": "stream",
     "text": [
      "\n"
     ]
    },
    {
     "name": "stdout",
     "output_type": "stream",
     "text": [
      "\n",
      "      Epoch    GPU_mem   box_loss   seg_loss   cls_loss   dfl_loss  Instances       Size\n"
     ]
    },
    {
     "name": "stderr",
     "output_type": "stream",
     "text": [
      "     82/100      3.29G     0.8307     0.9242     0.7456     0.9065        164        640: 100%|██████████| 2/2 [00:00<00:00,  2.44it/s]\n",
      "                 Class     Images  Instances      Box(P          R      mAP50  mAP50-95)     Mask(P          R      mAP50  mAP50-95): 100%|██████████| 1/1 [00:00<00:00,  5.59it/s]"
     ]
    },
    {
     "name": "stdout",
     "output_type": "stream",
     "text": [
      "                   all          8         33      0.968      0.905       0.97      0.707      0.934      0.848      0.952      0.496\n"
     ]
    },
    {
     "name": "stderr",
     "output_type": "stream",
     "text": [
      "\n"
     ]
    },
    {
     "name": "stdout",
     "output_type": "stream",
     "text": [
      "\n",
      "      Epoch    GPU_mem   box_loss   seg_loss   cls_loss   dfl_loss  Instances       Size\n"
     ]
    },
    {
     "name": "stderr",
     "output_type": "stream",
     "text": [
      "     83/100      3.07G     0.8324     0.8944     0.7832     0.9129        146        640: 100%|██████████| 2/2 [00:00<00:00,  3.00it/s]\n",
      "                 Class     Images  Instances      Box(P          R      mAP50  mAP50-95)     Mask(P          R      mAP50  mAP50-95): 100%|██████████| 1/1 [00:00<00:00,  4.37it/s]"
     ]
    },
    {
     "name": "stdout",
     "output_type": "stream",
     "text": [
      "                   all          8         33      0.968      0.905       0.97      0.707      0.934      0.848      0.952      0.496\n"
     ]
    },
    {
     "name": "stderr",
     "output_type": "stream",
     "text": [
      "\n"
     ]
    },
    {
     "name": "stdout",
     "output_type": "stream",
     "text": [
      "\n",
      "      Epoch    GPU_mem   box_loss   seg_loss   cls_loss   dfl_loss  Instances       Size\n"
     ]
    },
    {
     "name": "stderr",
     "output_type": "stream",
     "text": [
      "     84/100      3.16G     0.8621     0.9896      0.768     0.9175        118        640: 100%|██████████| 2/2 [00:00<00:00,  2.24it/s]\n",
      "                 Class     Images  Instances      Box(P          R      mAP50  mAP50-95)     Mask(P          R      mAP50  mAP50-95): 100%|██████████| 1/1 [00:00<00:00,  5.85it/s]"
     ]
    },
    {
     "name": "stdout",
     "output_type": "stream",
     "text": [
      "                   all          8         33      0.941      0.909      0.972      0.696      0.908      0.879      0.938      0.508\n"
     ]
    },
    {
     "name": "stderr",
     "output_type": "stream",
     "text": [
      "\n"
     ]
    },
    {
     "name": "stdout",
     "output_type": "stream",
     "text": [
      "\n",
      "      Epoch    GPU_mem   box_loss   seg_loss   cls_loss   dfl_loss  Instances       Size\n"
     ]
    },
    {
     "name": "stderr",
     "output_type": "stream",
     "text": [
      "     85/100      3.32G     0.9121      1.052     0.7648     0.9149        174        640: 100%|██████████| 2/2 [00:00<00:00,  2.72it/s]\n",
      "                 Class     Images  Instances      Box(P          R      mAP50  mAP50-95)     Mask(P          R      mAP50  mAP50-95): 100%|██████████| 1/1 [00:00<00:00,  6.02it/s]\n"
     ]
    },
    {
     "name": "stdout",
     "output_type": "stream",
     "text": [
      "                   all          8         33      0.941      0.909      0.972      0.696      0.908      0.879      0.938      0.508\n",
      "\n",
      "      Epoch    GPU_mem   box_loss   seg_loss   cls_loss   dfl_loss  Instances       Size\n"
     ]
    },
    {
     "name": "stderr",
     "output_type": "stream",
     "text": [
      "     86/100       3.3G     0.8376      0.941     0.7526     0.9087        128        640: 100%|██████████| 2/2 [00:00<00:00,  2.47it/s]\n",
      "                 Class     Images  Instances      Box(P          R      mAP50  mAP50-95)     Mask(P          R      mAP50  mAP50-95): 100%|██████████| 1/1 [00:00<00:00,  5.86it/s]"
     ]
    },
    {
     "name": "stdout",
     "output_type": "stream",
     "text": [
      "                   all          8         33      0.945      0.909      0.977      0.728      0.935      0.848      0.917      0.504\n"
     ]
    },
    {
     "name": "stderr",
     "output_type": "stream",
     "text": [
      "\n"
     ]
    },
    {
     "name": "stdout",
     "output_type": "stream",
     "text": [
      "\n",
      "      Epoch    GPU_mem   box_loss   seg_loss   cls_loss   dfl_loss  Instances       Size\n"
     ]
    },
    {
     "name": "stderr",
     "output_type": "stream",
     "text": [
      "     87/100      3.18G     0.8942      1.112     0.7961     0.9303        119        640: 100%|██████████| 2/2 [00:00<00:00,  2.65it/s]\n",
      "                 Class     Images  Instances      Box(P          R      mAP50  mAP50-95)     Mask(P          R      mAP50  mAP50-95): 100%|██████████| 1/1 [00:00<00:00,  4.52it/s]"
     ]
    },
    {
     "name": "stdout",
     "output_type": "stream",
     "text": [
      "                   all          8         33      0.945      0.909      0.977      0.728      0.935      0.848      0.917      0.504\n"
     ]
    },
    {
     "name": "stderr",
     "output_type": "stream",
     "text": [
      "\n"
     ]
    },
    {
     "name": "stdout",
     "output_type": "stream",
     "text": [
      "\n",
      "      Epoch    GPU_mem   box_loss   seg_loss   cls_loss   dfl_loss  Instances       Size\n"
     ]
    },
    {
     "name": "stderr",
     "output_type": "stream",
     "text": [
      "     88/100      3.21G     0.8083     0.9684     0.7511     0.9076         96        640: 100%|██████████| 2/2 [00:00<00:00,  2.63it/s]\n",
      "                 Class     Images  Instances      Box(P          R      mAP50  mAP50-95)     Mask(P          R      mAP50  mAP50-95): 100%|██████████| 1/1 [00:00<00:00,  4.60it/s]"
     ]
    },
    {
     "name": "stdout",
     "output_type": "stream",
     "text": [
      "                   all          8         33      0.916      0.987      0.977      0.733      0.888      0.957      0.948      0.537\n"
     ]
    },
    {
     "name": "stderr",
     "output_type": "stream",
     "text": [
      "\n"
     ]
    },
    {
     "name": "stdout",
     "output_type": "stream",
     "text": [
      "\n",
      "      Epoch    GPU_mem   box_loss   seg_loss   cls_loss   dfl_loss  Instances       Size\n"
     ]
    },
    {
     "name": "stderr",
     "output_type": "stream",
     "text": [
      "     89/100      3.22G     0.8633     0.9999      0.745     0.9213        149        640: 100%|██████████| 2/2 [00:00<00:00,  2.24it/s]\n",
      "                 Class     Images  Instances      Box(P          R      mAP50  mAP50-95)     Mask(P          R      mAP50  mAP50-95): 100%|██████████| 1/1 [00:00<00:00,  4.43it/s]"
     ]
    },
    {
     "name": "stdout",
     "output_type": "stream",
     "text": [
      "                   all          8         33      0.916      0.987      0.977      0.733      0.888      0.957      0.948      0.537\n"
     ]
    },
    {
     "name": "stderr",
     "output_type": "stream",
     "text": [
      "\n"
     ]
    },
    {
     "name": "stdout",
     "output_type": "stream",
     "text": [
      "\n",
      "      Epoch    GPU_mem   box_loss   seg_loss   cls_loss   dfl_loss  Instances       Size\n"
     ]
    },
    {
     "name": "stderr",
     "output_type": "stream",
     "text": [
      "     90/100      3.22G      0.819     0.9249     0.7185     0.9075        141        640: 100%|██████████| 2/2 [00:01<00:00,  1.66it/s]\n",
      "                 Class     Images  Instances      Box(P          R      mAP50  mAP50-95)     Mask(P          R      mAP50  mAP50-95): 100%|██████████| 1/1 [00:00<00:00,  2.92it/s]"
     ]
    },
    {
     "name": "stdout",
     "output_type": "stream",
     "text": [
      "                   all          8         33      0.916      0.992      0.975      0.726      0.888      0.962      0.946      0.518\n"
     ]
    },
    {
     "name": "stderr",
     "output_type": "stream",
     "text": [
      "\n"
     ]
    },
    {
     "name": "stdout",
     "output_type": "stream",
     "text": [
      "Closing dataloader mosaic\n",
      "\n",
      "      Epoch    GPU_mem   box_loss   seg_loss   cls_loss   dfl_loss  Instances       Size\n"
     ]
    },
    {
     "name": "stderr",
     "output_type": "stream",
     "text": [
      "     91/100      3.07G     0.8166     0.9692     0.9088     0.8982         66        640: 100%|██████████| 2/2 [00:04<00:00,  2.06s/it]\n",
      "                 Class     Images  Instances      Box(P          R      mAP50  mAP50-95)     Mask(P          R      mAP50  mAP50-95): 100%|██████████| 1/1 [00:01<00:00,  1.35s/it]"
     ]
    },
    {
     "name": "stdout",
     "output_type": "stream",
     "text": [
      "                   all          8         33      0.916      0.992      0.975      0.726      0.888      0.962      0.946      0.518\n"
     ]
    },
    {
     "name": "stderr",
     "output_type": "stream",
     "text": [
      "\n"
     ]
    },
    {
     "name": "stdout",
     "output_type": "stream",
     "text": [
      "\n",
      "      Epoch    GPU_mem   box_loss   seg_loss   cls_loss   dfl_loss  Instances       Size\n"
     ]
    },
    {
     "name": "stderr",
     "output_type": "stream",
     "text": [
      "     92/100         3G     0.8749     0.9918     0.9583     0.9237         68        640: 100%|██████████| 2/2 [00:01<00:00,  1.30it/s]\n",
      "                 Class     Images  Instances      Box(P          R      mAP50  mAP50-95)     Mask(P          R      mAP50  mAP50-95): 100%|██████████| 1/1 [00:00<00:00,  1.49it/s]"
     ]
    },
    {
     "name": "stdout",
     "output_type": "stream",
     "text": [
      "                   all          8         33      0.916      0.989      0.974      0.736      0.888      0.959      0.945      0.518\n"
     ]
    },
    {
     "name": "stderr",
     "output_type": "stream",
     "text": [
      "\n"
     ]
    },
    {
     "name": "stdout",
     "output_type": "stream",
     "text": [
      "\n",
      "      Epoch    GPU_mem   box_loss   seg_loss   cls_loss   dfl_loss  Instances       Size\n"
     ]
    },
    {
     "name": "stderr",
     "output_type": "stream",
     "text": [
      "     93/100      3.03G     0.8033     0.9369     0.9031      0.909         76        640: 100%|██████████| 2/2 [00:00<00:00,  2.33it/s]\n",
      "                 Class     Images  Instances      Box(P          R      mAP50  mAP50-95)     Mask(P          R      mAP50  mAP50-95): 100%|██████████| 1/1 [00:00<00:00,  4.61it/s]"
     ]
    },
    {
     "name": "stdout",
     "output_type": "stream",
     "text": [
      "                   all          8         33      0.916      0.989      0.974      0.736      0.888      0.959      0.945      0.518\n"
     ]
    },
    {
     "name": "stderr",
     "output_type": "stream",
     "text": [
      "\n"
     ]
    },
    {
     "name": "stdout",
     "output_type": "stream",
     "text": [
      "\n",
      "      Epoch    GPU_mem   box_loss   seg_loss   cls_loss   dfl_loss  Instances       Size\n"
     ]
    },
    {
     "name": "stderr",
     "output_type": "stream",
     "text": [
      "     94/100      3.09G     0.8129      1.024     0.8647      0.906         73        640: 100%|██████████| 2/2 [00:00<00:00,  2.26it/s]\n",
      "                 Class     Images  Instances      Box(P          R      mAP50  mAP50-95)     Mask(P          R      mAP50  mAP50-95): 100%|██████████| 1/1 [00:00<00:00,  3.79it/s]"
     ]
    },
    {
     "name": "stdout",
     "output_type": "stream",
     "text": [
      "                   all          8         33       0.93       0.97      0.976      0.729      0.901      0.939      0.946      0.512\n"
     ]
    },
    {
     "name": "stderr",
     "output_type": "stream",
     "text": [
      "\n"
     ]
    },
    {
     "name": "stdout",
     "output_type": "stream",
     "text": [
      "\n",
      "      Epoch    GPU_mem   box_loss   seg_loss   cls_loss   dfl_loss  Instances       Size\n"
     ]
    },
    {
     "name": "stderr",
     "output_type": "stream",
     "text": [
      "     95/100      3.05G     0.8383     0.9479     0.8626     0.8998         74        640: 100%|██████████| 2/2 [00:00<00:00,  2.39it/s]\n",
      "                 Class     Images  Instances      Box(P          R      mAP50  mAP50-95)     Mask(P          R      mAP50  mAP50-95): 100%|██████████| 1/1 [00:00<00:00,  4.13it/s]"
     ]
    },
    {
     "name": "stdout",
     "output_type": "stream",
     "text": [
      "                   all          8         33       0.93       0.97      0.976      0.729      0.901      0.939      0.946      0.512\n"
     ]
    },
    {
     "name": "stderr",
     "output_type": "stream",
     "text": [
      "\n"
     ]
    },
    {
     "name": "stdout",
     "output_type": "stream",
     "text": [
      "\n",
      "      Epoch    GPU_mem   box_loss   seg_loss   cls_loss   dfl_loss  Instances       Size\n"
     ]
    },
    {
     "name": "stderr",
     "output_type": "stream",
     "text": [
      "     96/100      3.09G      0.746     0.9034     0.7951     0.8947         65        640: 100%|██████████| 2/2 [00:01<00:00,  1.94it/s]\n",
      "                 Class     Images  Instances      Box(P          R      mAP50  mAP50-95)     Mask(P          R      mAP50  mAP50-95): 100%|██████████| 1/1 [00:00<00:00,  3.26it/s]"
     ]
    },
    {
     "name": "stdout",
     "output_type": "stream",
     "text": [
      "                   all          8         33      0.911       0.97      0.972      0.734      0.904      0.909      0.944      0.535\n"
     ]
    },
    {
     "name": "stderr",
     "output_type": "stream",
     "text": [
      "\n"
     ]
    },
    {
     "name": "stdout",
     "output_type": "stream",
     "text": [
      "\n",
      "      Epoch    GPU_mem   box_loss   seg_loss   cls_loss   dfl_loss  Instances       Size\n"
     ]
    },
    {
     "name": "stderr",
     "output_type": "stream",
     "text": [
      "     97/100      3.07G     0.7874      0.887     0.7783     0.9199         69        640: 100%|██████████| 2/2 [00:00<00:00,  2.33it/s]\n",
      "                 Class     Images  Instances      Box(P          R      mAP50  mAP50-95)     Mask(P          R      mAP50  mAP50-95): 100%|██████████| 1/1 [00:00<00:00,  4.90it/s]"
     ]
    },
    {
     "name": "stdout",
     "output_type": "stream",
     "text": [
      "                   all          8         33      0.911       0.97      0.972      0.734      0.904      0.909      0.944      0.535\n"
     ]
    },
    {
     "name": "stderr",
     "output_type": "stream",
     "text": [
      "\n"
     ]
    },
    {
     "name": "stdout",
     "output_type": "stream",
     "text": [
      "\n",
      "      Epoch    GPU_mem   box_loss   seg_loss   cls_loss   dfl_loss  Instances       Size\n"
     ]
    },
    {
     "name": "stderr",
     "output_type": "stream",
     "text": [
      "     98/100      3.09G      0.789     0.8794     0.8156     0.8875         67        640: 100%|██████████| 2/2 [00:00<00:00,  2.38it/s]\n",
      "                 Class     Images  Instances      Box(P          R      mAP50  mAP50-95)     Mask(P          R      mAP50  mAP50-95): 100%|██████████| 1/1 [00:00<00:00,  6.80it/s]"
     ]
    },
    {
     "name": "stdout",
     "output_type": "stream",
     "text": [
      "                   all          8         33      0.898       0.97      0.974      0.737       0.88      0.891      0.923      0.523\n"
     ]
    },
    {
     "name": "stderr",
     "output_type": "stream",
     "text": [
      "\n"
     ]
    },
    {
     "name": "stdout",
     "output_type": "stream",
     "text": [
      "\n",
      "      Epoch    GPU_mem   box_loss   seg_loss   cls_loss   dfl_loss  Instances       Size\n"
     ]
    },
    {
     "name": "stderr",
     "output_type": "stream",
     "text": [
      "     99/100      3.07G     0.8146       1.01     0.8117     0.8879         64        640: 100%|██████████| 2/2 [00:00<00:00,  2.21it/s]\n",
      "                 Class     Images  Instances      Box(P          R      mAP50  mAP50-95)     Mask(P          R      mAP50  mAP50-95): 100%|██████████| 1/1 [00:00<00:00,  4.70it/s]"
     ]
    },
    {
     "name": "stdout",
     "output_type": "stream",
     "text": [
      "                   all          8         33      0.898       0.97      0.974      0.737       0.88      0.891      0.923      0.523\n"
     ]
    },
    {
     "name": "stderr",
     "output_type": "stream",
     "text": [
      "\n"
     ]
    },
    {
     "name": "stdout",
     "output_type": "stream",
     "text": [
      "\n",
      "      Epoch    GPU_mem   box_loss   seg_loss   cls_loss   dfl_loss  Instances       Size\n"
     ]
    },
    {
     "name": "stderr",
     "output_type": "stream",
     "text": [
      "    100/100      3.05G     0.7579     0.8475     0.7919     0.8925         74        640: 100%|██████████| 2/2 [00:00<00:00,  2.27it/s]\n",
      "                 Class     Images  Instances      Box(P          R      mAP50  mAP50-95)     Mask(P          R      mAP50  mAP50-95): 100%|██████████| 1/1 [00:00<00:00,  5.20it/s]\n"
     ]
    },
    {
     "name": "stdout",
     "output_type": "stream",
     "text": [
      "                   all          8         33      0.891       0.99      0.972      0.736       0.88      0.889      0.921      0.519\n",
      "\n",
      "100 epochs completed in 0.060 hours.\n",
      "Optimizer stripped from /home/verlo/dev_ws/YOLO/runs/segment/train11/weights/last.pt, 6.8MB\n",
      "Optimizer stripped from /home/verlo/dev_ws/YOLO/runs/segment/train11/weights/best.pt, 6.8MB\n",
      "\n",
      "Validating /home/verlo/dev_ws/YOLO/runs/segment/train11/weights/best.pt...\n",
      "Ultralytics YOLOv8.2.16 🚀 Python-3.10.12 torch-2.1.0+cu121 CUDA:0 (NVIDIA GeForce RTX 2060, 5927MiB)\n",
      "YOLOv8n-seg summary (fused): 195 layers, 3258259 parameters, 0 gradients, 12.0 GFLOPs\n"
     ]
    },
    {
     "name": "stderr",
     "output_type": "stream",
     "text": [
      "                 Class     Images  Instances      Box(P          R      mAP50  mAP50-95)     Mask(P          R      mAP50  mAP50-95): 100%|██████████| 1/1 [00:00<00:00,  5.56it/s]\n"
     ]
    },
    {
     "name": "stdout",
     "output_type": "stream",
     "text": [
      "                   all          8         33      0.916      0.988      0.977      0.728      0.888      0.958      0.948      0.537\n",
      "Speed: 0.4ms preprocess, 3.4ms inference, 0.0ms loss, 2.8ms postprocess per image\n",
      "Results saved to \u001b[1m/home/verlo/dev_ws/YOLO/runs/segment/train11\u001b[0m\n"
     ]
    }
   ],
   "source": [
    "from ultralytics import YOLO\n",
    "# Load a model\n",
    "model = YOLO('yolov8n-seg.pt')\n",
    "# load a pretrained model (recommended for training)\n",
    "# Train the model\n",
    "results = model.train(data='/home/verlo/dev_ws/Yolo/data/Sample/01.원천데이터/08_174514_221206/sensor_raw_data/camera/YOLODataset/dataset.yaml', epochs=100, imgsz=640)"
   ]
  },
  {
   "cell_type": "code",
   "execution_count": 7,
   "metadata": {},
   "outputs": [
    {
     "name": "stdout",
     "output_type": "stream",
     "text": [
      "WARNING ⚠️ 'source' argument is missing. Using default 'source=/home/verlo/venv/Yolo_venv/lib/python3.10/site-packages/ultralytics/assets'.\n",
      "Ultralytics YOLOv8.2.16 🚀 Python-3.10.12 torch-2.1.0+cu121 CUDA:0 (NVIDIA GeForce RTX 2060, 5927MiB)\n",
      "YOLOv8n-seg summary (fused): 195 layers, 3258259 parameters, 0 gradients, 12.0 GFLOPs\n",
      "\n",
      "image 1/2 /home/verlo/venv/Yolo_venv/lib/python3.10/site-packages/ultralytics/assets/bus.jpg: 640x480 (no detections), 138.2ms\n",
      "image 2/2 /home/verlo/venv/Yolo_venv/lib/python3.10/site-packages/ultralytics/assets/zidane.jpg: 384x640 (no detections), 110.2ms\n",
      "Speed: 7.4ms preprocess, 124.2ms inference, 286.8ms postprocess per image at shape (1, 3, 384, 640)\n",
      "Results saved to \u001b[1m/home/verlo/dev_ws/YOLO/runs/segment/predict9\u001b[0m\n",
      "💡 Learn more at https://docs.ultralytics.com/modes/predict\n"
     ]
    }
   ],
   "source": [
    "!yolo predict model=/home/verlo/dev_ws/YOLO/runs/segment/train11/weights/best.pt\n",
    "source='/home/verlo/dev_ws/Yolo/data/Sample/01.원천데이터/08_174514_221206/24_200733_221013_02.jpg'"
   ]
  },
  {
   "cell_type": "code",
   "execution_count": null,
   "metadata": {},
   "outputs": [],
   "source": []
  }
 ],
 "metadata": {
  "kernelspec": {
   "display_name": "Yolo_venv",
   "language": "python",
   "name": "python3"
  },
  "language_info": {
   "codemirror_mode": {
    "name": "ipython",
    "version": 3
   },
   "file_extension": ".py",
   "mimetype": "text/x-python",
   "name": "python",
   "nbconvert_exporter": "python",
   "pygments_lexer": "ipython3",
   "version": "3.10.12"
  }
 },
 "nbformat": 4,
 "nbformat_minor": 2
}
