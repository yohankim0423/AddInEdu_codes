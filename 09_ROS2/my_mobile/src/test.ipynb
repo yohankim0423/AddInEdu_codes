{
 "cells": [
  {
   "cell_type": "code",
   "execution_count": 56,
   "metadata": {},
   "outputs": [],
   "source": [
    "import rclpy\n",
    "\n",
    "rclpy.shutdown()"
   ]
  },
  {
   "cell_type": "code",
   "execution_count": 57,
   "metadata": {},
   "outputs": [],
   "source": [
    "from nav2_simple_commander.robot_navigator import BasicNavigator\n",
    "\n",
    "rclpy.init()\n",
    "nav = BasicNavigator()"
   ]
  },
  {
   "cell_type": "code",
   "execution_count": 58,
   "metadata": {},
   "outputs": [
    {
     "name": "stderr",
     "output_type": "stream",
     "text": [
      "[INFO] [1719992851.838724598] [basic_navigator]: Nav2 is ready for use!\n"
     ]
    }
   ],
   "source": [
    "nav.waitUntilNav2Active()"
   ]
  },
  {
   "cell_type": "code",
   "execution_count": 60,
   "metadata": {},
   "outputs": [],
   "source": [
    "from geometry_msgs.msg import PoseStamped\n",
    "\n",
    "goal_pose = PoseStamped()\n",
    "goal_pose.header.frame_id = 'map'\n",
    "goal_pose.header.stamp = nav.get_clock().now().to_msg()\n",
    "goal_pose.pose.position.x = 40.0\n",
    "goal_pose.pose.position.y = 0.6\n",
    "goal_pose.pose.position.z = 0.0\n",
    "goal_pose.pose.orientation.x = 0.0\n",
    "goal_pose.pose.orientation.y = 0.0\n",
    "goal_pose.pose.orientation.z = 0.0\n",
    "goal_pose.pose.orientation.w = 100.0"
   ]
  },
  {
   "cell_type": "code",
   "execution_count": 61,
   "metadata": {},
   "outputs": [
    {
     "name": "stderr",
     "output_type": "stream",
     "text": [
      "[INFO] [1719992902.075162398] [basic_navigator]: Navigating to goal: 40.0 0.6...\n"
     ]
    },
    {
     "data": {
      "text/plain": [
       "True"
      ]
     },
     "execution_count": 61,
     "metadata": {},
     "output_type": "execute_result"
    }
   ],
   "source": [
    "nav.goToPose(goal_pose)"
   ]
  },
  {
   "cell_type": "code",
   "execution_count": 7,
   "metadata": {},
   "outputs": [
    {
     "name": "stdout",
     "output_type": "stream",
     "text": [
      "Distance remaining: 0.00 meters.\n",
      "Distance remaining: 0.00 meters.\n",
      "Distance remaining: 0.00 meters.\n",
      "Distance remaining: 0.00 meters.\n",
      "Distance remaining: 0.00 meters.\n",
      "Distance remaining: 0.00 meters.\n",
      "Distance remaining: 0.00 meters.\n",
      "Distance remaining: 0.00 meters.\n",
      "Distance remaining: 0.00 meters.\n",
      "Distance remaining: 0.00 meters.\n",
      "Distance remaining: 0.00 meters.\n",
      "Distance remaining: 0.00 meters.\n",
      "Distance remaining: 0.00 meters.\n",
      "Distance remaining: 0.00 meters.\n",
      "Distance remaining: 0.00 meters.\n",
      "Distance remaining: 0.00 meters.\n"
     ]
    },
    {
     "name": "stderr",
     "output_type": "stream",
     "text": [
      "[INFO] [1719922480.870433138] [basic_navigator]: Canceling current task.\n"
     ]
    }
   ],
   "source": [
    "from rclpy.duration import Duration\n",
    "\n",
    "i = 0\n",
    "while not nav.isTaskComplete():\n",
    "    i = i + 1\n",
    "    feedback = nav.getFeedback()\n",
    "    if feedback and i % 5 == 0:\n",
    "        print('Distance remaining: ' + '{:.2f}'.format(feedback.distance_remaining) + ' meters.')\n",
    "\n",
    "        if Duration.from_msg(feedback.navigation_time) > Duration(seconds=10.0):\n",
    "            nav.cancelTask()"
   ]
  },
  {
   "cell_type": "code",
   "execution_count": 8,
   "metadata": {},
   "outputs": [
    {
     "name": "stdout",
     "output_type": "stream",
     "text": [
      "Goal was canceled!\n"
     ]
    }
   ],
   "source": [
    "from nav2_simple_commander.robot_navigator import TaskResult\n",
    "\n",
    "result = nav.getResult()\n",
    "if result == TaskResult.SUCCEEDED:\n",
    "    print('Goal succeeded!')\n",
    "elif result == TaskResult.CANCELED:\n",
    "    print('Goal was canceled!')\n",
    "elif result == TaskResult.FAILED:\n",
    "    print('Goal failed!')"
   ]
  },
  {
   "cell_type": "code",
   "execution_count": 10,
   "metadata": {},
   "outputs": [],
   "source": [
    "rclpy.shutdown()"
   ]
  },
  {
   "cell_type": "code",
   "execution_count": 11,
   "metadata": {},
   "outputs": [
    {
     "data": {
      "text/plain": [
       "geometry_msgs.msg.PoseWithCovarianceStamped(header=std_msgs.msg.Header(stamp=builtin_interfaces.msg.Time(sec=0, nanosec=0), frame_id=''), pose=geometry_msgs.msg.PoseWithCovariance(pose=geometry_msgs.msg.Pose(position=geometry_msgs.msg.Point(x=0.0, y=0.0, z=0.0), orientation=geometry_msgs.msg.Quaternion(x=0.0, y=0.0, z=0.0, w=1.0)), covariance=array([0., 0., 0., 0., 0., 0., 0., 0., 0., 0., 0., 0., 0., 0., 0., 0., 0.,\n",
       "       0., 0., 0., 0., 0., 0., 0., 0., 0., 0., 0., 0., 0., 0., 0., 0., 0.,\n",
       "       0., 0.])))"
      ]
     },
     "execution_count": 11,
     "metadata": {},
     "output_type": "execute_result"
    }
   ],
   "source": [
    "import rclpy\n",
    "from geometry_msgs.msg import PoseWithCovarianceStamped\n",
    "\n",
    "rclpy.init()\n",
    "pose_current = PoseWithCovarianceStamped()\n",
    "pose_current"
   ]
  },
  {
   "cell_type": "code",
   "execution_count": 12,
   "metadata": {},
   "outputs": [
    {
     "data": {
      "text/plain": [
       "geometry_msgs.msg.Point(x=0.0, y=0.0, z=0.0)"
      ]
     },
     "execution_count": 12,
     "metadata": {},
     "output_type": "execute_result"
    }
   ],
   "source": [
    "pose_current.pose.pose.position"
   ]
  },
  {
   "cell_type": "code",
   "execution_count": 13,
   "metadata": {},
   "outputs": [
    {
     "data": {
      "text/plain": [
       "geometry_msgs.msg.Quaternion(x=0.0, y=0.0, z=0.0, w=1.0)"
      ]
     },
     "execution_count": 13,
     "metadata": {},
     "output_type": "execute_result"
    }
   ],
   "source": [
    "pose_current.pose.pose.orientation"
   ]
  },
  {
   "cell_type": "code",
   "execution_count": 14,
   "metadata": {},
   "outputs": [],
   "source": [
    "pose_node = rclpy.create_node('sub_pose')\n",
    "\n",
    "def callback(data):\n",
    "    print(\"===\")\n",
    "    print(data.pose.pose.position)\n",
    "    print(data.pose.pose.orientation)"
   ]
  },
  {
   "cell_type": "code",
   "execution_count": 15,
   "metadata": {},
   "outputs": [
    {
     "data": {
      "text/plain": [
       "<rclpy.subscription.Subscription at 0x78c30022e410>"
      ]
     },
     "execution_count": 15,
     "metadata": {},
     "output_type": "execute_result"
    }
   ],
   "source": [
    "pose_node.create_subscription(PoseWithCovarianceStamped, '/amcl_pose', callback, 10)"
   ]
  },
  {
   "cell_type": "code",
   "execution_count": 16,
   "metadata": {},
   "outputs": [
    {
     "name": "stdout",
     "output_type": "stream",
     "text": [
      "===\n",
      "geometry_msgs.msg.Point(x=-0.987505236876493, y=4.917915300026402, z=0.0)\n",
      "geometry_msgs.msg.Quaternion(x=0.0, y=0.0, z=-0.9854789018031215, w=0.16979792136805902)\n"
     ]
    }
   ],
   "source": [
    "rclpy.spin_once(pose_node)"
   ]
  },
  {
   "cell_type": "code",
   "execution_count": 17,
   "metadata": {},
   "outputs": [
    {
     "name": "stderr",
     "output_type": "stream",
     "text": [
      "[WARN] [1719973893.162440999] [rcl.logging_rosout]: Publisher already registered for provided node name. If this is due to multiple nodes with the same name then all logs for that logger name will go out over the existing publisher. As soon as any node with that name is destructed it will unregister the publisher, preventing any further logs for that name from being published on the rosout topic.\n"
     ]
    }
   ],
   "source": [
    "pose_node = rclpy.create_node('sub_pose')\n",
    "\n",
    "def callback(data):\n",
    "    global pose_current\n",
    "    print(\"===\")\n",
    "    print(data.pose.pose.position)\n",
    "    print(data.pose.pose.orientation)\n",
    "    pose_current = data"
   ]
  },
  {
   "cell_type": "code",
   "execution_count": 18,
   "metadata": {},
   "outputs": [
    {
     "data": {
      "text/plain": [
       "geometry_msgs.msg.PoseWithCovarianceStamped(header=std_msgs.msg.Header(stamp=builtin_interfaces.msg.Time(sec=0, nanosec=0), frame_id=''), pose=geometry_msgs.msg.PoseWithCovariance(pose=geometry_msgs.msg.Pose(position=geometry_msgs.msg.Point(x=0.0, y=0.0, z=0.0), orientation=geometry_msgs.msg.Quaternion(x=0.0, y=0.0, z=0.0, w=1.0)), covariance=array([0., 0., 0., 0., 0., 0., 0., 0., 0., 0., 0., 0., 0., 0., 0., 0., 0.,\n",
       "       0., 0., 0., 0., 0., 0., 0., 0., 0., 0., 0., 0., 0., 0., 0., 0., 0.,\n",
       "       0., 0.])))"
      ]
     },
     "execution_count": 18,
     "metadata": {},
     "output_type": "execute_result"
    }
   ],
   "source": [
    "from tf_transformations import euler_from_quaternion\n",
    "\n",
    "pose_current"
   ]
  },
  {
   "cell_type": "code",
   "execution_count": 21,
   "metadata": {},
   "outputs": [
    {
     "data": {
      "text/plain": [
       "(0.0, -0.0, 0.0)"
      ]
     },
     "execution_count": 21,
     "metadata": {},
     "output_type": "execute_result"
    }
   ],
   "source": [
    "pose_current.pose.pose.orientation\n",
    "\n",
    "q = [0, 0, 0, 0]\n",
    "q[0] = pose_current.pose.pose.orientation.x\n",
    "q[1] = pose_current.pose.pose.orientation.y\n",
    "q[2] = pose_current.pose.pose.orientation.z\n",
    "q[3] = pose_current.pose.pose.orientation.w\n",
    "\n",
    "euler_from_quaternion(q)"
   ]
  },
  {
   "cell_type": "code",
   "execution_count": 22,
   "metadata": {},
   "outputs": [
    {
     "data": {
      "text/plain": [
       "array([ 0., -0.,  0.])"
      ]
     },
     "execution_count": 22,
     "metadata": {},
     "output_type": "execute_result"
    }
   ],
   "source": [
    "import numpy as np\n",
    "\n",
    "def convert_degree(input):\n",
    "    return np.array(input) * 180. / np.pi\n",
    "\n",
    "convert_degree(euler_from_quaternion(q))"
   ]
  },
  {
   "cell_type": "code",
   "execution_count": 24,
   "metadata": {},
   "outputs": [
    {
     "name": "stdout",
     "output_type": "stream",
     "text": [
      "[0. 0. 0.]\n"
     ]
    },
    {
     "data": {
      "text/plain": [
       "(0.0, 0.0, 0.0, 1.0)"
      ]
     },
     "execution_count": 24,
     "metadata": {},
     "output_type": "execute_result"
    }
   ],
   "source": [
    "from tf_transformations import quaternion_from_euler\n",
    "\n",
    "to_radian = np.pi / 180.\n",
    "tmp = [0, 0, 0]\n",
    "print(np.array(tmp)*to_radian)\n",
    "\n",
    "quaternion_from_euler(tmp[0], tmp[1], tmp[2])"
   ]
  },
  {
   "cell_type": "code",
   "execution_count": 29,
   "metadata": {},
   "outputs": [],
   "source": [
    "from nav2_simple_commander.robot_navigator import BasicNavigator\n",
    "from geometry_msgs.msg import PoseStamped\n",
    "nav = BasicNavigator()\n",
    "\n",
    "target = quaternion_from_euler(tmp[0], tmp[1], tmp[2])\n",
    "goal_pose = PoseStamped()\n",
    "\n",
    "goal_pose.header.frame_id = 'map'\n",
    "goal_pose.header.stamp = nav.get_clock().now().to_msg()\n",
    "goal_pose.pose.orientation.x = target[0]\n",
    "goal_pose.pose.orientation.y = target[1]\n",
    "goal_pose.pose.orientation.z = target[2]\n",
    "goal_pose.pose.orientation.w = target[3]"
   ]
  },
  {
   "cell_type": "code",
   "execution_count": 30,
   "metadata": {},
   "outputs": [
    {
     "name": "stderr",
     "output_type": "stream",
     "text": [
      "[INFO] [1719975138.944225937] [basic_navigator]: Navigating to goal: 0.0 0.0...\n"
     ]
    },
    {
     "name": "stdout",
     "output_type": "stream",
     "text": [
      "Distance remaining: 0.00 meters.\n",
      "Distance remaining: 0.00 meters.\n",
      "Distance remaining: 0.00 meters.\n",
      "Distance remaining: 0.00 meters.\n",
      "Distance remaining: 0.00 meters.\n",
      "Distance remaining: 0.00 meters.\n",
      "Distance remaining: 0.00 meters.\n",
      "Distance remaining: 0.00 meters.\n",
      "Distance remaining: 0.00 meters.\n",
      "Distance remaining: 0.00 meters.\n",
      "Distance remaining: 0.00 meters.\n",
      "Distance remaining: 0.00 meters.\n",
      "Distance remaining: 0.00 meters.\n",
      "Distance remaining: 0.00 meters.\n",
      "Distance remaining: 0.00 meters.\n",
      "Distance remaining: 0.00 meters.\n",
      "Distance remaining: 0.00 meters.\n",
      "Distance remaining: 0.00 meters.\n",
      "Distance remaining: 0.00 meters.\n",
      "Distance remaining: 0.00 meters.\n",
      "Distance remaining: 0.00 meters.\n",
      "Distance remaining: 0.00 meters.\n",
      "Distance remaining: 0.00 meters.\n",
      "Distance remaining: 0.00 meters.\n",
      "Distance remaining: 0.00 meters.\n",
      "Distance remaining: 0.00 meters.\n",
      "Distance remaining: 0.00 meters.\n",
      "Distance remaining: 0.00 meters.\n",
      "Distance remaining: 0.00 meters.\n",
      "Distance remaining: 0.00 meters.\n",
      "Distance remaining: 0.00 meters.\n",
      "Distance remaining: 0.00 meters.\n",
      "Distance remaining: 0.00 meters.\n",
      "Distance remaining: 0.00 meters.\n"
     ]
    },
    {
     "name": "stderr",
     "output_type": "stream",
     "text": [
      "[INFO] [1719975156.464427023] [basic_navigator]: Canceling current task.\n"
     ]
    }
   ],
   "source": [
    "from rclpy.duration import Duration\n",
    "\n",
    "nav.goToPose(goal_pose)\n",
    "\n",
    "i = 0\n",
    "while not nav.isTaskComplete():\n",
    "    i = i + 1\n",
    "    feedback = nav.getFeedback()\n",
    "    if feedback and i % 5 == 0:\n",
    "        print('Distance remaining: ' + '{:.2f}'.format(feedback.distance_remaining) + ' meters.')\n",
    "\n",
    "        if Duration.from_msg(feedback.navigation_time) > Duration(seconds=10.0):\n",
    "            nav.cancelTask()"
   ]
  },
  {
   "cell_type": "code",
   "execution_count": null,
   "metadata": {},
   "outputs": [],
   "source": []
  }
 ],
 "metadata": {
  "kernelspec": {
   "display_name": "Python 3",
   "language": "python",
   "name": "python3"
  },
  "language_info": {
   "codemirror_mode": {
    "name": "ipython",
    "version": 3
   },
   "file_extension": ".py",
   "mimetype": "text/x-python",
   "name": "python",
   "nbconvert_exporter": "python",
   "pygments_lexer": "ipython3",
   "version": "3.10.12"
  }
 },
 "nbformat": 4,
 "nbformat_minor": 2
}
