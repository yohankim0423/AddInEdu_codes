{
 "cells": [
  {
   "cell_type": "code",
   "execution_count": 1,
   "id": "c89b5f95-f229-4162-99e7-fa38e1e8360a",
   "metadata": {},
   "outputs": [],
   "source": [
    "import rclpy as rp\n",
    "from turtlesim.srv import TeleportAbsolute\n",
    "\n",
    "rp.init()\n",
    "test_node = rp.create_node('client_test')"
   ]
  },
  {
   "cell_type": "code",
   "execution_count": 2,
   "id": "5722fce2-4b4a-457e-b1e7-749cbedf75f3",
   "metadata": {},
   "outputs": [],
   "source": [
    "service_name = '/turtle1/teleport_absolute'\n",
    "cli = test_node.create_client(TeleportAbsolute, service_name)"
   ]
  },
  {
   "cell_type": "code",
   "execution_count": 3,
   "id": "3654dc6c-2d71-4a75-ab09-64dc0e629d6b",
   "metadata": {},
   "outputs": [
    {
     "data": {
      "text/plain": [
       "turtlesim.srv.TeleportAbsolute_Request(x=0.0, y=0.0, theta=0.0)"
      ]
     },
     "execution_count": 3,
     "metadata": {},
     "output_type": "execute_result"
    }
   ],
   "source": [
    "req = TeleportAbsolute.Request()\n",
    "req"
   ]
  },
  {
   "cell_type": "raw",
   "id": "3a9897a9-728d-4a49-9f6c-2e84502346e3",
   "metadata": {},
   "source": [
    "req.x = 1.\n",
    "req.y = 1.\n",
    "req.theta = 3.14\n",
    "\n",
    "req"
   ]
  },
  {
   "cell_type": "code",
   "execution_count": null,
   "id": "e7b79abc-7e42-4dbe-b634-1b7e90bd5c4e",
   "metadata": {},
   "outputs": [],
   "source": [
    "req.x = 3.\n",
    "\n",
    "cli.call_async(req)\n",
    "rp.spin_once(test_node)"
   ]
  },
  {
   "cell_type": "code",
   "execution_count": null,
   "id": "2f2c66c2-8b4b-4002-9f99-5e31f52586a2",
   "metadata": {},
   "outputs": [],
   "source": [
    "req.y = float(9)\n",
    "\n",
    "while not cli.wait_for_service(timeout_sec=1.0):\n",
    "    print(\"Waiting for service\")\n",
    "\n",
    "cli.call_async(req)\n",
    "rp.spin_once(test_node)"
   ]
  },
  {
   "cell_type": "code",
   "execution_count": null,
   "id": "a5e671e1-2137-4341-a309-e652db2170a2",
   "metadata": {},
   "outputs": [],
   "source": [
    "req.x = float(9)\n",
    "\n",
    "futrue = cli.call_async(req)\n",
    "\n",
    "while not future.done():\n",
    "    rp.spin_once(test_node)\n",
    "    print(future.done(), future.result())"
   ]
  },
  {
   "cell_type": "code",
   "execution_count": null,
   "id": "0d1cb57d-1ed2-4ced-a50f-d88705e0f0c7",
   "metadata": {},
   "outputs": [],
   "source": []
  }
 ],
 "metadata": {
  "kernelspec": {
   "display_name": "Python 3 (ipykernel)",
   "language": "python",
   "name": "python3"
  },
  "language_info": {
   "codemirror_mode": {
    "name": "ipython",
    "version": 3
   },
   "file_extension": ".py",
   "mimetype": "text/x-python",
   "name": "python",
   "nbconvert_exporter": "python",
   "pygments_lexer": "ipython3",
   "version": "3.10.12"
  }
 },
 "nbformat": 4,
 "nbformat_minor": 5
}
