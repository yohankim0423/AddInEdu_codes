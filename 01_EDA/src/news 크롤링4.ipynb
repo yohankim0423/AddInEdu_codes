{
 "cells": [
  {
   "cell_type": "code",
   "execution_count": 1,
   "metadata": {},
   "outputs": [],
   "source": [
    "import requests\n",
    "from bs4 import BeautifulSoup\n",
    "import time"
   ]
  },
  {
   "cell_type": "code",
   "execution_count": 2,
   "metadata": {},
   "outputs": [],
   "source": [
    "def crawl_naver_news(start_year, end_year, query):\n",
    "    base_url = \"https://search.naver.com/search.naver\"\n",
    "    news_titles = []\n",
    "    news_links = []\n",
    "\n",
    "    for year in range(start_year, end_year + 1):\n",
    "        for month in range(1, 13):\n",
    "            for page in range(1, 4000, 10):  # 페이지 번호 (10씩 증가)\n",
    "                params = {\n",
    "                    \"where\": \"news\",\n",
    "                    \"query\": query,\n",
    "                    \"ds\": f\"{year}.{str(month).zfill(2)}.01\",\n",
    "                    \"de\": f\"{year}.{str(month).zfill(2)}.28\",\n",
    "                    \"start\": page\n",
    "                }\n",
    "\n",
    "                response = requests.get(base_url, params=params)\n",
    "                soup = BeautifulSoup(response.text, 'html.parser')\n",
    "\n",
    "                # 뉴스 기사 제목과 링크 추출\n",
    "                for news in soup.select(\"ul.list_news li.bx\"):\n",
    "                    title = news.select_one(\"a.news_tit\").get_text()\n",
    "                    link = news.select_one(\"a.news_tit\")['href']\n",
    "                    news_titles.append(title)\n",
    "                    news_links.append(link)\n",
    "\n",
    "                time.sleep(1)  # 네이버의 요청 제한 방지\n",
    "\n",
    "            # 한 달 동안의 뉴스 기사를 모두 가져온 후, 다음 달로 이동\n",
    "            print(f\"{year}-{month} 완료\")\n",
    "\n",
    "    return news_titles, news_links"
   ]
  },
  {
   "cell_type": "code",
   "execution_count": 6,
   "metadata": {},
   "outputs": [
    {
     "name": "stdout",
     "output_type": "stream",
     "text": [
      "2008-1 완료\n",
      "2008-2 완료\n",
      "2008-3 완료\n",
      "2008-4 완료\n",
      "2008-5 완료\n",
      "2008-6 완료\n",
      "2008-7 완료\n",
      "2008-8 완료\n",
      "2008-9 완료\n",
      "2008-10 완료\n",
      "2008-11 완료\n",
      "2008-12 완료\n",
      "[\"서울시, '위기 소상공인 동행'에 5천441억 투입 총력지원\", '전남도, 소상공인 금융지원 확대한다', \"2024년 한국경제 '청룡' or '이무기' 갈림길에...\", '美 NYCB 위기에 비트코인 초강세 전망…구제금융에 쏠린 눈', '올해는 e-금융교육센터에서 금융체력 키워야겠어요', '【청품명월 제천시】 위기 가구 신고하는 시민에 포상금 지급 外', '광주시, 소상공인 위기 극복‧경쟁력 강화 총력,', '[2024 신년특집] 中 정부, 성장우선 기조로 전환…올해 경제정책 방향은?', \"태영건설, 유동성 위기 현실화 가능성↑… '워크아웃설 제기'\", \"금융소비자연맹, 2023년 '10대 금융 뉴스' 발표... 1위 '가계부채'\", '재벌 입김에 흔들리는 금융사 지배구조 기준', '말레이시아, 자원 의존도 탈피 ‘경제 체질 개선’ 박차…한국 ‘교육 시스템...', '[영화 속 경제]서약-예측불가능한 잔물결 효과', '[한상춘의 국제경제 읽기] 자산 거품·복합 불황 사이 고민하는 옐런', '“국내 금융상황 완화적…기준금리 낮게 운용 효과” 한은 보고서', '‘다스 실소유주 규명’ 다스 주식 매입이 비장의 카드', '[사설]한은, ‘경제 안전판’ 역할 포기한 건가', '한국경제 이제 ‘모 아니면 도’', '[블록체人] 찰스 호스킨슨 \"머지않아 한국이 아시아 암호화폐시장 석권한다\"', '‘오일머니 끊길라’ 세계 금융시장 긴장'] ['https://www.yna.co.kr/view/AKR20240312069000004?input=1195m', 'http://www.breaknews.com/1021752', 'http://www.newsian.co.kr/news/articleView.html?idxno=66254', 'https://www.digitaltoday.co.kr/news/articleView.html?idxno=505298', 'https://www.korea.kr/news/reporterView.do?newsId=148925595&call_from=naver_news', 'https://www.psnews.co.kr/news/articleView.html?idxno=2044245', 'http://www.breaknews.com/1008942', 'https://biz.sbs.co.kr/article_hub/20000151463?division=NAVER', 'http://www.sisaweek.com/news/articleView.html?idxno=210758', 'http://www.breaknews.com/1006313', 'http://www.hani.co.kr/arti/economy/finance/669404.html', 'http://news.khan.co.kr/kh_news/khan_art_view.html?artid=201509202203515&code=920100', 'http://weekly.khan.co.kr/khnm.html?mode=view&code=114&artid=201503241028421&pt=nv', 'http://magazine.hankyung.com/business/apps/news?popup=0&nid=01&c1=1002&nkey=2014101700984000271&mode=sub_view', 'http://www.khan.co.kr/kh_news/art_view.html?artid=201402110740321&code=920100', 'http://weekly.khan.co.kr/khnm.html?mode=view&code=115&artid=201712041833181&pt=nv', 'http://www.khan.co.kr/kh_news/art_view.html?artid=201410152035035&code=990101', 'http://www.khan.co.kr/kh_news/art_view.html?artid=201410151723151&code=920301', 'http://www.ekn.kr/news/article.html?no=376606', 'http://www.khan.co.kr/kh_news/art_view.html?artid=201412042152085&code=970100']\n"
     ]
    }
   ],
   "source": [
    "# 검색 키워드\n",
    "titles, links = crawl_naver_news(2008, 2008, \"경제 OR 금융 OR 위기\")\n",
    "print(titles, links)"
   ]
  },
  {
   "cell_type": "code",
   "execution_count": null,
   "metadata": {},
   "outputs": [],
   "source": []
  }
 ],
 "metadata": {
  "kernelspec": {
   "display_name": "eda_venv",
   "language": "python",
   "name": "python3"
  },
  "language_info": {
   "codemirror_mode": {
    "name": "ipython",
    "version": 3
   },
   "file_extension": ".py",
   "mimetype": "text/x-python",
   "name": "python",
   "nbconvert_exporter": "python",
   "pygments_lexer": "ipython3",
   "version": "3.10.12"
  }
 },
 "nbformat": 4,
 "nbformat_minor": 2
}
