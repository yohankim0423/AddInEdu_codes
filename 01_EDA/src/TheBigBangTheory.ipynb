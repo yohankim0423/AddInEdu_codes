{
 "cells": [
  {
   "cell_type": "code",
   "execution_count": 183,
   "metadata": {},
   "outputs": [],
   "source": [
    "import selenium\n",
    "from bs4 import BeautifulSoup\n",
    "from selenium import webdriver\n",
    "from selenium.webdriver.chrome.service import Service\n",
    "from selenium.webdriver.chrome.options import Options\n",
    "import time\n",
    "import pandas as pd\n",
    "\n",
    "\n",
    "options = webdriver.ChromeOptions()\n",
    "\n",
    "prefs = {'download.default_directory':'/home/verlo/dev_ws/EDA/data',\n",
    "         'download.prompt_for_download':False}\n",
    "options.add_experimental_option('prefs', prefs)\n",
    "\n",
    "url = \"https://www.imdb.com/\"\n",
    "driver = webdriver.Chrome(service=Service(\"../driver/chromedriver\"),\n",
    "                          options=options)\n",
    "driver.get(url)"
   ]
  },
  {
   "cell_type": "markdown",
   "metadata": {},
   "source": [
    "1.라이브러리 임포트(selenium, BeautifulSoup, time 시간 지연, pandas)\n",
    "2.Chrome WebDriver 설정(options, prefs)\n",
    "3.url의 웹사이트로 크롤링하기"
   ]
  },
  {
   "cell_type": "code",
   "execution_count": 184,
   "metadata": {},
   "outputs": [],
   "source": [
    "driver.maximize_window()\n",
    "driver.get(url)"
   ]
  },
  {
   "cell_type": "markdown",
   "metadata": {},
   "source": [
    "창 확대하기"
   ]
  },
  {
   "cell_type": "code",
   "execution_count": 187,
   "metadata": {},
   "outputs": [],
   "source": [
    "from selenium.webdriver.common.by import By\n",
    "\n",
    "search_btn = driver.find_element(By.XPATH, '''//*[@id=\"suggestion-search\"]''')\n",
    "search_btn.click()"
   ]
  },
  {
   "cell_type": "markdown",
   "metadata": {},
   "source": [
    "검색 창 선택하기"
   ]
  },
  {
   "cell_type": "code",
   "execution_count": 188,
   "metadata": {},
   "outputs": [],
   "source": [
    "from selenium.webdriver.common.keys import Keys\n",
    "\n",
    "search_doc = driver.find_element(By.CSS_SELECTOR, \"#suggestion-search\")\n",
    "search_doc.send_keys('The Big Bang Theory')"
   ]
  },
  {
   "cell_type": "markdown",
   "metadata": {},
   "source": [
    "검색 창에 The Big Bang Theory 검색하기"
   ]
  },
  {
   "cell_type": "code",
   "execution_count": 189,
   "metadata": {},
   "outputs": [],
   "source": [
    "search_doc.send_keys(Keys.ENTER)"
   ]
  },
  {
   "cell_type": "markdown",
   "metadata": {},
   "source": [
    "엔터"
   ]
  },
  {
   "cell_type": "code",
   "execution_count": 190,
   "metadata": {},
   "outputs": [],
   "source": [
    "search_btn = driver.find_element(By.CSS_SELECTOR, \"#__next > main > div.ipc-page-content-container.ipc-page-content-container--full.sc-c2d23b21-0.jUDJkt > div.ipc-page-content-container.ipc-page-content-container--center > section > div > div.ipc-page-grid__item.ipc-page-grid__item--span-2 > section:nth-child(3) > div.sc-17bafbdb-2.iUyFfD > ul > li:nth-child(1) > div.ipc-metadata-list-summary-item__c > div > a\")\n",
    "search_btn.click()"
   ]
  },
  {
   "cell_type": "markdown",
   "metadata": {},
   "source": [
    "The Big Bang Theory 결과 확인"
   ]
  },
  {
   "cell_type": "code",
   "execution_count": 191,
   "metadata": {},
   "outputs": [],
   "source": [
    "driver.execute_script(\"window.scrollTo(0, 800)\")"
   ]
  },
  {
   "cell_type": "markdown",
   "metadata": {},
   "source": [
    "화면 내리기"
   ]
  },
  {
   "cell_type": "code",
   "execution_count": 192,
   "metadata": {},
   "outputs": [],
   "source": [
    "search_btn = driver.find_element(By.CSS_SELECTOR, \"#__next > main > div > section.ipc-page-background.ipc-page-background--base.sc-304f99f6-0.fSJiHR > div > section > div > div.sc-978e9339-1.ihWZgK.ipc-page-grid__item.ipc-page-grid__item--span-2 > section:nth-child(7) > div.ipc-title.ipc-title--base.ipc-title--section-title.ipc-title--on-textPrimary > a > h3 > span:nth-child(1)\")\n",
    "search_btn.click()"
   ]
  },
  {
   "cell_type": "markdown",
   "metadata": {},
   "source": [
    "Episode 클릭!"
   ]
  },
  {
   "cell_type": "code",
   "execution_count": 193,
   "metadata": {},
   "outputs": [
    {
     "name": "stderr",
     "output_type": "stream",
     "text": [
      "0it [00:00, ?it/s]"
     ]
    },
    {
     "name": "stderr",
     "output_type": "stream",
     "text": [
      "11it [01:02,  5.67s/it]\n"
     ]
    }
   ],
   "source": [
    "from bs4 import BeautifulSoup\n",
    "from tqdm import tqdm\n",
    "import pandas as pd\n",
    "import time\n",
    "from selenium.webdriver.common.by import By\n",
    "\n",
    "big = driver.find_element(By.XPATH, '//*[@id=\"__next\"]/main/div/section/div/section/div/div[1]/section[2]/section[1]/div[2]/ul')\n",
    "big_list = big.find_elements(By.TAG_NAME, 'a')\n",
    "dra_names = [dra_name.get_attribute(\"value\") for dra_name in big_list]\n",
    "# 빈 리스트를 만들어 딕셔너리를 저장합니다.\n",
    "data_list = []\n",
    "for idx, v in tqdm(enumerate(dra_names, start=2)):\n",
    "    dra_selector = f'//*[@id=\"__next\"]/main/div/section/div/section/div/div[1]/section[2]/section[1]/div[2]/ul/a[{idx}]'\n",
    "    driver.find_element(By.XPATH, dra_selector).click()\n",
    "    time.sleep(2)\n",
    "    # 수정된 부분: 페이지 번호에 관계없이 동일한 웹 요소를 선택\n",
    "    tab = driver.find_element(By.XPATH, '''//*[@id=\"__next\"]/main/div/section/div/section/div/div[1]/section[2]/section[2]''')\n",
    "    seasons_list = tab.find_elements(By.TAG_NAME, \"article\")\n",
    "    for i in range(len(seasons_list)):\n",
    "        season = driver.find_elements(By.TAG_NAME, \"article\")[i]\n",
    "        # season.text에 정보가 구조화되어 있다고 가정\n",
    "        # 텍스트를 분할하고 각 season에 대한 딕셔너리를 만듭니다.\n",
    "        info = season.text.split('\\n')\n",
    "        season_dict = {\n",
    "        '제목': info[0],        # 제목이 첫 번째 요소라고 가정\n",
    "        '상영일자': info[1],       # 평점이 두 번째 요소라고 가정\n",
    "        '설명': info[2],       # 설명이 세 번째 요소라고 가정\n",
    "        '평점': info[3]     # 상영일자가 네 번째 요소라고 가정\n",
    "        }\n",
    "        data_list.append(season_dict)\n",
    "    html = driver.page_source\n",
    "    soup = BeautifulSoup(html, \"html.parser\")\n",
    "    time.sleep(2)\n",
    "    # 마지막 페이지에 도달하면 종료\n",
    "    if idx > 12:\n",
    "        break\n",
    "driver.close()"
   ]
  },
  {
   "cell_type": "markdown",
   "metadata": {},
   "source": [
    "BeautifulSoup 모듈로 데이터 추출"
   ]
  },
  {
   "cell_type": "code",
   "execution_count": 194,
   "metadata": {},
   "outputs": [
    {
     "data": {
      "text/html": [
       "<div>\n",
       "<style scoped>\n",
       "    .dataframe tbody tr th:only-of-type {\n",
       "        vertical-align: middle;\n",
       "    }\n",
       "\n",
       "    .dataframe tbody tr th {\n",
       "        vertical-align: top;\n",
       "    }\n",
       "\n",
       "    .dataframe thead th {\n",
       "        text-align: right;\n",
       "    }\n",
       "</style>\n",
       "<table border=\"1\" class=\"dataframe\">\n",
       "  <thead>\n",
       "    <tr style=\"text-align: right;\">\n",
       "      <th></th>\n",
       "      <th>제목</th>\n",
       "      <th>상영일자</th>\n",
       "      <th>설명</th>\n",
       "      <th>평점</th>\n",
       "    </tr>\n",
       "  </thead>\n",
       "  <tbody>\n",
       "    <tr>\n",
       "      <th>0</th>\n",
       "      <td>S2.E1 ∙ The Bad Fish Paradigm</td>\n",
       "      <td>Mon, Sep 22, 2008</td>\n",
       "      <td>Leonard becomes concerned when his date with P...</td>\n",
       "      <td>8.2</td>\n",
       "    </tr>\n",
       "    <tr>\n",
       "      <th>1</th>\n",
       "      <td>S2.E2 ∙ The Codpiece Topology</td>\n",
       "      <td>Mon, Sep 29, 2008</td>\n",
       "      <td>Sheldon is annoyed when Leonard turns to Lesli...</td>\n",
       "      <td>8.0</td>\n",
       "    </tr>\n",
       "    <tr>\n",
       "      <th>2</th>\n",
       "      <td>TOP-RATED</td>\n",
       "      <td>S2.E3 ∙ The Barbarian Sublimation</td>\n",
       "      <td>Mon, Oct 6, 2008</td>\n",
       "      <td>Sheldon introduces Penny to online gaming, how...</td>\n",
       "    </tr>\n",
       "    <tr>\n",
       "      <th>3</th>\n",
       "      <td>S2.E4 ∙ The Griffin Equivalency</td>\n",
       "      <td>Mon, Oct 13, 2008</td>\n",
       "      <td>The guys struggle to cope with Raj's arrogance...</td>\n",
       "      <td>7.9</td>\n",
       "    </tr>\n",
       "    <tr>\n",
       "      <th>4</th>\n",
       "      <td>S2.E5 ∙ The Euclid Alternative</td>\n",
       "      <td>Mon, Oct 20, 2008</td>\n",
       "      <td>Sheldon annoys the gang when Leonard can't dri...</td>\n",
       "      <td>8.3</td>\n",
       "    </tr>\n",
       "    <tr>\n",
       "      <th>...</th>\n",
       "      <td>...</td>\n",
       "      <td>...</td>\n",
       "      <td>...</td>\n",
       "      <td>...</td>\n",
       "    </tr>\n",
       "    <tr>\n",
       "      <th>258</th>\n",
       "      <td>S12.E21 ∙ The Plagiarism Schism</td>\n",
       "      <td>Thu, May 2, 2019</td>\n",
       "      <td>Kripke has proof that Dr. Pemberton plagiarize...</td>\n",
       "      <td>7.2</td>\n",
       "    </tr>\n",
       "    <tr>\n",
       "      <th>259</th>\n",
       "      <td>S12.E22 ∙ The Maternal Conclusion</td>\n",
       "      <td>Thu, May 9, 2019</td>\n",
       "      <td>Leonard is pleasantly surprised when Beverly c...</td>\n",
       "      <td>7.9</td>\n",
       "    </tr>\n",
       "    <tr>\n",
       "      <th>260</th>\n",
       "      <td>TOP-RATED</td>\n",
       "      <td>S12.E23 ∙ The Change Constant</td>\n",
       "      <td>Thu, May 16, 2019</td>\n",
       "      <td>Sheldon and Amy await big news.</td>\n",
       "    </tr>\n",
       "    <tr>\n",
       "      <th>261</th>\n",
       "      <td>TOP-RATED</td>\n",
       "      <td>S12.E24 ∙ The Stockholm Syndrome</td>\n",
       "      <td>Thu, May 16, 2019</td>\n",
       "      <td>Bernadette and Wolowitz leave their kids for t...</td>\n",
       "    </tr>\n",
       "    <tr>\n",
       "      <th>262</th>\n",
       "      <td>Unaired Pilot</td>\n",
       "      <td>Mon, May 1, 2006</td>\n",
       "      <td>The first Pilot of what will become \"The Big B...</td>\n",
       "      <td>6.5</td>\n",
       "    </tr>\n",
       "  </tbody>\n",
       "</table>\n",
       "<p>263 rows × 4 columns</p>\n",
       "</div>"
      ],
      "text/plain": [
       "                                    제목                               상영일자  \\\n",
       "0        S2.E1 ∙ The Bad Fish Paradigm                  Mon, Sep 22, 2008   \n",
       "1        S2.E2 ∙ The Codpiece Topology                  Mon, Sep 29, 2008   \n",
       "2                            TOP-RATED  S2.E3 ∙ The Barbarian Sublimation   \n",
       "3      S2.E4 ∙ The Griffin Equivalency                  Mon, Oct 13, 2008   \n",
       "4       S2.E5 ∙ The Euclid Alternative                  Mon, Oct 20, 2008   \n",
       "..                                 ...                                ...   \n",
       "258    S12.E21 ∙ The Plagiarism Schism                   Thu, May 2, 2019   \n",
       "259  S12.E22 ∙ The Maternal Conclusion                   Thu, May 9, 2019   \n",
       "260                          TOP-RATED      S12.E23 ∙ The Change Constant   \n",
       "261                          TOP-RATED   S12.E24 ∙ The Stockholm Syndrome   \n",
       "262                      Unaired Pilot                   Mon, May 1, 2006   \n",
       "\n",
       "                                                    설명  \\\n",
       "0    Leonard becomes concerned when his date with P...   \n",
       "1    Sheldon is annoyed when Leonard turns to Lesli...   \n",
       "2                                     Mon, Oct 6, 2008   \n",
       "3    The guys struggle to cope with Raj's arrogance...   \n",
       "4    Sheldon annoys the gang when Leonard can't dri...   \n",
       "..                                                 ...   \n",
       "258  Kripke has proof that Dr. Pemberton plagiarize...   \n",
       "259  Leonard is pleasantly surprised when Beverly c...   \n",
       "260                                  Thu, May 16, 2019   \n",
       "261                                  Thu, May 16, 2019   \n",
       "262  The first Pilot of what will become \"The Big B...   \n",
       "\n",
       "                                                    평점  \n",
       "0                                                  8.2  \n",
       "1                                                  8.0  \n",
       "2    Sheldon introduces Penny to online gaming, how...  \n",
       "3                                                  7.9  \n",
       "4                                                  8.3  \n",
       "..                                                 ...  \n",
       "258                                                7.2  \n",
       "259                                                7.9  \n",
       "260                    Sheldon and Amy await big news.  \n",
       "261  Bernadette and Wolowitz leave their kids for t...  \n",
       "262                                                6.5  \n",
       "\n",
       "[263 rows x 4 columns]"
      ]
     },
     "execution_count": 194,
     "metadata": {},
     "output_type": "execute_result"
    }
   ],
   "source": [
    "# 리스트의 딕셔너리를 사용하여 DataFrame을 생성합니다.\n",
    "df = pd.DataFrame(data_list)\n",
    "# DataFrame을 CSV 파일로 저장 (바탕화면에 저장하는 예시)\n",
    "df.to_csv('../data/TheBigBangTheory.csv', encoding='utf-8')\n",
    "# DataFrame 출력\n",
    "df"
   ]
  },
  {
   "cell_type": "markdown",
   "metadata": {},
   "source": [
    "데이터 출력"
   ]
  },
  {
   "cell_type": "code",
   "execution_count": 195,
   "metadata": {},
   "outputs": [
    {
     "data": {
      "image/png": "[encoded data removed]",
      "text/plain": [
       "<Figure size 640x480 with 1 Axes>"
      ]
     },
     "metadata": {},
     "output_type": "display_data"
    }
   ],
   "source": [
    "import matplotlib.pyplot as plt\n",
    "# 한글 폰트 설정\n",
    "plt.rcParams['font.family'] = 'NanumGothic'\n",
    "# 평점 데이터를 숫자로 변환합니다.\n",
    "df['평점'] = pd.to_numeric(df['평점'], errors='coerce')\n",
    "# 평점별로 데이터를 그룹화하고 이를 바 차트로 그립니다.\n",
    "df['평점'].value_counts().sort_index().plot(kind='bar')\n",
    "plt.title('Number of Dramas per Rating')\n",
    "plt.xlabel('Rating')\n",
    "plt.ylabel('Number of Dramas')\n",
    "plt.show()"
   ]
  },
  {
   "cell_type": "markdown",
   "metadata": {},
   "source": [
    "그래프 시각화"
   ]
  },
  {
   "cell_type": "code",
   "execution_count": 196,
   "metadata": {},
   "outputs": [
    {
     "ename": "KeyError",
     "evalue": "'Number of Dramas Rating'",
     "output_type": "error",
     "traceback": [
      "\u001b[0;31m---------------------------------------------------------------------------\u001b[0m",
      "\u001b[0;31mKeyError\u001b[0m                                  Traceback (most recent call last)",
      "File \u001b[0;32m~/venv/eda_venv/lib/python3.10/site-packages/pandas/core/indexes/base.py:3802\u001b[0m, in \u001b[0;36mIndex.get_loc\u001b[0;34m(self, key)\u001b[0m\n\u001b[1;32m   3801\u001b[0m \u001b[38;5;28;01mtry\u001b[39;00m:\n\u001b[0;32m-> 3802\u001b[0m     \u001b[38;5;28;01mreturn\u001b[39;00m \u001b[38;5;28;43mself\u001b[39;49m\u001b[38;5;241;43m.\u001b[39;49m\u001b[43m_engine\u001b[49m\u001b[38;5;241;43m.\u001b[39;49m\u001b[43mget_loc\u001b[49m\u001b[43m(\u001b[49m\u001b[43mcasted_key\u001b[49m\u001b[43m)\u001b[49m\n\u001b[1;32m   3803\u001b[0m \u001b[38;5;28;01mexcept\u001b[39;00m \u001b[38;5;167;01mKeyError\u001b[39;00m \u001b[38;5;28;01mas\u001b[39;00m err:\n",
      "File \u001b[0;32mindex.pyx:153\u001b[0m, in \u001b[0;36mpandas._libs.index.IndexEngine.get_loc\u001b[0;34m()\u001b[0m\n",
      "File \u001b[0;32mindex.pyx:182\u001b[0m, in \u001b[0;36mpandas._libs.index.IndexEngine.get_loc\u001b[0;34m()\u001b[0m\n",
      "File \u001b[0;32mpandas/_libs/hashtable_class_helper.pxi:7081\u001b[0m, in \u001b[0;36mpandas._libs.hashtable.PyObjectHashTable.get_item\u001b[0;34m()\u001b[0m\n",
      "File \u001b[0;32mpandas/_libs/hashtable_class_helper.pxi:7089\u001b[0m, in \u001b[0;36mpandas._libs.hashtable.PyObjectHashTable.get_item\u001b[0;34m()\u001b[0m\n",
      "\u001b[0;31mKeyError\u001b[0m: 'Number of Dramas Rating'",
      "\nThe above exception was the direct cause of the following exception:\n",
      "\u001b[0;31mKeyError\u001b[0m                                  Traceback (most recent call last)",
      "Cell \u001b[0;32mIn[196], line 4\u001b[0m\n\u001b[1;32m      1\u001b[0m \u001b[38;5;28;01mimport\u001b[39;00m \u001b[38;5;21;01mmatplotlib\u001b[39;00m\u001b[38;5;21;01m.\u001b[39;00m\u001b[38;5;21;01mpyplot\u001b[39;00m \u001b[38;5;28;01mas\u001b[39;00m \u001b[38;5;21;01mplt\u001b[39;00m\n\u001b[1;32m      3\u001b[0m \u001b[38;5;66;03m# 평점 데이터의 박스 플롯을 그립니다.\u001b[39;00m\n\u001b[0;32m----> 4\u001b[0m plt\u001b[38;5;241m.\u001b[39mboxplot(\u001b[43mdf\u001b[49m\u001b[43m[\u001b[49m\u001b[38;5;124;43m'\u001b[39;49m\u001b[38;5;124;43mNumber of Dramas Rating\u001b[39;49m\u001b[38;5;124;43m'\u001b[39;49m\u001b[43m]\u001b[49m, df[\u001b[38;5;124m'\u001b[39m\u001b[38;5;124m평점\u001b[39m\u001b[38;5;124m'\u001b[39m])\n\u001b[1;32m      6\u001b[0m plt\u001b[38;5;241m.\u001b[39mtitle(\u001b[38;5;124m'\u001b[39m\u001b[38;5;124mNumber of Dramas per Rating\u001b[39m\u001b[38;5;124m'\u001b[39m)\n\u001b[1;32m      7\u001b[0m plt\u001b[38;5;241m.\u001b[39mxlabel(\u001b[38;5;124m'\u001b[39m\u001b[38;5;124mRating\u001b[39m\u001b[38;5;124m'\u001b[39m)\n",
      "File \u001b[0;32m~/venv/eda_venv/lib/python3.10/site-packages/pandas/core/frame.py:4090\u001b[0m, in \u001b[0;36mDataFrame.__getitem__\u001b[0;34m(self, key)\u001b[0m\n\u001b[1;32m   4088\u001b[0m \u001b[38;5;28;01mif\u001b[39;00m \u001b[38;5;28mself\u001b[39m\u001b[38;5;241m.\u001b[39mcolumns\u001b[38;5;241m.\u001b[39mnlevels \u001b[38;5;241m>\u001b[39m \u001b[38;5;241m1\u001b[39m:\n\u001b[1;32m   4089\u001b[0m     \u001b[38;5;28;01mreturn\u001b[39;00m \u001b[38;5;28mself\u001b[39m\u001b[38;5;241m.\u001b[39m_getitem_multilevel(key)\n\u001b[0;32m-> 4090\u001b[0m indexer \u001b[38;5;241m=\u001b[39m \u001b[38;5;28;43mself\u001b[39;49m\u001b[38;5;241;43m.\u001b[39;49m\u001b[43mcolumns\u001b[49m\u001b[38;5;241;43m.\u001b[39;49m\u001b[43mget_loc\u001b[49m\u001b[43m(\u001b[49m\u001b[43mkey\u001b[49m\u001b[43m)\u001b[49m\n\u001b[1;32m   4091\u001b[0m \u001b[38;5;28;01mif\u001b[39;00m is_integer(indexer):\n\u001b[1;32m   4092\u001b[0m     indexer \u001b[38;5;241m=\u001b[39m [indexer]\n",
      "File \u001b[0;32m~/venv/eda_venv/lib/python3.10/site-packages/pandas/core/indexes/base.py:3809\u001b[0m, in \u001b[0;36mIndex.get_loc\u001b[0;34m(self, key)\u001b[0m\n\u001b[1;32m   3804\u001b[0m     \u001b[38;5;28;01mif\u001b[39;00m \u001b[38;5;28misinstance\u001b[39m(casted_key, \u001b[38;5;28mslice\u001b[39m) \u001b[38;5;129;01mor\u001b[39;00m (\n\u001b[1;32m   3805\u001b[0m         \u001b[38;5;28misinstance\u001b[39m(casted_key, abc\u001b[38;5;241m.\u001b[39mIterable)\n\u001b[1;32m   3806\u001b[0m         \u001b[38;5;129;01mand\u001b[39;00m \u001b[38;5;28many\u001b[39m(\u001b[38;5;28misinstance\u001b[39m(x, \u001b[38;5;28mslice\u001b[39m) \u001b[38;5;28;01mfor\u001b[39;00m x \u001b[38;5;129;01min\u001b[39;00m casted_key)\n\u001b[1;32m   3807\u001b[0m     ):\n\u001b[1;32m   3808\u001b[0m         \u001b[38;5;28;01mraise\u001b[39;00m InvalidIndexError(key)\n\u001b[0;32m-> 3809\u001b[0m     \u001b[38;5;28;01mraise\u001b[39;00m \u001b[38;5;167;01mKeyError\u001b[39;00m(key) \u001b[38;5;28;01mfrom\u001b[39;00m \u001b[38;5;21;01merr\u001b[39;00m\n\u001b[1;32m   3810\u001b[0m \u001b[38;5;28;01mexcept\u001b[39;00m \u001b[38;5;167;01mTypeError\u001b[39;00m:\n\u001b[1;32m   3811\u001b[0m     \u001b[38;5;66;03m# If we have a listlike key, _check_indexing_error will raise\u001b[39;00m\n\u001b[1;32m   3812\u001b[0m     \u001b[38;5;66;03m#  InvalidIndexError. Otherwise we fall through and re-raise\u001b[39;00m\n\u001b[1;32m   3813\u001b[0m     \u001b[38;5;66;03m#  the TypeError.\u001b[39;00m\n\u001b[1;32m   3814\u001b[0m     \u001b[38;5;28mself\u001b[39m\u001b[38;5;241m.\u001b[39m_check_indexing_error(key)\n",
      "\u001b[0;31mKeyError\u001b[0m: 'Number of Dramas Rating'"
     ]
    }
   ],
   "source": [
    "import matplotlib.pyplot as plt\n",
    "\n",
    "# 평점 데이터의 박스 플롯을 그립니다.\n",
    "plt.boxplot(df['Number of Dramas Rating'], df['평점'])\n",
    "\n",
    "plt.title('Number of Dramas per Rating')\n",
    "plt.xlabel('Rating')\n",
    "plt.ylabel('Number of Dramas')\n",
    "\n",
    "plt.show()"
   ]
  },
  {
   "cell_type": "code",
   "execution_count": null,
   "metadata": {},
   "outputs": [],
   "source": []
  }
 ],
 "metadata": {
  "kernelspec": {
   "display_name": "eda_venv",
   "language": "python",
   "name": "python3"
  },
  "language_info": {
   "codemirror_mode": {
    "name": "ipython",
    "version": 3
   },
   "file_extension": ".py",
   "mimetype": "text/x-python",
   "name": "python",
   "nbconvert_exporter": "python",
   "pygments_lexer": "ipython3",
   "version": "3.10.12"
  }
 },
 "nbformat": 4,
 "nbformat_minor": 2
}
